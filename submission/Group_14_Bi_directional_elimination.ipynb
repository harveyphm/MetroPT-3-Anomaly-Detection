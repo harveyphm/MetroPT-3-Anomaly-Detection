{
  "nbformat": 4,
  "nbformat_minor": 0,
  "metadata": {
    "colab": {
      "provenance": [],
      "gpuType": "T4"
    },
    "kernelspec": {
      "name": "python3",
      "display_name": "Python 3"
    },
    "language_info": {
      "name": "python"
    },
    "accelerator": "GPU"
  },
  "cells": [
    {
      "cell_type": "markdown",
      "source": [
        "#INTRODUCTION TO DATA SCIENCE\n",
        "#Group 14 -- Project phase 2\n",
        "\n",
        "## Bidirection Feature Elimination"
      ],
      "metadata": {
        "id": "BO9AK92NIDBq"
      }
    },
    {
      "cell_type": "markdown",
      "source": [
        "|Name| Student ID|\n",
        "|:---|:-----------:|\n",
        "|Pham, Quoc Huy| 2299356|\n",
        "|Hussain, Zakiuddin| 2338350|\n",
        "|Lee, Daeul Haven| 2308018|\n",
        "|Preetham| 2288949|\n",
        "|Jayanth| 2288552|\n",
        "|Srikavya| 2311351|"
      ],
      "metadata": {
        "id": "LEMyYhfyIETW"
      }
    },
    {
      "cell_type": "markdown",
      "source": [
        "### 1. Import library and read the data"
      ],
      "metadata": {
        "id": "zuWF4KM-Fz9s"
      }
    },
    {
      "cell_type": "code",
      "source": [
        "import pandas as pd\n",
        "import matplotlib.pyplot as plt\n",
        "\n",
        "from sklearn.model_selection import train_test_split\n",
        "from sklearn.ensemble import RandomForestClassifier\n",
        "from sklearn.feature_selection import SequentialFeatureSelector\n",
        "from sklearn.metrics import accuracy_score, classification_report, confusion_matrix, ConfusionMatrixDisplay\n"
      ],
      "metadata": {
        "id": "YW4gGwtToBR1"
      },
      "execution_count": null,
      "outputs": []
    },
    {
      "cell_type": "code",
      "execution_count": null,
      "metadata": {
        "id": "q3bQNwzTmRR1"
      },
      "outputs": [],
      "source": [
        "data = pd.read_csv('Group_14_Clean_Data.csv')"
      ]
    },
    {
      "cell_type": "code",
      "source": [
        "X = data.iloc[:, 2:-1]\n",
        "y = data.iloc[:, -1]"
      ],
      "metadata": {
        "id": "jh0egu9fojCS"
      },
      "execution_count": null,
      "outputs": []
    },
    {
      "cell_type": "code",
      "source": [
        "X_train, X_test, y_train, y_test = train_test_split(X, y, test_size=0.2, random_state=0)"
      ],
      "metadata": {
        "id": "z_GNzxTLooFz"
      },
      "execution_count": null,
      "outputs": []
    },
    {
      "cell_type": "markdown",
      "source": [
        "From question 1 and 3 we have our RandomForest as the best classifier. The result is shown as below:"
      ],
      "metadata": {
        "id": "KH8u01huma0n"
      }
    },
    {
      "cell_type": "markdown",
      "source": [
        "Best Hyperparameters:\n",
        "* 'max_depth': 20\n",
        "* 'min_samples_leaf': 1\n",
        "* 'min_samples_split': 2\n",
        "* 'n_estimators': 50"
      ],
      "metadata": {
        "id": "8WgnL0pjnjWy"
      }
    },
    {
      "cell_type": "code",
      "source": [
        "best_params = {'max_depth': 20, 'min_samples_leaf': 1, 'min_samples_split': 2, 'n_estimators': 50}\n",
        "rf = RandomForestClassifier(oob_score=True, random_state=42, **best_params)"
      ],
      "metadata": {
        "id": "Kikl41e1nin0"
      },
      "execution_count": null,
      "outputs": []
    },
    {
      "cell_type": "markdown",
      "source": [
        "|          |precision  |  recall | f1-score  | support|\n",
        "|-----------|----------|----------|----------|--------|\n",
        "|          0  |     1.00 |  1.00   |   1.00 |     4480|\n",
        "|          1  |    1.00  |  1.00   |   1.00 |     4437|\n",
        "|  accuracy   |          |         |   1.00 |     8917|\n",
        "| macro avg   |    1.00  |    1.00 |   1.00 |     8917|\n",
        "| weighted avg|    1.00  |    1.00 |   1.00 |     8917|"
      ],
      "metadata": {
        "id": "B73WZFIvmg11"
      }
    },
    {
      "cell_type": "markdown",
      "source": [
        "### 2. Perform prediction with original data"
      ],
      "metadata": {
        "id": "efJhoIDiFGdI"
      }
    },
    {
      "cell_type": "code",
      "source": [
        "rf.fit(X_train, y_train)"
      ],
      "metadata": {
        "colab": {
          "base_uri": "https://localhost:8080/",
          "height": 92
        },
        "id": "aJyaKykhFThu",
        "outputId": "f6a02a70-d146-493b-c293-6ae0c87ff629"
      },
      "execution_count": null,
      "outputs": [
        {
          "output_type": "execute_result",
          "data": {
            "text/plain": [
              "RandomForestClassifier(max_depth=20, n_estimators=50, oob_score=True,\n",
              "                       random_state=42)"
            ],
            "text/html": [
              "<style>#sk-container-id-2 {color: black;background-color: white;}#sk-container-id-2 pre{padding: 0;}#sk-container-id-2 div.sk-toggleable {background-color: white;}#sk-container-id-2 label.sk-toggleable__label {cursor: pointer;display: block;width: 100%;margin-bottom: 0;padding: 0.3em;box-sizing: border-box;text-align: center;}#sk-container-id-2 label.sk-toggleable__label-arrow:before {content: \"▸\";float: left;margin-right: 0.25em;color: #696969;}#sk-container-id-2 label.sk-toggleable__label-arrow:hover:before {color: black;}#sk-container-id-2 div.sk-estimator:hover label.sk-toggleable__label-arrow:before {color: black;}#sk-container-id-2 div.sk-toggleable__content {max-height: 0;max-width: 0;overflow: hidden;text-align: left;background-color: #f0f8ff;}#sk-container-id-2 div.sk-toggleable__content pre {margin: 0.2em;color: black;border-radius: 0.25em;background-color: #f0f8ff;}#sk-container-id-2 input.sk-toggleable__control:checked~div.sk-toggleable__content {max-height: 200px;max-width: 100%;overflow: auto;}#sk-container-id-2 input.sk-toggleable__control:checked~label.sk-toggleable__label-arrow:before {content: \"▾\";}#sk-container-id-2 div.sk-estimator input.sk-toggleable__control:checked~label.sk-toggleable__label {background-color: #d4ebff;}#sk-container-id-2 div.sk-label input.sk-toggleable__control:checked~label.sk-toggleable__label {background-color: #d4ebff;}#sk-container-id-2 input.sk-hidden--visually {border: 0;clip: rect(1px 1px 1px 1px);clip: rect(1px, 1px, 1px, 1px);height: 1px;margin: -1px;overflow: hidden;padding: 0;position: absolute;width: 1px;}#sk-container-id-2 div.sk-estimator {font-family: monospace;background-color: #f0f8ff;border: 1px dotted black;border-radius: 0.25em;box-sizing: border-box;margin-bottom: 0.5em;}#sk-container-id-2 div.sk-estimator:hover {background-color: #d4ebff;}#sk-container-id-2 div.sk-parallel-item::after {content: \"\";width: 100%;border-bottom: 1px solid gray;flex-grow: 1;}#sk-container-id-2 div.sk-label:hover label.sk-toggleable__label {background-color: #d4ebff;}#sk-container-id-2 div.sk-serial::before {content: \"\";position: absolute;border-left: 1px solid gray;box-sizing: border-box;top: 0;bottom: 0;left: 50%;z-index: 0;}#sk-container-id-2 div.sk-serial {display: flex;flex-direction: column;align-items: center;background-color: white;padding-right: 0.2em;padding-left: 0.2em;position: relative;}#sk-container-id-2 div.sk-item {position: relative;z-index: 1;}#sk-container-id-2 div.sk-parallel {display: flex;align-items: stretch;justify-content: center;background-color: white;position: relative;}#sk-container-id-2 div.sk-item::before, #sk-container-id-2 div.sk-parallel-item::before {content: \"\";position: absolute;border-left: 1px solid gray;box-sizing: border-box;top: 0;bottom: 0;left: 50%;z-index: -1;}#sk-container-id-2 div.sk-parallel-item {display: flex;flex-direction: column;z-index: 1;position: relative;background-color: white;}#sk-container-id-2 div.sk-parallel-item:first-child::after {align-self: flex-end;width: 50%;}#sk-container-id-2 div.sk-parallel-item:last-child::after {align-self: flex-start;width: 50%;}#sk-container-id-2 div.sk-parallel-item:only-child::after {width: 0;}#sk-container-id-2 div.sk-dashed-wrapped {border: 1px dashed gray;margin: 0 0.4em 0.5em 0.4em;box-sizing: border-box;padding-bottom: 0.4em;background-color: white;}#sk-container-id-2 div.sk-label label {font-family: monospace;font-weight: bold;display: inline-block;line-height: 1.2em;}#sk-container-id-2 div.sk-label-container {text-align: center;}#sk-container-id-2 div.sk-container {/* jupyter's `normalize.less` sets `[hidden] { display: none; }` but bootstrap.min.css set `[hidden] { display: none !important; }` so we also need the `!important` here to be able to override the default hidden behavior on the sphinx rendered scikit-learn.org. See: https://github.com/scikit-learn/scikit-learn/issues/21755 */display: inline-block !important;position: relative;}#sk-container-id-2 div.sk-text-repr-fallback {display: none;}</style><div id=\"sk-container-id-2\" class=\"sk-top-container\"><div class=\"sk-text-repr-fallback\"><pre>RandomForestClassifier(max_depth=20, n_estimators=50, oob_score=True,\n",
              "                       random_state=42)</pre><b>In a Jupyter environment, please rerun this cell to show the HTML representation or trust the notebook. <br />On GitHub, the HTML representation is unable to render, please try loading this page with nbviewer.org.</b></div><div class=\"sk-container\" hidden><div class=\"sk-item\"><div class=\"sk-estimator sk-toggleable\"><input class=\"sk-toggleable__control sk-hidden--visually\" id=\"sk-estimator-id-2\" type=\"checkbox\" checked><label for=\"sk-estimator-id-2\" class=\"sk-toggleable__label sk-toggleable__label-arrow\">RandomForestClassifier</label><div class=\"sk-toggleable__content\"><pre>RandomForestClassifier(max_depth=20, n_estimators=50, oob_score=True,\n",
              "                       random_state=42)</pre></div></div></div></div></div>"
            ]
          },
          "metadata": {},
          "execution_count": 18
        }
      ]
    },
    {
      "cell_type": "code",
      "source": [
        "y_pred_forest = rf.predict(X_test)\n",
        "\n",
        "print(\"Random Forest Classifier with original data:\")\n",
        "print(classification_report(y_test, y_pred_forest))\n",
        "conf_matrix_forest = confusion_matrix(y_test, y_pred_forest)\n",
        "disp_forest = ConfusionMatrixDisplay(conf_matrix_forest, display_labels=rf.classes_)\n",
        "disp_forest.plot(cmap='Blues', values_format='d')\n",
        "plt.show()"
      ],
      "metadata": {
        "colab": {
          "base_uri": "https://localhost:8080/",
          "height": 629
        },
        "id": "EOrRTYOgFa-s",
        "outputId": "7696f0d4-76b4-447a-9aa4-5f2774e27e10"
      },
      "execution_count": null,
      "outputs": [
        {
          "output_type": "stream",
          "name": "stdout",
          "text": [
            "Random Forest Classifier with original data:\n",
            "              precision    recall  f1-score   support\n",
            "\n",
            "           0       1.00      1.00      1.00      6026\n",
            "           1       1.00      1.00      1.00      5863\n",
            "\n",
            "    accuracy                           1.00     11889\n",
            "   macro avg       1.00      1.00      1.00     11889\n",
            "weighted avg       1.00      1.00      1.00     11889\n",
            "\n"
          ]
        },
        {
          "output_type": "display_data",
          "data": {
            "text/plain": [
              "<Figure size 640x480 with 2 Axes>"
            ],
            "image/png": "[encoded data removed]"
          },
          "metadata": {}
        }
      ]
    },
    {
      "cell_type": "markdown",
      "source": [
        "### 3. Perform Bidirectional Features Elimination"
      ],
      "metadata": {
        "id": "RnwN29DWFLTE"
      }
    },
    {
      "cell_type": "code",
      "source": [
        "num_features_to_select = 7\n",
        "\n",
        "num_features = len(X_train.columns.tolist())\n",
        "looped_X_train = X_train.copy()\n",
        "\n",
        "while num_features> num_features_to_select:\n",
        "  n1 = num_features-1\n",
        "  n2 = num_features-2\n",
        "  sfe = SequentialFeatureSelector(estimator=rf, n_features_to_select=n1, direction = 'forward', n_jobs = -1)\n",
        "  sbe = SequentialFeatureSelector(estimator=rf, n_features_to_select=n2, direction = 'backward', n_jobs= -1)\n",
        "  #Eliminating Features with Forward pass\n",
        "  sfe.fit(looped_X_train, y_train)\n",
        "  sfe_features = looped_X_train.columns[sfe.support_].tolist()\n",
        "  looped_X_train = looped_X_train[sfe_features]\n",
        "  #Eliminating Features with Backward pass\n",
        "  sbe.fit(looped_X_train, y_train)\n",
        "  sbe_features = looped_X_train.columns[sbe.support_].tolist()\n",
        "  looped_X_train = looped_X_train[sbe_features]\n",
        "\n",
        "  num_features = len(looped_X_train.columns.tolist())\n",
        "\n",
        "selected_features = looped_X_train.columns\n",
        "print(f\"List of selected features:\\n {', '.join(selected_features)}\")\n",
        "\n",
        "\n"
      ],
      "metadata": {
        "colab": {
          "base_uri": "https://localhost:8080/"
        },
        "id": "93C-s4nHpILs",
        "outputId": "f711e87b-266f-4660-bfb6-7e5bc003d1c7"
      },
      "execution_count": null,
      "outputs": [
        {
          "output_type": "stream",
          "name": "stdout",
          "text": [
            "List of selected features:\n",
            " TP2, H1, DV_pressure, Reservoirs, Oil_temperature, DV_eletric, LPS\n"
          ]
        }
      ]
    },
    {
      "cell_type": "markdown",
      "source": [
        "### 4. Perform prediction with new set of parameter"
      ],
      "metadata": {
        "id": "HIe7tCzvDQk1"
      }
    },
    {
      "cell_type": "code",
      "source": [
        "#Fit Random Forest model with selected features\n",
        "rf.fit(looped_X_train, y_train)"
      ],
      "metadata": {
        "colab": {
          "base_uri": "https://localhost:8080/",
          "height": 92
        },
        "id": "mzhaVfz6DYtW",
        "outputId": "289d0aa0-c468-47f7-d78a-7cbdb6fe4da2"
      },
      "execution_count": null,
      "outputs": [
        {
          "output_type": "execute_result",
          "data": {
            "text/plain": [
              "RandomForestClassifier(max_depth=20, n_estimators=50, oob_score=True,\n",
              "                       random_state=42)"
            ],
            "text/html": [
              "<style>#sk-container-id-1 {color: black;background-color: white;}#sk-container-id-1 pre{padding: 0;}#sk-container-id-1 div.sk-toggleable {background-color: white;}#sk-container-id-1 label.sk-toggleable__label {cursor: pointer;display: block;width: 100%;margin-bottom: 0;padding: 0.3em;box-sizing: border-box;text-align: center;}#sk-container-id-1 label.sk-toggleable__label-arrow:before {content: \"▸\";float: left;margin-right: 0.25em;color: #696969;}#sk-container-id-1 label.sk-toggleable__label-arrow:hover:before {color: black;}#sk-container-id-1 div.sk-estimator:hover label.sk-toggleable__label-arrow:before {color: black;}#sk-container-id-1 div.sk-toggleable__content {max-height: 0;max-width: 0;overflow: hidden;text-align: left;background-color: #f0f8ff;}#sk-container-id-1 div.sk-toggleable__content pre {margin: 0.2em;color: black;border-radius: 0.25em;background-color: #f0f8ff;}#sk-container-id-1 input.sk-toggleable__control:checked~div.sk-toggleable__content {max-height: 200px;max-width: 100%;overflow: auto;}#sk-container-id-1 input.sk-toggleable__control:checked~label.sk-toggleable__label-arrow:before {content: \"▾\";}#sk-container-id-1 div.sk-estimator input.sk-toggleable__control:checked~label.sk-toggleable__label {background-color: #d4ebff;}#sk-container-id-1 div.sk-label input.sk-toggleable__control:checked~label.sk-toggleable__label {background-color: #d4ebff;}#sk-container-id-1 input.sk-hidden--visually {border: 0;clip: rect(1px 1px 1px 1px);clip: rect(1px, 1px, 1px, 1px);height: 1px;margin: -1px;overflow: hidden;padding: 0;position: absolute;width: 1px;}#sk-container-id-1 div.sk-estimator {font-family: monospace;background-color: #f0f8ff;border: 1px dotted black;border-radius: 0.25em;box-sizing: border-box;margin-bottom: 0.5em;}#sk-container-id-1 div.sk-estimator:hover {background-color: #d4ebff;}#sk-container-id-1 div.sk-parallel-item::after {content: \"\";width: 100%;border-bottom: 1px solid gray;flex-grow: 1;}#sk-container-id-1 div.sk-label:hover label.sk-toggleable__label {background-color: #d4ebff;}#sk-container-id-1 div.sk-serial::before {content: \"\";position: absolute;border-left: 1px solid gray;box-sizing: border-box;top: 0;bottom: 0;left: 50%;z-index: 0;}#sk-container-id-1 div.sk-serial {display: flex;flex-direction: column;align-items: center;background-color: white;padding-right: 0.2em;padding-left: 0.2em;position: relative;}#sk-container-id-1 div.sk-item {position: relative;z-index: 1;}#sk-container-id-1 div.sk-parallel {display: flex;align-items: stretch;justify-content: center;background-color: white;position: relative;}#sk-container-id-1 div.sk-item::before, #sk-container-id-1 div.sk-parallel-item::before {content: \"\";position: absolute;border-left: 1px solid gray;box-sizing: border-box;top: 0;bottom: 0;left: 50%;z-index: -1;}#sk-container-id-1 div.sk-parallel-item {display: flex;flex-direction: column;z-index: 1;position: relative;background-color: white;}#sk-container-id-1 div.sk-parallel-item:first-child::after {align-self: flex-end;width: 50%;}#sk-container-id-1 div.sk-parallel-item:last-child::after {align-self: flex-start;width: 50%;}#sk-container-id-1 div.sk-parallel-item:only-child::after {width: 0;}#sk-container-id-1 div.sk-dashed-wrapped {border: 1px dashed gray;margin: 0 0.4em 0.5em 0.4em;box-sizing: border-box;padding-bottom: 0.4em;background-color: white;}#sk-container-id-1 div.sk-label label {font-family: monospace;font-weight: bold;display: inline-block;line-height: 1.2em;}#sk-container-id-1 div.sk-label-container {text-align: center;}#sk-container-id-1 div.sk-container {/* jupyter's `normalize.less` sets `[hidden] { display: none; }` but bootstrap.min.css set `[hidden] { display: none !important; }` so we also need the `!important` here to be able to override the default hidden behavior on the sphinx rendered scikit-learn.org. See: https://github.com/scikit-learn/scikit-learn/issues/21755 */display: inline-block !important;position: relative;}#sk-container-id-1 div.sk-text-repr-fallback {display: none;}</style><div id=\"sk-container-id-1\" class=\"sk-top-container\"><div class=\"sk-text-repr-fallback\"><pre>RandomForestClassifier(max_depth=20, n_estimators=50, oob_score=True,\n",
              "                       random_state=42)</pre><b>In a Jupyter environment, please rerun this cell to show the HTML representation or trust the notebook. <br />On GitHub, the HTML representation is unable to render, please try loading this page with nbviewer.org.</b></div><div class=\"sk-container\" hidden><div class=\"sk-item\"><div class=\"sk-estimator sk-toggleable\"><input class=\"sk-toggleable__control sk-hidden--visually\" id=\"sk-estimator-id-1\" type=\"checkbox\" checked><label for=\"sk-estimator-id-1\" class=\"sk-toggleable__label sk-toggleable__label-arrow\">RandomForestClassifier</label><div class=\"sk-toggleable__content\"><pre>RandomForestClassifier(max_depth=20, n_estimators=50, oob_score=True,\n",
              "                       random_state=42)</pre></div></div></div></div></div>"
            ]
          },
          "metadata": {},
          "execution_count": 7
        }
      ]
    },
    {
      "cell_type": "code",
      "source": [
        "selected_features = looped_X_train.columns"
      ],
      "metadata": {
        "id": "R7tGvpTIEnQ5"
      },
      "execution_count": null,
      "outputs": []
    },
    {
      "cell_type": "code",
      "source": [
        "#EValuate the result of new features\n",
        "y_pred_forest = rf.predict(X_test[selected_features])\n",
        "accuracy = accuracy_score(y_test, y_pred_forest)\n",
        "\n",
        "print(\"Random Forest Classifier:\")\n",
        "print(classification_report(y_test, y_pred_forest))\n",
        "conf_matrix_forest = confusion_matrix(y_test, y_pred_forest)\n",
        "disp_forest = ConfusionMatrixDisplay(conf_matrix_forest, display_labels=rf.classes_)\n",
        "disp_forest.plot(cmap='Blues', values_format='d')\n",
        "plt.show()"
      ],
      "metadata": {
        "colab": {
          "base_uri": "https://localhost:8080/",
          "height": 628
        },
        "id": "VXiRoL_IEAMY",
        "outputId": "ca0bbb52-dab3-4371-a1ef-b3a581298609"
      },
      "execution_count": null,
      "outputs": [
        {
          "output_type": "stream",
          "name": "stdout",
          "text": [
            "Random Forest Classifier:\n",
            "              precision    recall  f1-score   support\n",
            "\n",
            "           0       1.00      1.00      1.00      6026\n",
            "           1       1.00      1.00      1.00      5863\n",
            "\n",
            "    accuracy                           1.00     11889\n",
            "   macro avg       1.00      1.00      1.00     11889\n",
            "weighted avg       1.00      1.00      1.00     11889\n",
            "\n"
          ]
        },
        {
          "output_type": "display_data",
          "data": {
            "text/plain": [
              "<Figure size 640x480 with 2 Axes>"
            ],
            "image/png": "[encoded data removed]"
          },
          "metadata": {}
        }
      ]
    },
    {
      "cell_type": "markdown",
      "source": [
        "### 5. Conclusion"
      ],
      "metadata": {
        "id": "q32etRwPGA-x"
      }
    },
    {
      "cell_type": "markdown",
      "source": [
        "From the classification report, we observed that the number of false negatives and false positives has decreased:\n",
        "\n",
        "* Class 0: 22–>19\n",
        "\n",
        "* Class 1: 24->21\n",
        "\n",
        "This shows that the bi-directional feature elimination has not only reduced the dimension of our feature space but also increased the model's performance and accuracy. This suggests that certain features were not contributing significantly to the classification task, leading to more efficient and accurate predictions.\n",
        "\n"
      ],
      "metadata": {
        "id": "ghdFVmQ_GKHO"
      }
    }
  ]
}