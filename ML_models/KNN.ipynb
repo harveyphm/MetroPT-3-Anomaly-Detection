{
 "cells": [
  {
   "cell_type": "markdown",
   "id": "3eb3e40f",
   "metadata": {},
   "source": [
    "# KNN Algorithm"
   ]
  },
  {
   "attachments": {},
   "cell_type": "markdown",
   "id": "2678a145",
   "metadata": {},
   "source": [
    "The k-nearest neighbors algorithm, also known as KNN or k-NN, is a non-parametric, supervised learning classifier, which uses proximity to make classifications or predictions about the grouping of an individual data point. While it can be used for either regression or classification problems, it is typically used as a classification algorithm, working off the assumption that similar points can be found near one another.\n",
    "\n",
    "In order to determine which data points are closest to a given query point, the distance between the query point and the other data points will need to be calculated. These distance metrics help to form decision boundaries, which partitions query points into different regions. Some of the commonly used distance measures are mentioned below.\n",
    "1. Euclidian Distance\n",
    "2. Manhattan Distance\n",
    "3. Minkowski Distance\n",
    "4. Hamminf Distance"
   ]
  },
  {
   "cell_type": "code",
   "execution_count": 1,
   "id": "61637efb",
   "metadata": {},
   "outputs": [],
   "source": [
    "import numpy as np\n",
    "import pandas as pd\n",
    "import matplotlib.pyplot as plt"
   ]
  },
  {
   "cell_type": "code",
   "execution_count": 2,
   "id": "698ae082",
   "metadata": {},
   "outputs": [],
   "source": [
    "# Importing Cleaned data from Phase 1\n",
    "data = pd.read_csv('Group_14_Clean_Data.csv')"
   ]
  },
  {
   "cell_type": "code",
   "execution_count": 3,
   "id": "f619c474",
   "metadata": {},
   "outputs": [
    {
     "data": {
      "text/html": [
       "<div>\n",
       "<style scoped>\n",
       "    .dataframe tbody tr th:only-of-type {\n",
       "        vertical-align: middle;\n",
       "    }\n",
       "\n",
       "    .dataframe tbody tr th {\n",
       "        vertical-align: top;\n",
       "    }\n",
       "\n",
       "    .dataframe thead th {\n",
       "        text-align: right;\n",
       "    }\n",
       "</style>\n",
       "<table border=\"1\" class=\"dataframe\">\n",
       "  <thead>\n",
       "    <tr style=\"text-align: right;\">\n",
       "      <th></th>\n",
       "      <th>Unnamed: 0</th>\n",
       "      <th>timestamp</th>\n",
       "      <th>TP2</th>\n",
       "      <th>TP3</th>\n",
       "      <th>H1</th>\n",
       "      <th>DV_pressure</th>\n",
       "      <th>Reservoirs</th>\n",
       "      <th>Oil_temperature</th>\n",
       "      <th>Motor_current</th>\n",
       "      <th>COMP</th>\n",
       "      <th>DV_eletric</th>\n",
       "      <th>Towers</th>\n",
       "      <th>MPG</th>\n",
       "      <th>LPS</th>\n",
       "      <th>Pressure_switch</th>\n",
       "      <th>Oil_level</th>\n",
       "      <th>Caudal_impulses</th>\n",
       "      <th>status</th>\n",
       "    </tr>\n",
       "  </thead>\n",
       "  <tbody>\n",
       "    <tr>\n",
       "      <th>0</th>\n",
       "      <td>562564</td>\n",
       "      <td>2020-04-18 00:00:01</td>\n",
       "      <td>-0.018</td>\n",
       "      <td>8.248</td>\n",
       "      <td>8.238</td>\n",
       "      <td>-0.024</td>\n",
       "      <td>8.248</td>\n",
       "      <td>49.45</td>\n",
       "      <td>0.04</td>\n",
       "      <td>1.0</td>\n",
       "      <td>0.0</td>\n",
       "      <td>1.0</td>\n",
       "      <td>1.0</td>\n",
       "      <td>0.0</td>\n",
       "      <td>1.0</td>\n",
       "      <td>1.0</td>\n",
       "      <td>1.0</td>\n",
       "      <td>1</td>\n",
       "    </tr>\n",
       "    <tr>\n",
       "      <th>1</th>\n",
       "      <td>562565</td>\n",
       "      <td>2020-04-18 00:00:13</td>\n",
       "      <td>-0.018</td>\n",
       "      <td>8.248</td>\n",
       "      <td>8.238</td>\n",
       "      <td>-0.024</td>\n",
       "      <td>8.248</td>\n",
       "      <td>49.45</td>\n",
       "      <td>0.04</td>\n",
       "      <td>1.0</td>\n",
       "      <td>0.0</td>\n",
       "      <td>1.0</td>\n",
       "      <td>1.0</td>\n",
       "      <td>0.0</td>\n",
       "      <td>1.0</td>\n",
       "      <td>1.0</td>\n",
       "      <td>1.0</td>\n",
       "      <td>1</td>\n",
       "    </tr>\n",
       "    <tr>\n",
       "      <th>2</th>\n",
       "      <td>562566</td>\n",
       "      <td>2020-04-18 00:00:24</td>\n",
       "      <td>-0.018</td>\n",
       "      <td>8.248</td>\n",
       "      <td>8.238</td>\n",
       "      <td>-0.024</td>\n",
       "      <td>8.248</td>\n",
       "      <td>49.45</td>\n",
       "      <td>0.04</td>\n",
       "      <td>1.0</td>\n",
       "      <td>0.0</td>\n",
       "      <td>1.0</td>\n",
       "      <td>1.0</td>\n",
       "      <td>0.0</td>\n",
       "      <td>1.0</td>\n",
       "      <td>1.0</td>\n",
       "      <td>1.0</td>\n",
       "      <td>1</td>\n",
       "    </tr>\n",
       "    <tr>\n",
       "      <th>3</th>\n",
       "      <td>562567</td>\n",
       "      <td>2020-04-18 00:00:36</td>\n",
       "      <td>-0.018</td>\n",
       "      <td>8.248</td>\n",
       "      <td>8.238</td>\n",
       "      <td>-0.024</td>\n",
       "      <td>8.248</td>\n",
       "      <td>49.45</td>\n",
       "      <td>0.04</td>\n",
       "      <td>0.0</td>\n",
       "      <td>0.0</td>\n",
       "      <td>0.0</td>\n",
       "      <td>0.0</td>\n",
       "      <td>0.0</td>\n",
       "      <td>0.0</td>\n",
       "      <td>0.0</td>\n",
       "      <td>0.0</td>\n",
       "      <td>1</td>\n",
       "    </tr>\n",
       "    <tr>\n",
       "      <th>4</th>\n",
       "      <td>562568</td>\n",
       "      <td>2020-04-18 00:00:49</td>\n",
       "      <td>-0.018</td>\n",
       "      <td>8.248</td>\n",
       "      <td>8.238</td>\n",
       "      <td>-0.024</td>\n",
       "      <td>8.248</td>\n",
       "      <td>49.45</td>\n",
       "      <td>0.04</td>\n",
       "      <td>1.0</td>\n",
       "      <td>0.0</td>\n",
       "      <td>1.0</td>\n",
       "      <td>1.0</td>\n",
       "      <td>0.0</td>\n",
       "      <td>1.0</td>\n",
       "      <td>1.0</td>\n",
       "      <td>1.0</td>\n",
       "      <td>1</td>\n",
       "    </tr>\n",
       "  </tbody>\n",
       "</table>\n",
       "</div>"
      ],
      "text/plain": [
       "   Unnamed: 0            timestamp    TP2    TP3     H1  DV_pressure  \\\n",
       "0      562564  2020-04-18 00:00:01 -0.018  8.248  8.238       -0.024   \n",
       "1      562565  2020-04-18 00:00:13 -0.018  8.248  8.238       -0.024   \n",
       "2      562566  2020-04-18 00:00:24 -0.018  8.248  8.238       -0.024   \n",
       "3      562567  2020-04-18 00:00:36 -0.018  8.248  8.238       -0.024   \n",
       "4      562568  2020-04-18 00:00:49 -0.018  8.248  8.238       -0.024   \n",
       "\n",
       "   Reservoirs  Oil_temperature  Motor_current  COMP  DV_eletric  Towers  MPG  \\\n",
       "0       8.248            49.45           0.04   1.0         0.0     1.0  1.0   \n",
       "1       8.248            49.45           0.04   1.0         0.0     1.0  1.0   \n",
       "2       8.248            49.45           0.04   1.0         0.0     1.0  1.0   \n",
       "3       8.248            49.45           0.04   0.0         0.0     0.0  0.0   \n",
       "4       8.248            49.45           0.04   1.0         0.0     1.0  1.0   \n",
       "\n",
       "   LPS  Pressure_switch  Oil_level  Caudal_impulses  status  \n",
       "0  0.0              1.0        1.0              1.0       1  \n",
       "1  0.0              1.0        1.0              1.0       1  \n",
       "2  0.0              1.0        1.0              1.0       1  \n",
       "3  0.0              0.0        0.0              0.0       1  \n",
       "4  0.0              1.0        1.0              1.0       1  "
      ]
     },
     "execution_count": 3,
     "metadata": {},
     "output_type": "execute_result"
    }
   ],
   "source": [
    "data.head()"
   ]
  },
  {
   "cell_type": "code",
   "execution_count": 4,
   "id": "2344abbb",
   "metadata": {},
   "outputs": [
    {
     "data": {
      "text/html": [
       "<div>\n",
       "<style scoped>\n",
       "    .dataframe tbody tr th:only-of-type {\n",
       "        vertical-align: middle;\n",
       "    }\n",
       "\n",
       "    .dataframe tbody tr th {\n",
       "        vertical-align: top;\n",
       "    }\n",
       "\n",
       "    .dataframe thead th {\n",
       "        text-align: right;\n",
       "    }\n",
       "</style>\n",
       "<table border=\"1\" class=\"dataframe\">\n",
       "  <thead>\n",
       "    <tr style=\"text-align: right;\">\n",
       "      <th></th>\n",
       "      <th>Unnamed: 0</th>\n",
       "      <th>TP2</th>\n",
       "      <th>TP3</th>\n",
       "      <th>H1</th>\n",
       "      <th>DV_pressure</th>\n",
       "      <th>Reservoirs</th>\n",
       "      <th>Oil_temperature</th>\n",
       "      <th>Motor_current</th>\n",
       "      <th>COMP</th>\n",
       "      <th>DV_eletric</th>\n",
       "      <th>Towers</th>\n",
       "      <th>MPG</th>\n",
       "      <th>LPS</th>\n",
       "      <th>Pressure_switch</th>\n",
       "      <th>Oil_level</th>\n",
       "      <th>Caudal_impulses</th>\n",
       "      <th>status</th>\n",
       "    </tr>\n",
       "  </thead>\n",
       "  <tbody>\n",
       "    <tr>\n",
       "      <th>count</th>\n",
       "      <td>5.944500e+04</td>\n",
       "      <td>59445.000000</td>\n",
       "      <td>59445.000000</td>\n",
       "      <td>59445.000000</td>\n",
       "      <td>59445.000000</td>\n",
       "      <td>59445.000000</td>\n",
       "      <td>59445.000000</td>\n",
       "      <td>59445.000000</td>\n",
       "      <td>59445.000000</td>\n",
       "      <td>59445.000000</td>\n",
       "      <td>59445.000000</td>\n",
       "      <td>59445.000000</td>\n",
       "      <td>59445.000000</td>\n",
       "      <td>59445.000000</td>\n",
       "      <td>59445.000000</td>\n",
       "      <td>59445.000000</td>\n",
       "      <td>59445.000000</td>\n",
       "    </tr>\n",
       "    <tr>\n",
       "      <th>mean</th>\n",
       "      <td>7.840181e+05</td>\n",
       "      <td>4.664913</td>\n",
       "      <td>8.658741</td>\n",
       "      <td>3.899663</td>\n",
       "      <td>0.943660</td>\n",
       "      <td>8.659809</td>\n",
       "      <td>68.983115</td>\n",
       "      <td>3.739762</td>\n",
       "      <td>0.431575</td>\n",
       "      <td>0.566995</td>\n",
       "      <td>0.716713</td>\n",
       "      <td>0.429237</td>\n",
       "      <td>0.006645</td>\n",
       "      <td>0.993237</td>\n",
       "      <td>0.951266</td>\n",
       "      <td>0.967247</td>\n",
       "      <td>0.498057</td>\n",
       "    </tr>\n",
       "    <tr>\n",
       "      <th>std</th>\n",
       "      <td>3.347723e+05</td>\n",
       "      <td>4.161390</td>\n",
       "      <td>0.619519</td>\n",
       "      <td>4.476449</td>\n",
       "      <td>1.009404</td>\n",
       "      <td>0.618701</td>\n",
       "      <td>8.159485</td>\n",
       "      <td>2.418615</td>\n",
       "      <td>0.495300</td>\n",
       "      <td>0.495496</td>\n",
       "      <td>0.450598</td>\n",
       "      <td>0.494971</td>\n",
       "      <td>0.081245</td>\n",
       "      <td>0.081957</td>\n",
       "      <td>0.215313</td>\n",
       "      <td>0.177991</td>\n",
       "      <td>0.500000</td>\n",
       "    </tr>\n",
       "    <tr>\n",
       "      <th>min</th>\n",
       "      <td>3.100000e+01</td>\n",
       "      <td>-0.030000</td>\n",
       "      <td>6.894000</td>\n",
       "      <td>-0.034000</td>\n",
       "      <td>-0.032000</td>\n",
       "      <td>6.892000</td>\n",
       "      <td>43.000000</td>\n",
       "      <td>0.022500</td>\n",
       "      <td>0.000000</td>\n",
       "      <td>0.000000</td>\n",
       "      <td>0.000000</td>\n",
       "      <td>0.000000</td>\n",
       "      <td>0.000000</td>\n",
       "      <td>0.000000</td>\n",
       "      <td>0.000000</td>\n",
       "      <td>0.000000</td>\n",
       "      <td>0.000000</td>\n",
       "    </tr>\n",
       "    <tr>\n",
       "      <th>25%</th>\n",
       "      <td>5.661890e+05</td>\n",
       "      <td>-0.012000</td>\n",
       "      <td>8.158000</td>\n",
       "      <td>-0.008000</td>\n",
       "      <td>-0.020000</td>\n",
       "      <td>8.160000</td>\n",
       "      <td>62.450000</td>\n",
       "      <td>0.042500</td>\n",
       "      <td>0.000000</td>\n",
       "      <td>0.000000</td>\n",
       "      <td>0.000000</td>\n",
       "      <td>0.000000</td>\n",
       "      <td>0.000000</td>\n",
       "      <td>1.000000</td>\n",
       "      <td>1.000000</td>\n",
       "      <td>1.000000</td>\n",
       "      <td>0.000000</td>\n",
       "    </tr>\n",
       "    <tr>\n",
       "      <th>50%</th>\n",
       "      <td>8.918600e+05</td>\n",
       "      <td>7.266000</td>\n",
       "      <td>8.588000</td>\n",
       "      <td>-0.004000</td>\n",
       "      <td>-0.008000</td>\n",
       "      <td>8.590000</td>\n",
       "      <td>72.950000</td>\n",
       "      <td>5.345000</td>\n",
       "      <td>0.000000</td>\n",
       "      <td>1.000000</td>\n",
       "      <td>1.000000</td>\n",
       "      <td>0.000000</td>\n",
       "      <td>0.000000</td>\n",
       "      <td>1.000000</td>\n",
       "      <td>1.000000</td>\n",
       "      <td>1.000000</td>\n",
       "      <td>0.000000</td>\n",
       "    </tr>\n",
       "    <tr>\n",
       "      <th>75%</th>\n",
       "      <td>9.068430e+05</td>\n",
       "      <td>8.358000</td>\n",
       "      <td>9.006000</td>\n",
       "      <td>8.818000</td>\n",
       "      <td>2.014000</td>\n",
       "      <td>9.008000</td>\n",
       "      <td>75.475000</td>\n",
       "      <td>5.612500</td>\n",
       "      <td>1.000000</td>\n",
       "      <td>1.000000</td>\n",
       "      <td>1.000000</td>\n",
       "      <td>1.000000</td>\n",
       "      <td>0.000000</td>\n",
       "      <td>1.000000</td>\n",
       "      <td>1.000000</td>\n",
       "      <td>1.000000</td>\n",
       "      <td>1.000000</td>\n",
       "    </tr>\n",
       "    <tr>\n",
       "      <th>max</th>\n",
       "      <td>1.516860e+06</td>\n",
       "      <td>10.614000</td>\n",
       "      <td>10.244000</td>\n",
       "      <td>10.246000</td>\n",
       "      <td>4.950000</td>\n",
       "      <td>10.242000</td>\n",
       "      <td>89.050000</td>\n",
       "      <td>6.980000</td>\n",
       "      <td>1.000000</td>\n",
       "      <td>1.000000</td>\n",
       "      <td>1.000000</td>\n",
       "      <td>1.000000</td>\n",
       "      <td>1.000000</td>\n",
       "      <td>1.000000</td>\n",
       "      <td>1.000000</td>\n",
       "      <td>1.000000</td>\n",
       "      <td>1.000000</td>\n",
       "    </tr>\n",
       "  </tbody>\n",
       "</table>\n",
       "</div>"
      ],
      "text/plain": [
       "         Unnamed: 0           TP2           TP3            H1   DV_pressure  \\\n",
       "count  5.944500e+04  59445.000000  59445.000000  59445.000000  59445.000000   \n",
       "mean   7.840181e+05      4.664913      8.658741      3.899663      0.943660   \n",
       "std    3.347723e+05      4.161390      0.619519      4.476449      1.009404   \n",
       "min    3.100000e+01     -0.030000      6.894000     -0.034000     -0.032000   \n",
       "25%    5.661890e+05     -0.012000      8.158000     -0.008000     -0.020000   \n",
       "50%    8.918600e+05      7.266000      8.588000     -0.004000     -0.008000   \n",
       "75%    9.068430e+05      8.358000      9.006000      8.818000      2.014000   \n",
       "max    1.516860e+06     10.614000     10.244000     10.246000      4.950000   \n",
       "\n",
       "         Reservoirs  Oil_temperature  Motor_current          COMP  \\\n",
       "count  59445.000000     59445.000000   59445.000000  59445.000000   \n",
       "mean       8.659809        68.983115       3.739762      0.431575   \n",
       "std        0.618701         8.159485       2.418615      0.495300   \n",
       "min        6.892000        43.000000       0.022500      0.000000   \n",
       "25%        8.160000        62.450000       0.042500      0.000000   \n",
       "50%        8.590000        72.950000       5.345000      0.000000   \n",
       "75%        9.008000        75.475000       5.612500      1.000000   \n",
       "max       10.242000        89.050000       6.980000      1.000000   \n",
       "\n",
       "         DV_eletric        Towers           MPG           LPS  \\\n",
       "count  59445.000000  59445.000000  59445.000000  59445.000000   \n",
       "mean       0.566995      0.716713      0.429237      0.006645   \n",
       "std        0.495496      0.450598      0.494971      0.081245   \n",
       "min        0.000000      0.000000      0.000000      0.000000   \n",
       "25%        0.000000      0.000000      0.000000      0.000000   \n",
       "50%        1.000000      1.000000      0.000000      0.000000   \n",
       "75%        1.000000      1.000000      1.000000      0.000000   \n",
       "max        1.000000      1.000000      1.000000      1.000000   \n",
       "\n",
       "       Pressure_switch     Oil_level  Caudal_impulses        status  \n",
       "count     59445.000000  59445.000000     59445.000000  59445.000000  \n",
       "mean          0.993237      0.951266         0.967247      0.498057  \n",
       "std           0.081957      0.215313         0.177991      0.500000  \n",
       "min           0.000000      0.000000         0.000000      0.000000  \n",
       "25%           1.000000      1.000000         1.000000      0.000000  \n",
       "50%           1.000000      1.000000         1.000000      0.000000  \n",
       "75%           1.000000      1.000000         1.000000      1.000000  \n",
       "max           1.000000      1.000000         1.000000      1.000000  "
      ]
     },
     "execution_count": 4,
     "metadata": {},
     "output_type": "execute_result"
    }
   ],
   "source": [
    "data.describe()"
   ]
  },
  {
   "cell_type": "code",
   "execution_count": 5,
   "id": "00e7404e",
   "metadata": {},
   "outputs": [],
   "source": [
    "X = data.iloc[:, 2:-1]\n",
    "y = data.iloc[:, -1]"
   ]
  },
  {
   "cell_type": "code",
   "execution_count": 6,
   "id": "0814ca08",
   "metadata": {},
   "outputs": [
    {
     "data": {
      "text/html": [
       "<div>\n",
       "<style scoped>\n",
       "    .dataframe tbody tr th:only-of-type {\n",
       "        vertical-align: middle;\n",
       "    }\n",
       "\n",
       "    .dataframe tbody tr th {\n",
       "        vertical-align: top;\n",
       "    }\n",
       "\n",
       "    .dataframe thead th {\n",
       "        text-align: right;\n",
       "    }\n",
       "</style>\n",
       "<table border=\"1\" class=\"dataframe\">\n",
       "  <thead>\n",
       "    <tr style=\"text-align: right;\">\n",
       "      <th></th>\n",
       "      <th>TP2</th>\n",
       "      <th>TP3</th>\n",
       "      <th>H1</th>\n",
       "      <th>DV_pressure</th>\n",
       "      <th>Reservoirs</th>\n",
       "      <th>Oil_temperature</th>\n",
       "      <th>Motor_current</th>\n",
       "      <th>COMP</th>\n",
       "      <th>DV_eletric</th>\n",
       "      <th>Towers</th>\n",
       "      <th>MPG</th>\n",
       "      <th>LPS</th>\n",
       "      <th>Pressure_switch</th>\n",
       "      <th>Oil_level</th>\n",
       "      <th>Caudal_impulses</th>\n",
       "    </tr>\n",
       "  </thead>\n",
       "  <tbody>\n",
       "    <tr>\n",
       "      <th>0</th>\n",
       "      <td>-0.018</td>\n",
       "      <td>8.248</td>\n",
       "      <td>8.238</td>\n",
       "      <td>-0.024</td>\n",
       "      <td>8.248</td>\n",
       "      <td>49.450</td>\n",
       "      <td>0.0400</td>\n",
       "      <td>1.0</td>\n",
       "      <td>0.0</td>\n",
       "      <td>1.0</td>\n",
       "      <td>1.0</td>\n",
       "      <td>0.0</td>\n",
       "      <td>1.0</td>\n",
       "      <td>1.0</td>\n",
       "      <td>1.0</td>\n",
       "    </tr>\n",
       "    <tr>\n",
       "      <th>1</th>\n",
       "      <td>-0.018</td>\n",
       "      <td>8.248</td>\n",
       "      <td>8.238</td>\n",
       "      <td>-0.024</td>\n",
       "      <td>8.248</td>\n",
       "      <td>49.450</td>\n",
       "      <td>0.0400</td>\n",
       "      <td>1.0</td>\n",
       "      <td>0.0</td>\n",
       "      <td>1.0</td>\n",
       "      <td>1.0</td>\n",
       "      <td>0.0</td>\n",
       "      <td>1.0</td>\n",
       "      <td>1.0</td>\n",
       "      <td>1.0</td>\n",
       "    </tr>\n",
       "    <tr>\n",
       "      <th>2</th>\n",
       "      <td>-0.018</td>\n",
       "      <td>8.248</td>\n",
       "      <td>8.238</td>\n",
       "      <td>-0.024</td>\n",
       "      <td>8.248</td>\n",
       "      <td>49.450</td>\n",
       "      <td>0.0400</td>\n",
       "      <td>1.0</td>\n",
       "      <td>0.0</td>\n",
       "      <td>1.0</td>\n",
       "      <td>1.0</td>\n",
       "      <td>0.0</td>\n",
       "      <td>1.0</td>\n",
       "      <td>1.0</td>\n",
       "      <td>1.0</td>\n",
       "    </tr>\n",
       "    <tr>\n",
       "      <th>3</th>\n",
       "      <td>-0.018</td>\n",
       "      <td>8.248</td>\n",
       "      <td>8.238</td>\n",
       "      <td>-0.024</td>\n",
       "      <td>8.248</td>\n",
       "      <td>49.450</td>\n",
       "      <td>0.0400</td>\n",
       "      <td>0.0</td>\n",
       "      <td>0.0</td>\n",
       "      <td>0.0</td>\n",
       "      <td>0.0</td>\n",
       "      <td>0.0</td>\n",
       "      <td>0.0</td>\n",
       "      <td>0.0</td>\n",
       "      <td>0.0</td>\n",
       "    </tr>\n",
       "    <tr>\n",
       "      <th>4</th>\n",
       "      <td>-0.018</td>\n",
       "      <td>8.248</td>\n",
       "      <td>8.238</td>\n",
       "      <td>-0.024</td>\n",
       "      <td>8.248</td>\n",
       "      <td>49.450</td>\n",
       "      <td>0.0400</td>\n",
       "      <td>1.0</td>\n",
       "      <td>0.0</td>\n",
       "      <td>1.0</td>\n",
       "      <td>1.0</td>\n",
       "      <td>0.0</td>\n",
       "      <td>1.0</td>\n",
       "      <td>1.0</td>\n",
       "      <td>1.0</td>\n",
       "    </tr>\n",
       "    <tr>\n",
       "      <th>...</th>\n",
       "      <td>...</td>\n",
       "      <td>...</td>\n",
       "      <td>...</td>\n",
       "      <td>...</td>\n",
       "      <td>...</td>\n",
       "      <td>...</td>\n",
       "      <td>...</td>\n",
       "      <td>...</td>\n",
       "      <td>...</td>\n",
       "      <td>...</td>\n",
       "      <td>...</td>\n",
       "      <td>...</td>\n",
       "      <td>...</td>\n",
       "      <td>...</td>\n",
       "      <td>...</td>\n",
       "    </tr>\n",
       "    <tr>\n",
       "      <th>59440</th>\n",
       "      <td>-0.012</td>\n",
       "      <td>8.484</td>\n",
       "      <td>8.466</td>\n",
       "      <td>-0.014</td>\n",
       "      <td>8.488</td>\n",
       "      <td>58.175</td>\n",
       "      <td>0.0325</td>\n",
       "      <td>1.0</td>\n",
       "      <td>0.0</td>\n",
       "      <td>1.0</td>\n",
       "      <td>1.0</td>\n",
       "      <td>0.0</td>\n",
       "      <td>1.0</td>\n",
       "      <td>1.0</td>\n",
       "      <td>1.0</td>\n",
       "    </tr>\n",
       "    <tr>\n",
       "      <th>59441</th>\n",
       "      <td>-0.010</td>\n",
       "      <td>9.180</td>\n",
       "      <td>9.166</td>\n",
       "      <td>-0.018</td>\n",
       "      <td>9.182</td>\n",
       "      <td>63.650</td>\n",
       "      <td>0.0425</td>\n",
       "      <td>1.0</td>\n",
       "      <td>0.0</td>\n",
       "      <td>1.0</td>\n",
       "      <td>1.0</td>\n",
       "      <td>0.0</td>\n",
       "      <td>1.0</td>\n",
       "      <td>0.0</td>\n",
       "      <td>1.0</td>\n",
       "    </tr>\n",
       "    <tr>\n",
       "      <th>59442</th>\n",
       "      <td>7.762</td>\n",
       "      <td>8.610</td>\n",
       "      <td>-0.004</td>\n",
       "      <td>0.578</td>\n",
       "      <td>8.610</td>\n",
       "      <td>77.850</td>\n",
       "      <td>5.5700</td>\n",
       "      <td>0.0</td>\n",
       "      <td>1.0</td>\n",
       "      <td>1.0</td>\n",
       "      <td>0.0</td>\n",
       "      <td>0.0</td>\n",
       "      <td>1.0</td>\n",
       "      <td>1.0</td>\n",
       "      <td>1.0</td>\n",
       "    </tr>\n",
       "    <tr>\n",
       "      <th>59443</th>\n",
       "      <td>-0.014</td>\n",
       "      <td>8.770</td>\n",
       "      <td>8.756</td>\n",
       "      <td>-0.016</td>\n",
       "      <td>8.774</td>\n",
       "      <td>55.825</td>\n",
       "      <td>0.0350</td>\n",
       "      <td>1.0</td>\n",
       "      <td>0.0</td>\n",
       "      <td>1.0</td>\n",
       "      <td>1.0</td>\n",
       "      <td>0.0</td>\n",
       "      <td>1.0</td>\n",
       "      <td>1.0</td>\n",
       "      <td>1.0</td>\n",
       "    </tr>\n",
       "    <tr>\n",
       "      <th>59444</th>\n",
       "      <td>-0.014</td>\n",
       "      <td>8.606</td>\n",
       "      <td>8.596</td>\n",
       "      <td>-0.020</td>\n",
       "      <td>8.608</td>\n",
       "      <td>64.175</td>\n",
       "      <td>0.0425</td>\n",
       "      <td>1.0</td>\n",
       "      <td>0.0</td>\n",
       "      <td>1.0</td>\n",
       "      <td>1.0</td>\n",
       "      <td>0.0</td>\n",
       "      <td>1.0</td>\n",
       "      <td>1.0</td>\n",
       "      <td>1.0</td>\n",
       "    </tr>\n",
       "  </tbody>\n",
       "</table>\n",
       "<p>59445 rows × 15 columns</p>\n",
       "</div>"
      ],
      "text/plain": [
       "         TP2    TP3     H1  DV_pressure  Reservoirs  Oil_temperature  \\\n",
       "0     -0.018  8.248  8.238       -0.024       8.248           49.450   \n",
       "1     -0.018  8.248  8.238       -0.024       8.248           49.450   \n",
       "2     -0.018  8.248  8.238       -0.024       8.248           49.450   \n",
       "3     -0.018  8.248  8.238       -0.024       8.248           49.450   \n",
       "4     -0.018  8.248  8.238       -0.024       8.248           49.450   \n",
       "...      ...    ...    ...          ...         ...              ...   \n",
       "59440 -0.012  8.484  8.466       -0.014       8.488           58.175   \n",
       "59441 -0.010  9.180  9.166       -0.018       9.182           63.650   \n",
       "59442  7.762  8.610 -0.004        0.578       8.610           77.850   \n",
       "59443 -0.014  8.770  8.756       -0.016       8.774           55.825   \n",
       "59444 -0.014  8.606  8.596       -0.020       8.608           64.175   \n",
       "\n",
       "       Motor_current  COMP  DV_eletric  Towers  MPG  LPS  Pressure_switch  \\\n",
       "0             0.0400   1.0         0.0     1.0  1.0  0.0              1.0   \n",
       "1             0.0400   1.0         0.0     1.0  1.0  0.0              1.0   \n",
       "2             0.0400   1.0         0.0     1.0  1.0  0.0              1.0   \n",
       "3             0.0400   0.0         0.0     0.0  0.0  0.0              0.0   \n",
       "4             0.0400   1.0         0.0     1.0  1.0  0.0              1.0   \n",
       "...              ...   ...         ...     ...  ...  ...              ...   \n",
       "59440         0.0325   1.0         0.0     1.0  1.0  0.0              1.0   \n",
       "59441         0.0425   1.0         0.0     1.0  1.0  0.0              1.0   \n",
       "59442         5.5700   0.0         1.0     1.0  0.0  0.0              1.0   \n",
       "59443         0.0350   1.0         0.0     1.0  1.0  0.0              1.0   \n",
       "59444         0.0425   1.0         0.0     1.0  1.0  0.0              1.0   \n",
       "\n",
       "       Oil_level  Caudal_impulses  \n",
       "0            1.0              1.0  \n",
       "1            1.0              1.0  \n",
       "2            1.0              1.0  \n",
       "3            0.0              0.0  \n",
       "4            1.0              1.0  \n",
       "...          ...              ...  \n",
       "59440        1.0              1.0  \n",
       "59441        0.0              1.0  \n",
       "59442        1.0              1.0  \n",
       "59443        1.0              1.0  \n",
       "59444        1.0              1.0  \n",
       "\n",
       "[59445 rows x 15 columns]"
      ]
     },
     "execution_count": 6,
     "metadata": {},
     "output_type": "execute_result"
    }
   ],
   "source": [
    "X"
   ]
  },
  {
   "cell_type": "code",
   "execution_count": 7,
   "id": "4a70d528",
   "metadata": {},
   "outputs": [
    {
     "data": {
      "text/plain": [
       "0        1\n",
       "1        1\n",
       "2        1\n",
       "3        1\n",
       "4        1\n",
       "        ..\n",
       "59440    0\n",
       "59441    0\n",
       "59442    0\n",
       "59443    0\n",
       "59444    0\n",
       "Name: status, Length: 59445, dtype: int64"
      ]
     },
     "execution_count": 7,
     "metadata": {},
     "output_type": "execute_result"
    }
   ],
   "source": [
    "y"
   ]
  },
  {
   "cell_type": "code",
   "execution_count": 8,
   "id": "fb94ba3c",
   "metadata": {},
   "outputs": [],
   "source": [
    "# Training and Testing Data\n",
    "from sklearn.model_selection import train_test_split\n",
    "X_train, X_test, y_train, y_test = train_test_split(X, y, test_size=0.2, random_state=0)"
   ]
  },
  {
   "cell_type": "code",
   "execution_count": 9,
   "id": "7aeefe7a",
   "metadata": {},
   "outputs": [
    {
     "data": {
      "text/html": [
       "<style>#sk-container-id-1 {color: black;}#sk-container-id-1 pre{padding: 0;}#sk-container-id-1 div.sk-toggleable {background-color: white;}#sk-container-id-1 label.sk-toggleable__label {cursor: pointer;display: block;width: 100%;margin-bottom: 0;padding: 0.3em;box-sizing: border-box;text-align: center;}#sk-container-id-1 label.sk-toggleable__label-arrow:before {content: \"▸\";float: left;margin-right: 0.25em;color: #696969;}#sk-container-id-1 label.sk-toggleable__label-arrow:hover:before {color: black;}#sk-container-id-1 div.sk-estimator:hover label.sk-toggleable__label-arrow:before {color: black;}#sk-container-id-1 div.sk-toggleable__content {max-height: 0;max-width: 0;overflow: hidden;text-align: left;background-color: #f0f8ff;}#sk-container-id-1 div.sk-toggleable__content pre {margin: 0.2em;color: black;border-radius: 0.25em;background-color: #f0f8ff;}#sk-container-id-1 input.sk-toggleable__control:checked~div.sk-toggleable__content {max-height: 200px;max-width: 100%;overflow: auto;}#sk-container-id-1 input.sk-toggleable__control:checked~label.sk-toggleable__label-arrow:before {content: \"▾\";}#sk-container-id-1 div.sk-estimator input.sk-toggleable__control:checked~label.sk-toggleable__label {background-color: #d4ebff;}#sk-container-id-1 div.sk-label input.sk-toggleable__control:checked~label.sk-toggleable__label {background-color: #d4ebff;}#sk-container-id-1 input.sk-hidden--visually {border: 0;clip: rect(1px 1px 1px 1px);clip: rect(1px, 1px, 1px, 1px);height: 1px;margin: -1px;overflow: hidden;padding: 0;position: absolute;width: 1px;}#sk-container-id-1 div.sk-estimator {font-family: monospace;background-color: #f0f8ff;border: 1px dotted black;border-radius: 0.25em;box-sizing: border-box;margin-bottom: 0.5em;}#sk-container-id-1 div.sk-estimator:hover {background-color: #d4ebff;}#sk-container-id-1 div.sk-parallel-item::after {content: \"\";width: 100%;border-bottom: 1px solid gray;flex-grow: 1;}#sk-container-id-1 div.sk-label:hover label.sk-toggleable__label {background-color: #d4ebff;}#sk-container-id-1 div.sk-serial::before {content: \"\";position: absolute;border-left: 1px solid gray;box-sizing: border-box;top: 0;bottom: 0;left: 50%;z-index: 0;}#sk-container-id-1 div.sk-serial {display: flex;flex-direction: column;align-items: center;background-color: white;padding-right: 0.2em;padding-left: 0.2em;position: relative;}#sk-container-id-1 div.sk-item {position: relative;z-index: 1;}#sk-container-id-1 div.sk-parallel {display: flex;align-items: stretch;justify-content: center;background-color: white;position: relative;}#sk-container-id-1 div.sk-item::before, #sk-container-id-1 div.sk-parallel-item::before {content: \"\";position: absolute;border-left: 1px solid gray;box-sizing: border-box;top: 0;bottom: 0;left: 50%;z-index: -1;}#sk-container-id-1 div.sk-parallel-item {display: flex;flex-direction: column;z-index: 1;position: relative;background-color: white;}#sk-container-id-1 div.sk-parallel-item:first-child::after {align-self: flex-end;width: 50%;}#sk-container-id-1 div.sk-parallel-item:last-child::after {align-self: flex-start;width: 50%;}#sk-container-id-1 div.sk-parallel-item:only-child::after {width: 0;}#sk-container-id-1 div.sk-dashed-wrapped {border: 1px dashed gray;margin: 0 0.4em 0.5em 0.4em;box-sizing: border-box;padding-bottom: 0.4em;background-color: white;}#sk-container-id-1 div.sk-label label {font-family: monospace;font-weight: bold;display: inline-block;line-height: 1.2em;}#sk-container-id-1 div.sk-label-container {text-align: center;}#sk-container-id-1 div.sk-container {/* jupyter's `normalize.less` sets `[hidden] { display: none; }` but bootstrap.min.css set `[hidden] { display: none !important; }` so we also need the `!important` here to be able to override the default hidden behavior on the sphinx rendered scikit-learn.org. See: https://github.com/scikit-learn/scikit-learn/issues/21755 */display: inline-block !important;position: relative;}#sk-container-id-1 div.sk-text-repr-fallback {display: none;}</style><div id=\"sk-container-id-1\" class=\"sk-top-container\"><div class=\"sk-text-repr-fallback\"><pre>KNeighborsClassifier()</pre><b>In a Jupyter environment, please rerun this cell to show the HTML representation or trust the notebook. <br />On GitHub, the HTML representation is unable to render, please try loading this page with nbviewer.org.</b></div><div class=\"sk-container\" hidden><div class=\"sk-item\"><div class=\"sk-estimator sk-toggleable\"><input class=\"sk-toggleable__control sk-hidden--visually\" id=\"sk-estimator-id-1\" type=\"checkbox\" checked><label for=\"sk-estimator-id-1\" class=\"sk-toggleable__label sk-toggleable__label-arrow\">KNeighborsClassifier</label><div class=\"sk-toggleable__content\"><pre>KNeighborsClassifier()</pre></div></div></div></div></div>"
      ],
      "text/plain": [
       "KNeighborsClassifier()"
      ]
     },
     "execution_count": 9,
     "metadata": {},
     "output_type": "execute_result"
    }
   ],
   "source": [
    "# Training the model\n",
    "from sklearn.neighbors import KNeighborsClassifier\n",
    "knn = KNeighborsClassifier()\n",
    "knn.fit(X_train,y_train)"
   ]
  },
  {
   "cell_type": "code",
   "execution_count": 10,
   "id": "5fa71423",
   "metadata": {},
   "outputs": [],
   "source": [
    "# Pedicting the Test data using the model trained\n",
    "y_pred = knn.predict(X_test)"
   ]
  },
  {
   "cell_type": "code",
   "execution_count": 11,
   "id": "9120dd89",
   "metadata": {},
   "outputs": [
    {
     "data": {
      "image/png": "[encoded data removed]",
      "text/plain": [
       "<Figure size 640x480 with 2 Axes>"
      ]
     },
     "metadata": {},
     "output_type": "display_data"
    }
   ],
   "source": [
    "# Displaying the confusion matrix\n",
    "from sklearn.metrics import classification_report, ConfusionMatrixDisplay, accuracy_score, confusion_matrix\n",
    "disp = ConfusionMatrixDisplay.from_predictions(y_test, y_pred)\n",
    "plt.show()"
   ]
  },
  {
   "cell_type": "code",
   "execution_count": 12,
   "id": "5ad97d43",
   "metadata": {},
   "outputs": [
    {
     "data": {
      "text/plain": [
       "0.9938598704685003"
      ]
     },
     "execution_count": 12,
     "metadata": {},
     "output_type": "execute_result"
    }
   ],
   "source": [
    "accuracy_score(y_test, y_pred)"
   ]
  },
  {
   "cell_type": "code",
   "execution_count": 13,
   "id": "66f6af99",
   "metadata": {},
   "outputs": [
    {
     "name": "stdout",
     "output_type": "stream",
     "text": [
      "              precision    recall  f1-score   support\n",
      "\n",
      "           0       1.00      0.99      0.99      6026\n",
      "           1       0.99      1.00      0.99      5863\n",
      "\n",
      "    accuracy                           0.99     11889\n",
      "   macro avg       0.99      0.99      0.99     11889\n",
      "weighted avg       0.99      0.99      0.99     11889\n",
      "\n"
     ]
    }
   ],
   "source": [
    "print(classification_report(y_test, y_pred))"
   ]
  },
  {
   "cell_type": "markdown",
   "id": "c9619fa3",
   "metadata": {},
   "source": [
    "## Choosing optimal K value"
   ]
  },
  {
   "cell_type": "markdown",
   "id": "3312eccb",
   "metadata": {},
   "source": [
    "The k value in the k-NN algorithm defines how many neighbors will be checked to determine the classification of a specific query point. For example, if k=1, the instance will be assigned to the same class as its single nearest neighbor. Defining k can be a balancing act as different values can lead to overfitting or underfitting. Lower values of k can have high variance, but low bias, and larger values of k may lead to high bias and lower variance. The choice of k will largely depend on the input data as data with more outliers or noise will likely perform better with higher values of k. Overall, it is recommended to have an odd number for k to avoid ties in classification, and cross-validation tactics can help you choose the optimal k for your dataset."
   ]
  },
  {
   "cell_type": "markdown",
   "id": "3310f1a3",
   "metadata": {},
   "source": [
    "In order to find the optimal K value, we are using a loop to iterate over a range of k values and training a KNN model for each k. The goal is to identify the optimal k value based on both error and accuracy metrics.\n",
    "\n",
    "1. Looping through k values:\n",
    "The loop iterates over k values ranging from 1 to 40, with increments of 2. This range is chosen to explore a variety of neighborhood sizes while avoiding unnecessary computational overhead.\n",
    "\n",
    "2. Error Calculation:\n",
    "The error for each iteration is calculated using the formula error.append(np.mean(pred_i != y_test)). This calculates the mean of the elements where the predicted values are not equal to the actual values. This provides insight into the misclassification rate for each k value.\n",
    "\n",
    "3. Accuracy Calculation:\n",
    "The accuracy for each iteration is calculated using the formula accuracy.append(accuracy_score(y_test, pred_i)). This function computes the accuracy classification score, which is the proportion of correctly classified instances. It offers a complementary perspective to the error metric.\n",
    "\n",
    "4. Observing Graphs:\n",
    "After running the loop, two graphs are generated – one for error and another for accuracy. The x-axis represents the different k values, and the y-axis represents the corresponding error or accuracy scores. By visually inspecting these graphs, one can identify the optimal k value that balances low error and high accuracy."
   ]
  },
  {
   "cell_type": "code",
   "execution_count": 14,
   "id": "2a57fdb5",
   "metadata": {},
   "outputs": [],
   "source": [
    "error = []\n",
    "accuracy = []\n",
    "# Calculating error and accuracy for K values between 1 and 40\n",
    "for i in range(1,40,2):\n",
    "    knn = KNeighborsClassifier(n_neighbors=i)\n",
    "    knn.fit(X_train, y_train)\n",
    "    pred_i = knn.predict(X_test)\n",
    "    error.append(np.mean(pred_i != y_test))\n",
    "    accuracy.append(accuracy_score(y_test, pred_i))"
   ]
  },
  {
   "cell_type": "code",
   "execution_count": 15,
   "id": "edbf190c",
   "metadata": {},
   "outputs": [
    {
     "data": {
      "text/plain": [
       "Text(0, 0.5, 'Mean Error')"
      ]
     },
     "execution_count": 15,
     "metadata": {},
     "output_type": "execute_result"
    },
    {
     "data": {
      "image/png": "[encoded data removed]",
      "text/plain": [
       "<Figure size 1200x600 with 1 Axes>"
      ]
     },
     "metadata": {},
     "output_type": "display_data"
    }
   ],
   "source": [
    "# Plotting the graph of K value vs Error rate\n",
    "plt.figure(figsize=(12, 6))\n",
    "plt.plot(range(1,40,2), error, color='red', linestyle='dashed', marker='o', markerfacecolor='blue', markersize=10)\n",
    "plt.title('Error Rate K Value')\n",
    "plt.xlabel('K Value')\n",
    "plt.ylabel('Mean Error')"
   ]
  },
  {
   "cell_type": "code",
   "execution_count": 16,
   "id": "3870721d",
   "metadata": {},
   "outputs": [
    {
     "data": {
      "text/plain": [
       "Text(0, 0.5, 'Accuracy')"
      ]
     },
     "execution_count": 16,
     "metadata": {},
     "output_type": "execute_result"
    },
    {
     "data": {
      "image/png": "[encoded data removed]",
      "text/plain": [
       "<Figure size 1200x600 with 1 Axes>"
      ]
     },
     "metadata": {},
     "output_type": "display_data"
    }
   ],
   "source": [
    "# Plotting the graph of K value vs Accuracy\n",
    "plt.figure(figsize=(12, 6))\n",
    "plt.plot(range(1,40,2), accuracy, color='red', linestyle='dashed', marker='o', markerfacecolor='blue', markersize=10)\n",
    "plt.title('Accuracy Score K Value')\n",
    "plt.xlabel('K Value')\n",
    "plt.ylabel('Accuracy')"
   ]
  },
  {
   "cell_type": "markdown",
   "id": "6d7d2a26",
   "metadata": {},
   "source": [
    "After observing both the graphs, k value of 3 has achieved the highest accuracy."
   ]
  },
  {
   "cell_type": "code",
   "execution_count": 17,
   "id": "d899848a",
   "metadata": {},
   "outputs": [
    {
     "data": {
      "text/html": [
       "<style>#sk-container-id-2 {color: black;}#sk-container-id-2 pre{padding: 0;}#sk-container-id-2 div.sk-toggleable {background-color: white;}#sk-container-id-2 label.sk-toggleable__label {cursor: pointer;display: block;width: 100%;margin-bottom: 0;padding: 0.3em;box-sizing: border-box;text-align: center;}#sk-container-id-2 label.sk-toggleable__label-arrow:before {content: \"▸\";float: left;margin-right: 0.25em;color: #696969;}#sk-container-id-2 label.sk-toggleable__label-arrow:hover:before {color: black;}#sk-container-id-2 div.sk-estimator:hover label.sk-toggleable__label-arrow:before {color: black;}#sk-container-id-2 div.sk-toggleable__content {max-height: 0;max-width: 0;overflow: hidden;text-align: left;background-color: #f0f8ff;}#sk-container-id-2 div.sk-toggleable__content pre {margin: 0.2em;color: black;border-radius: 0.25em;background-color: #f0f8ff;}#sk-container-id-2 input.sk-toggleable__control:checked~div.sk-toggleable__content {max-height: 200px;max-width: 100%;overflow: auto;}#sk-container-id-2 input.sk-toggleable__control:checked~label.sk-toggleable__label-arrow:before {content: \"▾\";}#sk-container-id-2 div.sk-estimator input.sk-toggleable__control:checked~label.sk-toggleable__label {background-color: #d4ebff;}#sk-container-id-2 div.sk-label input.sk-toggleable__control:checked~label.sk-toggleable__label {background-color: #d4ebff;}#sk-container-id-2 input.sk-hidden--visually {border: 0;clip: rect(1px 1px 1px 1px);clip: rect(1px, 1px, 1px, 1px);height: 1px;margin: -1px;overflow: hidden;padding: 0;position: absolute;width: 1px;}#sk-container-id-2 div.sk-estimator {font-family: monospace;background-color: #f0f8ff;border: 1px dotted black;border-radius: 0.25em;box-sizing: border-box;margin-bottom: 0.5em;}#sk-container-id-2 div.sk-estimator:hover {background-color: #d4ebff;}#sk-container-id-2 div.sk-parallel-item::after {content: \"\";width: 100%;border-bottom: 1px solid gray;flex-grow: 1;}#sk-container-id-2 div.sk-label:hover label.sk-toggleable__label {background-color: #d4ebff;}#sk-container-id-2 div.sk-serial::before {content: \"\";position: absolute;border-left: 1px solid gray;box-sizing: border-box;top: 0;bottom: 0;left: 50%;z-index: 0;}#sk-container-id-2 div.sk-serial {display: flex;flex-direction: column;align-items: center;background-color: white;padding-right: 0.2em;padding-left: 0.2em;position: relative;}#sk-container-id-2 div.sk-item {position: relative;z-index: 1;}#sk-container-id-2 div.sk-parallel {display: flex;align-items: stretch;justify-content: center;background-color: white;position: relative;}#sk-container-id-2 div.sk-item::before, #sk-container-id-2 div.sk-parallel-item::before {content: \"\";position: absolute;border-left: 1px solid gray;box-sizing: border-box;top: 0;bottom: 0;left: 50%;z-index: -1;}#sk-container-id-2 div.sk-parallel-item {display: flex;flex-direction: column;z-index: 1;position: relative;background-color: white;}#sk-container-id-2 div.sk-parallel-item:first-child::after {align-self: flex-end;width: 50%;}#sk-container-id-2 div.sk-parallel-item:last-child::after {align-self: flex-start;width: 50%;}#sk-container-id-2 div.sk-parallel-item:only-child::after {width: 0;}#sk-container-id-2 div.sk-dashed-wrapped {border: 1px dashed gray;margin: 0 0.4em 0.5em 0.4em;box-sizing: border-box;padding-bottom: 0.4em;background-color: white;}#sk-container-id-2 div.sk-label label {font-family: monospace;font-weight: bold;display: inline-block;line-height: 1.2em;}#sk-container-id-2 div.sk-label-container {text-align: center;}#sk-container-id-2 div.sk-container {/* jupyter's `normalize.less` sets `[hidden] { display: none; }` but bootstrap.min.css set `[hidden] { display: none !important; }` so we also need the `!important` here to be able to override the default hidden behavior on the sphinx rendered scikit-learn.org. See: https://github.com/scikit-learn/scikit-learn/issues/21755 */display: inline-block !important;position: relative;}#sk-container-id-2 div.sk-text-repr-fallback {display: none;}</style><div id=\"sk-container-id-2\" class=\"sk-top-container\"><div class=\"sk-text-repr-fallback\"><pre>KNeighborsClassifier(n_neighbors=3)</pre><b>In a Jupyter environment, please rerun this cell to show the HTML representation or trust the notebook. <br />On GitHub, the HTML representation is unable to render, please try loading this page with nbviewer.org.</b></div><div class=\"sk-container\" hidden><div class=\"sk-item\"><div class=\"sk-estimator sk-toggleable\"><input class=\"sk-toggleable__control sk-hidden--visually\" id=\"sk-estimator-id-2\" type=\"checkbox\" checked><label for=\"sk-estimator-id-2\" class=\"sk-toggleable__label sk-toggleable__label-arrow\">KNeighborsClassifier</label><div class=\"sk-toggleable__content\"><pre>KNeighborsClassifier(n_neighbors=3)</pre></div></div></div></div></div>"
      ],
      "text/plain": [
       "KNeighborsClassifier(n_neighbors=3)"
      ]
     },
     "execution_count": 17,
     "metadata": {},
     "output_type": "execute_result"
    }
   ],
   "source": [
    "# Using the optimal K value according to the graphs above\n",
    "knn = KNeighborsClassifier(n_neighbors=3)\n",
    "knn.fit(X_train,y_train)"
   ]
  },
  {
   "cell_type": "code",
   "execution_count": 18,
   "id": "b8a270c9",
   "metadata": {},
   "outputs": [],
   "source": [
    "y_pred1 = knn.predict(X_test)"
   ]
  },
  {
   "cell_type": "code",
   "execution_count": 19,
   "id": "2165494c",
   "metadata": {},
   "outputs": [
    {
     "data": {
      "image/png": "[encoded data removed]",
      "text/plain": [
       "<Figure size 640x480 with 2 Axes>"
      ]
     },
     "metadata": {},
     "output_type": "display_data"
    }
   ],
   "source": [
    "disp = ConfusionMatrixDisplay.from_predictions(y_test, y_pred1)\n",
    "plt.show()"
   ]
  },
  {
   "cell_type": "code",
   "execution_count": 20,
   "id": "dd7d1218",
   "metadata": {},
   "outputs": [
    {
     "data": {
      "text/plain": [
       "0.9947850954663975"
      ]
     },
     "execution_count": 20,
     "metadata": {},
     "output_type": "execute_result"
    }
   ],
   "source": [
    "accuracy_score(y_test, y_pred1)"
   ]
  },
  {
   "cell_type": "markdown",
   "id": "da0f8af6",
   "metadata": {},
   "source": [
    "As we can observe, there is a spike in the accuracy of the model after we replaced the K with the optimal K value obtained from the graphs"
   ]
  },
  {
   "cell_type": "code",
   "execution_count": 21,
   "id": "7b641583",
   "metadata": {},
   "outputs": [
    {
     "name": "stdout",
     "output_type": "stream",
     "text": [
      "              precision    recall  f1-score   support\n",
      "\n",
      "           0       1.00      0.99      0.99      6026\n",
      "           1       0.99      1.00      0.99      5863\n",
      "\n",
      "    accuracy                           0.99     11889\n",
      "   macro avg       0.99      0.99      0.99     11889\n",
      "weighted avg       0.99      0.99      0.99     11889\n",
      "\n"
     ]
    }
   ],
   "source": [
    "print(classification_report(y_test, y_pred1))"
   ]
  },
  {
   "cell_type": "code",
   "execution_count": null,
   "id": "bd1d9e9f",
   "metadata": {},
   "outputs": [],
   "source": []
  }
 ],
 "metadata": {
  "kernelspec": {
   "display_name": "Python 3 (ipykernel)",
   "language": "python",
   "name": "python3"
  },
  "language_info": {
   "codemirror_mode": {
    "name": "ipython",
    "version": 3
   },
   "file_extension": ".py",
   "mimetype": "text/x-python",
   "name": "python",
   "nbconvert_exporter": "python",
   "pygments_lexer": "ipython3",
   "version": "3.9.0"
  }
 },
 "nbformat": 4,
 "nbformat_minor": 5
}
