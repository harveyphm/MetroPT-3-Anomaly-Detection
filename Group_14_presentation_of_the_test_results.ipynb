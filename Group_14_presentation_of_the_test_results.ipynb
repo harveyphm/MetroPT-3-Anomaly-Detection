{
  "cells": [
    {
      "cell_type": "markdown",
      "id": "63a86328",
      "metadata": {
        "id": "63a86328"
      },
      "source": [
        "# INTRODUCTION TO DATA SCIENCE\n",
        "# Group 14 -- Project phase 2\n",
        "\n",
        "# Presentation of the test results"
      ]
    },
    {
      "cell_type": "markdown",
      "id": "6607d04d",
      "metadata": {
        "id": "6607d04d"
      },
      "source": [
        "|Name| Student ID|\n",
        "|:---|:-----------:|\n",
        "|Pham, Quoc Huy| 2299356|\n",
        "|Hussain, Zakiuddin| 2338350|\n",
        "|Lee, Daeul Haven| 2308018|\n",
        "|Preetham| 2288949|\n",
        "|Jayanth| 2288552|\n",
        "|Srikavya| 2311351|"
      ]
    },
    {
      "cell_type": "markdown",
      "source": [
        "## I. Best model from step 1 and 3"
      ],
      "metadata": {
        "id": "a0P-K38KwnV3"
      },
      "id": "a0P-K38KwnV3"
    },
    {
      "cell_type": "markdown",
      "id": "a7ad7bfc",
      "metadata": {
        "id": "a7ad7bfc"
      },
      "source": [
        "### Random Forest"
      ]
    },
    {
      "cell_type": "markdown",
      "id": "3bc71a35",
      "metadata": {
        "id": "3bc71a35"
      },
      "source": [
        "Random Forest is an ensemble learning algorithm used for classification and regression tasks. It constructs a collection of decision trees, each trained on a random subset of the data and features. By aggregating the predictions of these trees, Random Forest enhances accuracy, generalization, and resilience to overfitting.\n",
        "\n",
        "**Building a Failure Prediction Model:** <br>\n",
        "We aim to employ the Random Forest algorithm for a supervised classification problem, specifically failure prediction labeled as 0 (no failure) and 1 (failure) in the status column."
      ]
    },
    {
      "cell_type": "code",
      "execution_count": null,
      "id": "805a50bd",
      "metadata": {
        "id": "805a50bd"
      },
      "outputs": [],
      "source": [
        "import matplotlib.pyplot as plt\n",
        "import numpy as np\n",
        "import pandas as pd\n",
        "import seaborn as sns\n",
        "\n",
        "from sklearn.model_selection import train_test_split, RandomizedSearchCV\n",
        "from sklearn.metrics import accuracy_score, classification_report, confusion_matrix\n",
        "from sklearn.tree import DecisionTreeClassifier\n",
        "from sklearn.ensemble import RandomForestClassifier\n",
        "from mlxtend.plotting import plot_decision_regions\n",
        "from sklearn.metrics import ConfusionMatrixDisplay\n",
        "from sklearn.model_selection import ParameterGrid"
      ]
    },
    {
      "cell_type": "code",
      "execution_count": null,
      "id": "52304780",
      "metadata": {
        "id": "52304780",
        "outputId": "39d3075d-b4d1-499d-ce5d-6737ecceddbf"
      },
      "outputs": [
        {
          "name": "stdout",
          "output_type": "stream",
          "text": [
            "Train set shape: (41611, 15) (41611,)\n",
            "Test set shape: (17834, 15) (17834,)\n",
            "     TP2    TP3     H1  DV_pressure  Reservoirs  Oil_temperature  \\\n",
            "0 -0.018  8.248  8.238       -0.024       8.248            49.45   \n",
            "1 -0.018  8.248  8.238       -0.024       8.248            49.45   \n",
            "2 -0.018  8.248  8.238       -0.024       8.248            49.45   \n",
            "3 -0.018  8.248  8.238       -0.024       8.248            49.45   \n",
            "4 -0.018  8.248  8.238       -0.024       8.248            49.45   \n",
            "\n",
            "   Motor_current  COMP  DV_eletric  Towers  MPG  LPS  Pressure_switch  \\\n",
            "0           0.04   1.0         0.0     1.0  1.0  0.0              1.0   \n",
            "1           0.04   1.0         0.0     1.0  1.0  0.0              1.0   \n",
            "2           0.04   1.0         0.0     1.0  1.0  0.0              1.0   \n",
            "3           0.04   0.0         0.0     0.0  0.0  0.0              0.0   \n",
            "4           0.04   1.0         0.0     1.0  1.0  0.0              1.0   \n",
            "\n",
            "   Oil_level  Caudal_impulses  status  \n",
            "0        1.0              1.0       1  \n",
            "1        1.0              1.0       1  \n",
            "2        1.0              1.0       1  \n",
            "3        0.0              0.0       1  \n",
            "4        1.0              1.0       1  \n"
          ]
        }
      ],
      "source": [
        "df = pd.read_csv(\"Group_14_Clean_Data.csv\")\n",
        "\n",
        "df = df.drop(columns=['Unnamed: 0', 'timestamp'])\n",
        "label_column = 'status'\n",
        "X = df.drop(label_column, axis=1)\n",
        "y = df[label_column]\n",
        "\n",
        "X_train, X_test, y_train, y_test = train_test_split(X, y, test_size=0.3, random_state=42)\n",
        "\n",
        "# Print the shapes of the resulting sets\n",
        "print(\"Train set shape:\", X_train.shape, y_train.shape)\n",
        "print(\"Test set shape:\", X_test.shape, y_test.shape)\n",
        "print(df.head())"
      ]
    },
    {
      "cell_type": "markdown",
      "id": "c821b53f",
      "metadata": {
        "id": "c821b53f"
      },
      "source": [
        "**Hyperparameters of Random Forest:** <br>\n",
        "Random Forest comes with several hyperparameters that influence its performance. Here are key ones:\n",
        "\n",
        "- Number of Trees (n_estimators): The total number of decision trees in the forest. Increasing this value generally improves performance until a certain point but can also increase computational cost.\n",
        "- Maximum Depth of Trees (max_depth): The maximum depth of each decision tree. Deeper trees can capture more complex relationships but may lead to overfitting.\n",
        "- Minimum Samples Split (min_samples_split): The minimum number of samples required to split an internal node. Higher values prevent small splits that might capture noise but can result in less expressive trees.\n",
        "- Minimum Samples Leaf (min_samples_leaf): The minimum number of samples required to be in a leaf node. Similar to min_samples_split, it controls overfitting at the leaf level.\n",
        "- Maximum Features (max_features): The maximum number of features considered for splitting a node. It introduces randomness and can enhance the diversity of trees.\n",
        "\n",
        "Adjusting these hyperparameters allows fine-tuning the Random Forest model to achieve optimal performance for the specific failure prediction task. Cross-validation and grid search are common techniques for finding the best combination of hyperparameter values.\n",
        "\n",
        "We will assess the model's performance and identify the optimal hyperparameters using the accuracy score from cross-validation and the out-of-bag error. We opt for randomized search due to its efficiency—training the model with grid search is time-consuming.\n",
        "- **Randomized Search:**\n",
        "Randomized Search is a time-efficient hyperparameter tuning technique in machine learning. It randomly samples a fixed number of hyperparameter combinations from the specified space, making it particularly useful for exploring large parameter spaces.\n",
        "\n",
        "- **Cross Validation:**\n",
        "Cross Validation is a robust evaluation method that partitions the dataset into subsets, trains the model on some, and evaluates on the rest. It provides a more reliable estimate of a model's generalization performance compared to a single train-test split.\n",
        "\n",
        "- **Out-of-Bag Error:**\n",
        "Out-of-Bag (OOB) Error is a metric used in ensemble learning, like Random Forests. It estimates a model's generalization error by evaluating its performance on data points not used in the training of a specific tree. OOB Error is particularly convenient as it doesn't require a separate validation set."
      ]
    },
    {
      "cell_type": "code",
      "execution_count": null,
      "id": "b78268ed",
      "metadata": {
        "scrolled": true,
        "id": "b78268ed",
        "outputId": "8abe7249-dd7f-4d1d-913f-46f73ae245b1"
      },
      "outputs": [
        {
          "name": "stdout",
          "output_type": "stream",
          "text": [
            "Best Hyperparameters:\n",
            "{'n_estimators': 200, 'min_samples_split': 5, 'min_samples_leaf': 1, 'max_features': 10, 'max_depth': 20}\n",
            "Random Forest Classifier:\n",
            "              precision    recall  f1-score   support\n",
            "\n",
            "           0       1.00      1.00      1.00      9031\n",
            "           1       1.00      1.00      1.00      8803\n",
            "\n",
            "    accuracy                           1.00     17834\n",
            "   macro avg       1.00      1.00      1.00     17834\n",
            "weighted avg       1.00      1.00      1.00     17834\n",
            "\n"
          ]
        },
        {
          "data": {
            "image/png": "[encoded data removed]",
            "text/plain": [
              "<Figure size 640x480 with 2 Axes>"
            ]
          },
          "metadata": {},
          "output_type": "display_data"
        }
      ],
      "source": [
        "# Randomized Search\n",
        "model = RandomForestClassifier(random_state=42)\n",
        "param_dist = {\n",
        "    'n_estimators': [50, 100, 200],\n",
        "    'max_depth': [10, 20, 30],\n",
        "    'min_samples_split': [2, 5, 10],\n",
        "    'min_samples_leaf': [1, 2, 4],\n",
        "    'max_features': [5, 10, 15]\n",
        "}\n",
        "\n",
        "# Perform Randomized Search with Cross-Validation\n",
        "random_search = RandomizedSearchCV(model, param_distributions=param_dist, n_iter=10, cv=5, scoring='accuracy', random_state=42)\n",
        "random_search.fit(X_train, y_train)\n",
        "\n",
        "# Extract cross-validated scores and hyperparameters\n",
        "cv_scores = random_search.cv_results_['mean_test_score']\n",
        "hyperparameters = random_search.cv_results_['params']\n",
        "\n",
        "# Get the best parameters\n",
        "best_params = random_search.best_params_\n",
        "\n",
        "# Train the model with the best parameters\n",
        "best_model = random_search.best_estimator_\n",
        "best_model.fit(X_train, y_train)\n",
        "\n",
        "# Print the best hyperparameters\n",
        "print('Best Hyperparameters:')\n",
        "print(best_params)\n",
        "\n",
        "# Evaluate the model on the test set\n",
        "y_pred_forest = best_model.predict(X_test)\n",
        "accuracy = accuracy_score(y_test, y_pred_forest)\n",
        "\n",
        "# Print results\n",
        "print(\"Random Forest Classifier:\")\n",
        "print(classification_report(y_test, y_pred_forest))\n",
        "\n",
        "# Display confusion matrix\n",
        "conf_matrix_forest = confusion_matrix(y_test, y_pred_forest)\n",
        "disp_forest = ConfusionMatrixDisplay(conf_matrix_forest, display_labels=best_model.classes_)\n",
        "disp_forest.plot(cmap='Blues', values_format='d')\n",
        "plt.show()\n"
      ]
    },
    {
      "cell_type": "code",
      "execution_count": null,
      "id": "f8060b53",
      "metadata": {
        "scrolled": true,
        "id": "f8060b53",
        "outputId": "5b2e4e4f-ce65-4085-d32c-3867f9c4bf78"
      },
      "outputs": [
        {
          "name": "stdout",
          "output_type": "stream",
          "text": [
            "Hyperparameters at Each Iteration:\n",
            "Iteration 1: {'n_estimators': 50, 'min_samples_split': 10, 'min_samples_leaf': 4, 'max_features': 5, 'max_depth': 10} - Mean Accuracy: 99.45%\n",
            "Iteration 2: {'n_estimators': 50, 'min_samples_split': 10, 'min_samples_leaf': 1, 'max_features': 5, 'max_depth': 10} - Mean Accuracy: 99.45%\n",
            "Iteration 3: {'n_estimators': 200, 'min_samples_split': 10, 'min_samples_leaf': 2, 'max_features': 15, 'max_depth': 20} - Mean Accuracy: 99.62%\n",
            "Iteration 4: {'n_estimators': 100, 'min_samples_split': 10, 'min_samples_leaf': 2, 'max_features': 15, 'max_depth': 30} - Mean Accuracy: 99.62%\n",
            "Iteration 5: {'n_estimators': 100, 'min_samples_split': 5, 'min_samples_leaf': 4, 'max_features': 15, 'max_depth': 30} - Mean Accuracy: 99.61%\n",
            "Iteration 6: {'n_estimators': 100, 'min_samples_split': 5, 'min_samples_leaf': 2, 'max_features': 5, 'max_depth': 30} - Mean Accuracy: 99.62%\n",
            "Iteration 7: {'n_estimators': 200, 'min_samples_split': 10, 'min_samples_leaf': 4, 'max_features': 10, 'max_depth': 30} - Mean Accuracy: 99.61%\n",
            "Iteration 8: {'n_estimators': 50, 'min_samples_split': 10, 'min_samples_leaf': 2, 'max_features': 15, 'max_depth': 20} - Mean Accuracy: 99.60%\n",
            "Iteration 9: {'n_estimators': 50, 'min_samples_split': 2, 'min_samples_leaf': 2, 'max_features': 5, 'max_depth': 10} - Mean Accuracy: 99.45%\n",
            "Iteration 10: {'n_estimators': 200, 'min_samples_split': 5, 'min_samples_leaf': 1, 'max_features': 10, 'max_depth': 20} - Mean Accuracy: 99.63%\n"
          ]
        },
        {
          "data": {
            "image/png": "[encoded data removed]",
            "text/plain": [
              "<Figure size 800x500 with 1 Axes>"
            ]
          },
          "metadata": {},
          "output_type": "display_data"
        }
      ],
      "source": [
        "# Print hyperparameters outside the plot\n",
        "print(\"Hyperparameters at Each Iteration:\")\n",
        "for i, params in enumerate(hyperparameters):\n",
        "    print(f\"Iteration {i + 1}: {params} - Mean Accuracy: {cv_scores[i]:.2%}\")\n",
        "\n",
        "# Create a plot for cross-validated scores\n",
        "plt.figure(figsize=(8, 5))\n",
        "\n",
        "# Plot the cross-validated scores\n",
        "plt.scatter(range(len(cv_scores)), cv_scores, c='blue', label='Cross-validated Scores')\n",
        "\n",
        "# Highlight the best score\n",
        "best_index = random_search.best_index_\n",
        "plt.scatter(best_index, cv_scores[best_index], c='red', marker='*', s=200, label='Best Score')\n",
        "\n",
        "# Customize the plot\n",
        "plt.title('Cross-Validated Scores During Randomized Search')\n",
        "plt.xlabel('Iteration Number')\n",
        "plt.ylabel('Mean Accuracy')\n",
        "\n",
        "# Set x-ticks as iteration numbers\n",
        "plt.xticks(range(len(cv_scores)))\n",
        "\n",
        "\n",
        "plt.tight_layout()\n",
        "\n",
        "# Show the plot\n",
        "plt.show()\n"
      ]
    },
    {
      "cell_type": "code",
      "execution_count": null,
      "id": "48108b03",
      "metadata": {
        "id": "48108b03",
        "outputId": "d9cfd443-fbb4-4a07-e914-538949c815ad"
      },
      "outputs": [
        {
          "name": "stdout",
          "output_type": "stream",
          "text": [
            "Best Hyperparameters:\n",
            "{'n_estimators': 100, 'max_depth': 20, 'min_samples_split': 2, 'min_samples_leaf': 1, 'max_features': 10}\n",
            "OOB Score: 99.67%\n",
            "Random Forest Classifier:\n",
            "              precision    recall  f1-score   support\n",
            "\n",
            "           0       1.00      1.00      1.00      9031\n",
            "           1       1.00      1.00      1.00      8803\n",
            "\n",
            "    accuracy                           1.00     17834\n",
            "   macro avg       1.00      1.00      1.00     17834\n",
            "weighted avg       1.00      1.00      1.00     17834\n",
            "\n"
          ]
        },
        {
          "data": {
            "image/png": "[encoded data removed]",
            "text/plain": [
              "<Figure size 640x480 with 2 Axes>"
            ]
          },
          "metadata": {},
          "output_type": "display_data"
        }
      ],
      "source": [
        "# Out-Of-Bag Error\n",
        "param_dist = {\n",
        "    'n_estimators': [50, 100, 200],\n",
        "    'max_depth': [10, 20, 30],\n",
        "    'min_samples_split': [2, 5, 10],\n",
        "    'min_samples_leaf': [1, 2, 4],\n",
        "    'max_features': [5, 10, 15]\n",
        "}\n",
        "\n",
        "# Initialize a list to store results\n",
        "results = []\n",
        "oob_scores = []  # List to store OOB scores during grid search\n",
        "\n",
        "# Perform randomized grid search with 10 iterations\n",
        "for _ in range(10):\n",
        "    params = {key: np.random.choice(values) for key, values in param_dist.items()}\n",
        "    rf_model = RandomForestClassifier(oob_score=True, random_state=42, **params)\n",
        "    rf_model.fit(X_train, y_train)\n",
        "    oob_score = rf_model.oob_score_\n",
        "\n",
        "    results.append({'params': params, 'oob_score': oob_score})\n",
        "    oob_scores.append(oob_score)\n",
        "\n",
        "# Find the best hyperparameters based on the highest OOB score\n",
        "best_params = max(results, key=lambda x: x['oob_score'])['params']\n",
        "\n",
        "# Print the best hyperparameters and OOB score\n",
        "print('Best Hyperparameters:')\n",
        "print(best_params)\n",
        "print(f'OOB Score: {max(results, key=lambda x: x[\"oob_score\"])[\"oob_score\"]:.2%}')\n",
        "\n",
        "# Train the final model with the best hyperparameters on the entire training set\n",
        "best_model = RandomForestClassifier(oob_score=True, random_state=42, **best_params)\n",
        "best_model.fit(X_train, y_train)\n",
        "\n",
        "# Evaluate and print the results on the test set\n",
        "y_pred_forest = best_model.predict(X_test)\n",
        "accuracy = accuracy_score(y_test, y_pred_forest)\n",
        "\n",
        "print(\"Random Forest Classifier:\")\n",
        "print(classification_report(y_test, y_pred_forest))\n",
        "\n",
        "# Display confusion matrix\n",
        "conf_matrix_forest = confusion_matrix(y_test, y_pred_forest)\n",
        "disp_forest = ConfusionMatrixDisplay(conf_matrix_forest, display_labels=best_model.classes_)\n",
        "disp_forest.plot(cmap='Blues', values_format='d')\n",
        "plt.show()\n"
      ]
    },
    {
      "cell_type": "code",
      "execution_count": null,
      "id": "515c8cb1",
      "metadata": {
        "id": "515c8cb1",
        "outputId": "38dcc059-d012-44bc-e161-258fbcd95b7b"
      },
      "outputs": [
        {
          "name": "stdout",
          "output_type": "stream",
          "text": [
            "Hyperparameters at Each Iteration:\n",
            "Iteration 1: {'n_estimators': 100, 'max_depth': 20, 'min_samples_split': 2, 'min_samples_leaf': 1, 'max_features': 10} - OOB Score: 99.67%\n",
            "Iteration 2: {'n_estimators': 50, 'max_depth': 10, 'min_samples_split': 10, 'min_samples_leaf': 4, 'max_features': 5} - OOB Score: 99.46%\n",
            "Iteration 3: {'n_estimators': 100, 'max_depth': 30, 'min_samples_split': 5, 'min_samples_leaf': 4, 'max_features': 15} - OOB Score: 99.64%\n",
            "Iteration 4: {'n_estimators': 50, 'max_depth': 20, 'min_samples_split': 5, 'min_samples_leaf': 2, 'max_features': 10} - OOB Score: 99.64%\n",
            "Iteration 5: {'n_estimators': 200, 'max_depth': 10, 'min_samples_split': 2, 'min_samples_leaf': 1, 'max_features': 15} - OOB Score: 99.59%\n",
            "Iteration 6: {'n_estimators': 50, 'max_depth': 10, 'min_samples_split': 5, 'min_samples_leaf': 2, 'max_features': 10} - OOB Score: 99.60%\n",
            "Iteration 7: {'n_estimators': 100, 'max_depth': 20, 'min_samples_split': 2, 'min_samples_leaf': 1, 'max_features': 10} - OOB Score: 99.67%\n",
            "Iteration 8: {'n_estimators': 100, 'max_depth': 30, 'min_samples_split': 2, 'min_samples_leaf': 2, 'max_features': 15} - OOB Score: 99.64%\n",
            "Iteration 9: {'n_estimators': 200, 'max_depth': 20, 'min_samples_split': 2, 'min_samples_leaf': 2, 'max_features': 15} - OOB Score: 99.65%\n",
            "Iteration 10: {'n_estimators': 100, 'max_depth': 20, 'min_samples_split': 10, 'min_samples_leaf': 4, 'max_features': 10} - OOB Score: 99.65%\n"
          ]
        },
        {
          "data": {
            "image/png": "[encoded data removed]",
            "text/plain": [
              "<Figure size 1000x600 with 1 Axes>"
            ]
          },
          "metadata": {},
          "output_type": "display_data"
        }
      ],
      "source": [
        "# Print hyperparameters at each iteration\n",
        "print(\"Hyperparameters at Each Iteration:\")\n",
        "for i, params in enumerate(results):\n",
        "    print(f\"Iteration {i + 1}: {params['params']} - OOB Score: {params['oob_score']:.2%}\")\n",
        "\n",
        "# Create a plot for OOB scores during grid search\n",
        "plt.figure(figsize=(10, 6))\n",
        "\n",
        "# Plot the OOB scores\n",
        "plt.plot(oob_scores, marker='o', linestyle=' ', color='b', label='OOB Scores')\n",
        "\n",
        "# Highlight the best score\n",
        "best_index = np.argmax(oob_scores)\n",
        "plt.scatter(best_index, oob_scores[best_index], c='red', marker='*', s=200, label='Best Score')\n",
        "\n",
        "# Customize the plot\n",
        "plt.title('Out-of-Bag (OOB) Scores During Randomized Grid Search')\n",
        "plt.xlabel('Iteration')\n",
        "plt.ylabel('OOB Score')\n",
        "plt.legend()\n",
        "\n",
        "# Show the plot\n",
        "plt.show()\n"
      ]
    },
    {
      "cell_type": "markdown",
      "id": "9a3ba872",
      "metadata": {
        "id": "9a3ba872"
      },
      "source": [
        "- Best Hyperparameters using cross-validation: <br>\n",
        "Iteration 10: {'n_estimators': 200, 'min_samples_split': 5, 'min_samples_leaf': 1, 'max_features': 10, 'max_depth': 20} - Mean Accuracy: 99.63%\n",
        "\n",
        "- Best Hyperparameters using out-of-bag error: <br>\n",
        "{'n_estimators': 100, 'max_depth': 20, 'min_samples_split': 2, 'min_samples_leaf': 1, 'max_features': 10}\n",
        "OOB Score: 99.67%\n",
        "\n",
        "While the optimal hyperparameters differ between out-of-bag error and cross-validation, a common trend emerges: higher 'n_estimators' and 'max_depth,' along with smaller 'min_samples_split' and 'min_samples_leaf,' and larger 'max_features,' tend to result in better accuracy. Both models, each using its optimal hyperparameters, demonstrated high accuracy on test set, reaching 100%."
      ]
    },
    {
      "cell_type": "markdown",
      "source": [
        "## II. Bidirectional Elimination"
      ],
      "metadata": {
        "id": "Ih6ORCX-xIvF"
      },
      "id": "Ih6ORCX-xIvF"
    },
    {
      "cell_type": "markdown",
      "id": "8ca0c38b",
      "metadata": {
        "id": "8ca0c38b"
      },
      "source": [
        "### 1. Import library and read the data"
      ]
    },
    {
      "cell_type": "code",
      "execution_count": null,
      "id": "fdf44271",
      "metadata": {
        "id": "fdf44271"
      },
      "outputs": [],
      "source": [
        "import pandas as pd\n",
        "import matplotlib.pyplot as plt\n",
        "\n",
        "from sklearn.model_selection import train_test_split\n",
        "from sklearn.ensemble import RandomForestClassifier\n",
        "from sklearn.feature_selection import SequentialFeatureSelector\n",
        "from sklearn.metrics import accuracy_score, classification_report, confusion_matrix, ConfusionMatrixDisplay\n"
      ]
    },
    {
      "cell_type": "code",
      "execution_count": null,
      "id": "3e3145b4",
      "metadata": {
        "id": "3e3145b4"
      },
      "outputs": [],
      "source": [
        "data = pd.read_csv('Group_14_Clean_Data.csv')"
      ]
    },
    {
      "cell_type": "code",
      "execution_count": null,
      "id": "013aec5b",
      "metadata": {
        "id": "013aec5b"
      },
      "outputs": [],
      "source": [
        "X = data.iloc[:, 2:-1]\n",
        "y = data.iloc[:, -1]"
      ]
    },
    {
      "cell_type": "code",
      "execution_count": null,
      "id": "3498fa61",
      "metadata": {
        "id": "3498fa61"
      },
      "outputs": [],
      "source": [
        "X_train, X_test, y_train, y_test = train_test_split(X, y, test_size=0.2, random_state=0)"
      ]
    },
    {
      "cell_type": "markdown",
      "id": "5474e434",
      "metadata": {
        "id": "5474e434"
      },
      "source": [
        "From question 1 and 3 we have our RandomForest as the best classifier. The result is shown as below:"
      ]
    },
    {
      "cell_type": "markdown",
      "id": "de76ea18",
      "metadata": {
        "id": "de76ea18"
      },
      "source": [
        "Best Hyperparameters:\n",
        "* 'max_depth': 20\n",
        "* 'min_samples_leaf': 1\n",
        "* 'min_samples_split': 2\n",
        "* 'n_estimators': 50"
      ]
    },
    {
      "cell_type": "code",
      "execution_count": null,
      "id": "8c4cb11a",
      "metadata": {
        "id": "8c4cb11a"
      },
      "outputs": [],
      "source": [
        "best_params = {'max_depth': 20, 'min_samples_leaf': 1, 'min_samples_split': 2, 'n_estimators': 50}\n",
        "rf = RandomForestClassifier(oob_score=True, random_state=42, **best_params)"
      ]
    },
    {
      "cell_type": "markdown",
      "id": "7fcbe296",
      "metadata": {
        "id": "7fcbe296"
      },
      "source": [
        "|          |precision  |  recall | f1-score  | support|\n",
        "|-----------|----------|----------|----------|--------|\n",
        "|          0  |     1.00 |  1.00   |   1.00 |     4480|\n",
        "|          1  |    1.00  |  1.00   |   1.00 |     4437|\n",
        "|  accuracy   |          |         |   1.00 |     8917|\n",
        "| macro avg   |    1.00  |    1.00 |   1.00 |     8917|\n",
        "| weighted avg|    1.00  |    1.00 |   1.00 |     8917|"
      ]
    },
    {
      "cell_type": "markdown",
      "id": "9b39a91c",
      "metadata": {
        "id": "9b39a91c"
      },
      "source": [
        "### 2. Perform prediction with original data"
      ]
    },
    {
      "cell_type": "code",
      "execution_count": null,
      "id": "b32fe7db",
      "metadata": {
        "colab": {
          "base_uri": "https://localhost:8080/",
          "height": 92
        },
        "id": "b32fe7db",
        "outputId": "f6a02a70-d146-493b-c293-6ae0c87ff629"
      },
      "outputs": [
        {
          "data": {
            "text/html": [
              "<style>#sk-container-id-2 {color: black;background-color: white;}#sk-container-id-2 pre{padding: 0;}#sk-container-id-2 div.sk-toggleable {background-color: white;}#sk-container-id-2 label.sk-toggleable__label {cursor: pointer;display: block;width: 100%;margin-bottom: 0;padding: 0.3em;box-sizing: border-box;text-align: center;}#sk-container-id-2 label.sk-toggleable__label-arrow:before {content: \"▸\";float: left;margin-right: 0.25em;color: #696969;}#sk-container-id-2 label.sk-toggleable__label-arrow:hover:before {color: black;}#sk-container-id-2 div.sk-estimator:hover label.sk-toggleable__label-arrow:before {color: black;}#sk-container-id-2 div.sk-toggleable__content {max-height: 0;max-width: 0;overflow: hidden;text-align: left;background-color: #f0f8ff;}#sk-container-id-2 div.sk-toggleable__content pre {margin: 0.2em;color: black;border-radius: 0.25em;background-color: #f0f8ff;}#sk-container-id-2 input.sk-toggleable__control:checked~div.sk-toggleable__content {max-height: 200px;max-width: 100%;overflow: auto;}#sk-container-id-2 input.sk-toggleable__control:checked~label.sk-toggleable__label-arrow:before {content: \"▾\";}#sk-container-id-2 div.sk-estimator input.sk-toggleable__control:checked~label.sk-toggleable__label {background-color: #d4ebff;}#sk-container-id-2 div.sk-label input.sk-toggleable__control:checked~label.sk-toggleable__label {background-color: #d4ebff;}#sk-container-id-2 input.sk-hidden--visually {border: 0;clip: rect(1px 1px 1px 1px);clip: rect(1px, 1px, 1px, 1px);height: 1px;margin: -1px;overflow: hidden;padding: 0;position: absolute;width: 1px;}#sk-container-id-2 div.sk-estimator {font-family: monospace;background-color: #f0f8ff;border: 1px dotted black;border-radius: 0.25em;box-sizing: border-box;margin-bottom: 0.5em;}#sk-container-id-2 div.sk-estimator:hover {background-color: #d4ebff;}#sk-container-id-2 div.sk-parallel-item::after {content: \"\";width: 100%;border-bottom: 1px solid gray;flex-grow: 1;}#sk-container-id-2 div.sk-label:hover label.sk-toggleable__label {background-color: #d4ebff;}#sk-container-id-2 div.sk-serial::before {content: \"\";position: absolute;border-left: 1px solid gray;box-sizing: border-box;top: 0;bottom: 0;left: 50%;z-index: 0;}#sk-container-id-2 div.sk-serial {display: flex;flex-direction: column;align-items: center;background-color: white;padding-right: 0.2em;padding-left: 0.2em;position: relative;}#sk-container-id-2 div.sk-item {position: relative;z-index: 1;}#sk-container-id-2 div.sk-parallel {display: flex;align-items: stretch;justify-content: center;background-color: white;position: relative;}#sk-container-id-2 div.sk-item::before, #sk-container-id-2 div.sk-parallel-item::before {content: \"\";position: absolute;border-left: 1px solid gray;box-sizing: border-box;top: 0;bottom: 0;left: 50%;z-index: -1;}#sk-container-id-2 div.sk-parallel-item {display: flex;flex-direction: column;z-index: 1;position: relative;background-color: white;}#sk-container-id-2 div.sk-parallel-item:first-child::after {align-self: flex-end;width: 50%;}#sk-container-id-2 div.sk-parallel-item:last-child::after {align-self: flex-start;width: 50%;}#sk-container-id-2 div.sk-parallel-item:only-child::after {width: 0;}#sk-container-id-2 div.sk-dashed-wrapped {border: 1px dashed gray;margin: 0 0.4em 0.5em 0.4em;box-sizing: border-box;padding-bottom: 0.4em;background-color: white;}#sk-container-id-2 div.sk-label label {font-family: monospace;font-weight: bold;display: inline-block;line-height: 1.2em;}#sk-container-id-2 div.sk-label-container {text-align: center;}#sk-container-id-2 div.sk-container {/* jupyter's `normalize.less` sets `[hidden] { display: none; }` but bootstrap.min.css set `[hidden] { display: none !important; }` so we also need the `!important` here to be able to override the default hidden behavior on the sphinx rendered scikit-learn.org. See: https://github.com/scikit-learn/scikit-learn/issues/21755 */display: inline-block !important;position: relative;}#sk-container-id-2 div.sk-text-repr-fallback {display: none;}</style><div id=\"sk-container-id-2\" class=\"sk-top-container\"><div class=\"sk-text-repr-fallback\"><pre>RandomForestClassifier(max_depth=20, n_estimators=50, oob_score=True,\n",
              "                       random_state=42)</pre><b>In a Jupyter environment, please rerun this cell to show the HTML representation or trust the notebook. <br />On GitHub, the HTML representation is unable to render, please try loading this page with nbviewer.org.</b></div><div class=\"sk-container\" hidden><div class=\"sk-item\"><div class=\"sk-estimator sk-toggleable\"><input class=\"sk-toggleable__control sk-hidden--visually\" id=\"sk-estimator-id-2\" type=\"checkbox\" checked><label for=\"sk-estimator-id-2\" class=\"sk-toggleable__label sk-toggleable__label-arrow\">RandomForestClassifier</label><div class=\"sk-toggleable__content\"><pre>RandomForestClassifier(max_depth=20, n_estimators=50, oob_score=True,\n",
              "                       random_state=42)</pre></div></div></div></div></div>"
            ],
            "text/plain": [
              "RandomForestClassifier(max_depth=20, n_estimators=50, oob_score=True,\n",
              "                       random_state=42)"
            ]
          },
          "execution_count": 18,
          "metadata": {},
          "output_type": "execute_result"
        }
      ],
      "source": [
        "rf.fit(X_train, y_train)"
      ]
    },
    {
      "cell_type": "code",
      "execution_count": null,
      "id": "a542ff98",
      "metadata": {
        "colab": {
          "base_uri": "https://localhost:8080/",
          "height": 629
        },
        "id": "a542ff98",
        "outputId": "7696f0d4-76b4-447a-9aa4-5f2774e27e10"
      },
      "outputs": [
        {
          "name": "stdout",
          "output_type": "stream",
          "text": [
            "Random Forest Classifier with original data:\n",
            "              precision    recall  f1-score   support\n",
            "\n",
            "           0       1.00      1.00      1.00      6026\n",
            "           1       1.00      1.00      1.00      5863\n",
            "\n",
            "    accuracy                           1.00     11889\n",
            "   macro avg       1.00      1.00      1.00     11889\n",
            "weighted avg       1.00      1.00      1.00     11889\n",
            "\n"
          ]
        },
        {
          "data": {
            "image/png": "[encoded data removed]",
            "text/plain": [
              "<Figure size 640x480 with 2 Axes>"
            ]
          },
          "metadata": {},
          "output_type": "display_data"
        }
      ],
      "source": [
        "y_pred_forest = rf.predict(X_test)\n",
        "\n",
        "print(\"Random Forest Classifier with original data:\")\n",
        "print(classification_report(y_test, y_pred_forest))\n",
        "conf_matrix_forest = confusion_matrix(y_test, y_pred_forest)\n",
        "disp_forest = ConfusionMatrixDisplay(conf_matrix_forest, display_labels=rf.classes_)\n",
        "disp_forest.plot(cmap='Blues', values_format='d')\n",
        "plt.show()"
      ]
    },
    {
      "cell_type": "markdown",
      "id": "91ccd23e",
      "metadata": {
        "id": "91ccd23e"
      },
      "source": [
        "### 3. Perform Bidirectional Features Elimination"
      ]
    },
    {
      "cell_type": "code",
      "execution_count": null,
      "id": "ce94d321",
      "metadata": {
        "colab": {
          "base_uri": "https://localhost:8080/"
        },
        "id": "ce94d321",
        "outputId": "f711e87b-266f-4660-bfb6-7e5bc003d1c7"
      },
      "outputs": [
        {
          "name": "stdout",
          "output_type": "stream",
          "text": [
            "List of selected features:\n",
            " TP2, H1, DV_pressure, Reservoirs, Oil_temperature, DV_eletric, LPS\n"
          ]
        }
      ],
      "source": [
        "num_features_to_select = 7\n",
        "\n",
        "num_features = len(X_train.columns.tolist())\n",
        "looped_X_train = X_train.copy()\n",
        "\n",
        "while num_features> num_features_to_select:\n",
        "  n1 = num_features-1\n",
        "  n2 = num_features-2\n",
        "  sfe = SequentialFeatureSelector(estimator=rf, n_features_to_select=n1, direction = 'forward', n_jobs = -1)\n",
        "  sbe = SequentialFeatureSelector(estimator=rf, n_features_to_select=n2, direction = 'backward', n_jobs= -1)\n",
        "  #Eliminating Features with Forward pass\n",
        "  sfe.fit(looped_X_train, y_train)\n",
        "  sfe_features = looped_X_train.columns[sfe.support_].tolist()\n",
        "  looped_X_train = looped_X_train[sfe_features]\n",
        "  #Eliminating Features with Backward pass\n",
        "  sbe.fit(looped_X_train, y_train)\n",
        "  sbe_features = looped_X_train.columns[sbe.support_].tolist()\n",
        "  looped_X_train = looped_X_train[sbe_features]\n",
        "\n",
        "  num_features = len(looped_X_train.columns.tolist())\n",
        "\n",
        "selected_features = looped_X_train.columns\n",
        "print(f\"List of selected features:\\n {', '.join(selected_features)}\")\n",
        "\n",
        "\n"
      ]
    },
    {
      "cell_type": "markdown",
      "id": "e5a72a4d",
      "metadata": {
        "id": "e5a72a4d"
      },
      "source": [
        "### 4. Perform prediction with new set of parameter"
      ]
    },
    {
      "cell_type": "code",
      "execution_count": null,
      "id": "74f3741d",
      "metadata": {
        "colab": {
          "base_uri": "https://localhost:8080/",
          "height": 92
        },
        "id": "74f3741d",
        "outputId": "289d0aa0-c468-47f7-d78a-7cbdb6fe4da2"
      },
      "outputs": [
        {
          "data": {
            "text/html": [
              "<style>#sk-container-id-1 {color: black;background-color: white;}#sk-container-id-1 pre{padding: 0;}#sk-container-id-1 div.sk-toggleable {background-color: white;}#sk-container-id-1 label.sk-toggleable__label {cursor: pointer;display: block;width: 100%;margin-bottom: 0;padding: 0.3em;box-sizing: border-box;text-align: center;}#sk-container-id-1 label.sk-toggleable__label-arrow:before {content: \"▸\";float: left;margin-right: 0.25em;color: #696969;}#sk-container-id-1 label.sk-toggleable__label-arrow:hover:before {color: black;}#sk-container-id-1 div.sk-estimator:hover label.sk-toggleable__label-arrow:before {color: black;}#sk-container-id-1 div.sk-toggleable__content {max-height: 0;max-width: 0;overflow: hidden;text-align: left;background-color: #f0f8ff;}#sk-container-id-1 div.sk-toggleable__content pre {margin: 0.2em;color: black;border-radius: 0.25em;background-color: #f0f8ff;}#sk-container-id-1 input.sk-toggleable__control:checked~div.sk-toggleable__content {max-height: 200px;max-width: 100%;overflow: auto;}#sk-container-id-1 input.sk-toggleable__control:checked~label.sk-toggleable__label-arrow:before {content: \"▾\";}#sk-container-id-1 div.sk-estimator input.sk-toggleable__control:checked~label.sk-toggleable__label {background-color: #d4ebff;}#sk-container-id-1 div.sk-label input.sk-toggleable__control:checked~label.sk-toggleable__label {background-color: #d4ebff;}#sk-container-id-1 input.sk-hidden--visually {border: 0;clip: rect(1px 1px 1px 1px);clip: rect(1px, 1px, 1px, 1px);height: 1px;margin: -1px;overflow: hidden;padding: 0;position: absolute;width: 1px;}#sk-container-id-1 div.sk-estimator {font-family: monospace;background-color: #f0f8ff;border: 1px dotted black;border-radius: 0.25em;box-sizing: border-box;margin-bottom: 0.5em;}#sk-container-id-1 div.sk-estimator:hover {background-color: #d4ebff;}#sk-container-id-1 div.sk-parallel-item::after {content: \"\";width: 100%;border-bottom: 1px solid gray;flex-grow: 1;}#sk-container-id-1 div.sk-label:hover label.sk-toggleable__label {background-color: #d4ebff;}#sk-container-id-1 div.sk-serial::before {content: \"\";position: absolute;border-left: 1px solid gray;box-sizing: border-box;top: 0;bottom: 0;left: 50%;z-index: 0;}#sk-container-id-1 div.sk-serial {display: flex;flex-direction: column;align-items: center;background-color: white;padding-right: 0.2em;padding-left: 0.2em;position: relative;}#sk-container-id-1 div.sk-item {position: relative;z-index: 1;}#sk-container-id-1 div.sk-parallel {display: flex;align-items: stretch;justify-content: center;background-color: white;position: relative;}#sk-container-id-1 div.sk-item::before, #sk-container-id-1 div.sk-parallel-item::before {content: \"\";position: absolute;border-left: 1px solid gray;box-sizing: border-box;top: 0;bottom: 0;left: 50%;z-index: -1;}#sk-container-id-1 div.sk-parallel-item {display: flex;flex-direction: column;z-index: 1;position: relative;background-color: white;}#sk-container-id-1 div.sk-parallel-item:first-child::after {align-self: flex-end;width: 50%;}#sk-container-id-1 div.sk-parallel-item:last-child::after {align-self: flex-start;width: 50%;}#sk-container-id-1 div.sk-parallel-item:only-child::after {width: 0;}#sk-container-id-1 div.sk-dashed-wrapped {border: 1px dashed gray;margin: 0 0.4em 0.5em 0.4em;box-sizing: border-box;padding-bottom: 0.4em;background-color: white;}#sk-container-id-1 div.sk-label label {font-family: monospace;font-weight: bold;display: inline-block;line-height: 1.2em;}#sk-container-id-1 div.sk-label-container {text-align: center;}#sk-container-id-1 div.sk-container {/* jupyter's `normalize.less` sets `[hidden] { display: none; }` but bootstrap.min.css set `[hidden] { display: none !important; }` so we also need the `!important` here to be able to override the default hidden behavior on the sphinx rendered scikit-learn.org. See: https://github.com/scikit-learn/scikit-learn/issues/21755 */display: inline-block !important;position: relative;}#sk-container-id-1 div.sk-text-repr-fallback {display: none;}</style><div id=\"sk-container-id-1\" class=\"sk-top-container\"><div class=\"sk-text-repr-fallback\"><pre>RandomForestClassifier(max_depth=20, n_estimators=50, oob_score=True,\n",
              "                       random_state=42)</pre><b>In a Jupyter environment, please rerun this cell to show the HTML representation or trust the notebook. <br />On GitHub, the HTML representation is unable to render, please try loading this page with nbviewer.org.</b></div><div class=\"sk-container\" hidden><div class=\"sk-item\"><div class=\"sk-estimator sk-toggleable\"><input class=\"sk-toggleable__control sk-hidden--visually\" id=\"sk-estimator-id-1\" type=\"checkbox\" checked><label for=\"sk-estimator-id-1\" class=\"sk-toggleable__label sk-toggleable__label-arrow\">RandomForestClassifier</label><div class=\"sk-toggleable__content\"><pre>RandomForestClassifier(max_depth=20, n_estimators=50, oob_score=True,\n",
              "                       random_state=42)</pre></div></div></div></div></div>"
            ],
            "text/plain": [
              "RandomForestClassifier(max_depth=20, n_estimators=50, oob_score=True,\n",
              "                       random_state=42)"
            ]
          },
          "execution_count": 7,
          "metadata": {},
          "output_type": "execute_result"
        }
      ],
      "source": [
        "#Fit Random Forest model with selected features\n",
        "rf.fit(looped_X_train, y_train)"
      ]
    },
    {
      "cell_type": "code",
      "execution_count": null,
      "id": "14dfff04",
      "metadata": {
        "id": "14dfff04"
      },
      "outputs": [],
      "source": [
        "selected_features = looped_X_train.columns"
      ]
    },
    {
      "cell_type": "code",
      "execution_count": null,
      "id": "9aba1edb",
      "metadata": {
        "colab": {
          "base_uri": "https://localhost:8080/",
          "height": 628
        },
        "id": "9aba1edb",
        "outputId": "ca0bbb52-dab3-4371-a1ef-b3a581298609"
      },
      "outputs": [
        {
          "name": "stdout",
          "output_type": "stream",
          "text": [
            "Random Forest Classifier:\n",
            "              precision    recall  f1-score   support\n",
            "\n",
            "           0       1.00      1.00      1.00      6026\n",
            "           1       1.00      1.00      1.00      5863\n",
            "\n",
            "    accuracy                           1.00     11889\n",
            "   macro avg       1.00      1.00      1.00     11889\n",
            "weighted avg       1.00      1.00      1.00     11889\n",
            "\n"
          ]
        },
        {
          "data": {
            "image/png": "[encoded data removed]",
            "text/plain": [
              "<Figure size 640x480 with 2 Axes>"
            ]
          },
          "metadata": {},
          "output_type": "display_data"
        }
      ],
      "source": [
        "#EValuate the result of new features\n",
        "y_pred_forest = rf.predict(X_test[selected_features])\n",
        "accuracy = accuracy_score(y_test, y_pred_forest)\n",
        "\n",
        "print(\"Random Forest Classifier:\")\n",
        "print(classification_report(y_test, y_pred_forest))\n",
        "conf_matrix_forest = confusion_matrix(y_test, y_pred_forest)\n",
        "disp_forest = ConfusionMatrixDisplay(conf_matrix_forest, display_labels=rf.classes_)\n",
        "disp_forest.plot(cmap='Blues', values_format='d')\n",
        "plt.show()"
      ]
    },
    {
      "cell_type": "markdown",
      "id": "38ce5082",
      "metadata": {
        "id": "38ce5082"
      },
      "source": [
        "### 5. Conclusion"
      ]
    },
    {
      "cell_type": "markdown",
      "id": "07aba5ab",
      "metadata": {
        "id": "07aba5ab"
      },
      "source": [
        "From the classification report, we observed that the number of false negatives and false positives has decreased:\n",
        "\n",
        "* Class 0: 22–>19\n",
        "\n",
        "* Class 1: 24->21\n",
        "\n",
        "This shows that the bi-directional feature elimination has not only reduced the dimension of our feature space but also increased the model's performance and accuracy. This suggests that certain features were not contributing significantly to the classification task, leading to more efficient and accurate predictions.\n",
        "\n"
      ]
    },
    {
      "cell_type": "markdown",
      "source": [
        "## III. All models from step 5"
      ],
      "metadata": {
        "id": "pyxYN2r4xYjh"
      },
      "id": "pyxYN2r4xYjh"
    },
    {
      "cell_type": "markdown",
      "id": "4spPL4FuDnP_",
      "metadata": {
        "id": "4spPL4FuDnP_"
      },
      "source": [
        "### 1. Import the Library and read the data"
      ]
    },
    {
      "cell_type": "code",
      "execution_count": null,
      "id": "3ab83994",
      "metadata": {
        "id": "3ab83994"
      },
      "outputs": [],
      "source": [
        "import pandas as pd\n",
        "import numpy as np\n",
        "import matplotlib.pyplot as plt\n",
        "\n",
        "from sklearn.metrics import classification_report, confusion_matrix\n",
        "from sklearn.metrics import ConfusionMatrixDisplay, accuracy_score\n",
        "from sklearn.model_selection import train_test_split"
      ]
    },
    {
      "cell_type": "code",
      "execution_count": null,
      "id": "5a08bc9c",
      "metadata": {
        "id": "5a08bc9c"
      },
      "outputs": [],
      "source": [
        "selected_features = [\"TP2\", \"H1\", \"DV_pressure\", \"Reservoirs\", \"Oil_temperature\", \"Motor_current\", \"Oil_level\", 'status']"
      ]
    },
    {
      "cell_type": "code",
      "execution_count": null,
      "id": "0091382c",
      "metadata": {
        "id": "0091382c",
        "outputId": "d9db58b7-e832-422f-bacc-58f233bb1fdb"
      },
      "outputs": [
        {
          "data": {
            "text/html": [
              "<div>\n",
              "<style scoped>\n",
              "    .dataframe tbody tr th:only-of-type {\n",
              "        vertical-align: middle;\n",
              "    }\n",
              "\n",
              "    .dataframe tbody tr th {\n",
              "        vertical-align: top;\n",
              "    }\n",
              "\n",
              "    .dataframe thead th {\n",
              "        text-align: right;\n",
              "    }\n",
              "</style>\n",
              "<table border=\"1\" class=\"dataframe\">\n",
              "  <thead>\n",
              "    <tr style=\"text-align: right;\">\n",
              "      <th></th>\n",
              "      <th>Unnamed: 0</th>\n",
              "      <th>timestamp</th>\n",
              "      <th>TP2</th>\n",
              "      <th>TP3</th>\n",
              "      <th>H1</th>\n",
              "      <th>DV_pressure</th>\n",
              "      <th>Reservoirs</th>\n",
              "      <th>Oil_temperature</th>\n",
              "      <th>Motor_current</th>\n",
              "      <th>COMP</th>\n",
              "      <th>DV_eletric</th>\n",
              "      <th>Towers</th>\n",
              "      <th>MPG</th>\n",
              "      <th>LPS</th>\n",
              "      <th>Pressure_switch</th>\n",
              "      <th>Oil_level</th>\n",
              "      <th>Caudal_impulses</th>\n",
              "      <th>status</th>\n",
              "    </tr>\n",
              "  </thead>\n",
              "  <tbody>\n",
              "    <tr>\n",
              "      <th>0</th>\n",
              "      <td>562564</td>\n",
              "      <td>2020-04-18 00:00:01</td>\n",
              "      <td>-0.018</td>\n",
              "      <td>8.248</td>\n",
              "      <td>8.238</td>\n",
              "      <td>-0.024</td>\n",
              "      <td>8.248</td>\n",
              "      <td>49.45</td>\n",
              "      <td>0.04</td>\n",
              "      <td>1.0</td>\n",
              "      <td>0.0</td>\n",
              "      <td>1.0</td>\n",
              "      <td>1.0</td>\n",
              "      <td>0.0</td>\n",
              "      <td>1.0</td>\n",
              "      <td>1.0</td>\n",
              "      <td>1.0</td>\n",
              "      <td>1</td>\n",
              "    </tr>\n",
              "    <tr>\n",
              "      <th>1</th>\n",
              "      <td>562565</td>\n",
              "      <td>2020-04-18 00:00:13</td>\n",
              "      <td>-0.018</td>\n",
              "      <td>8.248</td>\n",
              "      <td>8.238</td>\n",
              "      <td>-0.024</td>\n",
              "      <td>8.248</td>\n",
              "      <td>49.45</td>\n",
              "      <td>0.04</td>\n",
              "      <td>1.0</td>\n",
              "      <td>0.0</td>\n",
              "      <td>1.0</td>\n",
              "      <td>1.0</td>\n",
              "      <td>0.0</td>\n",
              "      <td>1.0</td>\n",
              "      <td>1.0</td>\n",
              "      <td>1.0</td>\n",
              "      <td>1</td>\n",
              "    </tr>\n",
              "    <tr>\n",
              "      <th>2</th>\n",
              "      <td>562566</td>\n",
              "      <td>2020-04-18 00:00:24</td>\n",
              "      <td>-0.018</td>\n",
              "      <td>8.248</td>\n",
              "      <td>8.238</td>\n",
              "      <td>-0.024</td>\n",
              "      <td>8.248</td>\n",
              "      <td>49.45</td>\n",
              "      <td>0.04</td>\n",
              "      <td>1.0</td>\n",
              "      <td>0.0</td>\n",
              "      <td>1.0</td>\n",
              "      <td>1.0</td>\n",
              "      <td>0.0</td>\n",
              "      <td>1.0</td>\n",
              "      <td>1.0</td>\n",
              "      <td>1.0</td>\n",
              "      <td>1</td>\n",
              "    </tr>\n",
              "    <tr>\n",
              "      <th>3</th>\n",
              "      <td>562567</td>\n",
              "      <td>2020-04-18 00:00:36</td>\n",
              "      <td>-0.018</td>\n",
              "      <td>8.248</td>\n",
              "      <td>8.238</td>\n",
              "      <td>-0.024</td>\n",
              "      <td>8.248</td>\n",
              "      <td>49.45</td>\n",
              "      <td>0.04</td>\n",
              "      <td>0.0</td>\n",
              "      <td>0.0</td>\n",
              "      <td>0.0</td>\n",
              "      <td>0.0</td>\n",
              "      <td>0.0</td>\n",
              "      <td>0.0</td>\n",
              "      <td>0.0</td>\n",
              "      <td>0.0</td>\n",
              "      <td>1</td>\n",
              "    </tr>\n",
              "    <tr>\n",
              "      <th>4</th>\n",
              "      <td>562568</td>\n",
              "      <td>2020-04-18 00:00:49</td>\n",
              "      <td>-0.018</td>\n",
              "      <td>8.248</td>\n",
              "      <td>8.238</td>\n",
              "      <td>-0.024</td>\n",
              "      <td>8.248</td>\n",
              "      <td>49.45</td>\n",
              "      <td>0.04</td>\n",
              "      <td>1.0</td>\n",
              "      <td>0.0</td>\n",
              "      <td>1.0</td>\n",
              "      <td>1.0</td>\n",
              "      <td>0.0</td>\n",
              "      <td>1.0</td>\n",
              "      <td>1.0</td>\n",
              "      <td>1.0</td>\n",
              "      <td>1</td>\n",
              "    </tr>\n",
              "  </tbody>\n",
              "</table>\n",
              "</div>"
            ],
            "text/plain": [
              "   Unnamed: 0            timestamp    TP2    TP3     H1  DV_pressure  \\\n",
              "0      562564  2020-04-18 00:00:01 -0.018  8.248  8.238       -0.024   \n",
              "1      562565  2020-04-18 00:00:13 -0.018  8.248  8.238       -0.024   \n",
              "2      562566  2020-04-18 00:00:24 -0.018  8.248  8.238       -0.024   \n",
              "3      562567  2020-04-18 00:00:36 -0.018  8.248  8.238       -0.024   \n",
              "4      562568  2020-04-18 00:00:49 -0.018  8.248  8.238       -0.024   \n",
              "\n",
              "   Reservoirs  Oil_temperature  Motor_current  COMP  DV_eletric  Towers  MPG  \\\n",
              "0       8.248            49.45           0.04   1.0         0.0     1.0  1.0   \n",
              "1       8.248            49.45           0.04   1.0         0.0     1.0  1.0   \n",
              "2       8.248            49.45           0.04   1.0         0.0     1.0  1.0   \n",
              "3       8.248            49.45           0.04   0.0         0.0     0.0  0.0   \n",
              "4       8.248            49.45           0.04   1.0         0.0     1.0  1.0   \n",
              "\n",
              "   LPS  Pressure_switch  Oil_level  Caudal_impulses  status  \n",
              "0  0.0              1.0        1.0              1.0       1  \n",
              "1  0.0              1.0        1.0              1.0       1  \n",
              "2  0.0              1.0        1.0              1.0       1  \n",
              "3  0.0              0.0        0.0              0.0       1  \n",
              "4  0.0              1.0        1.0              1.0       1  "
            ]
          },
          "execution_count": 3,
          "metadata": {},
          "output_type": "execute_result"
        }
      ],
      "source": [
        "data = pd.read_csv(\"../data/Group_14_Clean_Data.csv\")\n",
        "data.head()"
      ]
    },
    {
      "cell_type": "code",
      "execution_count": null,
      "id": "73b2dde5",
      "metadata": {
        "id": "73b2dde5",
        "outputId": "16830d0c-268f-400b-98c6-aecb0f2b7394",
        "scrolled": true
      },
      "outputs": [
        {
          "data": {
            "text/html": [
              "<div>\n",
              "<style scoped>\n",
              "    .dataframe tbody tr th:only-of-type {\n",
              "        vertical-align: middle;\n",
              "    }\n",
              "\n",
              "    .dataframe tbody tr th {\n",
              "        vertical-align: top;\n",
              "    }\n",
              "\n",
              "    .dataframe thead th {\n",
              "        text-align: right;\n",
              "    }\n",
              "</style>\n",
              "<table border=\"1\" class=\"dataframe\">\n",
              "  <thead>\n",
              "    <tr style=\"text-align: right;\">\n",
              "      <th></th>\n",
              "      <th>Unnamed: 0</th>\n",
              "      <th>timestamp</th>\n",
              "      <th>TP2</th>\n",
              "      <th>TP3</th>\n",
              "      <th>H1</th>\n",
              "      <th>DV_pressure</th>\n",
              "      <th>Reservoirs</th>\n",
              "      <th>Oil_temperature</th>\n",
              "      <th>Motor_current</th>\n",
              "      <th>COMP</th>\n",
              "      <th>DV_eletric</th>\n",
              "      <th>Towers</th>\n",
              "      <th>MPG</th>\n",
              "      <th>LPS</th>\n",
              "      <th>Pressure_switch</th>\n",
              "      <th>Oil_level</th>\n",
              "      <th>Caudal_impulses</th>\n",
              "      <th>status</th>\n",
              "    </tr>\n",
              "  </thead>\n",
              "  <tbody>\n",
              "    <tr>\n",
              "      <th>26771</th>\n",
              "      <td>906686</td>\n",
              "      <td>2020-06-07 10:22:05</td>\n",
              "      <td>8.086</td>\n",
              "      <td>7.894</td>\n",
              "      <td>-0.006</td>\n",
              "      <td>1.928</td>\n",
              "      <td>7.894</td>\n",
              "      <td>76.900</td>\n",
              "      <td>5.5225</td>\n",
              "      <td>0.0</td>\n",
              "      <td>1.0</td>\n",
              "      <td>0.0</td>\n",
              "      <td>0.0</td>\n",
              "      <td>0.0</td>\n",
              "      <td>1.0</td>\n",
              "      <td>1.0</td>\n",
              "      <td>1.0</td>\n",
              "      <td>1</td>\n",
              "    </tr>\n",
              "    <tr>\n",
              "      <th>31939</th>\n",
              "      <td>123492</td>\n",
              "      <td>2020-02-17 10:55:15</td>\n",
              "      <td>-0.010</td>\n",
              "      <td>9.698</td>\n",
              "      <td>9.684</td>\n",
              "      <td>-0.018</td>\n",
              "      <td>9.700</td>\n",
              "      <td>58.350</td>\n",
              "      <td>3.6875</td>\n",
              "      <td>1.0</td>\n",
              "      <td>0.0</td>\n",
              "      <td>1.0</td>\n",
              "      <td>1.0</td>\n",
              "      <td>0.0</td>\n",
              "      <td>1.0</td>\n",
              "      <td>1.0</td>\n",
              "      <td>1.0</td>\n",
              "      <td>0</td>\n",
              "    </tr>\n",
              "    <tr>\n",
              "      <th>6366</th>\n",
              "      <td>568930</td>\n",
              "      <td>2020-04-18 17:40:39</td>\n",
              "      <td>8.610</td>\n",
              "      <td>8.764</td>\n",
              "      <td>-0.006</td>\n",
              "      <td>1.898</td>\n",
              "      <td>8.766</td>\n",
              "      <td>74.625</td>\n",
              "      <td>5.5875</td>\n",
              "      <td>0.0</td>\n",
              "      <td>1.0</td>\n",
              "      <td>1.0</td>\n",
              "      <td>0.0</td>\n",
              "      <td>0.0</td>\n",
              "      <td>1.0</td>\n",
              "      <td>1.0</td>\n",
              "      <td>1.0</td>\n",
              "      <td>1</td>\n",
              "    </tr>\n",
              "    <tr>\n",
              "      <th>55083</th>\n",
              "      <td>505501</td>\n",
              "      <td>2020-04-09 20:08:30</td>\n",
              "      <td>-0.014</td>\n",
              "      <td>8.816</td>\n",
              "      <td>8.806</td>\n",
              "      <td>-0.024</td>\n",
              "      <td>8.816</td>\n",
              "      <td>53.675</td>\n",
              "      <td>0.0425</td>\n",
              "      <td>1.0</td>\n",
              "      <td>0.0</td>\n",
              "      <td>1.0</td>\n",
              "      <td>1.0</td>\n",
              "      <td>0.0</td>\n",
              "      <td>1.0</td>\n",
              "      <td>1.0</td>\n",
              "      <td>1.0</td>\n",
              "      <td>0</td>\n",
              "    </tr>\n",
              "    <tr>\n",
              "      <th>3541</th>\n",
              "      <td>566105</td>\n",
              "      <td>2020-04-18 09:53:56</td>\n",
              "      <td>9.074</td>\n",
              "      <td>8.932</td>\n",
              "      <td>-0.010</td>\n",
              "      <td>2.032</td>\n",
              "      <td>8.934</td>\n",
              "      <td>76.025</td>\n",
              "      <td>5.7300</td>\n",
              "      <td>0.0</td>\n",
              "      <td>1.0</td>\n",
              "      <td>0.0</td>\n",
              "      <td>0.0</td>\n",
              "      <td>0.0</td>\n",
              "      <td>1.0</td>\n",
              "      <td>1.0</td>\n",
              "      <td>1.0</td>\n",
              "      <td>1</td>\n",
              "    </tr>\n",
              "  </tbody>\n",
              "</table>\n",
              "</div>"
            ],
            "text/plain": [
              "       Unnamed: 0            timestamp    TP2    TP3     H1  DV_pressure  \\\n",
              "26771      906686  2020-06-07 10:22:05  8.086  7.894 -0.006        1.928   \n",
              "31939      123492  2020-02-17 10:55:15 -0.010  9.698  9.684       -0.018   \n",
              "6366       568930  2020-04-18 17:40:39  8.610  8.764 -0.006        1.898   \n",
              "55083      505501  2020-04-09 20:08:30 -0.014  8.816  8.806       -0.024   \n",
              "3541       566105  2020-04-18 09:53:56  9.074  8.932 -0.010        2.032   \n",
              "\n",
              "       Reservoirs  Oil_temperature  Motor_current  COMP  DV_eletric  Towers  \\\n",
              "26771       7.894           76.900         5.5225   0.0         1.0     0.0   \n",
              "31939       9.700           58.350         3.6875   1.0         0.0     1.0   \n",
              "6366        8.766           74.625         5.5875   0.0         1.0     1.0   \n",
              "55083       8.816           53.675         0.0425   1.0         0.0     1.0   \n",
              "3541        8.934           76.025         5.7300   0.0         1.0     0.0   \n",
              "\n",
              "       MPG  LPS  Pressure_switch  Oil_level  Caudal_impulses  status  \n",
              "26771  0.0  0.0              1.0        1.0              1.0       1  \n",
              "31939  1.0  0.0              1.0        1.0              1.0       0  \n",
              "6366   0.0  0.0              1.0        1.0              1.0       1  \n",
              "55083  1.0  0.0              1.0        1.0              1.0       0  \n",
              "3541   0.0  0.0              1.0        1.0              1.0       1  "
            ]
          },
          "execution_count": 4,
          "metadata": {},
          "output_type": "execute_result"
        }
      ],
      "source": [
        "# Choose only features selected from Question 2\n",
        "#Shuffle the data\n",
        "data = data.sample(frac = 1)\n",
        "data.head()"
      ]
    },
    {
      "cell_type": "markdown",
      "id": "c38a6d5f",
      "metadata": {
        "id": "c38a6d5f"
      },
      "source": [
        "### 2. XGBOOST\n",
        "\n",
        "- XGBoost, a Gradient Boosted decision tree implementation, excels in Kaggle Competitions.\n",
        "- It sequentially creates decision trees, assigning weights to variables that are adjusted based on prediction errors.\n",
        "- This ensemble method, with optimizations like the Approximate Greedy Algorithm and Cash-Aware Access, proves effective for regression, classification, ranking, and user-defined prediction problems.\n",
        "\n",
        "reference: <BR>\n",
        "https://xgboost.readthedocs.io/en/stable/python/python_intro.html <BR>\n",
        "https://www.geeksforgeeks.org/xgboost/ <BR>\n",
        "https://www.geeksforgeeks.org/ml-xgboost-extreme-gradient-boosting/ <BR>"
      ]
    },
    {
      "cell_type": "code",
      "execution_count": null,
      "id": "f5d4ec6c",
      "metadata": {
        "id": "f5d4ec6c",
        "scrolled": true
      },
      "outputs": [],
      "source": [
        "#!pip install xgboost\n",
        "import xgboost as xgb"
      ]
    },
    {
      "cell_type": "code",
      "execution_count": null,
      "id": "c8744021",
      "metadata": {
        "id": "c8744021"
      },
      "outputs": [],
      "source": [
        "X = data[selected_features]\n",
        "y = data['status']"
      ]
    },
    {
      "cell_type": "code",
      "execution_count": null,
      "id": "dfc8122f",
      "metadata": {
        "id": "dfc8122f",
        "outputId": "2e30452b-f5f0-4779-c11e-f71644538a6b"
      },
      "outputs": [
        {
          "name": "stdout",
          "output_type": "stream",
          "text": [
            "              precision    recall  f1-score   support\n",
            "\n",
            "           0       1.00      1.00      1.00      5960\n",
            "           1       1.00      1.00      1.00      5929\n",
            "\n",
            "    accuracy                           1.00     11889\n",
            "   macro avg       1.00      1.00      1.00     11889\n",
            "weighted avg       1.00      1.00      1.00     11889\n",
            "\n"
          ]
        },
        {
          "data": {
            "image/png": "[encoded data removed]",
            "text/plain": [
              "<Figure size 640x480 with 2 Axes>"
            ]
          },
          "metadata": {},
          "output_type": "display_data"
        }
      ],
      "source": [
        "X_train, X_test, y_train, y_test = train_test_split(X, y, test_size=0.2, random_state=42)\n",
        "\n",
        "# Fitting XGBoost to the training data\n",
        "my_model = xgb.XGBClassifier()\n",
        "my_model.fit(X_train, y_train)\n",
        "\n",
        "# Predicting the Test set results\n",
        "y_pred = my_model.predict(X_test)\n",
        "\n",
        "# Making the Confusion Matrix\n",
        "cm = confusion_matrix(y_test, y_pred)\n",
        "\n",
        "print(classification_report(y_test, y_pred))\n",
        "\n",
        "disp = ConfusionMatrixDisplay(cm, display_labels=['0', '1'])\n",
        "disp.plot(cmap='Blues', values_format='d')\n",
        "plt.show()\n"
      ]
    },
    {
      "cell_type": "markdown",
      "id": "88f140f9",
      "metadata": {
        "id": "88f140f9"
      },
      "source": [
        "### 3. Extreme Learning Machine"
      ]
    },
    {
      "cell_type": "markdown",
      "id": "687898ed",
      "metadata": {
        "id": "687898ed"
      },
      "source": [
        "* Extreme Learning Machine is a variation of Feed forward neural network with just 1 hidden layer.\n",
        "* Extreme Machine Learning does not use iterative method such as gradient descent to tuning the weights, instead it use linear algebra to solve for the optimal solution.\n",
        "* Extreme Machine Learning is believed to be able to approximate any abitrary function given sufficient number of hidden units and data to learn."
      ]
    },
    {
      "cell_type": "code",
      "execution_count": null,
      "id": "f5426ae0",
      "metadata": {
        "id": "f5426ae0"
      },
      "outputs": [],
      "source": [
        "import pandas as pd\n",
        "import numpy as np\n",
        "from timeit import timeit as time\n",
        "import cupy as cp\n",
        "from  cupy.linalg import pinv as pinv2\n",
        "\n",
        "import matplotlib.pyplot as plt\n",
        "\n",
        "from sklearn.metrics import classification_report, confusion_matrix\n",
        "from sklearn.metrics import ConfusionMatrixDisplay, accuracy_score\n",
        "from sklearn.model_selection import train_test_split\n",
        "from sklearn.preprocessing import OneHotEncoder\n",
        "from sklearn.preprocessing import MinMaxScaler\n",
        "from sklearn.preprocessing import StandardScaler"
      ]
    },
    {
      "cell_type": "code",
      "execution_count": null,
      "id": "0137efb5",
      "metadata": {
        "id": "0137efb5"
      },
      "outputs": [],
      "source": [
        "selected_features = [\"TP2\", \"H1\", \"DV_pressure\", \"Reservoirs\", \"Oil_temperature\", \"Motor_current\", \"Oil_level\", 'status']"
      ]
    },
    {
      "cell_type": "code",
      "execution_count": null,
      "id": "939dfae0",
      "metadata": {
        "colab": {
          "base_uri": "https://localhost:8080/",
          "height": 417
        },
        "id": "939dfae0",
        "outputId": "23d83814-8d39-4668-f089-c7bbb7faf724"
      },
      "outputs": [
        {
          "data": {
            "text/html": [
              "\n",
              "  <div id=\"df-13d612f9-5572-4d2f-8a58-ba3f66d2c6c4\" class=\"colab-df-container\">\n",
              "    <div>\n",
              "<style scoped>\n",
              "    .dataframe tbody tr th:only-of-type {\n",
              "        vertical-align: middle;\n",
              "    }\n",
              "\n",
              "    .dataframe tbody tr th {\n",
              "        vertical-align: top;\n",
              "    }\n",
              "\n",
              "    .dataframe thead th {\n",
              "        text-align: right;\n",
              "    }\n",
              "</style>\n",
              "<table border=\"1\" class=\"dataframe\">\n",
              "  <thead>\n",
              "    <tr style=\"text-align: right;\">\n",
              "      <th></th>\n",
              "      <th>Unnamed: 0</th>\n",
              "      <th>timestamp</th>\n",
              "      <th>TP2</th>\n",
              "      <th>TP3</th>\n",
              "      <th>H1</th>\n",
              "      <th>DV_pressure</th>\n",
              "      <th>Reservoirs</th>\n",
              "      <th>Oil_temperature</th>\n",
              "      <th>Motor_current</th>\n",
              "      <th>COMP</th>\n",
              "      <th>DV_eletric</th>\n",
              "      <th>Towers</th>\n",
              "      <th>MPG</th>\n",
              "      <th>LPS</th>\n",
              "      <th>Pressure_switch</th>\n",
              "      <th>Oil_level</th>\n",
              "      <th>Caudal_impulses</th>\n",
              "      <th>status</th>\n",
              "    </tr>\n",
              "  </thead>\n",
              "  <tbody>\n",
              "    <tr>\n",
              "      <th>0</th>\n",
              "      <td>562564</td>\n",
              "      <td>2020-04-18 00:00:01</td>\n",
              "      <td>-0.018</td>\n",
              "      <td>8.248</td>\n",
              "      <td>8.238</td>\n",
              "      <td>-0.024</td>\n",
              "      <td>8.248</td>\n",
              "      <td>49.45</td>\n",
              "      <td>0.04</td>\n",
              "      <td>1.0</td>\n",
              "      <td>0.0</td>\n",
              "      <td>1.0</td>\n",
              "      <td>1.0</td>\n",
              "      <td>0.0</td>\n",
              "      <td>1.0</td>\n",
              "      <td>1.0</td>\n",
              "      <td>1.0</td>\n",
              "      <td>1</td>\n",
              "    </tr>\n",
              "    <tr>\n",
              "      <th>1</th>\n",
              "      <td>562565</td>\n",
              "      <td>2020-04-18 00:00:13</td>\n",
              "      <td>-0.018</td>\n",
              "      <td>8.248</td>\n",
              "      <td>8.238</td>\n",
              "      <td>-0.024</td>\n",
              "      <td>8.248</td>\n",
              "      <td>49.45</td>\n",
              "      <td>0.04</td>\n",
              "      <td>1.0</td>\n",
              "      <td>0.0</td>\n",
              "      <td>1.0</td>\n",
              "      <td>1.0</td>\n",
              "      <td>0.0</td>\n",
              "      <td>1.0</td>\n",
              "      <td>1.0</td>\n",
              "      <td>1.0</td>\n",
              "      <td>1</td>\n",
              "    </tr>\n",
              "    <tr>\n",
              "      <th>2</th>\n",
              "      <td>562566</td>\n",
              "      <td>2020-04-18 00:00:24</td>\n",
              "      <td>-0.018</td>\n",
              "      <td>8.248</td>\n",
              "      <td>8.238</td>\n",
              "      <td>-0.024</td>\n",
              "      <td>8.248</td>\n",
              "      <td>49.45</td>\n",
              "      <td>0.04</td>\n",
              "      <td>1.0</td>\n",
              "      <td>0.0</td>\n",
              "      <td>1.0</td>\n",
              "      <td>1.0</td>\n",
              "      <td>0.0</td>\n",
              "      <td>1.0</td>\n",
              "      <td>1.0</td>\n",
              "      <td>1.0</td>\n",
              "      <td>1</td>\n",
              "    </tr>\n",
              "    <tr>\n",
              "      <th>3</th>\n",
              "      <td>562567</td>\n",
              "      <td>2020-04-18 00:00:36</td>\n",
              "      <td>-0.018</td>\n",
              "      <td>8.248</td>\n",
              "      <td>8.238</td>\n",
              "      <td>-0.024</td>\n",
              "      <td>8.248</td>\n",
              "      <td>49.45</td>\n",
              "      <td>0.04</td>\n",
              "      <td>0.0</td>\n",
              "      <td>0.0</td>\n",
              "      <td>0.0</td>\n",
              "      <td>0.0</td>\n",
              "      <td>0.0</td>\n",
              "      <td>0.0</td>\n",
              "      <td>0.0</td>\n",
              "      <td>0.0</td>\n",
              "      <td>1</td>\n",
              "    </tr>\n",
              "    <tr>\n",
              "      <th>4</th>\n",
              "      <td>562568</td>\n",
              "      <td>2020-04-18 00:00:49</td>\n",
              "      <td>-0.018</td>\n",
              "      <td>8.248</td>\n",
              "      <td>8.238</td>\n",
              "      <td>-0.024</td>\n",
              "      <td>8.248</td>\n",
              "      <td>49.45</td>\n",
              "      <td>0.04</td>\n",
              "      <td>1.0</td>\n",
              "      <td>0.0</td>\n",
              "      <td>1.0</td>\n",
              "      <td>1.0</td>\n",
              "      <td>0.0</td>\n",
              "      <td>1.0</td>\n",
              "      <td>1.0</td>\n",
              "      <td>1.0</td>\n",
              "      <td>1</td>\n",
              "    </tr>\n",
              "  </tbody>\n",
              "</table>\n",
              "</div>\n",
              "    <div class=\"colab-df-buttons\">\n",
              "\n",
              "  <div class=\"colab-df-container\">\n",
              "    <button class=\"colab-df-convert\" onclick=\"convertToInteractive('df-13d612f9-5572-4d2f-8a58-ba3f66d2c6c4')\"\n",
              "            title=\"Convert this dataframe to an interactive table.\"\n",
              "            style=\"display:none;\">\n",
              "\n",
              "  <svg xmlns=\"http://www.w3.org/2000/svg\" height=\"24px\" viewBox=\"0 -960 960 960\">\n",
              "    <path d=\"M120-120v-720h720v720H120Zm60-500h600v-160H180v160Zm220 220h160v-160H400v160Zm0 220h160v-160H400v160ZM180-400h160v-160H180v160Zm440 0h160v-160H620v160ZM180-180h160v-160H180v160Zm440 0h160v-160H620v160Z\"/>\n",
              "  </svg>\n",
              "    </button>\n",
              "\n",
              "  <style>\n",
              "    .colab-df-container {\n",
              "      display:flex;\n",
              "      gap: 12px;\n",
              "    }\n",
              "\n",
              "    .colab-df-convert {\n",
              "      background-color: #E8F0FE;\n",
              "      border: none;\n",
              "      border-radius: 50%;\n",
              "      cursor: pointer;\n",
              "      display: none;\n",
              "      fill: #1967D2;\n",
              "      height: 32px;\n",
              "      padding: 0 0 0 0;\n",
              "      width: 32px;\n",
              "    }\n",
              "\n",
              "    .colab-df-convert:hover {\n",
              "      background-color: #E2EBFA;\n",
              "      box-shadow: 0px 1px 2px rgba(60, 64, 67, 0.3), 0px 1px 3px 1px rgba(60, 64, 67, 0.15);\n",
              "      fill: #174EA6;\n",
              "    }\n",
              "\n",
              "    .colab-df-buttons div {\n",
              "      margin-bottom: 4px;\n",
              "    }\n",
              "\n",
              "    [theme=dark] .colab-df-convert {\n",
              "      background-color: #3B4455;\n",
              "      fill: #D2E3FC;\n",
              "    }\n",
              "\n",
              "    [theme=dark] .colab-df-convert:hover {\n",
              "      background-color: #434B5C;\n",
              "      box-shadow: 0px 1px 3px 1px rgba(0, 0, 0, 0.15);\n",
              "      filter: drop-shadow(0px 1px 2px rgba(0, 0, 0, 0.3));\n",
              "      fill: #FFFFFF;\n",
              "    }\n",
              "  </style>\n",
              "\n",
              "    <script>\n",
              "      const buttonEl =\n",
              "        document.querySelector('#df-13d612f9-5572-4d2f-8a58-ba3f66d2c6c4 button.colab-df-convert');\n",
              "      buttonEl.style.display =\n",
              "        google.colab.kernel.accessAllowed ? 'block' : 'none';\n",
              "\n",
              "      async function convertToInteractive(key) {\n",
              "        const element = document.querySelector('#df-13d612f9-5572-4d2f-8a58-ba3f66d2c6c4');\n",
              "        const dataTable =\n",
              "          await google.colab.kernel.invokeFunction('convertToInteractive',\n",
              "                                                    [key], {});\n",
              "        if (!dataTable) return;\n",
              "\n",
              "        const docLinkHtml = 'Like what you see? Visit the ' +\n",
              "          '<a target=\"_blank\" href=https://colab.research.google.com/notebooks/data_table.ipynb>data table notebook</a>'\n",
              "          + ' to learn more about interactive tables.';\n",
              "        element.innerHTML = '';\n",
              "        dataTable['output_type'] = 'display_data';\n",
              "        await google.colab.output.renderOutput(dataTable, element);\n",
              "        const docLink = document.createElement('div');\n",
              "        docLink.innerHTML = docLinkHtml;\n",
              "        element.appendChild(docLink);\n",
              "      }\n",
              "    </script>\n",
              "  </div>\n",
              "\n",
              "\n",
              "<div id=\"df-30e62105-d9bc-4c8c-9a72-295b7851d991\">\n",
              "  <button class=\"colab-df-quickchart\" onclick=\"quickchart('df-30e62105-d9bc-4c8c-9a72-295b7851d991')\"\n",
              "            title=\"Suggest charts\"\n",
              "            style=\"display:none;\">\n",
              "\n",
              "<svg xmlns=\"http://www.w3.org/2000/svg\" height=\"24px\"viewBox=\"0 0 24 24\"\n",
              "     width=\"24px\">\n",
              "    <g>\n",
              "        <path d=\"M19 3H5c-1.1 0-2 .9-2 2v14c0 1.1.9 2 2 2h14c1.1 0 2-.9 2-2V5c0-1.1-.9-2-2-2zM9 17H7v-7h2v7zm4 0h-2V7h2v10zm4 0h-2v-4h2v4z\"/>\n",
              "    </g>\n",
              "</svg>\n",
              "  </button>\n",
              "\n",
              "<style>\n",
              "  .colab-df-quickchart {\n",
              "      --bg-color: #E8F0FE;\n",
              "      --fill-color: #1967D2;\n",
              "      --hover-bg-color: #E2EBFA;\n",
              "      --hover-fill-color: #174EA6;\n",
              "      --disabled-fill-color: #AAA;\n",
              "      --disabled-bg-color: #DDD;\n",
              "  }\n",
              "\n",
              "  [theme=dark] .colab-df-quickchart {\n",
              "      --bg-color: #3B4455;\n",
              "      --fill-color: #D2E3FC;\n",
              "      --hover-bg-color: #434B5C;\n",
              "      --hover-fill-color: #FFFFFF;\n",
              "      --disabled-bg-color: #3B4455;\n",
              "      --disabled-fill-color: #666;\n",
              "  }\n",
              "\n",
              "  .colab-df-quickchart {\n",
              "    background-color: var(--bg-color);\n",
              "    border: none;\n",
              "    border-radius: 50%;\n",
              "    cursor: pointer;\n",
              "    display: none;\n",
              "    fill: var(--fill-color);\n",
              "    height: 32px;\n",
              "    padding: 0;\n",
              "    width: 32px;\n",
              "  }\n",
              "\n",
              "  .colab-df-quickchart:hover {\n",
              "    background-color: var(--hover-bg-color);\n",
              "    box-shadow: 0 1px 2px rgba(60, 64, 67, 0.3), 0 1px 3px 1px rgba(60, 64, 67, 0.15);\n",
              "    fill: var(--button-hover-fill-color);\n",
              "  }\n",
              "\n",
              "  .colab-df-quickchart-complete:disabled,\n",
              "  .colab-df-quickchart-complete:disabled:hover {\n",
              "    background-color: var(--disabled-bg-color);\n",
              "    fill: var(--disabled-fill-color);\n",
              "    box-shadow: none;\n",
              "  }\n",
              "\n",
              "  .colab-df-spinner {\n",
              "    border: 2px solid var(--fill-color);\n",
              "    border-color: transparent;\n",
              "    border-bottom-color: var(--fill-color);\n",
              "    animation:\n",
              "      spin 1s steps(1) infinite;\n",
              "  }\n",
              "\n",
              "  @keyframes spin {\n",
              "    0% {\n",
              "      border-color: transparent;\n",
              "      border-bottom-color: var(--fill-color);\n",
              "      border-left-color: var(--fill-color);\n",
              "    }\n",
              "    20% {\n",
              "      border-color: transparent;\n",
              "      border-left-color: var(--fill-color);\n",
              "      border-top-color: var(--fill-color);\n",
              "    }\n",
              "    30% {\n",
              "      border-color: transparent;\n",
              "      border-left-color: var(--fill-color);\n",
              "      border-top-color: var(--fill-color);\n",
              "      border-right-color: var(--fill-color);\n",
              "    }\n",
              "    40% {\n",
              "      border-color: transparent;\n",
              "      border-right-color: var(--fill-color);\n",
              "      border-top-color: var(--fill-color);\n",
              "    }\n",
              "    60% {\n",
              "      border-color: transparent;\n",
              "      border-right-color: var(--fill-color);\n",
              "    }\n",
              "    80% {\n",
              "      border-color: transparent;\n",
              "      border-right-color: var(--fill-color);\n",
              "      border-bottom-color: var(--fill-color);\n",
              "    }\n",
              "    90% {\n",
              "      border-color: transparent;\n",
              "      border-bottom-color: var(--fill-color);\n",
              "    }\n",
              "  }\n",
              "</style>\n",
              "\n",
              "  <script>\n",
              "    async function quickchart(key) {\n",
              "      const quickchartButtonEl =\n",
              "        document.querySelector('#' + key + ' button');\n",
              "      quickchartButtonEl.disabled = true;  // To prevent multiple clicks.\n",
              "      quickchartButtonEl.classList.add('colab-df-spinner');\n",
              "      try {\n",
              "        const charts = await google.colab.kernel.invokeFunction(\n",
              "            'suggestCharts', [key], {});\n",
              "      } catch (error) {\n",
              "        console.error('Error during call to suggestCharts:', error);\n",
              "      }\n",
              "      quickchartButtonEl.classList.remove('colab-df-spinner');\n",
              "      quickchartButtonEl.classList.add('colab-df-quickchart-complete');\n",
              "    }\n",
              "    (() => {\n",
              "      let quickchartButtonEl =\n",
              "        document.querySelector('#df-30e62105-d9bc-4c8c-9a72-295b7851d991 button');\n",
              "      quickchartButtonEl.style.display =\n",
              "        google.colab.kernel.accessAllowed ? 'block' : 'none';\n",
              "    })();\n",
              "  </script>\n",
              "</div>\n",
              "    </div>\n",
              "  </div>\n"
            ],
            "text/plain": [
              "   Unnamed: 0            timestamp    TP2    TP3     H1  DV_pressure  \\\n",
              "0      562564  2020-04-18 00:00:01 -0.018  8.248  8.238       -0.024   \n",
              "1      562565  2020-04-18 00:00:13 -0.018  8.248  8.238       -0.024   \n",
              "2      562566  2020-04-18 00:00:24 -0.018  8.248  8.238       -0.024   \n",
              "3      562567  2020-04-18 00:00:36 -0.018  8.248  8.238       -0.024   \n",
              "4      562568  2020-04-18 00:00:49 -0.018  8.248  8.238       -0.024   \n",
              "\n",
              "   Reservoirs  Oil_temperature  Motor_current  COMP  DV_eletric  Towers  MPG  \\\n",
              "0       8.248            49.45           0.04   1.0         0.0     1.0  1.0   \n",
              "1       8.248            49.45           0.04   1.0         0.0     1.0  1.0   \n",
              "2       8.248            49.45           0.04   1.0         0.0     1.0  1.0   \n",
              "3       8.248            49.45           0.04   0.0         0.0     0.0  0.0   \n",
              "4       8.248            49.45           0.04   1.0         0.0     1.0  1.0   \n",
              "\n",
              "   LPS  Pressure_switch  Oil_level  Caudal_impulses  status  \n",
              "0  0.0              1.0        1.0              1.0       1  \n",
              "1  0.0              1.0        1.0              1.0       1  \n",
              "2  0.0              1.0        1.0              1.0       1  \n",
              "3  0.0              0.0        0.0              0.0       1  \n",
              "4  0.0              1.0        1.0              1.0       1  "
            ]
          },
          "execution_count": 56,
          "metadata": {},
          "output_type": "execute_result"
        }
      ],
      "source": [
        "data = pd.read_csv(\"Group_14_Clean_Data.csv\")\n",
        "data.head()"
      ]
    },
    {
      "cell_type": "code",
      "execution_count": null,
      "id": "affef0c6",
      "metadata": {
        "colab": {
          "base_uri": "https://localhost:8080/",
          "height": 417
        },
        "id": "affef0c6",
        "outputId": "b94cab91-5ae3-4edf-bcd7-eb83d580de4d"
      },
      "outputs": [
        {
          "data": {
            "text/html": [
              "\n",
              "  <div id=\"df-414ff7a9-463d-4414-b9aa-d3bbfe39e275\" class=\"colab-df-container\">\n",
              "    <div>\n",
              "<style scoped>\n",
              "    .dataframe tbody tr th:only-of-type {\n",
              "        vertical-align: middle;\n",
              "    }\n",
              "\n",
              "    .dataframe tbody tr th {\n",
              "        vertical-align: top;\n",
              "    }\n",
              "\n",
              "    .dataframe thead th {\n",
              "        text-align: right;\n",
              "    }\n",
              "</style>\n",
              "<table border=\"1\" class=\"dataframe\">\n",
              "  <thead>\n",
              "    <tr style=\"text-align: right;\">\n",
              "      <th></th>\n",
              "      <th>Unnamed: 0</th>\n",
              "      <th>timestamp</th>\n",
              "      <th>TP2</th>\n",
              "      <th>TP3</th>\n",
              "      <th>H1</th>\n",
              "      <th>DV_pressure</th>\n",
              "      <th>Reservoirs</th>\n",
              "      <th>Oil_temperature</th>\n",
              "      <th>Motor_current</th>\n",
              "      <th>COMP</th>\n",
              "      <th>DV_eletric</th>\n",
              "      <th>Towers</th>\n",
              "      <th>MPG</th>\n",
              "      <th>LPS</th>\n",
              "      <th>Pressure_switch</th>\n",
              "      <th>Oil_level</th>\n",
              "      <th>Caudal_impulses</th>\n",
              "      <th>status</th>\n",
              "    </tr>\n",
              "  </thead>\n",
              "  <tbody>\n",
              "    <tr>\n",
              "      <th>54890</th>\n",
              "      <td>716469</td>\n",
              "      <td>2020-05-12 01:02:30</td>\n",
              "      <td>-0.014</td>\n",
              "      <td>8.898</td>\n",
              "      <td>8.886</td>\n",
              "      <td>-0.022</td>\n",
              "      <td>8.900</td>\n",
              "      <td>54.325</td>\n",
              "      <td>0.0425</td>\n",
              "      <td>1.0</td>\n",
              "      <td>0.0</td>\n",
              "      <td>1.0</td>\n",
              "      <td>1.0</td>\n",
              "      <td>0.0</td>\n",
              "      <td>1.0</td>\n",
              "      <td>1.0</td>\n",
              "      <td>1.0</td>\n",
              "      <td>0</td>\n",
              "    </tr>\n",
              "    <tr>\n",
              "      <th>29206</th>\n",
              "      <td>1172089</td>\n",
              "      <td>2020-07-15 17:14:34</td>\n",
              "      <td>8.048</td>\n",
              "      <td>7.628</td>\n",
              "      <td>-0.002</td>\n",
              "      <td>-0.010</td>\n",
              "      <td>7.626</td>\n",
              "      <td>82.650</td>\n",
              "      <td>5.3800</td>\n",
              "      <td>0.0</td>\n",
              "      <td>1.0</td>\n",
              "      <td>1.0</td>\n",
              "      <td>0.0</td>\n",
              "      <td>0.0</td>\n",
              "      <td>1.0</td>\n",
              "      <td>1.0</td>\n",
              "      <td>1.0</td>\n",
              "      <td>1</td>\n",
              "    </tr>\n",
              "    <tr>\n",
              "      <th>49959</th>\n",
              "      <td>1298069</td>\n",
              "      <td>2020-08-01 05:49:45</td>\n",
              "      <td>9.538</td>\n",
              "      <td>9.108</td>\n",
              "      <td>-0.014</td>\n",
              "      <td>-0.020</td>\n",
              "      <td>9.106</td>\n",
              "      <td>60.875</td>\n",
              "      <td>5.9450</td>\n",
              "      <td>0.0</td>\n",
              "      <td>1.0</td>\n",
              "      <td>1.0</td>\n",
              "      <td>0.0</td>\n",
              "      <td>0.0</td>\n",
              "      <td>1.0</td>\n",
              "      <td>1.0</td>\n",
              "      <td>1.0</td>\n",
              "      <td>0</td>\n",
              "    </tr>\n",
              "    <tr>\n",
              "      <th>58851</th>\n",
              "      <td>1022368</td>\n",
              "      <td>2020-06-23 03:53:08</td>\n",
              "      <td>8.390</td>\n",
              "      <td>8.506</td>\n",
              "      <td>-0.014</td>\n",
              "      <td>-0.014</td>\n",
              "      <td>8.506</td>\n",
              "      <td>65.150</td>\n",
              "      <td>5.5750</td>\n",
              "      <td>0.0</td>\n",
              "      <td>1.0</td>\n",
              "      <td>1.0</td>\n",
              "      <td>0.0</td>\n",
              "      <td>0.0</td>\n",
              "      <td>1.0</td>\n",
              "      <td>1.0</td>\n",
              "      <td>1.0</td>\n",
              "      <td>0</td>\n",
              "    </tr>\n",
              "    <tr>\n",
              "      <th>11289</th>\n",
              "      <td>891082</td>\n",
              "      <td>2020-06-05 10:45:00</td>\n",
              "      <td>7.396</td>\n",
              "      <td>8.108</td>\n",
              "      <td>-0.006</td>\n",
              "      <td>1.928</td>\n",
              "      <td>8.110</td>\n",
              "      <td>76.500</td>\n",
              "      <td>5.3200</td>\n",
              "      <td>0.0</td>\n",
              "      <td>1.0</td>\n",
              "      <td>1.0</td>\n",
              "      <td>0.0</td>\n",
              "      <td>0.0</td>\n",
              "      <td>1.0</td>\n",
              "      <td>1.0</td>\n",
              "      <td>1.0</td>\n",
              "      <td>1</td>\n",
              "    </tr>\n",
              "  </tbody>\n",
              "</table>\n",
              "</div>\n",
              "    <div class=\"colab-df-buttons\">\n",
              "\n",
              "  <div class=\"colab-df-container\">\n",
              "    <button class=\"colab-df-convert\" onclick=\"convertToInteractive('df-414ff7a9-463d-4414-b9aa-d3bbfe39e275')\"\n",
              "            title=\"Convert this dataframe to an interactive table.\"\n",
              "            style=\"display:none;\">\n",
              "\n",
              "  <svg xmlns=\"http://www.w3.org/2000/svg\" height=\"24px\" viewBox=\"0 -960 960 960\">\n",
              "    <path d=\"M120-120v-720h720v720H120Zm60-500h600v-160H180v160Zm220 220h160v-160H400v160Zm0 220h160v-160H400v160ZM180-400h160v-160H180v160Zm440 0h160v-160H620v160ZM180-180h160v-160H180v160Zm440 0h160v-160H620v160Z\"/>\n",
              "  </svg>\n",
              "    </button>\n",
              "\n",
              "  <style>\n",
              "    .colab-df-container {\n",
              "      display:flex;\n",
              "      gap: 12px;\n",
              "    }\n",
              "\n",
              "    .colab-df-convert {\n",
              "      background-color: #E8F0FE;\n",
              "      border: none;\n",
              "      border-radius: 50%;\n",
              "      cursor: pointer;\n",
              "      display: none;\n",
              "      fill: #1967D2;\n",
              "      height: 32px;\n",
              "      padding: 0 0 0 0;\n",
              "      width: 32px;\n",
              "    }\n",
              "\n",
              "    .colab-df-convert:hover {\n",
              "      background-color: #E2EBFA;\n",
              "      box-shadow: 0px 1px 2px rgba(60, 64, 67, 0.3), 0px 1px 3px 1px rgba(60, 64, 67, 0.15);\n",
              "      fill: #174EA6;\n",
              "    }\n",
              "\n",
              "    .colab-df-buttons div {\n",
              "      margin-bottom: 4px;\n",
              "    }\n",
              "\n",
              "    [theme=dark] .colab-df-convert {\n",
              "      background-color: #3B4455;\n",
              "      fill: #D2E3FC;\n",
              "    }\n",
              "\n",
              "    [theme=dark] .colab-df-convert:hover {\n",
              "      background-color: #434B5C;\n",
              "      box-shadow: 0px 1px 3px 1px rgba(0, 0, 0, 0.15);\n",
              "      filter: drop-shadow(0px 1px 2px rgba(0, 0, 0, 0.3));\n",
              "      fill: #FFFFFF;\n",
              "    }\n",
              "  </style>\n",
              "\n",
              "    <script>\n",
              "      const buttonEl =\n",
              "        document.querySelector('#df-414ff7a9-463d-4414-b9aa-d3bbfe39e275 button.colab-df-convert');\n",
              "      buttonEl.style.display =\n",
              "        google.colab.kernel.accessAllowed ? 'block' : 'none';\n",
              "\n",
              "      async function convertToInteractive(key) {\n",
              "        const element = document.querySelector('#df-414ff7a9-463d-4414-b9aa-d3bbfe39e275');\n",
              "        const dataTable =\n",
              "          await google.colab.kernel.invokeFunction('convertToInteractive',\n",
              "                                                    [key], {});\n",
              "        if (!dataTable) return;\n",
              "\n",
              "        const docLinkHtml = 'Like what you see? Visit the ' +\n",
              "          '<a target=\"_blank\" href=https://colab.research.google.com/notebooks/data_table.ipynb>data table notebook</a>'\n",
              "          + ' to learn more about interactive tables.';\n",
              "        element.innerHTML = '';\n",
              "        dataTable['output_type'] = 'display_data';\n",
              "        await google.colab.output.renderOutput(dataTable, element);\n",
              "        const docLink = document.createElement('div');\n",
              "        docLink.innerHTML = docLinkHtml;\n",
              "        element.appendChild(docLink);\n",
              "      }\n",
              "    </script>\n",
              "  </div>\n",
              "\n",
              "\n",
              "<div id=\"df-dcb5adc9-424a-455e-8464-fe904a134c8b\">\n",
              "  <button class=\"colab-df-quickchart\" onclick=\"quickchart('df-dcb5adc9-424a-455e-8464-fe904a134c8b')\"\n",
              "            title=\"Suggest charts\"\n",
              "            style=\"display:none;\">\n",
              "\n",
              "<svg xmlns=\"http://www.w3.org/2000/svg\" height=\"24px\"viewBox=\"0 0 24 24\"\n",
              "     width=\"24px\">\n",
              "    <g>\n",
              "        <path d=\"M19 3H5c-1.1 0-2 .9-2 2v14c0 1.1.9 2 2 2h14c1.1 0 2-.9 2-2V5c0-1.1-.9-2-2-2zM9 17H7v-7h2v7zm4 0h-2V7h2v10zm4 0h-2v-4h2v4z\"/>\n",
              "    </g>\n",
              "</svg>\n",
              "  </button>\n",
              "\n",
              "<style>\n",
              "  .colab-df-quickchart {\n",
              "      --bg-color: #E8F0FE;\n",
              "      --fill-color: #1967D2;\n",
              "      --hover-bg-color: #E2EBFA;\n",
              "      --hover-fill-color: #174EA6;\n",
              "      --disabled-fill-color: #AAA;\n",
              "      --disabled-bg-color: #DDD;\n",
              "  }\n",
              "\n",
              "  [theme=dark] .colab-df-quickchart {\n",
              "      --bg-color: #3B4455;\n",
              "      --fill-color: #D2E3FC;\n",
              "      --hover-bg-color: #434B5C;\n",
              "      --hover-fill-color: #FFFFFF;\n",
              "      --disabled-bg-color: #3B4455;\n",
              "      --disabled-fill-color: #666;\n",
              "  }\n",
              "\n",
              "  .colab-df-quickchart {\n",
              "    background-color: var(--bg-color);\n",
              "    border: none;\n",
              "    border-radius: 50%;\n",
              "    cursor: pointer;\n",
              "    display: none;\n",
              "    fill: var(--fill-color);\n",
              "    height: 32px;\n",
              "    padding: 0;\n",
              "    width: 32px;\n",
              "  }\n",
              "\n",
              "  .colab-df-quickchart:hover {\n",
              "    background-color: var(--hover-bg-color);\n",
              "    box-shadow: 0 1px 2px rgba(60, 64, 67, 0.3), 0 1px 3px 1px rgba(60, 64, 67, 0.15);\n",
              "    fill: var(--button-hover-fill-color);\n",
              "  }\n",
              "\n",
              "  .colab-df-quickchart-complete:disabled,\n",
              "  .colab-df-quickchart-complete:disabled:hover {\n",
              "    background-color: var(--disabled-bg-color);\n",
              "    fill: var(--disabled-fill-color);\n",
              "    box-shadow: none;\n",
              "  }\n",
              "\n",
              "  .colab-df-spinner {\n",
              "    border: 2px solid var(--fill-color);\n",
              "    border-color: transparent;\n",
              "    border-bottom-color: var(--fill-color);\n",
              "    animation:\n",
              "      spin 1s steps(1) infinite;\n",
              "  }\n",
              "\n",
              "  @keyframes spin {\n",
              "    0% {\n",
              "      border-color: transparent;\n",
              "      border-bottom-color: var(--fill-color);\n",
              "      border-left-color: var(--fill-color);\n",
              "    }\n",
              "    20% {\n",
              "      border-color: transparent;\n",
              "      border-left-color: var(--fill-color);\n",
              "      border-top-color: var(--fill-color);\n",
              "    }\n",
              "    30% {\n",
              "      border-color: transparent;\n",
              "      border-left-color: var(--fill-color);\n",
              "      border-top-color: var(--fill-color);\n",
              "      border-right-color: var(--fill-color);\n",
              "    }\n",
              "    40% {\n",
              "      border-color: transparent;\n",
              "      border-right-color: var(--fill-color);\n",
              "      border-top-color: var(--fill-color);\n",
              "    }\n",
              "    60% {\n",
              "      border-color: transparent;\n",
              "      border-right-color: var(--fill-color);\n",
              "    }\n",
              "    80% {\n",
              "      border-color: transparent;\n",
              "      border-right-color: var(--fill-color);\n",
              "      border-bottom-color: var(--fill-color);\n",
              "    }\n",
              "    90% {\n",
              "      border-color: transparent;\n",
              "      border-bottom-color: var(--fill-color);\n",
              "    }\n",
              "  }\n",
              "</style>\n",
              "\n",
              "  <script>\n",
              "    async function quickchart(key) {\n",
              "      const quickchartButtonEl =\n",
              "        document.querySelector('#' + key + ' button');\n",
              "      quickchartButtonEl.disabled = true;  // To prevent multiple clicks.\n",
              "      quickchartButtonEl.classList.add('colab-df-spinner');\n",
              "      try {\n",
              "        const charts = await google.colab.kernel.invokeFunction(\n",
              "            'suggestCharts', [key], {});\n",
              "      } catch (error) {\n",
              "        console.error('Error during call to suggestCharts:', error);\n",
              "      }\n",
              "      quickchartButtonEl.classList.remove('colab-df-spinner');\n",
              "      quickchartButtonEl.classList.add('colab-df-quickchart-complete');\n",
              "    }\n",
              "    (() => {\n",
              "      let quickchartButtonEl =\n",
              "        document.querySelector('#df-dcb5adc9-424a-455e-8464-fe904a134c8b button');\n",
              "      quickchartButtonEl.style.display =\n",
              "        google.colab.kernel.accessAllowed ? 'block' : 'none';\n",
              "    })();\n",
              "  </script>\n",
              "</div>\n",
              "    </div>\n",
              "  </div>\n"
            ],
            "text/plain": [
              "       Unnamed: 0            timestamp    TP2    TP3     H1  DV_pressure  \\\n",
              "54890      716469  2020-05-12 01:02:30 -0.014  8.898  8.886       -0.022   \n",
              "29206     1172089  2020-07-15 17:14:34  8.048  7.628 -0.002       -0.010   \n",
              "49959     1298069  2020-08-01 05:49:45  9.538  9.108 -0.014       -0.020   \n",
              "58851     1022368  2020-06-23 03:53:08  8.390  8.506 -0.014       -0.014   \n",
              "11289      891082  2020-06-05 10:45:00  7.396  8.108 -0.006        1.928   \n",
              "\n",
              "       Reservoirs  Oil_temperature  Motor_current  COMP  DV_eletric  Towers  \\\n",
              "54890       8.900           54.325         0.0425   1.0         0.0     1.0   \n",
              "29206       7.626           82.650         5.3800   0.0         1.0     1.0   \n",
              "49959       9.106           60.875         5.9450   0.0         1.0     1.0   \n",
              "58851       8.506           65.150         5.5750   0.0         1.0     1.0   \n",
              "11289       8.110           76.500         5.3200   0.0         1.0     1.0   \n",
              "\n",
              "       MPG  LPS  Pressure_switch  Oil_level  Caudal_impulses  status  \n",
              "54890  1.0  0.0              1.0        1.0              1.0       0  \n",
              "29206  0.0  0.0              1.0        1.0              1.0       1  \n",
              "49959  0.0  0.0              1.0        1.0              1.0       0  \n",
              "58851  0.0  0.0              1.0        1.0              1.0       0  \n",
              "11289  0.0  0.0              1.0        1.0              1.0       1  "
            ]
          },
          "execution_count": 77,
          "metadata": {},
          "output_type": "execute_result"
        }
      ],
      "source": [
        "# Choose only features selected from Question 2\n",
        "#Shuffle the data\n",
        "data = data.sample(frac = 1)\n",
        "data.head()"
      ]
    },
    {
      "cell_type": "code",
      "execution_count": null,
      "id": "91bfe838",
      "metadata": {
        "id": "91bfe838"
      },
      "outputs": [],
      "source": [
        "X = data[selected_features]\n",
        "y = data['status']"
      ]
    },
    {
      "cell_type": "code",
      "execution_count": null,
      "id": "53c73158",
      "metadata": {
        "id": "53c73158"
      },
      "outputs": [],
      "source": [
        "X_train, X_test, y_train, y_test = train_test_split(X, y, test_size=0.2, random_state=42)"
      ]
    },
    {
      "cell_type": "code",
      "execution_count": null,
      "id": "b31d32b4",
      "metadata": {
        "colab": {
          "base_uri": "https://localhost:8080/"
        },
        "id": "b31d32b4",
        "outputId": "80a3ed40-26b6-43b3-e7fe-12a8dd003e1c"
      },
      "outputs": [
        {
          "name": "stderr",
          "output_type": "stream",
          "text": [
            "<ipython-input-80-36b7fdb58a65>:5: FutureWarning: Support for multi-dimensional indexing (e.g. `obj[:, None]`) is deprecated and will be removed in a future version.  Convert to a numpy array before indexing instead.\n",
            "  y_train = onehotencoder.fit_transform(y_train[:, np.newaxis]).toarray()\n",
            "<ipython-input-80-36b7fdb58a65>:8: FutureWarning: Support for multi-dimensional indexing (e.g. `obj[:, None]`) is deprecated and will be removed in a future version.  Convert to a numpy array before indexing instead.\n",
            "  y_test = onehotencoder.fit_transform(y_test[:, np.newaxis]).toarray()\n"
          ]
        }
      ],
      "source": [
        "onehotencoder = OneHotEncoder(categories='auto')\n",
        "scaler = StandardScaler()\n",
        "\n",
        "X_train = scaler.fit_transform(X_train)\n",
        "y_train = onehotencoder.fit_transform(y_train[:, np.newaxis]).toarray()\n",
        "\n",
        "X_test = scaler.fit_transform(X_test)\n",
        "y_test = onehotencoder.fit_transform(y_test[:, np.newaxis]).toarray()"
      ]
    },
    {
      "cell_type": "code",
      "execution_count": null,
      "id": "54523154",
      "metadata": {
        "id": "54523154"
      },
      "outputs": [],
      "source": [
        "#Tranfer data to GPU:\n",
        "X_train_gpu = cp.asarray(X_train)\n",
        "y_train_gpu = cp.asarray(y_train)\n",
        "\n",
        "X_test_gpu = cp.asarray(X_test)\n",
        "y_test_gpu = cp.asarray(y_test)"
      ]
    },
    {
      "cell_type": "code",
      "execution_count": null,
      "id": "b8f9302d",
      "metadata": {
        "id": "b8f9302d"
      },
      "outputs": [],
      "source": [
        "#this Extreme Machine Learning class is implemented specificly to work on GPU\n",
        "#this will not run on a CPU machine\n",
        "\n",
        "class ExtremeLearningMachine():\n",
        "  def __init__(self, hidden_size = 10, threshold = 0.5):\n",
        "    self._hidden_size = hidden_size\n",
        "    self._input_size  = None\n",
        "    self._w = None\n",
        "    self._b = None\n",
        "    self._beta = None\n",
        "    self._threshold = 0.5\n",
        "\n",
        "  def _h(self,x):\n",
        "    return self._tanh(cp.dot(x, self._w) + self._b )\n",
        "\n",
        "  @property\n",
        "  def hidden_size(self):\n",
        "    return self._hidden_size\n",
        "\n",
        "  @staticmethod\n",
        "  def _tanh(x):\n",
        "    return cp.tanh(x)\n",
        "\n",
        "  def fit(self, x, y):\n",
        "    self._input_size = x.shape[1]\n",
        "    self._w = cp.random.normal( size = [self._input_size, self._hidden_size])\n",
        "    self._b = cp.random.normal(size = [self._hidden_size])\n",
        "\n",
        "    H = self._h(x)\n",
        "    self._beta = cp.dot(pinv2(H), y)\n",
        "\n",
        "  def predict(self, x):\n",
        "    out = cp.dot(self._h(x), self._beta)\n",
        "    return out"
      ]
    },
    {
      "cell_type": "code",
      "execution_count": null,
      "id": "9e4fa333",
      "metadata": {
        "id": "9e4fa333"
      },
      "outputs": [],
      "source": [
        "num_hidden = [5,10,20,30,40,50,60,70]\n",
        "scores = []\n",
        "\n",
        "for h in num_hidden:\n",
        "  elm = ExtremeLearningMachine(h)\n",
        "  elm.fit(X_train_gpu, y_train_gpu)\n",
        "  y_pred_gpu = elm.predict(X_test_gpu)\n",
        "\n",
        "  #Convert data back to cpu\n",
        "  y_pred = cp.asnumpy(y_pred_gpu)\n",
        "  y_test = cp.asnumpy(y_test_gpu)\n",
        "\n",
        "  y_pred = np.argmax(y_pred, axis = 1)\n",
        "  y_test = np.argmax(y_test, axis = 1)\n",
        "  scores.append(accuracy_score(y_test, y_pred))\n",
        "  #Clear GPU memmory\n",
        "  del elm\n",
        "  cp._default_memory_pool.free_all_blocks()"
      ]
    },
    {
      "cell_type": "code",
      "execution_count": null,
      "id": "1e39c81e",
      "metadata": {
        "id": "1e39c81e"
      },
      "outputs": [],
      "source": [
        "best_hidden_size_indx = np.argmax(scores)\n",
        "best_hidden_size = num_hidden[best_hidden_size_indx]\n",
        "best_score       = scores[best_hidden_size_indx]"
      ]
    },
    {
      "cell_type": "code",
      "execution_count": null,
      "id": "02348fcb",
      "metadata": {
        "colab": {
          "base_uri": "https://localhost:8080/",
          "height": 472
        },
        "id": "02348fcb",
        "outputId": "251bdb99-37ae-4b63-8b6c-41fa54882bca"
      },
      "outputs": [
        {
          "data": {
            "image/png": "[encoded data removed]",
            "text/plain": [
              "<Figure size 640x480 with 1 Axes>"
            ]
          },
          "metadata": {},
          "output_type": "display_data"
        }
      ],
      "source": [
        "plt.plot(num_hidden, scores)\n",
        "plt.scatter(best_hidden_size, best_score, s = 250, marker = \"*\", color = 'r' , label = 'Best Accuracy')\n",
        "plt.xlabel('Number of Hidden Units')\n",
        "plt.ylabel('Accuracy')\n",
        "plt.title('Accuracy of ELM in relative with number of hidden units' )\n",
        "plt.legend()\n",
        "plt.show()"
      ]
    },
    {
      "cell_type": "code",
      "execution_count": null,
      "id": "a25f80c2",
      "metadata": {
        "id": "a25f80c2"
      },
      "outputs": [],
      "source": [
        "elm = ExtremeLearningMachine(best_hidden_size)\n",
        "elm.fit(X_train_gpu, y_train_gpu)"
      ]
    },
    {
      "cell_type": "code",
      "execution_count": null,
      "id": "88f3890d",
      "metadata": {
        "id": "88f3890d"
      },
      "outputs": [],
      "source": [
        "y_pred_gpu = elm.predict(X_test_gpu)"
      ]
    },
    {
      "cell_type": "code",
      "execution_count": null,
      "id": "8e9e6c9f",
      "metadata": {
        "colab": {
          "base_uri": "https://localhost:8080/",
          "height": 623
        },
        "id": "8e9e6c9f",
        "outputId": "d8ef29e9-0753-410b-ff7f-5b7fed1af0dd"
      },
      "outputs": [
        {
          "name": "stdout",
          "output_type": "stream",
          "text": [
            "Best result achieved with 50 hidden units\n",
            "              precision    recall  f1-score   support\n",
            "\n",
            "           0       1.00      1.00      1.00      5975\n",
            "           1       1.00      1.00      1.00      5914\n",
            "\n",
            "    accuracy                           1.00     11889\n",
            "   macro avg       1.00      1.00      1.00     11889\n",
            "weighted avg       1.00      1.00      1.00     11889\n",
            "\n"
          ]
        },
        {
          "data": {
            "image/png": "[encoded data removed]",
            "text/plain": [
              "<Figure size 640x480 with 2 Axes>"
            ]
          },
          "metadata": {},
          "output_type": "display_data"
        }
      ],
      "source": [
        "#Convert data back to cpu\n",
        "y_pred = cp.asnumpy(y_pred_gpu)\n",
        "y_test = cp.asnumpy(y_test_gpu)\n",
        "\n",
        "y_pred = np.argmax(y_pred, axis = 1)\n",
        "y_test = np.argmax(y_test, axis = 1)\n",
        "\n",
        "print(f'Best result achieved with {elm.hidden_size} hidden units')\n",
        "print(classification_report(y_test, y_pred))\n",
        "c_mat  = confusion_matrix(y_test, y_pred)\n",
        "disp = ConfusionMatrixDisplay(c_mat, display_labels=['0', '1'])\n",
        "disp.plot(cmap='Blues', values_format='d')\n",
        "plt.show()"
      ]
    },
    {
      "cell_type": "code",
      "execution_count": null,
      "id": "7123d6c0",
      "metadata": {
        "id": "7123d6c0"
      },
      "outputs": [],
      "source": [
        "#Clear GPU memmory\n",
        "del X_train_gpu\n",
        "del y_train_gpu\n",
        "del X_test_gpu\n",
        "del y_test_gpu\n",
        "cp._default_memory_pool.free_all_blocks()"
      ]
    },
    {
      "cell_type": "markdown",
      "id": "4UKStyKVEC7A",
      "metadata": {
        "id": "4UKStyKVEC7A"
      },
      "source": [
        "### 4. Neural Network with 2 hidden layers"
      ]
    },
    {
      "cell_type": "markdown",
      "id": "6f4a16b1",
      "metadata": {
        "id": "6f4a16b1"
      },
      "source": [
        "**About the Model :**\n",
        "The neural network model created for this metro dataset consists of two hidden layers, each with 64 neurons, designed to capture complex patterns and relationships within the data. By utilizing a deep learning approach, the model aims to accurately predict the 'status' variable, effectively handling the non-linear and intricate dependencies likely present in the diverse range of features from the metro operational metrics."
      ]
    },
    {
      "cell_type": "markdown",
      "id": "76dfa590",
      "metadata": {
        "id": "76dfa590"
      },
      "source": [
        "**Why TensorFlow and Keras?**\n",
        "\n",
        "Handling Large and Complex Datasets: since metro dataset is large or complex, TensorFlow and Keras can efficiently handle such datasets. Deep learning models, particularly those built with these frameworks, are known for their ability to process and extract patterns from large volumes of data.\n",
        "\n",
        "Feature Learning: Deep learning models have the capability to automatically learn and extract features from raw data. This can be particularly useful since dataset contains complex patterns or relationships that are not easily captured with traditional machine learning models.\n",
        "\n",
        "Non-linear Relationships: Neural networks, which can be easily built using TensorFlow and Keras, are adept at capturing non-linear relationships in the data. The metro dataset has intricate dependencies between variables, a neural network might model these relationships more effectively than a simpler linear model."
      ]
    },
    {
      "cell_type": "code",
      "execution_count": null,
      "id": "c164385e",
      "metadata": {
        "id": "c164385e"
      },
      "outputs": [],
      "source": [
        "import pandas as pd\n",
        "import numpy as np\n",
        "import matplotlib.pyplot as plt\n",
        "from sklearn.model_selection import train_test_split\n",
        "from sklearn.preprocessing import StandardScaler\n",
        "from sklearn.metrics import classification_report, ConfusionMatrixDisplay, accuracy_score, confusion_matrix, roc_curve, auc\n",
        "\n",
        "import tensorflow as tf\n",
        "from tensorflow.keras.models import Sequential\n",
        "from tensorflow.keras.layers import Dense\n",
        "from tensorflow.keras.optimizers import Adam\n",
        "from tensorflow.keras.utils import to_categorical\n",
        "\n",
        "from tensorflow.keras.callbacks import EarlyStopping\n",
        "from tensorflow.keras.callbacks import LearningRateScheduler\n",
        "from tensorflow.keras.callbacks import ReduceLROnPlateau"
      ]
    },
    {
      "cell_type": "code",
      "execution_count": null,
      "id": "ctdyqgnDFVQu",
      "metadata": {
        "colab": {
          "base_uri": "https://localhost:8080/",
          "height": 206
        },
        "id": "ctdyqgnDFVQu",
        "outputId": "454f09c0-43b0-454d-d853-ecc7f9ed884c"
      },
      "outputs": [
        {
          "data": {
            "text/html": [
              "\n",
              "  <div id=\"df-c6f95b0c-3a8d-4110-8fc1-40f80f5d70b0\" class=\"colab-df-container\">\n",
              "    <div>\n",
              "<style scoped>\n",
              "    .dataframe tbody tr th:only-of-type {\n",
              "        vertical-align: middle;\n",
              "    }\n",
              "\n",
              "    .dataframe tbody tr th {\n",
              "        vertical-align: top;\n",
              "    }\n",
              "\n",
              "    .dataframe thead th {\n",
              "        text-align: right;\n",
              "    }\n",
              "</style>\n",
              "<table border=\"1\" class=\"dataframe\">\n",
              "  <thead>\n",
              "    <tr style=\"text-align: right;\">\n",
              "      <th></th>\n",
              "      <th>Unnamed: 0</th>\n",
              "      <th>timestamp</th>\n",
              "      <th>TP2</th>\n",
              "      <th>TP3</th>\n",
              "      <th>H1</th>\n",
              "      <th>DV_pressure</th>\n",
              "      <th>Reservoirs</th>\n",
              "      <th>Oil_temperature</th>\n",
              "      <th>Motor_current</th>\n",
              "      <th>COMP</th>\n",
              "      <th>DV_eletric</th>\n",
              "      <th>Towers</th>\n",
              "      <th>MPG</th>\n",
              "      <th>LPS</th>\n",
              "      <th>Pressure_switch</th>\n",
              "      <th>Oil_level</th>\n",
              "      <th>Caudal_impulses</th>\n",
              "      <th>status</th>\n",
              "    </tr>\n",
              "  </thead>\n",
              "  <tbody>\n",
              "    <tr>\n",
              "      <th>8371</th>\n",
              "      <td>570935</td>\n",
              "      <td>2020-04-18 23:11:52</td>\n",
              "      <td>9.030</td>\n",
              "      <td>8.876</td>\n",
              "      <td>-0.008</td>\n",
              "      <td>2.008</td>\n",
              "      <td>8.876</td>\n",
              "      <td>73.650</td>\n",
              "      <td>5.8050</td>\n",
              "      <td>0.0</td>\n",
              "      <td>1.0</td>\n",
              "      <td>0.0</td>\n",
              "      <td>0.0</td>\n",
              "      <td>0.0</td>\n",
              "      <td>1.0</td>\n",
              "      <td>1.0</td>\n",
              "      <td>1.0</td>\n",
              "      <td>1</td>\n",
              "    </tr>\n",
              "    <tr>\n",
              "      <th>48674</th>\n",
              "      <td>669878</td>\n",
              "      <td>2020-05-05 04:30:03</td>\n",
              "      <td>-0.014</td>\n",
              "      <td>9.710</td>\n",
              "      <td>9.696</td>\n",
              "      <td>-0.022</td>\n",
              "      <td>9.710</td>\n",
              "      <td>53.025</td>\n",
              "      <td>3.8275</td>\n",
              "      <td>1.0</td>\n",
              "      <td>0.0</td>\n",
              "      <td>1.0</td>\n",
              "      <td>1.0</td>\n",
              "      <td>0.0</td>\n",
              "      <td>1.0</td>\n",
              "      <td>1.0</td>\n",
              "      <td>1.0</td>\n",
              "      <td>0</td>\n",
              "    </tr>\n",
              "    <tr>\n",
              "      <th>43302</th>\n",
              "      <td>539952</td>\n",
              "      <td>2020-04-15 01:11:32</td>\n",
              "      <td>-0.014</td>\n",
              "      <td>9.908</td>\n",
              "      <td>9.894</td>\n",
              "      <td>-0.024</td>\n",
              "      <td>9.906</td>\n",
              "      <td>62.875</td>\n",
              "      <td>3.8850</td>\n",
              "      <td>1.0</td>\n",
              "      <td>0.0</td>\n",
              "      <td>1.0</td>\n",
              "      <td>1.0</td>\n",
              "      <td>0.0</td>\n",
              "      <td>1.0</td>\n",
              "      <td>1.0</td>\n",
              "      <td>1.0</td>\n",
              "      <td>0</td>\n",
              "    </tr>\n",
              "    <tr>\n",
              "      <th>21872</th>\n",
              "      <td>901665</td>\n",
              "      <td>2020-06-06 15:53:28</td>\n",
              "      <td>6.972</td>\n",
              "      <td>8.098</td>\n",
              "      <td>-0.006</td>\n",
              "      <td>1.760</td>\n",
              "      <td>8.102</td>\n",
              "      <td>75.975</td>\n",
              "      <td>5.2000</td>\n",
              "      <td>0.0</td>\n",
              "      <td>1.0</td>\n",
              "      <td>0.0</td>\n",
              "      <td>0.0</td>\n",
              "      <td>0.0</td>\n",
              "      <td>1.0</td>\n",
              "      <td>1.0</td>\n",
              "      <td>1.0</td>\n",
              "      <td>1</td>\n",
              "    </tr>\n",
              "    <tr>\n",
              "      <th>36316</th>\n",
              "      <td>493164</td>\n",
              "      <td>2020-04-08 01:02:28</td>\n",
              "      <td>-0.014</td>\n",
              "      <td>9.102</td>\n",
              "      <td>9.088</td>\n",
              "      <td>-0.024</td>\n",
              "      <td>9.102</td>\n",
              "      <td>56.800</td>\n",
              "      <td>0.0400</td>\n",
              "      <td>1.0</td>\n",
              "      <td>0.0</td>\n",
              "      <td>1.0</td>\n",
              "      <td>1.0</td>\n",
              "      <td>0.0</td>\n",
              "      <td>1.0</td>\n",
              "      <td>1.0</td>\n",
              "      <td>1.0</td>\n",
              "      <td>0</td>\n",
              "    </tr>\n",
              "  </tbody>\n",
              "</table>\n",
              "</div>\n",
              "    <div class=\"colab-df-buttons\">\n",
              "\n",
              "  <div class=\"colab-df-container\">\n",
              "    <button class=\"colab-df-convert\" onclick=\"convertToInteractive('df-c6f95b0c-3a8d-4110-8fc1-40f80f5d70b0')\"\n",
              "            title=\"Convert this dataframe to an interactive table.\"\n",
              "            style=\"display:none;\">\n",
              "\n",
              "  <svg xmlns=\"http://www.w3.org/2000/svg\" height=\"24px\" viewBox=\"0 -960 960 960\">\n",
              "    <path d=\"M120-120v-720h720v720H120Zm60-500h600v-160H180v160Zm220 220h160v-160H400v160Zm0 220h160v-160H400v160ZM180-400h160v-160H180v160Zm440 0h160v-160H620v160ZM180-180h160v-160H180v160Zm440 0h160v-160H620v160Z\"/>\n",
              "  </svg>\n",
              "    </button>\n",
              "\n",
              "  <style>\n",
              "    .colab-df-container {\n",
              "      display:flex;\n",
              "      gap: 12px;\n",
              "    }\n",
              "\n",
              "    .colab-df-convert {\n",
              "      background-color: #E8F0FE;\n",
              "      border: none;\n",
              "      border-radius: 50%;\n",
              "      cursor: pointer;\n",
              "      display: none;\n",
              "      fill: #1967D2;\n",
              "      height: 32px;\n",
              "      padding: 0 0 0 0;\n",
              "      width: 32px;\n",
              "    }\n",
              "\n",
              "    .colab-df-convert:hover {\n",
              "      background-color: #E2EBFA;\n",
              "      box-shadow: 0px 1px 2px rgba(60, 64, 67, 0.3), 0px 1px 3px 1px rgba(60, 64, 67, 0.15);\n",
              "      fill: #174EA6;\n",
              "    }\n",
              "\n",
              "    .colab-df-buttons div {\n",
              "      margin-bottom: 4px;\n",
              "    }\n",
              "\n",
              "    [theme=dark] .colab-df-convert {\n",
              "      background-color: #3B4455;\n",
              "      fill: #D2E3FC;\n",
              "    }\n",
              "\n",
              "    [theme=dark] .colab-df-convert:hover {\n",
              "      background-color: #434B5C;\n",
              "      box-shadow: 0px 1px 3px 1px rgba(0, 0, 0, 0.15);\n",
              "      filter: drop-shadow(0px 1px 2px rgba(0, 0, 0, 0.3));\n",
              "      fill: #FFFFFF;\n",
              "    }\n",
              "  </style>\n",
              "\n",
              "    <script>\n",
              "      const buttonEl =\n",
              "        document.querySelector('#df-c6f95b0c-3a8d-4110-8fc1-40f80f5d70b0 button.colab-df-convert');\n",
              "      buttonEl.style.display =\n",
              "        google.colab.kernel.accessAllowed ? 'block' : 'none';\n",
              "\n",
              "      async function convertToInteractive(key) {\n",
              "        const element = document.querySelector('#df-c6f95b0c-3a8d-4110-8fc1-40f80f5d70b0');\n",
              "        const dataTable =\n",
              "          await google.colab.kernel.invokeFunction('convertToInteractive',\n",
              "                                                    [key], {});\n",
              "        if (!dataTable) return;\n",
              "\n",
              "        const docLinkHtml = 'Like what you see? Visit the ' +\n",
              "          '<a target=\"_blank\" href=https://colab.research.google.com/notebooks/data_table.ipynb>data table notebook</a>'\n",
              "          + ' to learn more about interactive tables.';\n",
              "        element.innerHTML = '';\n",
              "        dataTable['output_type'] = 'display_data';\n",
              "        await google.colab.output.renderOutput(dataTable, element);\n",
              "        const docLink = document.createElement('div');\n",
              "        docLink.innerHTML = docLinkHtml;\n",
              "        element.appendChild(docLink);\n",
              "      }\n",
              "    </script>\n",
              "  </div>\n",
              "\n",
              "\n",
              "<div id=\"df-e0166db5-5772-414b-8be7-44390aa69479\">\n",
              "  <button class=\"colab-df-quickchart\" onclick=\"quickchart('df-e0166db5-5772-414b-8be7-44390aa69479')\"\n",
              "            title=\"Suggest charts\"\n",
              "            style=\"display:none;\">\n",
              "\n",
              "<svg xmlns=\"http://www.w3.org/2000/svg\" height=\"24px\"viewBox=\"0 0 24 24\"\n",
              "     width=\"24px\">\n",
              "    <g>\n",
              "        <path d=\"M19 3H5c-1.1 0-2 .9-2 2v14c0 1.1.9 2 2 2h14c1.1 0 2-.9 2-2V5c0-1.1-.9-2-2-2zM9 17H7v-7h2v7zm4 0h-2V7h2v10zm4 0h-2v-4h2v4z\"/>\n",
              "    </g>\n",
              "</svg>\n",
              "  </button>\n",
              "\n",
              "<style>\n",
              "  .colab-df-quickchart {\n",
              "      --bg-color: #E8F0FE;\n",
              "      --fill-color: #1967D2;\n",
              "      --hover-bg-color: #E2EBFA;\n",
              "      --hover-fill-color: #174EA6;\n",
              "      --disabled-fill-color: #AAA;\n",
              "      --disabled-bg-color: #DDD;\n",
              "  }\n",
              "\n",
              "  [theme=dark] .colab-df-quickchart {\n",
              "      --bg-color: #3B4455;\n",
              "      --fill-color: #D2E3FC;\n",
              "      --hover-bg-color: #434B5C;\n",
              "      --hover-fill-color: #FFFFFF;\n",
              "      --disabled-bg-color: #3B4455;\n",
              "      --disabled-fill-color: #666;\n",
              "  }\n",
              "\n",
              "  .colab-df-quickchart {\n",
              "    background-color: var(--bg-color);\n",
              "    border: none;\n",
              "    border-radius: 50%;\n",
              "    cursor: pointer;\n",
              "    display: none;\n",
              "    fill: var(--fill-color);\n",
              "    height: 32px;\n",
              "    padding: 0;\n",
              "    width: 32px;\n",
              "  }\n",
              "\n",
              "  .colab-df-quickchart:hover {\n",
              "    background-color: var(--hover-bg-color);\n",
              "    box-shadow: 0 1px 2px rgba(60, 64, 67, 0.3), 0 1px 3px 1px rgba(60, 64, 67, 0.15);\n",
              "    fill: var(--button-hover-fill-color);\n",
              "  }\n",
              "\n",
              "  .colab-df-quickchart-complete:disabled,\n",
              "  .colab-df-quickchart-complete:disabled:hover {\n",
              "    background-color: var(--disabled-bg-color);\n",
              "    fill: var(--disabled-fill-color);\n",
              "    box-shadow: none;\n",
              "  }\n",
              "\n",
              "  .colab-df-spinner {\n",
              "    border: 2px solid var(--fill-color);\n",
              "    border-color: transparent;\n",
              "    border-bottom-color: var(--fill-color);\n",
              "    animation:\n",
              "      spin 1s steps(1) infinite;\n",
              "  }\n",
              "\n",
              "  @keyframes spin {\n",
              "    0% {\n",
              "      border-color: transparent;\n",
              "      border-bottom-color: var(--fill-color);\n",
              "      border-left-color: var(--fill-color);\n",
              "    }\n",
              "    20% {\n",
              "      border-color: transparent;\n",
              "      border-left-color: var(--fill-color);\n",
              "      border-top-color: var(--fill-color);\n",
              "    }\n",
              "    30% {\n",
              "      border-color: transparent;\n",
              "      border-left-color: var(--fill-color);\n",
              "      border-top-color: var(--fill-color);\n",
              "      border-right-color: var(--fill-color);\n",
              "    }\n",
              "    40% {\n",
              "      border-color: transparent;\n",
              "      border-right-color: var(--fill-color);\n",
              "      border-top-color: var(--fill-color);\n",
              "    }\n",
              "    60% {\n",
              "      border-color: transparent;\n",
              "      border-right-color: var(--fill-color);\n",
              "    }\n",
              "    80% {\n",
              "      border-color: transparent;\n",
              "      border-right-color: var(--fill-color);\n",
              "      border-bottom-color: var(--fill-color);\n",
              "    }\n",
              "    90% {\n",
              "      border-color: transparent;\n",
              "      border-bottom-color: var(--fill-color);\n",
              "    }\n",
              "  }\n",
              "</style>\n",
              "\n",
              "  <script>\n",
              "    async function quickchart(key) {\n",
              "      const quickchartButtonEl =\n",
              "        document.querySelector('#' + key + ' button');\n",
              "      quickchartButtonEl.disabled = true;  // To prevent multiple clicks.\n",
              "      quickchartButtonEl.classList.add('colab-df-spinner');\n",
              "      try {\n",
              "        const charts = await google.colab.kernel.invokeFunction(\n",
              "            'suggestCharts', [key], {});\n",
              "      } catch (error) {\n",
              "        console.error('Error during call to suggestCharts:', error);\n",
              "      }\n",
              "      quickchartButtonEl.classList.remove('colab-df-spinner');\n",
              "      quickchartButtonEl.classList.add('colab-df-quickchart-complete');\n",
              "    }\n",
              "    (() => {\n",
              "      let quickchartButtonEl =\n",
              "        document.querySelector('#df-e0166db5-5772-414b-8be7-44390aa69479 button');\n",
              "      quickchartButtonEl.style.display =\n",
              "        google.colab.kernel.accessAllowed ? 'block' : 'none';\n",
              "    })();\n",
              "  </script>\n",
              "</div>\n",
              "    </div>\n",
              "  </div>\n"
            ],
            "text/plain": [
              "       Unnamed: 0            timestamp    TP2    TP3     H1  DV_pressure  \\\n",
              "8371       570935  2020-04-18 23:11:52  9.030  8.876 -0.008        2.008   \n",
              "48674      669878  2020-05-05 04:30:03 -0.014  9.710  9.696       -0.022   \n",
              "43302      539952  2020-04-15 01:11:32 -0.014  9.908  9.894       -0.024   \n",
              "21872      901665  2020-06-06 15:53:28  6.972  8.098 -0.006        1.760   \n",
              "36316      493164  2020-04-08 01:02:28 -0.014  9.102  9.088       -0.024   \n",
              "\n",
              "       Reservoirs  Oil_temperature  Motor_current  COMP  DV_eletric  Towers  \\\n",
              "8371        8.876           73.650         5.8050   0.0         1.0     0.0   \n",
              "48674       9.710           53.025         3.8275   1.0         0.0     1.0   \n",
              "43302       9.906           62.875         3.8850   1.0         0.0     1.0   \n",
              "21872       8.102           75.975         5.2000   0.0         1.0     0.0   \n",
              "36316       9.102           56.800         0.0400   1.0         0.0     1.0   \n",
              "\n",
              "       MPG  LPS  Pressure_switch  Oil_level  Caudal_impulses  status  \n",
              "8371   0.0  0.0              1.0        1.0              1.0       1  \n",
              "48674  1.0  0.0              1.0        1.0              1.0       0  \n",
              "43302  1.0  0.0              1.0        1.0              1.0       0  \n",
              "21872  0.0  0.0              1.0        1.0              1.0       1  \n",
              "36316  1.0  0.0              1.0        1.0              1.0       0  "
            ]
          },
          "execution_count": 3,
          "metadata": {},
          "output_type": "execute_result"
        }
      ],
      "source": [
        "# Read the dataset\n",
        "data = pd.read_csv('Group_14_Clean_Data.csv')\n",
        "\n",
        "# Choose only features selected from Question 2\n",
        "#Shuffle the data\n",
        "data = data.sample(frac = 1)\n",
        "data.head()"
      ]
    },
    {
      "cell_type": "code",
      "execution_count": null,
      "id": "uLHP575gFfwM",
      "metadata": {
        "id": "uLHP575gFfwM"
      },
      "outputs": [],
      "source": [
        "# Preprocessing the data\n",
        "selected_features = [\"TP2\", \"H1\", \"DV_pressure\", \"Reservoirs\", \"Oil_temperature\", \"Motor_current\", \"Oil_level\", 'status']\n",
        "X = data[selected_features]\n",
        "y = data['status']\n",
        "\n",
        "scaler = StandardScaler()\n",
        "y = to_categorical(y, 2)\n",
        "X = scaler.fit_transform(X)\n",
        "\n",
        "\n",
        "# Split the data into training and testing sets\n",
        "X_train, X_test, y_train, y_test = train_test_split(X, y, test_size=0.2, random_state=42)"
      ]
    },
    {
      "cell_type": "code",
      "execution_count": null,
      "id": "5hBwpZ7mF8a7",
      "metadata": {
        "id": "5hBwpZ7mF8a7"
      },
      "outputs": [],
      "source": [
        "X_train = tf.convert_to_tensor(X_train)\n",
        "y_train = tf.convert_to_tensor(y_train)\n",
        "X_test = tf.convert_to_tensor(X_test)\n",
        "y_test = tf.convert_to_tensor(y_test)"
      ]
    },
    {
      "cell_type": "code",
      "execution_count": null,
      "id": "eUil8hqUF_LN",
      "metadata": {
        "colab": {
          "base_uri": "https://localhost:8080/"
        },
        "id": "eUil8hqUF_LN",
        "outputId": "bec05273-d22b-4118-8e7d-6b1e46d92f78"
      },
      "outputs": [
        {
          "name": "stdout",
          "output_type": "stream",
          "text": [
            "Epoch 1/10\n",
            "1189/1189 [==============================] - 7s 5ms/step - loss: 0.0157 - accuracy: 0.9977 - val_loss: 3.2347e-04 - val_accuracy: 1.0000 - lr: 0.0010\n",
            "Epoch 2/10\n",
            "1189/1189 [==============================] - 5s 4ms/step - loss: 1.7746e-04 - accuracy: 1.0000 - val_loss: 9.4491e-05 - val_accuracy: 1.0000 - lr: 0.0010\n",
            "Epoch 3/10\n",
            "1180/1189 [============================>.] - ETA: 0s - loss: 6.3143e-05 - accuracy: 1.0000\n",
            "Epoch 3: ReduceLROnPlateau reducing learning rate to 0.0006000000284984708.\n",
            "1189/1189 [==============================] - 5s 4ms/step - loss: 6.2976e-05 - accuracy: 1.0000 - val_loss: 4.0339e-05 - val_accuracy: 1.0000 - lr: 0.0010\n",
            "Epoch 4/10\n",
            "1184/1189 [============================>.] - ETA: 0s - loss: 3.2261e-05 - accuracy: 1.0000\n",
            "Epoch 4: ReduceLROnPlateau reducing learning rate to 0.0003600000170990825.\n",
            "1189/1189 [==============================] - 6s 5ms/step - loss: 3.2231e-05 - accuracy: 1.0000 - val_loss: 2.4758e-05 - val_accuracy: 1.0000 - lr: 6.0000e-04\n",
            "Epoch 5/10\n",
            "1186/1189 [============================>.] - ETA: 0s - loss: 2.1133e-05 - accuracy: 1.0000\n",
            "Epoch 5: ReduceLROnPlateau reducing learning rate to 0.00021600000327453016.\n",
            "1189/1189 [==============================] - 5s 5ms/step - loss: 2.1125e-05 - accuracy: 1.0000 - val_loss: 1.7420e-05 - val_accuracy: 1.0000 - lr: 3.6000e-04\n",
            "Epoch 6/10\n",
            "1184/1189 [============================>.] - ETA: 0s - loss: 1.5388e-05 - accuracy: 1.0000\n",
            "Epoch 6: ReduceLROnPlateau reducing learning rate to 0.00012960000021848827.\n",
            "1189/1189 [==============================] - 6s 5ms/step - loss: 1.5377e-05 - accuracy: 1.0000 - val_loss: 1.3172e-05 - val_accuracy: 1.0000 - lr: 2.1600e-04\n",
            "Epoch 7/10\n",
            "1188/1189 [============================>.] - ETA: 0s - loss: 1.1872e-05 - accuracy: 1.0000\n",
            "Epoch 7: ReduceLROnPlateau reducing learning rate to 7.775999838486313e-05.\n",
            "1189/1189 [==============================] - 5s 4ms/step - loss: 1.1871e-05 - accuracy: 1.0000 - val_loss: 1.0413e-05 - val_accuracy: 1.0000 - lr: 1.2960e-04\n",
            "Epoch 8/10\n",
            "1188/1189 [============================>.] - ETA: 0s - loss: 9.5199e-06 - accuracy: 1.0000\n",
            "Epoch 8: ReduceLROnPlateau reducing learning rate to 4.6655999904032795e-05.\n",
            "1189/1189 [==============================] - 4s 4ms/step - loss: 9.5189e-06 - accuracy: 1.0000 - val_loss: 8.4888e-06 - val_accuracy: 1.0000 - lr: 7.7760e-05\n",
            "Epoch 9/10\n",
            "1185/1189 [============================>.] - ETA: 0s - loss: 7.8435e-06 - accuracy: 1.0000\n",
            "Epoch 9: ReduceLROnPlateau reducing learning rate to 2.799360081553459e-05.\n",
            "1189/1189 [==============================] - 7s 6ms/step - loss: 7.8403e-06 - accuracy: 1.0000 - val_loss: 7.0780e-06 - val_accuracy: 1.0000 - lr: 4.6656e-05\n",
            "Epoch 10/10\n",
            "1185/1189 [============================>.] - ETA: 0s - loss: 6.5927e-06 - accuracy: 1.0000\n",
            "Epoch 10: ReduceLROnPlateau reducing learning rate to 1.6796160707599483e-05.\n",
            "1189/1189 [==============================] - 5s 4ms/step - loss: 6.5919e-06 - accuracy: 1.0000 - val_loss: 6.0121e-06 - val_accuracy: 1.0000 - lr: 2.7994e-05\n",
            "372/372 [==============================] - 1s 2ms/step\n"
          ]
        }
      ],
      "source": [
        "# Create the neural network model\n",
        "model = Sequential()\n",
        "model.add(Dense(32, input_dim=X_train.shape[1], activation='tanh'))  # First hidden layer\n",
        "model.add(Dense(32, activation='tanh'))  # Second hidden layer\n",
        "model.add(Dense(32, activation='tanh'))  # Second hidden layer\n",
        "model.add(Dense(2, activation='softmax'))  # Output layer\n",
        "\n",
        "early_stopping = EarlyStopping(monitor='val_accuracy', patience=3, restore_best_weights=True)\n",
        "lr_scheduler = ReduceLROnPlateau(monitor='val_accuracy', factor=0.6, patience=0, verbose=1, min_lr=1e-6)\n",
        "\n",
        "# Compile the model\n",
        "model.compile(loss='binary_crossentropy', optimizer=Adam(), metrics=['accuracy'])\n",
        "\n",
        "# Train the model\n",
        "model.fit(X_train, y_train, epochs=5, validation_split=0.2, callbacks=[early_stopping,lr_scheduler], verbose = 1)"
      ]
    },
    {
      "cell_type": "code",
      "execution_count": null,
      "id": "vJR-GK3EIZTf",
      "metadata": {
        "colab": {
          "base_uri": "https://localhost:8080/"
        },
        "id": "vJR-GK3EIZTf",
        "outputId": "c76dade8-3800-4bb3-d52c-dc33eddfd392"
      },
      "outputs": [
        {
          "name": "stdout",
          "output_type": "stream",
          "text": [
            "372/372 [==============================] - 1s 1ms/step\n"
          ]
        }
      ],
      "source": [
        "# Evaluate the model\n",
        "y_pred = model.predict(X_test)"
      ]
    },
    {
      "cell_type": "code",
      "execution_count": null,
      "id": "0A32Fle9GwXn",
      "metadata": {
        "id": "0A32Fle9GwXn"
      },
      "outputs": [],
      "source": [
        "y_pred = tf.math.argmax(y_pred, axis = 1)\n",
        "y_test = tf.math.argmax(y_test, axis = 1)"
      ]
    },
    {
      "cell_type": "code",
      "execution_count": null,
      "id": "oQ76hnvqEuI1",
      "metadata": {
        "colab": {
          "base_uri": "https://localhost:8080/",
          "height": 449
        },
        "id": "oQ76hnvqEuI1",
        "outputId": "18bb4559-4af9-427d-f3ec-a50e2813c47b"
      },
      "outputs": [
        {
          "data": {
            "image/png": "[encoded data removed]",
            "text/plain": [
              "<Figure size 640x480 with 2 Axes>"
            ]
          },
          "metadata": {},
          "output_type": "display_data"
        }
      ],
      "source": [
        "# Display the confusion matrix\n",
        "disp = ConfusionMatrixDisplay.from_predictions(y_test, y_pred)\n",
        "plt.show()"
      ]
    },
    {
      "cell_type": "code",
      "execution_count": null,
      "id": "T2P2plX-Ev1L",
      "metadata": {
        "colab": {
          "base_uri": "https://localhost:8080/"
        },
        "id": "T2P2plX-Ev1L",
        "outputId": "4dd23121-2f99-4b25-e8f1-7a163f037355"
      },
      "outputs": [
        {
          "name": "stdout",
          "output_type": "stream",
          "text": [
            "1.0\n",
            "              precision    recall  f1-score   support\n",
            "\n",
            "           0       1.00      1.00      1.00      5973\n",
            "           1       1.00      1.00      1.00      5916\n",
            "\n",
            "    accuracy                           1.00     11889\n",
            "   macro avg       1.00      1.00      1.00     11889\n",
            "weighted avg       1.00      1.00      1.00     11889\n",
            "\n"
          ]
        }
      ],
      "source": [
        "# Accuracy score\n",
        "print(accuracy_score(y_test, y_pred))\n",
        "\n",
        "# Classification report\n",
        "print(classification_report(y_test, y_pred))"
      ]
    },
    {
      "cell_type": "markdown",
      "id": "WGnxzBdpJKRa",
      "metadata": {
        "id": "WGnxzBdpJKRa"
      },
      "source": [
        "### 5. Ensemble Method"
      ]
    },
    {
      "cell_type": "code",
      "execution_count": null,
      "id": "2U_wkg-xJO9b",
      "metadata": {
        "id": "2U_wkg-xJO9b"
      },
      "outputs": [],
      "source": []
    }
  ],
  "metadata": {
    "accelerator": "GPU",
    "colab": {
      "gpuType": "T4",
      "provenance": [],
      "collapsed_sections": [
        "Ih6ORCX-xIvF",
        "8ca0c38b",
        "9b39a91c",
        "91ccd23e",
        "e5a72a4d",
        "38ce5082"
      ]
    },
    "kernelspec": {
      "display_name": "Python 3 (ipykernel)",
      "language": "python",
      "name": "python3"
    },
    "language_info": {
      "codemirror_mode": {
        "name": "ipython",
        "version": 3
      },
      "file_extension": ".py",
      "mimetype": "text/x-python",
      "name": "python",
      "nbconvert_exporter": "python",
      "pygments_lexer": "ipython3",
      "version": "3.9.0"
    }
  },
  "nbformat": 4,
  "nbformat_minor": 5
}