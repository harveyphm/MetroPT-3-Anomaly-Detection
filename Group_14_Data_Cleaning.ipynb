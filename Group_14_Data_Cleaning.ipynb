{
 "cells": [
  {
   "cell_type": "markdown",
   "id": "2U6-RcNVXpSP",
   "metadata": {
    "id": "2U6-RcNVXpSP"
   },
   "source": [
    "#INTRODUCTION TO DATA SCIENCE\n",
    "#Group 14 -- Project 1 -- Phase 1"
   ]
  },
  {
   "cell_type": "markdown",
   "id": "GKNRgkxIbVa3",
   "metadata": {
    "id": "GKNRgkxIbVa3"
   },
   "source": [
    "|Name| Student ID|\n",
    "|:---|:-----------:|\n",
    "|Pham, Quoc Huy| 2299356|\n",
    "|Hussain, Zakiuddin| 2338350|\n",
    "|Lee, Daeul Haven| 2308018|\n",
    "|Preetham| 2288949|\n",
    "|Jayanth| 2288552|\n",
    "|Srikavya| 2311351|"
   ]
  },
  {
   "cell_type": "markdown",
   "id": "GTYKOU71X4Ns",
   "metadata": {
    "id": "GTYKOU71X4Ns"
   },
   "source": [
    "Link to colab: https://colab.research.google.com/drive/1zeUCdIEciMGKir-OK0m8sxObEmXK_QMF?usp=sharing\n",
    "\n",
    "Link to the dataset: https://archive.ics.uci.edu/dataset/791/metropt+3+dataset"
   ]
  },
  {
   "cell_type": "code",
   "execution_count": null,
   "id": "phlxta-D_6Q_",
   "metadata": {
    "id": "phlxta-D_6Q_"
   },
   "outputs": [],
   "source": [
    "#Define ENV\n",
    "USE_GG_DRIVE = 0"
   ]
  },
  {
   "cell_type": "code",
   "execution_count": null,
   "id": "G3eoJyS-_32b",
   "metadata": {
    "id": "G3eoJyS-_32b"
   },
   "outputs": [],
   "source": [
    "#Seting google Drive\n",
    "if USE_GG_DRIVE:\n",
    "  from goolge.colab import drive\n",
    "  drive.mount('content\\drive')"
   ]
  },
  {
   "cell_type": "code",
   "execution_count": null,
   "id": "791292f6",
   "metadata": {
    "colab": {
     "base_uri": "https://localhost:8080/"
    },
    "id": "791292f6",
    "outputId": "c1bc410d-514d-4465-9e75-ae2d8815a639"
   },
   "outputs": [
    {
     "name": "stdout",
     "output_type": "stream",
     "text": [
      "<class 'pandas.core.frame.DataFrame'>\n",
      "RangeIndex: 1516948 entries, 0 to 1516947\n",
      "Data columns (total 17 columns):\n",
      " #   Column           Non-Null Count    Dtype  \n",
      "---  ------           --------------    -----  \n",
      " 0   Unnamed: 0       1516948 non-null  int64  \n",
      " 1   timestamp        1516948 non-null  object \n",
      " 2   TP2              1516948 non-null  float64\n",
      " 3   TP3              1516948 non-null  float64\n",
      " 4   H1               1516948 non-null  float64\n",
      " 5   DV_pressure      1516948 non-null  float64\n",
      " 6   Reservoirs       1516948 non-null  float64\n",
      " 7   Oil_temperature  1516948 non-null  float64\n",
      " 8   Motor_current    1516948 non-null  float64\n",
      " 9   COMP             1516948 non-null  float64\n",
      " 10  DV_eletric       1516948 non-null  float64\n",
      " 11  Towers           1516948 non-null  float64\n",
      " 12  MPG              1516948 non-null  float64\n",
      " 13  LPS              1516948 non-null  float64\n",
      " 14  Pressure_switch  1516948 non-null  float64\n",
      " 15  Oil_level        1516948 non-null  float64\n",
      " 16  Caudal_impulses  1516948 non-null  float64\n",
      "dtypes: float64(15), int64(1), object(1)\n",
      "memory usage: 196.7+ MB\n",
      "None\n"
     ]
    }
   ],
   "source": [
    "import pandas as pd\n",
    "import seaborn as sns\n",
    "import numpy as np\n",
    "\n",
    "data = pd.read_csv(\"metro_data.csv\")\n",
    "print(data.info())"
   ]
  },
  {
   "cell_type": "markdown",
   "id": "7uLEBO473Bll",
   "metadata": {
    "id": "7uLEBO473Bll"
   },
   "source": [
    "##I. Data Introduction"
   ]
  },
  {
   "cell_type": "markdown",
   "id": "i_iR7xMJVv-i",
   "metadata": {
    "id": "i_iR7xMJVv-i"
   },
   "source": [
    "The MetroPT-3 dataset was created to support the development of predictive maintenance, anomaly detection, and remaining useful life (RUL) prediction models for compressors using deep learning and machine learning methods. It consists of multivariate time series data from several analogue and digital sensors installed on a train compressor. The data spans between February and August 2020 and includes 15 signals, such as pressures, motor current, oil temperature, and electrical signals of air intake valves. The dataset is eligible for incremental training and does not contain sensitive data. Data preprocessing includes data segmentation, normalization, and feature extraction. The dataset is unlabeled, but failure reports provided by the company are available for evaluating the effectiveness of anomaly detection, failure prediction, and RUL estimation algorithms. The dataset does not have missing values."
   ]
  },
  {
   "cell_type": "markdown",
   "id": "CcgKimrHV1W4",
   "metadata": {
    "id": "CcgKimrHV1W4"
   },
   "source": [
    "This dataset was chosen because it contains information that was obtained from actual events that accurately reflect real-world situations. This makes it a valuable resource for developing and testing algorithms in the field of anomaly detection, failure prediction, and remaining useful life estimation. Additionally, the availability of failure reports from the company allows us to validate the performance of our algorithms against real-world incidents. Also, this dataset is also represent time series attribute, which is crucial for analyzing trends and patterns over a specific period. The inclusion of time series data enables researchers to observe the progression of anomalies and failures, providing deeper insights into their causes and potential mitigation strategies."
   ]
  },
  {
   "cell_type": "markdown",
   "id": "IsqkeHN93FYJ",
   "metadata": {
    "id": "IsqkeHN93FYJ"
   },
   "source": [
    "##II. Data Cleaning and Pre-precessing"
   ]
  },
  {
   "cell_type": "markdown",
   "id": "tlgQsE5x3fEE",
   "metadata": {
    "id": "tlgQsE5x3fEE"
   },
   "source": [
    "### 1) Data Overview"
   ]
  },
  {
   "cell_type": "code",
   "execution_count": null,
   "id": "8f0b8b88",
   "metadata": {
    "colab": {
     "base_uri": "https://localhost:8080/"
    },
    "id": "8f0b8b88",
    "outputId": "5b149794-596b-4525-883d-3e218668cb76"
   },
   "outputs": [
    {
     "name": "stdout",
     "output_type": "stream",
     "text": [
      "        Unnamed: 0         TP2         TP3          H1  DV_pressure  \\\n",
      "count   1516948.00  1516948.00  1516948.00  1516948.00   1516948.00   \n",
      "mean    7584735.00        1.37        8.98        7.57         0.06   \n",
      "std     4379053.12        3.25        0.64        3.33         0.38   \n",
      "min           0.00       -0.03        0.73       -0.04        -0.03   \n",
      "25%     3792367.50       -0.01        8.49        8.25        -0.02   \n",
      "50%     7584735.00       -0.01        8.96        8.78        -0.02   \n",
      "75%    11377102.50       -0.01        9.49        9.37        -0.02   \n",
      "max    15169470.00       10.68       10.30       10.29         9.84   \n",
      "\n",
      "       Reservoirs  Oil_temperature  Motor_current        COMP  DV_eletric  \\\n",
      "count  1516948.00       1516948.00     1516948.00  1516948.00  1516948.00   \n",
      "mean         8.99            62.64           2.05        0.84        0.16   \n",
      "std          0.64             6.52           2.30        0.37        0.37   \n",
      "min          0.71            15.40           0.02        0.00        0.00   \n",
      "25%          8.49            57.78           0.04        1.00        0.00   \n",
      "50%          8.96            62.70           0.04        1.00        0.00   \n",
      "75%          9.49            67.25           3.81        1.00        0.00   \n",
      "max         10.30            89.05           9.30        1.00        1.00   \n",
      "\n",
      "           Towers         MPG         LPS  Pressure_switch   Oil_level  \\\n",
      "count  1516948.00  1516948.00  1516948.00       1516948.00  1516948.00   \n",
      "mean         0.92        0.83        0.00             0.99        0.90   \n",
      "std          0.27        0.37        0.06             0.09        0.29   \n",
      "min          0.00        0.00        0.00             0.00        0.00   \n",
      "25%          1.00        1.00        0.00             1.00        1.00   \n",
      "50%          1.00        1.00        0.00             1.00        1.00   \n",
      "75%          1.00        1.00        0.00             1.00        1.00   \n",
      "max          1.00        1.00        1.00             1.00        1.00   \n",
      "\n",
      "       Caudal_impulses  \n",
      "count       1516948.00  \n",
      "mean              0.94  \n",
      "std               0.24  \n",
      "min               0.00  \n",
      "25%               1.00  \n",
      "50%               1.00  \n",
      "75%               1.00  \n",
      "max               1.00  \n",
      "Index(['Unnamed: 0', 'timestamp', 'TP2', 'TP3', 'H1', 'DV_pressure',\n",
      "       'Reservoirs', 'Oil_temperature', 'Motor_current', 'COMP', 'DV_eletric',\n",
      "       'Towers', 'MPG', 'LPS', 'Pressure_switch', 'Oil_level',\n",
      "       'Caudal_impulses'],\n",
      "      dtype='object')\n"
     ]
    }
   ],
   "source": [
    "print(data.describe().round(2))\n",
    "print(data.columns)"
   ]
  },
  {
   "cell_type": "code",
   "execution_count": null,
   "id": "1d44ba87-b80a-41fd-982b-061b6cdd81bb",
   "metadata": {
    "colab": {
     "base_uri": "https://localhost:8080/"
    },
    "id": "1d44ba87-b80a-41fd-982b-061b6cdd81bb",
    "outputId": "560e566d-89de-4df0-ff59-3fe32fcd690e"
   },
   "outputs": [
    {
     "name": "stdout",
     "output_type": "stream",
     "text": [
      "   Unnamed: 0            timestamp    TP2    TP3     H1  DV_pressure  \\\n",
      "0           0  2020-02-01 00:00:00 -0.012  9.358  9.340       -0.024   \n",
      "1          10  2020-02-01 00:00:10 -0.014  9.348  9.332       -0.022   \n",
      "2          20  2020-02-01 00:00:19 -0.012  9.338  9.322       -0.022   \n",
      "3          30  2020-02-01 00:00:29 -0.012  9.328  9.312       -0.022   \n",
      "4          40  2020-02-01 00:00:39 -0.012  9.318  9.302       -0.022   \n",
      "5          50  2020-02-01 00:00:49 -0.012  9.306  9.290       -0.024   \n",
      "6          60  2020-02-01 00:00:59 -0.012  9.296  9.280       -0.024   \n",
      "7          70  2020-02-01 00:01:09 -0.014  9.286  9.270       -0.024   \n",
      "8          80  2020-02-01 00:01:19 -0.012  9.276  9.258       -0.022   \n",
      "9          90  2020-02-01 00:01:29 -0.012  9.264  9.248       -0.022   \n",
      "\n",
      "   Reservoirs  Oil_temperature  Motor_current  COMP  DV_eletric  Towers  MPG  \\\n",
      "0       9.358           53.600         0.0400   1.0         0.0     1.0  1.0   \n",
      "1       9.348           53.675         0.0400   1.0         0.0     1.0  1.0   \n",
      "2       9.338           53.600         0.0425   1.0         0.0     1.0  1.0   \n",
      "3       9.328           53.425         0.0400   1.0         0.0     1.0  1.0   \n",
      "4       9.318           53.475         0.0400   1.0         0.0     1.0  1.0   \n",
      "5       9.308           53.500         0.0400   1.0         0.0     1.0  1.0   \n",
      "6       9.298           53.375         0.0400   1.0         0.0     1.0  1.0   \n",
      "7       9.286           53.550         0.0400   1.0         0.0     1.0  1.0   \n",
      "8       9.276           53.425         0.0400   1.0         0.0     1.0  1.0   \n",
      "9       9.264           53.375         0.0400   1.0         0.0     1.0  1.0   \n",
      "\n",
      "   LPS  Pressure_switch  Oil_level  Caudal_impulses  \n",
      "0  0.0              1.0        1.0              1.0  \n",
      "1  0.0              1.0        1.0              1.0  \n",
      "2  0.0              1.0        1.0              1.0  \n",
      "3  0.0              1.0        1.0              1.0  \n",
      "4  0.0              1.0        1.0              1.0  \n",
      "5  0.0              1.0        1.0              1.0  \n",
      "6  0.0              1.0        1.0              1.0  \n",
      "7  0.0              1.0        1.0              1.0  \n",
      "8  0.0              1.0        1.0              1.0  \n",
      "9  0.0              1.0        1.0              1.0  \n"
     ]
    }
   ],
   "source": [
    "print(data.head(10))"
   ]
  },
  {
   "cell_type": "markdown",
   "id": "hI6sjTAB92g_",
   "metadata": {
    "id": "hI6sjTAB92g_"
   },
   "source": [
    "###2) Drop unnecessary columns\n"
   ]
  },
  {
   "cell_type": "code",
   "execution_count": null,
   "id": "JAQC3yq4-FOa",
   "metadata": {
    "colab": {
     "base_uri": "https://localhost:8080/"
    },
    "id": "JAQC3yq4-FOa",
    "outputId": "c86f8d17-72ac-448c-8ee3-40225240d371"
   },
   "outputs": [
    {
     "name": "stdout",
     "output_type": "stream",
     "text": [
      "Index(['Unnamed: 0', 'timestamp', 'TP2', 'TP3', 'H1', 'DV_pressure',\n",
      "       'Reservoirs', 'Oil_temperature', 'Motor_current', 'COMP', 'DV_eletric',\n",
      "       'Towers', 'MPG', 'LPS', 'Pressure_switch', 'Oil_level',\n",
      "       'Caudal_impulses'],\n",
      "      dtype='object')\n"
     ]
    }
   ],
   "source": [
    "print(data.columns)\n",
    "data = data.drop('Unnamed: 0', axis= 1)"
   ]
  },
  {
   "cell_type": "markdown",
   "id": "3eb2efc4-bd6e-4501-a39b-6f7ef141c8a1",
   "metadata": {
    "id": "3eb2efc4-bd6e-4501-a39b-6f7ef141c8a1"
   },
   "source": [
    "### 3) Convert the timestamp collumn into pandas.DateTime data type"
   ]
  },
  {
   "cell_type": "code",
   "execution_count": null,
   "id": "d42c2fe5-79e9-4810-977c-ae7485ea5b52",
   "metadata": {
    "colab": {
     "base_uri": "https://localhost:8080/"
    },
    "id": "d42c2fe5-79e9-4810-977c-ae7485ea5b52",
    "outputId": "480f151c-875c-4011-8725-a8dbdc2c596e"
   },
   "outputs": [
    {
     "name": "stdout",
     "output_type": "stream",
     "text": [
      "Current type of timestamp is <class 'str'>\n",
      "Current type of timestamp is <class 'pandas._libs.tslibs.timestamps.Timestamp'>\n"
     ]
    }
   ],
   "source": [
    "import datetime\n",
    "\n",
    "#Check the current type of timestamp\n",
    "print(f\"Current type of timestamp is {type(data.timestamp[0])}\")\n",
    "\n",
    "#Convert timestamp to pandas.DateTime\n",
    "data['timestamp'] = data['timestamp'].apply(pd.to_datetime, format = \"%Y-%m-%d %H:%M:%S\")\n",
    "\n",
    "#Re-check the type\n",
    "print(f\"Current type of timestamp is {type(data.timestamp[0])}\")"
   ]
  },
  {
   "cell_type": "code",
   "execution_count": null,
   "id": "5d71d0fd",
   "metadata": {
    "colab": {
     "base_uri": "https://localhost:8080/"
    },
    "id": "5d71d0fd",
    "outputId": "da58eaef-12e4-4444-86d7-6e4b654c45bd"
   },
   "outputs": [
    {
     "name": "stdout",
     "output_type": "stream",
     "text": [
      "            timestamp    TP2    TP3     H1  DV_pressure  Reservoirs  \\\n",
      "0 2020-02-01 00:00:00 -0.012  9.358  9.340       -0.024       9.358   \n",
      "1 2020-02-01 00:00:10 -0.014  9.348  9.332       -0.022       9.348   \n",
      "2 2020-02-01 00:00:19 -0.012  9.338  9.322       -0.022       9.338   \n",
      "3 2020-02-01 00:00:29 -0.012  9.328  9.312       -0.022       9.328   \n",
      "4 2020-02-01 00:00:39 -0.012  9.318  9.302       -0.022       9.318   \n",
      "5 2020-02-01 00:00:49 -0.012  9.306  9.290       -0.024       9.308   \n",
      "6 2020-02-01 00:00:59 -0.012  9.296  9.280       -0.024       9.298   \n",
      "7 2020-02-01 00:01:09 -0.014  9.286  9.270       -0.024       9.286   \n",
      "8 2020-02-01 00:01:19 -0.012  9.276  9.258       -0.022       9.276   \n",
      "9 2020-02-01 00:01:29 -0.012  9.264  9.248       -0.022       9.264   \n",
      "\n",
      "   Oil_temperature  Motor_current  COMP  DV_eletric  Towers  MPG  LPS  \\\n",
      "0           53.600         0.0400   1.0         0.0     1.0  1.0  0.0   \n",
      "1           53.675         0.0400   1.0         0.0     1.0  1.0  0.0   \n",
      "2           53.600         0.0425   1.0         0.0     1.0  1.0  0.0   \n",
      "3           53.425         0.0400   1.0         0.0     1.0  1.0  0.0   \n",
      "4           53.475         0.0400   1.0         0.0     1.0  1.0  0.0   \n",
      "5           53.500         0.0400   1.0         0.0     1.0  1.0  0.0   \n",
      "6           53.375         0.0400   1.0         0.0     1.0  1.0  0.0   \n",
      "7           53.550         0.0400   1.0         0.0     1.0  1.0  0.0   \n",
      "8           53.425         0.0400   1.0         0.0     1.0  1.0  0.0   \n",
      "9           53.375         0.0400   1.0         0.0     1.0  1.0  0.0   \n",
      "\n",
      "   Pressure_switch  Oil_level  Caudal_impulses  \n",
      "0              1.0        1.0              1.0  \n",
      "1              1.0        1.0              1.0  \n",
      "2              1.0        1.0              1.0  \n",
      "3              1.0        1.0              1.0  \n",
      "4              1.0        1.0              1.0  \n",
      "5              1.0        1.0              1.0  \n",
      "6              1.0        1.0              1.0  \n",
      "7              1.0        1.0              1.0  \n",
      "8              1.0        1.0              1.0  \n",
      "9              1.0        1.0              1.0  \n"
     ]
    }
   ],
   "source": [
    "print(data.head(10))"
   ]
  },
  {
   "cell_type": "markdown",
   "id": "5bca1be5-5d0e-4317-a375-dedbe9168c00",
   "metadata": {
    "id": "5bca1be5-5d0e-4317-a375-dedbe9168c00"
   },
   "source": [
    "### 4) Add a label column"
   ]
  },
  {
   "cell_type": "code",
   "execution_count": null,
   "id": "g3txUZmdXZU8",
   "metadata": {
    "colab": {
     "base_uri": "https://localhost:8080/"
    },
    "id": "g3txUZmdXZU8",
    "outputId": "5aaa3394-881e-4869-eb84-855a86e51624"
   },
   "outputs": [
    {
     "name": "stdout",
     "output_type": "stream",
     "text": [
      "            timestamp    TP2    TP3     H1  DV_pressure  Reservoirs  \\\n",
      "0 2020-02-01 00:00:00 -0.012  9.358  9.340       -0.024       9.358   \n",
      "1 2020-02-01 00:00:10 -0.014  9.348  9.332       -0.022       9.348   \n",
      "2 2020-02-01 00:00:19 -0.012  9.338  9.322       -0.022       9.338   \n",
      "3 2020-02-01 00:00:29 -0.012  9.328  9.312       -0.022       9.328   \n",
      "4 2020-02-01 00:00:39 -0.012  9.318  9.302       -0.022       9.318   \n",
      "\n",
      "   Oil_temperature  Motor_current  COMP  DV_eletric  Towers  MPG  LPS  \\\n",
      "0           53.600         0.0400   1.0         0.0     1.0  1.0  0.0   \n",
      "1           53.675         0.0400   1.0         0.0     1.0  1.0  0.0   \n",
      "2           53.600         0.0425   1.0         0.0     1.0  1.0  0.0   \n",
      "3           53.425         0.0400   1.0         0.0     1.0  1.0  0.0   \n",
      "4           53.475         0.0400   1.0         0.0     1.0  1.0  0.0   \n",
      "\n",
      "   Pressure_switch  Oil_level  Caudal_impulses  status  \n",
      "0              1.0        1.0              1.0       0  \n",
      "1              1.0        1.0              1.0       0  \n",
      "2              1.0        1.0              1.0       0  \n",
      "3              1.0        1.0              1.0       0  \n",
      "4              1.0        1.0              1.0       0  \n"
     ]
    }
   ],
   "source": [
    "#Create a new column for target variable called status, indicate the equipment has deficiencies and need to be maintained\n",
    "# status = 0; system ups and running\n",
    "# status = 1; system downs and needs recovering\n",
    "labeled_data = data.copy()\n",
    "labeled_data['status'] = 0\n",
    "print(labeled_data.head(5))"
   ]
  },
  {
   "cell_type": "markdown",
   "id": "-nhbRJGNhMU0",
   "metadata": {
    "id": "-nhbRJGNhMU0"
   },
   "source": [
    "Next, set the status of the machine to 1 based on the time from the table below\n",
    "\n",
    "![image.png](data:image/png;base64,iVBORw0KGgoAAAANSUhEUgAAA+4AAAHlCAYAAABrvKZUAAAAAXNSR0IArs4c6QAAAARnQU1BAACxjwv8YQUAAAAJcEhZcwAADsMAAA7DAcdvqGQAAABjaVRYdFNuaXBNZXRhZGF0YQAAAAAAeyJjbGlwUG9pbnRzIjpbeyJ4IjowLCJ5IjowfSx7IngiOjEwMDYsInkiOjB9LHsieCI6MTAwNiwieSI6NDg1fSx7IngiOjAsInkiOjQ4NX1dfY+f4/4AAKhhSURBVHhe7N0PXBR1/j/wF2upZ4BmWrJYmhFoaZoQnn+6EAzyTDNIuzMVg19X6XUmJxKGl3f+O5HDrOzqPAjUvPxHaJmBilypnXxZ07QCItICVtNIgUxNlt/nMzsLy7ILC6IO+Ho+HqvM7O7s7Mx7Zz7v+fwZl2oBRERERERERKRJOvV/IiIiIiIiItIgJu5EREREREREGsbEnYiIiIiIiEjDmLgTERERERERaRgTdyIiIiIiIiINY+JOREREREREpGFM3ImIiIiIiIg0jIk7ERERERERkYYxcSciIiIiIiLSMCbuRERERERERBrGxJ2IiIiIiIhIw5i4ExEREREREWkYE3ciIiIiIiIiDWPiTkRERERERKRhTNyJiIiIiIiINIyJOxEREREREZGGMXEnIiIiIiIi0jAm7kREREREREQaxsSdiIiIiIiISMOYuBMRERERERFpGBN3IiIiIiIiIg1j4k5ERERERESkYUzciYiIiIiIiDRMU4m7i4uL8qDGcVvR1cT4I61gLJKWMT7JFmOCrjWM+ZbjUi2of1913KlERERERERti4ZSzlaLTeWJiIiIiIiINEyTNe4LX09X/ifH4qaPV/7ntqKrgfFHWsFYJC1jfJItxgRdaywxzxr3S8cadyIiIiIiIiINY+JOREREREREpGFM3ImIiIiIiIg0jIk7ERERERERkYYxcSciIiIiIiLSMCbuRERERERERBrGxJ2IiIiIiIhIw5i4ExEREREREWkYE3ciIiIiIiIiDWPiTkRERERERKRhTNyJiIiIiIiINIyJOxEREREREZGGMXEnIiIiIiIi0jAm7kREREREREQaxsSdiIiIiIiISMOYuBMRERERERFpGBN3IiIiIiIiIg1j4k5ERERERESkYUzciYiIiIiIiDSMiTsRERERERGRhjFxJyIiIiIiItIwJu5EREREREREGsbEnYiIiIiIiEjDmLgTERERERERaRgTdyIiIiIiIiINY+JOREREREREpGFM3ImIiIiIiIg0jIk7ERERERERkYYxcSciIiIiIiLSMCbuRERERERERBrGxJ2IiIiIiIhIw5i4ExEREREREWkYE3ciIiIiIiIiDWPiTkRERERERKRhTNyJiIiIiIiINIyJOxEREREREZGGMXEnIiIiIiIi0jAm7tTKmHDh261Iiv0Xvjh9UZ1HpDpfiqKDmchYngjD97+oMy/VTyjZsRBL136C8mp1FpHdY9FFVHybC0P6QqTsKwHDhdounouJiK40l2pB/fuqc3FxUf5f+Hq68r99v+DUvuV4ee0+ZcptyJ8Q8bsAdO9Q9xpE9fc7kTr/NRSq08AwPDp/Fnxvvl6dbt3ipo9X/m94W1nIwuT/4dDud/Dh/mNiehDunxwGX99bUfHlCegH+aCD+YVCOb45aLSZdykaW145itL/iuTMr9Vpx9yCF+D58XfD5dv3seafxzE0JgJ3dblOfZaupKbFX93frGOX+hu1jqUGlnXuMDL+Og8fn1GnHboD9898CSE+7UTivhxrTwTh2SeGwt18mCKNcDoWndrvXeE1eQHCh3mi8d0sE5e6x6La805TlkNtWdOOlaLscuZrfJnzPt57dzcqRBzdHjwJI4cNheeZL1F662Dc3lEr9S31498y//xXBzS2rtriXEyI7Zi/Di+v2CTiwI7OI/HQhCD0vfsudLMp/2oHY4HMLDGvoZSz1WqFibvqfCkKP9qIze8eQreQmZg4biDc6pWQZMLwbxhuekIUvt3VeW2D84UB9eT69wPo+YenMHKQJ9orifwe7Nu8GgdvnyWS4QE1SXX16U+w9b+ueOiR2nmXovHliWRry0YcHxiKob1vFIVcy8nqUwxSkia538T6Hs1ExgftEfDsKHRjSfiqa2phVFFdAsNr8/AuJuH5P9rsx+oyFG3dgh+HTr7Ei2uWiwRoMHHfsek79BsbjJ6dZWFTTfj334uIlyahjyxgVP+I4t1vY3fHRzGZyZemNTkxUpLrdUC9xPosTu5LxYcYd0n73PHy6VrUpPg8/xX2vP4P5N8ejkdGD1ESsuozX+GgOBZt3u9Ve3zSsuqT+OKdbHR8NEz763qVNO2YZeecJs5PJfvfw4er03DKQeWVJjAWSGWJeSbul671/pI66HHHwLtxC8rwTcYKbNh6CBWMBzsqUXzgv/im3wj4DpRJu3Qd3G4LQPCTT6Gvdany/DEc2PIO8lpqOzqzvOoKnHEbAl8laXdErG/vERjct6M6TW2OS1fcPvROnP/xZ3XG5VNdfgY33DdCTdodcLkRPYcF4A6WNa4hndB98P2XvM9d3G+BR2d1gshpJpw/uh97v+qDQcP8ampRXTrfiXsfmYFJ97RMG7jL6yxOfrIe7312Xp2my0Kcnzx/HYaHHvVDxf5tOHC0Un1CSxgLRJdDqy+Wtguajt+F3CaS92RkfHIMF9T59p3FqfxP1P6HR1Gevx5J02fi3YMn225fRJEY//jdj0BpEb4/U7cfmkuXu3FPL3MqL5NswzuJeHf/MVRkzsOC6eOxNP0w5CFXXvH/NH2+csVMPpambkXh92fN73O0Tf/vIHIdLK8OF0/cG9jfidp9d/QJHIFu+BEln9n0Ya7Tr/k0TuVtxaZYua7zkXGwRMSEWMeaeTOxKetLm4s8sgVCtnh/hPk7Ll+NT7/9kf1TrxjZnC4XR92HYZjSwsKEC98fwZEdK7D01Z04ebo2/pamfoDiOnEsX/sp9qTOFM9HIGnLp432Q3e5eYT6OY3o2B/Dfu0JyKar+1YjSazLKWXZ5vX7wjLvXCkK5boqsbMWX8jfhmwRZJkXuwL7jtrEk6wx+Z94v3xernd6Nkpsfp90Jf2CU599ilMdzPtcuYhYZx+Z9+OevNLac4x83vZYVI+sLYs3v3/6n5GRX24zL6K2L7z1cezEcRRtETFv1X+47nFYHNv+9xUvVrcpVaj4oRQVKMG3pafrHi9cbsIdfrfbXNx2dN6yjq+6MSZbg6So82vPxw2d/xooM9WLf9liJRnJa3ei4swmJEeFivhNxaf/tV4Xy2+g7rrE1RxbyXnt0eEGWX77EcYfKurGi+D4eCH3t0E5vyamH0L595+o+16ehz7BqfMm5f01rM9lymt2oqim/Ff3XHjy9CHsEMtaujYbR/faxsJaFJ2zWTYRNVnrr09q54E7H3oSjw4BDq5NxDaHSbhsgp2GpBVL8W5mEaqKjuDUzQEYGdIdZSdPi1NdG+VyC+68/9dwO/MB1s1daFPYc8ftlr7nHXrBd+ocPNqvq9KXfN7r6YiRTeirT+LL997AgRuewF/EvIXLl2F4WTpS1u8TJ9oGtunpG3CPveUpn9tcsln9Qvzzjdfx8VeWJEfM2/4PJP9LzivHqcJCnPf4LR5bnIyIEODj9Zvwv73/w8muo/DYkk2Y84e78fWm91Bw0rLHxUks/11kHOgA3+n/xsKVb+GZgT8i8++rcKDFBjejBlWfRkn+8drf7bnPsXt5HN6RfTwvfoX8PBO8HpmPBYtj4J23CTs/P1Hz2urT+7Ft+Rb8/OuXsOD1f2PKr8/hqwMn1GdbwLnDIhb+jLfXpuEbdZZl/dbJeRdLcazgZ9wyaibmLPkrHkAW3tu+DbkGI7r85jnErFyFSXcX4YP3DPihZqVlt4B3cKRjEKaI38WCJdHod+Zd/HN1NguvV8v5o8j77Ed1QrqI8kMbsfaTLnhoeRoWvv42ng2swIevrMVh5bhg71hkz/XoNixKHHd+Czd1jv151sexMnz7+Unc9MCjeODmMpSVnxeF8EPYmZ6LDsPmiHXZhJg5/qjYsgSbP+EAeG3H9bjprvvh2/kYDP+KQXKdi3k6dLjTz6qfcEPnLSjxFTPz97jdZqwFl5tHIXz+n+D76DLMUs7HDS3nQgNlphIU1Iv/Tug+7GlETh4GdH4MEYnid7MkHPc+YFkXy5gh5oumLjcHYtILEfAaFoM5tl2nyAk/i6Rbnuv6YoDXzXUu6jR0vDB9n43Nf1+gnF9/OfMNis/1RfCsf+MvL01G5/1LkbRxf+3Fb7XrxsEbxmOWUv57CYPOvIdkeYFaXlCscy78Cl+duAVDfhuCbifLcb3fUzaxMJnN5YlaQNv4Fcmk83dRSvJu+NdK7Mwvs1OYESc+n8mYM/+P8BJT7frci9tvvAV9HolD5IN3qk3I26Lr4D5oMiL/8Jg4cR7Ex6ujsXTGfGTsO1z/yqpdF/Dzj9ej5223mLdRh1ugv/1GoPQ4RHnyCm9Td/QZ/3c8L08GNazndUI3r4HwlE2gXbrAs68X3M58i5+7+aHfzZ3E89fBTd8HtyAPhwu/N8dI9QkU7LqIwQ+Z+xOam0gHYlDnfdi5L69+CwG6dF++hpdnqDUt8jEjAsl7T6tPCh0HIGTxSuWiD667E32H+CjjV7h0vg236YFCw5fmJFheVHp/E86MfQqjfLqKgosO7W8ZCl/fW8zLaQnW62JRZ/306DXgDnX9RNFU/DYq8s6j6+B71Xjqgpv7eIrvfADH1ItF1ScPYG/1CAQo403I9/nA99f3we3L7TAUmGuj6HIrQ+HaGZhnicFZ0fjwR+vjYTUunBUxefvtapPlX6Hbbb1Fon0Cp5TuHPaORY6Ic8+v5PHHmuVYZGG9PHfc1r8vOncZiAdnvYARt7XHD5/vg+nXY3CX5Tgmuw4NuRGF7+3GN6zFajNcugzBmFkxuP9O4JvMl/HP2D/Y1HCqGj1viRjxHoFB/YAT35dZtUQ04cKPF9F7YG/z+bnB5eQDDs/vg+DjdPyLdfEZjZHBwMH/+9yqRZTsxleCAcF+HPCzieQAhl/seAsbMy9i0OTHMaDOWC6/NHi8OOoeiGmJC3C/7M7T+Q7ccZvspijPnb9B8OO/BfZ9jK+Uc9UvOGV4Fx9eNxoBQ3up5T9R1n78/+F+fID3sr/EeZtztbd3D7j7PI7IWePgqRw3iailtZ1fljigDB4fgQfu/Bb/TVmHAydsTnTXNJHQiuQ9YskyhAUPEtMigV87Dy/Pf7V+E15bLp7wfe7vCPFxVZsvy5NF4yPAtxbVJ7/E4SPrzU25LIX4KPPI0xXfnWBT1Muh3x/x/Mp0ZWAe5bEyGRHDu6hPOq/65CHk7AM8bnKzaUKqZaJQVXgA+Wr3EXPMhWKBMnKw/SaPdDnImsiVWGCJweUr8KhIkGvJWvE55lZCsgn7ga14L8XB6M6XW/X3OGb4P3y8YmrtMWr6VPPdE86U4sfyKvWF1PqJBOrmoQh5/h94dmoobpdj+GS+huT5sXW6eDl13nLxQP/gQGD/IZRYLu5U/4CiH28VCZ050bty5z933D5sNG7ZtwufffeTeda5Y/iq9E706n4pg5FeS/bh3fkTlH00L3YRPvlpICYv+QceG6Ym1RbNPl5YLiaqFRvKcvLgdustdQd+7tgLdw65AxXWcUVEV0ybuiTm0nkgRj35FHyxE+++nAzDCfUEQQplkJvxf8Ff5i/AozKBP7MbH7y5EV82cg9Wc1+pv2H59kLofB4Ryf8d6jOtnax9OI4TlqZclkK85fEcm+9dEbJ1hE+PJibf6r5Tp1oPc/NGS/eRujGXjGkchfzq6KBHr9trG64rLH3c529Eqe5uPBD+mFXT9ivofBlOld6I+2eutokX+ZhziXdhIE1ykYOPTUXk8tcRMVkm8MdwcNMb2HlIdgV09rylQ4deAzEIWfjogFG5IFh9Mh8/3uipdlm7suc/l+4D4T/sJPYeKMJ5WZt74L84O2wgbuIBz0nyFqcbxb5Zh5mTB+PU/gKcsXdhpaWOF8pyytQJa7+C+8238KIh0VXS5tqyKE3Nnv+TOFmJ5H3du8j7/vKPUq1t8j7q+VZNvuUV/QHwHR9n7mN55n/I+aK2z3A957/C3uR/KH3cZ4WPx123dW1DQSO2xY09cMuZoyi95uPkarLtv9mWmQs9Fd9842RXFboyrke3e+61SlR+QsnOlfin7OM+/zmMGHTH1WvO26Eruul/QvG3JxoZfJVaN/MgnXW6PnTQo8+wqYhYHGPu+/7xIfxQ3YTzVsc+6B/YR+1e9At+KDqLHr1c1Sev8PnP5SZ4/SYI3TK348iJ73Ds4E0Y2PcmXqhssk7oPvRxjL37c6x76wOU2J5HLvl4caO5FZuynK6OW1501uNG93bqBBFdKW2wpCxORrf8BiHTfo/bv9qCDzNL1PnXrupj/4ev69WqW5pFqQdpdW5dltvT3FDbx72NceneDwP6FeHDf/677ojRsuD+v1wOFnZFXUT5Z3uc7LOr1iZ1/hoHvzzWisYiuB43eQ2G11fJWPvO+1Z3ZxDOf41PD5ayqbwWnCvCkaxcuNX0cb+KXG5GL98++Obd17B1x6dWF3xMuPDtPnzBQTTbDtM3+Czvh3rHAPP4Hl1rmi07f966AfqBv4bXl/9DXsERHDPdgZ5WF0iv7PlPlM1u9cWgfnnYuS4ZB/X94cnByprHpTvumvBHPIR0cR7Jxknr5L3ZxwtLC4x7cae8uKMsp2+d8VnMZKuxMtweOKROLBHRldFGf3VyMJQwTKgzaq+kHpjUqRrVJ/HF2plYuvaTRm8l1SpVf4p1b62DId/qxHy+BF/u24MTQ8ZgcG/1CryLG2689Ub1CutPMOZ/i2p5RR4/qldv5W1EDuCrb9TRl899i6Jvyx03Wa63vKNOJFgmnP+5ofEJLuD8T/JbWAaJkizzLuDnc5ZvaFnORZz9+bxaEKrd/1U/nTXfSaBm1P3d+PCV6fhbTZ+wucjp2IvN+K4UpVnyOqQVdYZeFgbsNdO7cBY/y+tPF8/i/AVRGOnYD0PlYDqZ/8Z7av/P6jP5KPhKvk/2B3yh5tZDDao+j3OVDXQXsXyuMiCjWgiyXRepZjlnca7m4oNl5N/a2DQ3Ge2Fiv3JSJk/qbYf4vxd6NC77ujAdJVYapvUlhHKYFBfFqp93CvVY5m9Y5E4xnz/DYrPlOFE0bdqTZXlIpM4juZ9o8bp18grLEWVOkhevHJrLkus2Kodbfzgu3/Fy7Ms/ZFDsfwjF/RkH+E25Dzy/rUSmXUGjz2LU4d242DpYIwaeoe5mXsTzls1yfmKHYDXbXUvwDe6HAdlJoW9+G8Ht5v0YnmyGfUvuPDdF3X7QVv63X/ljkHD+l7iXWaucR3ugP+kybgj7xUkv7MVX9Tcws/540XF/v/iiDoeVPWZw/jog0/h/XiI2vrtenTzfRQP3ZmHd99OQ5FyhwN5F4Lt2P3NvRjpf7s5lhw2qW8kFoioWdrNF9S/r7q//vWvyv+BY36n/O9QdQkMrz2P1zf9Fz98vRsfbcvEtzf6YeCt7laFXlFY6tEPPjeexIlOd+GObjqc2peI+FUZsgiNss8+QO4vd+O+vreINP8sTh7+CAXoj/vuuRUdWkHJOWvbO8r/jW4rURA4fc4HD48fDF3pQeSsW4SUNW8hK6MUXYaGYUywP7rX1ChdjxtubI8zO17FrpJu6O93L7qKA6/njcexd8Ob2FFwET3ECcHv9ov49L+FaH/HIPT8IRUJdrepg+U1cIVW3tc1NXo23jN8JZb3I77d/674nt+i833+0N8gm2SVoyh9PlZt+1z8LZ//L77tcisubvkr1n4sB8wrReGebBELd8DVsAwrN+SI5ZyB0bAX3904AJ7f/btm/5/O24EDyrp64IYeAzFwgB66EwX4tkwUQDqPxENP/wEj+/dQvwfZcj7+JHlf4X9g8d/fRN4psX1P5eB/H7yjLKPm8cEW5B66Af4Tfovbz3+E1NilOCiv8sjX7r2I3r7VyFk0F1ml4v1lnyL3f1XoPeIe9Oh5F/p6luPQmlfx/gef4McbB+HOm0UcdApC6GMT4OfTTRQfHLGs1+s4/N0Z8VP5Ap9mrEdWUTfc498HneRx4NxhZPw11vy5yvPfwb1PJTL/thg5Mlbkuoh5ne/ugMPx0dhWKJfzFQ7vKkZnPw8Y35qL/+wvFQuSsXkIv3gNhVe3rug+4Nfw6dYOPxz6EnI8fbchEZg0ZTx8bmJRtqmcjkW5L+c9jZSMHJEum49Xu7f9n7pPbLa7iyu69XbHmV1v4P0t+bjoeQ8GDveGbv9uFIsC81333YpT7/+17rHoRl/0PfseXv7H20qic+G7vdj7jRpL17uhS7dzyN/wOt7fe0KUuQeiv+c5fF7SEw889gRG/roLvvrnC2qsfIe87AN11sul463oe58vurY7iS+/Pi7m9MKgR59H6G99ceN1vNSjZc4fK6tR9eMvuG3iBPi0K0HRx6vw+isvi/fvxombhmLkxHG4+xbL3Qlk+cbJ85ZLJ7h2OInPzt6FkSPvNB/XajS0nJtw2mGZyc65WCmDdcZ1bp3xq9OZePf9r3HD4BG4q1snq3KZC9qZvkfhCQ/411uXa4dzMSFvt/s2/vGXv+Kjz74T0/K4sNHq/CS2peutuPXWdvhm81p8vGcLdu8R58oR/dHV9baGjxcXv8fX/92NH/0eQr/Sd/CKiLPduS7o99j/qxs/192EW++6C11PZ2Hdv14R670fP+mHY+TDo9Cr83XmMpvtuVp8vvmY5NJILNC1xBLzGko5Wy2XakH9+6pzEQciSQ6iQQ2TV1Albiu6Ghh/pBWMRdIyxqc1mYxuxoc/B2DcoO7XbBJ31WNCuSA9DweHLMDzyv38iS4vS8xrKOVstdpoU3kiIiIi0gqlOXbmRQzgoHRERM3CxJ2IiIiIWt75r7BneYRS4zYvNhmV94+6Ru4gol3V5yqh9GyvrMR5VoAStSo8ehIRERFRy2vfBV27y2GCB+H+P8zBmGu4ifzVJ7sqrEX83KUwnAEq9i1F/Gs7efccolaEiTsRERERtTx567LJK7Dw9fkIGeTZJm8r23ro0MFnMmJeT1f61yuP50ahG6+kELUaTNyJiIiIiIiINIyJOxEREREREZGGMXEnIiIiIiIi0jAm7kREREREREQaxsSdiIiIiIiISMOYuBMRERERERFpGBN3IiIiIiIiIg1j4k5ERERERESkYUzciYiIiIiIiDSMiTsRERERERGRhrlUC+rfV52Li4v6FxEREREREbUFGko5Wy3WuBMRERERERFpmCZr3Be+nq78T47FTR+v/M9tRVcD44+0grFIWsb4JFuMCbrWWGKeNe6Xjol7K8UfAV1Nlt8q44+uNsYiaRnjk2wxJuhaw5hvOWwqT0RERERERKRhTNyJiIiIiIiINIyJOxEREREREZGGMXEnIiIiIiIi0jAm7kREREREREQaxsSdiIiIiIiISMOYuBMRERERERFpGBN3IiIiIiIiIg1j4k5ERERERESkYUzciYiIiIiIiDSMiTsRERERERGRhjFxJyIiIiIiItIwJu5EREREREREGsbEnYiIiIiIiEjDmLgTERERERERaRgTdyIiIiIiIiINY+JOREREREREpGFM3ImIiIiIiIg0jIk7ERERERERkYYxcSciIiIiIiLSMCbuRERERERERBrGxJ2IiIiIiIhIw5i4ExEREREREWkYE3ciIiIiIiIiDWPiTkRERERERKRhTNyJiIiIiIiINIyJOxEREREREZGGMXEnIiIiIiIi0jAm7kREREREREQaxsSdiIiIiIiISMOYuBMRERERERFpGBN3IiIiIiIiIg1j4k5ERERERESkYUzciYiIiIiIiDSMiTsRERERERGRhjFxJyIiIiIiItIwJu5EREREREREGtYGEvdyFKX/E4bvfzFPVpfA8Gpi7TQ1XXkWYh5ORoFJnW5xp5AV8wySC86p00S2TCIM/4KHk/PEX5fJZY9zIqIroDIHCSP9EJl2rGnHy8oCZKWtQszIJ3g+JiJqBVp/4n7uGL464IYb3duZp8+X4dTJm2unpeofUfLZPhjS52Np+mGcV2dfm0yoNCzHSJeJDk7UImHKzcbnocPgZYkOkxGGLZuQHBMCfUwWytXZtcQyC7KU511cXJSHPjwBaQaj/UJE+WfI+NwfI7w6iokLMBrWiIKDXn1vCGKSs1BQaftO+RkZSAgfoC5/JXKMF9TnLJxdliAKLDsSwqGXr9OHY3mOg3WtpxwFO5YjXC+XPwDhy/fC6GxJyanPdOZ7tgWNxWEZcjO+R+iI3jUHKZPRgC1KIXM4YrJOqXOtNSUObeJcxnhqjFgf8/tcRsYgOasAleYXW2nJOGzmvnZ2Xeu8To+RMWtgaEIsmQqSEWL5DOXhZ7Pd5fdMq1l/GdMJO+xtM20zlaQhUu8oDlVKYiT2pz4SyXn1j4DOuQhj2jNW2/MZpBkvqs+1gIsGJHhZlu2F8LTv1CdI++SFyrnmc4P1I8RyYfEcCpIn1n1OPOyfj511ClkLJiEo7A+Iz74cFR2nkJ32v0tYPyIistXqE/fq8hMwdu8B9w7mryKnvx88EJ4dLV+tHEVbN+LIV5l4N/OgOu8aVpmLN2YvQ7Y6WZ9twiRO7nGLsOGjVYiMz1Tm1FOejQUBS5E/ZAUqqqtRXX0ehvCf8OrYRUgvsU0UrBMmmbytx9tHfPD8rlLlfaX7x+F4XBACZqajpCbPEa/LW4MZv92ArrF71eWfQsykJciqSUScXZZQeQTJM57G2q7RKBDrW2WYjJMxTyEuq0QspSHlyEuehd+u7YrYgipUV32I8JNLMCluR+PJu1Of6cz3bCMai8M6F3fkdBbi4tbho1dfEoVMB5femhSH1nF+GoYUcYzo/zx2yfdVlWL/uOOICwrDzDo1WC0Zh83d186uq3xdGo4NfRG7ZbyVbsS44/EYG/d+3d+CQ6fx6dY01PnFewQjxK+rOiG/50pMmp2LPi/K9a9CRVYgDofbrofWnUNhxjtINm5EXNI+h0mGqeKMiJhLdR08Qhdi1xxfdbqFXeeLqA+SEKxOUmuig3vgYpRW/4z8pAliegKS8n9GdUYEvJUTcUd4R2wQv/cvkRTsAQQnIb+qGqVLA+Eun3b1x+zduUgK7dWEQl03BC7do35eyzOVfIR3cs+qU0RE1BKcP8ZrkgkXfjyJdr79cJNL7TRu7or2yvOSO/o88geEjAnD/Z3VWdcsUZh/IxmHb/NRp+2wTZjkyX3xa1j6UgzmiPJCfTIR34k18EXIKG+4KvPawyPgcUwZ8Cn259sWha0SJlMhdhUPQVS4PzyUSBTv84/EiwsnwJj8DjIK1Row03fIXPYqjs+NxrS+spgiXhc4A/P838Pkl/eYC9vOLgsXUJL5BuKOT8GL0/or66vzCMIL8+5ByuSVyC53nHKYSnZiWVwF5r74OPq6ig/ReSLwhSj4p8Ti5Wx7NcAWTn6mM9+zTWgsDu20+nAPxOKkZXhp3jTYDcOmxqFVnJsK9qN4xB8Q7uthPiDqPOA/MxYLg39A8pu7UGgJiZaMw2bua2fX1VRyGMX3PoFQb6VYL142FJHhY4Htuci31wLFhqkkC6sKI1AskoNq5SKIeJQuRqC7ukNMBdgwdyXaT5mK8cpn6ODa9/dY/NoD2P7HZXYulGhU+T4kxW1U/jSu2YlcB79/nceDWLy7VGyDJEQo+6u5OqJzdzf175anc+uCHurfRFdN5RGkzH0JW6vUaSIiahGWYnGrUv39TqRMH4+46aFYsGI98teKAq/NdPw13yTelqwheweb+zyP2Ae6q/Ns2UmYGiUK7D5+GI0ULFiUrjYHFp/16Xas7/EHPOlvqaFTWV8Y0HnjkUe8bYKwPXr09oKHhxd69zBffjEV7sKbycCg3t2sXtsVfiHBgKWw7eSyYCpCxptpcmHoUfNiHdz9RmEKMpGR66heTa2Zg9WyJPd7EDJFrEbGZ2qyJZL0tD9Cr/8j0izJi5Of6dT3bPWcicP6zeQb15Q4rBvnOu8QPOJtuVCl0nVD70F6eFjts5aMw+bua2fXVed5Px65t4t5QlGOrw58CZ+o8fC3JN+CuZn4AJu+safx6X+S8eabYbjvyQRsstMM31S4D+szu9isf3t49B+MAcb/2blgp0UyDj7GQR+1BtyYgqWbCqy2g9lFQwK8aponW5qgV8KQMFKdJx7haTCajMhZLrvC2G5P58iuIGmWrjSye0VqTt2WPLI/8qYEtZuOg9fUY9s8fyQSDK2tMwM1THZZeR/JMQ8jxGZMEJMxB6mWrkONdmUpR0HaXHPXGme6j9XEu+yGk4aCkiwsTxWfr7Qu+z0iVx+BMT4IncXylCb91v3p875G1lyxXlbnyTrrWi+2xXfMWWmO/ZFzkVYg3r98fe34JI7WRX2aiKitqFu+bCVcbh6Faa+nY+HKlXi032/w6PyNWGgzHTN+ADqorydxXitJx+xVN2PG+IaSIZEw7eyEqMdsE4+G6TwfxsK1TwPxYfDxfhIJq1bgjSPDkfJWuLlmuoYsKOegXdQ4tfmfPRdw/GghMGUU/JQEQyTMez4U6W0f+PQ016PWYWwo2bZdllgDJeEABvjo1VpZawarBNyG6Sj2rN8j3uiFnnW+k1lDtXXOfealfM/Ww6k4LP8MO9tNxGO2CWojnI9DJ+LcdApHD3bAlJB7zE1RWzQOW3hf11vXuswJ4Z8xt2w61kX524nBumRt++uJ25S/jaujMSHIB97hqcirqak3obK4EIfVKWu6Hr0xyKOB35GWmAqwKbEKs5c+rTYvNyJz/b7aFhaq63yjcGBXrE1LD1f4zt5o1ez9HEoPfY8uwwfBB0ewff/XTevrX5mDxEljEbZtEN6r+AUVuQ8hZ9p4TErMMS/HdAxpM8MQtKorXiyuEs8nIkBEUPy0SMSlN3SRQDbPf9ncHDpgPnaVZmC2b2MRQK2HOKdmzYev31hExh9Q56mUmJqElO4LlK5DsntW2eIAuCmJse14FSexd+tOnB46H7urjmLz6AOImre93m+h1jkUpMRhZWfZ9asUu5cMQfHKRHwoa9hd+yPirY1Kk36PObtwRnx26dJ7kFvTn74Ue7cfw50zZiPWpwRFx8+KY9QOxL3wPtwiN9Z2L4odj2kp5uTbVLAWT610NXdR2z0fQ4vXYsGHPylr0uC6EBG1MQ7Lra2C7UB0crrdPejV/XrzNJmJQl/6yiJMfOlheDa0x2XCBP+aJNd5spnvPGyRhVvjakT/IRmHy+wNdiMTJmBUTT9ZO2SCnKbHa38aUTcJsa41V+jg2tMLA9QpuxwtC3qbmkLBVQ+fAfYbYVuzrtU0c0VPnz7q31J7eIa+htLS1xDqab2+Tn5mc75na+FUHJov7mCU/SS0YU7GoRNxLi+2pPX8M/4U0E2do2rJOGyhfe1wXWWBNnki2un9EBadjMxPduOTwrrptM4zFEmlh+v0jTXPq0Z1RT52bf4X5gR4iAR+GgJr+uirrUUcJugeDi5SaYlsjZGJvaEimfB/FDGWBDzzdSTV6/aiQ6fOXdFJnapl1ey9MAfH3H3g7TcaU4J9MXrIHU34/mI/bUhAdLYRd4z5DQa6XgfXgb/BmDuMyE5MR065CRc/3Yg5yUfE+n2IPYUXxKGjF25T3nsE/y061UDiLr6p8WOk/Hcgdq2LRaCHdbyRdm1EpM+v1Npnq0e7fojMNKqvkcx944vzbcc2EMfRnHQkZg/GlHH3KLFo7p41DR4esdh1JgdLA62PF90xfFwo/GV86G5B/+H91FhzNGBjpfjMYlzXxc38u1C6jc3GQ1ZjAtdl3Z9efNaYYbjVU3Y/eRezfTuicPtmVIX/Se3aI7sXPY7wKXpkxq1GdvlF5UJh3nVucOskj1Jqt6KHbpALFpq6LkRErZfjkmsrYDsQnTKtvwVuSn93MruAkvT/4FjY/2uk0HYpCZMoBOetwawNfvi/M19i8xw9VkdNqD9oW6MJk1zXt5ATMQvj6yS9zdGSy6JL52wcOnFxxyFn4tCJOJcXGBLzEfG3Ri50OeUyx2GD66oOaFV9Bvm7kjAHKQgLmFvbhaMxrt4IDH0KS3f9H3bFBtfto+8+GBOjxsAYvxR/twywKEexfzcDOUY7F6k0pww5G77AcKU7hrmLgvkSWjNbC5zoiV69ZPefvojIaOIgYZbWPMLX0X64XiZo1/sh+msxw1iIo8cv4Dqf3+CZALGGHjejyw3OLln8HgrSEDttG/wWRzNpb1XUweks40tYHpbB6RpluQhYhPxim7YfakxdGnnBujOSwx7GkwnrkVUgfjHuAZgV3rfpv3sl/rciPqi71UWK7giKN6jrelH5LnckW3fd6YbAWY+rLfdacF2IiDSuVR7XLH3c581/DfmZ87BA6d9ed5q3fTMzlWzHymOBeMrXur+rHUqz0bPNSphk8+eZgdswPOq38HTvi9ClG/Fl0mjkL7EetO0cCjZtQJXDhEkmXe/iPxVTkOBUoVe83kFz3aYvS6gsRf5h65oMZ8mr/UXq303k1Gc29D1bD2fj0FSwFYlVzWn1IT/DiThsNM7LkbdmCyqef9GmxYQjLRmHTd3Xzq6rO7wDI7DkzYUINqbhzYwi8UlNoNRgycEprZOALvCNWoX9iT2QEtQT7WSf1JSPcOiLg8iuM/q8NskRrzfUdMfQiXL+VCxUEyJj/BvYdCXvaW36CWVfm48DdyzLxS91krUNiJDrqIwaXorqgj+hS8Z8hL+wGd8q73DkLL7dMhdjfcIQn7kLWzJa32366NLovMRvMvYmrEndZu7mYjIid6cBxoChGKi/1Is4HeE9bYX4/Q/GjujfIcinr7lvuRMDX9ajnAf1mLPrpFXc141/nfdkpOx/DQ/uMHfdcVP6uVsur7XguhARaVyrTNzNfdxXIyLYD/fPXG3u324zzT7u0ilkv7IAS6KGqP3a5ONX8ImUoyirTfH0c5FVbjI3t707oBkJk71B29zRN2Ip1s6xGrRNaS58s8MCvankPSxe1xVPTDGPul6rI7xGPCQSDge1BHaSBMfLkoWZYXg8+DQOHrXXvNTXYT9h6HpjxOMjYDx4FMftlAc8rPrR23LuM5v+PVsPZ+PwLAr35OBuR/ugQc7FYcNxfgElaa9i3a1hmFJv5PCWjMOW2NcNrat95jis3+DbKUq3Dp+6ffLliPazUlGqFLAzsHTi7SjL+QERrz2NgGZceLlyzLHy5hLzwFn1myDvwfo9R5t2caOFfL3jEIrsfrA6OJe3Dybv9cPixWFqU/kGDJiKpUkR8MARrI58AW8YTqtP0DVB54mA52IQ3e8LLPFuJ2L8PiyomozcdTPga2ecliZTf//FpbnYvOxB5MeH1b/1qjOUY8tp5BwoauDikmw+PwOpxaXI3bwMU/OX1G091FLrQkSkcVouXTWsugI/ftcJ3W78Ve106R24s5dtqnYtk/3Kcm2uYNvcJ1a5xdOFS0iYVPWSkLp9vxtKmEzGLKzY4Ibn5j+o3kJLzixB1itblFFjzQnHAZvCtBx5/L/1R8luZFnmBHywzSBUsvn0TqzxeQITbUfBr6EmW7b9/uQo+Wt6IGriYMfbzsnPbMr3bF2cjEPXbxu8uOOUBuNQDgrnKM5FYpSVjA1dpmF+oGfNgVHG0ytp5pHGWzIOL21fN76udik1W4PxeJNG61eJ9xbeHoaQmttE2qjMQ9qCv2Hb0CVYOL4JzcSvBnkLuLSHlPtgW8dkVfFmRCiV7ka1b63DLdmyruuFwWGWPvb2+hWbzPfMH/JHrDYGIGp6sBNdODrhtj53wX/a37A2VvZ+3obo2W/BwFrIa4ccnG5aNgZOX4JUOWaFHLht6RT4tkiXiVPITs1QEmOdhy9CRWzl7Yp1+naTdajnx+zoSMxIyLCqKZdxvwlpBWdRnr0eW2SSLhJ039DZSM3bhTmw3L2iBdeFiEjjNF2+apDtQHRyGt3h3qH1fqWrppHa8IaJhHb0U4gN2IO4RevVkadlE+H1WLT4ZnVALkcJk3id7IM5aTKiooKgb2epjZU1YPdhqauP+bZ0Om9MXDwDF+KWISVPnqjlbWsSsSAnGPOeGKTWZjq5LLG+3hNnY9mF17Eo5QgqlfelY9GCzzBt3kTc20BNhM47FIuXna39njJZWZSInGkz8UTNrbdkTajN7eCc/Uynvmfb1fxWH5ITcegwzuV2no9JQc8iSmn2XRs77fRvwLX/beYDZUvGYbP3tTPrakJ51lwRg1a3f1Ji9Q0cX/gXTLQarb/+7eDkraU+QNoWQ824ACbjXixfdACj7A0qKPu1b1mFmLGTsaVHLNYttLpQoUHKd3luHo5HPFjvzhY6z0BMjxpjnjDWva3g2TNlOGt+xso5nDlZYf7zbBnOnFU3WIOs3lOjGwL+NFe9aLDRKn7Fvs76WKyDHLH+E2TLp1GBk2fOorL0WE1T+bMnz9Ssm6niNI4rf53F8dM/wSS7OcxdgGWyf3x2FMbOWKMum9oOEZ8VZ+QvF4fzS9Vaa3EMkIPTZS5AUOd2tccg5TEA4cv3qr9vS1evsyirsFwwOoeKMhlR1vPqM32RiLkrapdTevQEOo32g488n6m3qDS3UDuNT7MOiWh21K1MHLtDfifi/whWRz8EHzfL+raD9+s6DJEXC02H8Oe5q5BjlOdUcYwt/Q7HO/0aQ3zMJYoG14WIqA1ptUe1ugPRmXD+2CF8bndgul9wal884qLm4eMzotij9IGPh+F7e6OeX5saTpjMI1O7dA5CvFH2/5TNSyci2aoPqM7jQSxcl44lPdahn3LSFSfcJWWY/MFic99bBwmT0ic5IAzx2fb6eY+wqhnUwdV3Bta9F4D8Z/uK5ffF0/v7IcFqlGTnlyW4+iNq3esIzP+ziJd2cHt6P+5KWIWFVrWX9pn79b4X+AWeld/TbSb23/UX55IVpz6z8e/ZdjVUGy6Y8pAc0hOdg5aI4qnBPJBRSHLtfXyFxuLQfpzLCy1zERC2RE2MbAQ/hBE1tcwtGYfN2dfOr6tO74MHsRrRwT4i3vQYueBjtJu4Am9F1O8+Uk/VN9jyrJ/5ooNI/hP3/oIx86Lqrld5FmLkPZXbBeOVr9wR8mYWUmcN13TSLu/H7q0fgajV+7A67DaxzZ9BmvGi5UkkeN0Iv2jzbfBkrXu2vK2g23RszFiGwUrcSV+L905FguEEDAkTzANoScYlCBqcCIO6OPvkPdXjat+DNxF2/8vKe3Se47Ei+0Msm9pfGcG/n9tAhCd8AvgPh7drJ/WilMzsS5GT8T5ybgjBPKUmXXx0TgbeNRhhEt8h8beRyDTPRWbks0g0nIYxM1kZsV6ZK5c9qLH1pCtPvdhm24Wo5hinnoctXToyI+Ejfp/6mJ0oyYqDt1+UckxQzs/Ke3Rw95+EhSKe6hMJctQKbC/4TBxT71HjcRui/UYhJusLZMWMUn8Hlnm2d1kw0w35CxaPOYGXg/TK8evZ/DH4YMV49eJeV/g/+RymHo5EwJNv4xcfHTbVfJb8biPqLFfeyWKVYT9S5ljGxu+Pqcs+RLZlebph+PfikSh+eaxyXHd7Nh+PWMoX8ukG14WIqO1wqZZtBDVCXmWVZB91apgcjE/S0O6ja4jlt8r4o6uNsUhadtXis/ILpGX+guDQgTYX62RXm5V4G1Mwu84t4ehK4TGLrjWM+ZbD65FEREREbYXpGNJm/gOn+/vYaWFzHdxu9MPISxlLhIiIrgom7kRERERtxdkTKCr6L9YkrTPf17yGHMPiQ+wyeeHeZo0lQkREVxOP3ERERERthTKmyno875OPBT6dlWaqyqB0Ce/iS7cReMTXg4U/IqJWiH3cWyn2caerif2VSCsYi6RljE+yxZigaw1jvuXwoisRERERERGRhjFxJyIiIiIiItIwJu5EREREREREGsbEnYiIiIiIiEjDmLgTERERERERaRgTdyIiIiIiIiINY+JOREREREREpGFM3ImIiIiIiIg0jIk7ERERERERkYYxcSciIiIiIiLSMCbuRERERERERBrGxJ2IiIiIiIhIw1yqBfXvq87FxUX9i4iIiIiIiNoCDaWcrRZr3ImIiIiIiIg0TJM17gtfT1f+J8fipo9X/ufVK7oaLL9Vxh9dbYxF0jLGJ9liTNC1hjHfcljjTkRERERERKRhTNyJiIiIiIiINIyJOxEREREREZGGMXEnIiIiIiIi0jAm7kREREREREQaxsSdiIiIiIiISMOYuBMRERERERFpGBN3IiIiIiIiIg1j4k5ERERERESkYUzciYiIiIiIiDSMiTsRERERERGRhjFxJyIiIiIiItIwJu5EREREREREGsbEnYiIiIiIiEjDmLgTERERERERaRgTdyIiIiIiIiINY+JOREREREREpGFM3ImIiIiIiIg0jIk7ERERERERkYYxcSciIiIiIiLSMCbuRERERERERBrGxJ2IiIiIiIhIw5i4ExEREREREWkYE3ciIiIiIiIiDWPiTkRERERERKRhTNyJiIiIiIiINIyJOxEREREREZGGMXEnIiIiIiIi0jAm7kREREREREQaxsSdiIiIiIiISMOYuBMRERERERFpGBN3IiIiIiIiIg1j4k5ERERERESkYUzciYiIiIiIiDSMiTsRERERERGRhjFxJyIiIiIiItIwJu5EREREREREGtYGEvdyFKX/E4bvfzFPVpfA8Gpi7TQRERFRW1WZg4SRfohMOwaTOssplQXISluFmJFPILngnDqTrknNjSEiuqJaf+J+7hi+OuCGG93bmafPl+HUyZtrp6XqH1Hy2T4Y0udjafphnFdnExHRtc1UkoZI/cSGExelUKuHiz4SyXnl6symqoQhYSRcXFzqP7wSYLiovuyysPns8DQY1WdIC0woz5oLvXVMyEdIMgqULOocCpIn1n1OPPQxWWhuNAKnkLVgEoLC/oD47MtR0XEK2Wn/u4T1u9bZxoQfYrJOqc85YMpDcog4TlneUxM/lxv3NdGV0uoT9+ryEzB27wH3DuavIqe/HzwQnh0tX60cRVs34shXmXg386A6j4iI6BwKM95BsnEj4pL2OSx4mirOoEz9u/lc4Tt7N6or9mNZgIc6bwKS8n9GdeFs+F6nzrosxGdH/RNJwZbPJW3RwT1wMUqrf0Z+0gQxrcZFRgS8laJMR3hHbEB11ZfmfRichPyqapQuDYS7fNrVH7N35yIptFcTCnXdELh0j/p5Lc9U8hHeyT2rTlHTWWLiJHbN8RXTBsQv3dpAIi4S/ezViMs0Ah6x2HWmyip+nNCsGDLjvia6cpr6+9QYEy78eBLtfPvhJpfaadzcFe2V5yV39HnkDwgZE4b7O6uziIiIyvchKW6j8qdxzU7kltsvFes8HsTi3aWoLk1CRF8lVWo+Vw/0ua2TOtEVXdwua8ZeS3cDuvSwfC7RZVR5BClzX8LWKnWaLpEPouZMgkfm60jKdlDrbvoOOzeU4MFJ/dUZVwj3NdEV1SoT9+rvdyJl+njETQ/FghXrkb92BubZTMezSTwRETlkQnnuxzjoI2uzBGMKlm4qEHPrumhIgFdNc1UvhKd9J+baaXpuMiJneTj0LgNavp+oWLYhLQHhevl5eoyMWQOD8YL6pGRCZUE2NiXIz1fXaWQMUg3GhtfDmIZwy+vFwyvBgMvaYp8ugwswGt5HcszDCEnOq7O/TcYcpMaEmPevPhwJOwpE5DpSjoK0uRipvnZ5TiOxUxPvMh7TUFCSheWp4vNFIpc84/eIXH0ExvggdBbLU5r0W/enz/saWXPFeun/iLQScxzXWVeXEMSk5ojflPKUIL5jzkpz/I+ci7QC8f7l62trnx2ti/p06+eGuyc+haiAUge17uL3/+kWbPN/EpN7dlDnWZHHj9QY8761Gwv2YkjEQ9Z6JIT7iXmHUGJYI/adbIY/AOHL95r3jaN9rbxfLtPyHrnfrI9HVserkGTkldTue334SuRYHdvqxoV8fjl2FFjaRjm/HPP6pInvM8C8LHu/hzrbyd5x1h65Dhm1y5Wxm5yFgkrLTnJiOxI1QatM3F1uHoVpr6dj4cqVeLTfb/Do/I1YaDMdM34A7By+iIiIRHmrAJsSqzB76dMIVmYYkbl+HwptClLX+UbhwK5Y1G1kLpu9b1SbsErnUHroe3QZPgg+OILt+79uIEFqqtMwJD4Fv7BsDHjvR1RXpGNMTgz8Jq2EQS0cmkrSMTNgElZ1jUVx9Y/IXTYGyI7HtLGLkK4mRnZ5hOKt/CTx/YMRu6sYBbN9cYXq/6lFyH7Q8+HrNxaR8QfUearKHCROmoSU7gtQUV2NKsNklC0OgJuSXNj2lz6JvVt34vTQ+dhddRSbRx9A1Lzt9X4Ltc6hICUOKztHo6C6FLuXDEHxykR8KGtdXfsj4q2NSpN+jzm7cEZ8dunSe5Bb05++FHu3H8OdM2Yj1qcERcfPinxpB+JeeB9ukRtRXX0epfvH4XjseExLMSeRpoK1eGqlK2ILqlC9ez6GFq/Fgg9/UtakwXVpS9wG4/fPhdqvdTd9h8xVFXjisbtgNbqT6gJK0hdhbEoPJFSI7SePD1E/IDo4DhuUcT3sxZCc93cEBP0O0atLcWHvduysGoUlu4+iePMD2BG1AtsLxXvt7mvZfUMkyVnL8MKGGxD5XjGqq0qxf9xxxPrNRIr8zPJsLAgYiQnRq2G8kIP3d5oQvCQDVcWbMXrHIszbXqTsd5iOIT1uek0My25GUd8uQ/Bzm8wXL5xdjvi30rASk2YfxuC/G8Q2+Bn5C38W2yAKbxhOK68QB1Fkxf0VG9yexHvy91K6EeOOx8Nv2toGuydUGlZgbMAGdI3dK5ZbhYovJ+F4XBACZqajxOTkdiRqgtbdVN52IDo53e4e9Op+vXmaiIioHlHg+jQTe0NFMuH/KGIsCbjdpqg6dOrcFfUbmXdE5+5u5j8Lc3DM3QfefqMxJdgXo4fcIVL7lmEqSMPc6G3AHQEYObCLKCzfhZFjfERi/jY25Mie95X49D+vItloufDgCn2fnuY3Gz8XiVEDibsorGan5MB3VzIWBnq28gJBW7IRkT6/Egm2uZax5tGuHyJlH+Ya5n7QxcrFF2siYchJR2L2YEwZd48SizqPILwwbxo8lP7POVga2M38UkV3DB8XCn+P9uKFt6D/8H7it/Ah9jhMKirFZxbjui5u5t+FzhOBL8zGQ/WzRpV1f3rxWWOG4VZP2f3kXcz27YjC7ZtRFf4nhHrLbijt4eH/OMKn6JEZtxrZ5RdRWVyIvOvc4NZJRqh4PnAG5j10g1yw0NR1aa3awzN4qp1ad3ksk7XtYQhwt/cLNuGn098D/gNxp6t83h13Dr4HHihCfrG8vGgvhurOaz98PKb4e4i5Ytv3H4wB2IP1e46KJTtgKsL2xPMIf3E8vOVn6jzgHxmOKR7qWCLugVharI7X0N4f46b8Gh7Ky+7C8AEi9GouoP6M08Ud4D+4j/l46toHg/31wOFCFMuLls4upzIXb8zeBP95MxAoY1wcu71Gz0Ti1F9w8oy5jZGpMAOJVRPxYmhf9fcyFJHhYxvpnlCADXNXov3CaExTulDp4Np3Cl5dGwskL8Yr2WWXth2J7LD3K281bAeiU6b1t8BN6e9ORERkTxlyNnyB4SN6i5NgV/iFBKs16gasyfjM4SB1Dp3oiV69Ooozal9EZDRvgCf7zqFwz4fIlH9+HQ2/62UC5wa/6GwxoxQHj54Shb5O8Bk5DgFijkfPLrCkM42qzENa7Cy87RfLpF1z1MHpZC2j9cMyOF2jRALR00skBpbkzIqxEEcbupjjFFf09OmM5LCH8WTCemTJpsvuAZgV3rfpcWQ6ij3rtyI+qLuIbctFiu4Iijeo63pR+S53JIfhvicTsClLNm/uhsBZj6sDr7Xgumid66D6te5KbXsJxoT0cfB9zQMbKjXhsrvCpkQ8N3nJZb2rhKlwH9ZvW4Cgzu1q92nnIMSLDzUePIrjzmaqyvF0L5YGdlWbxP8Zk2VcNJGp9Ah2ZHvCp2ft5VSdx3DMSs1QL2CZj7Pb1Ob+5nVuh85BcjtZjrP1Kd8zswsG9e5mte11cPcbhSkezTyXEDWiVR7XLH3c581/DfmZ87BA6d9ed5q3fSMiInvkKMgb2k3EY94i2ZYFrYCpWKgmRMb4N7CpoVvDXVEXUVF20vznHcuQ+4t1IleKjAiZnIgkzXcWdldXoSCmCzJin8YLW/LN73Hk2814YWwgwuI3YvuWbKv+mNRW6LxCEBN7E9akbkOe3L8mI3J3GmAMGIqB+trhe5tHJIPTVmB/4mDsiP4dgnz6mvuWNyeOKkuRf1iPObtOWsW25bEBEeI3qvOejJT9r+HBHdGYEOQDN6WfuyUlasF10bz28BwVqiSF5lp3c237Fq8wBHs2sE8tfbe9F+GA7jeITbXt+tOSxDoVF+KwZWR7233alJHuBXMf99HwXpQL3cgopNZ0T3KWuj7qlH2y1UZRTXP/uutsOc7aamC5rnr4DPBo2kUKIie1ysTd3Md9NSKC/XD/zNXm/u020+zjTkRE9ZlvAffmEqvalTpNkLXQfPEcCtasr3tv969zcKjIwQUFZXCuJ+HtMxN7h8zF4kd81CccuRfhSxdiqii9G1fH4tk3ckXRldoUnScCnotBdL8vsMS7nYjx+7CgajJy182Ar9Jk+hLJ5s+zUlFcmovNyx5EfnyY2q9Xfd5ZSpJzGjkHihqIQdl8fgZSi0uRu3kZpuYvQViASN4t4ze01Lq0Bu7DELlwApCZhq25h5Ta9kd+P8jclNwudYwM2ce94C3MDvWD/rJ2I1Bbexg/w4GvLrG+2WqchoLU2Qj19bTTh78xltYnDR3XZauNPjDmHMJXTl/wsSzXcY28x6De6NEqsyzSstYbUtUV+PG7Tuh2469qp0vvwJ29HB++iIjoGidvAZf2kHIfbOuaFTmgUYRSDWVU+9ZevVK/qeQDLM2+HvrrOuHOwUPV2jFHBU9zwXxI1GoY7wjH9HFONNO/rQ/6+U/G39fOR4D4vtnRf6sdpInaBpn0TMvGwOlLkFpqrjncvXQKfJU+vpfqFLJTM5TEWOfhi9DZbyFvVyywPRf5Ta3p1vXGiMcHixiMxIyEDKuachMqDZuQVnAW5dnrsUUm6SJB9w2djdS8XZiD/2F/vkwMW3BdWoWO8H7sGczx2IbEmBewubHa9vID2JC4DR41fdwvP53XMDwefADRY2fajNwujlWp7zcw2Js1yzgNXWr7uDeTrkdvDPIQx/XImYhNy6uzPp9mHUK57PM+4iEEZ0dh7IwVVqPWC5UGpKbVv9uIZP6e1n3yVUorksGImjgYl3jzUKJ6Wm/ibjsQnZxGd7h34OUtIiKqz2Tci+XPzcPxiAfrNdfUeQZietQY84QxBQsWpatJhAlnz5ThrPkZK+dw5mSF+c+zZThz1skkodKIom8tSytGUal1PaNIVgoykDj3JWzvJvury2b8T+O1CHlvZnlBYRlS8mShUr7uY3N/XtNxHNqhjgatrEc5SouKzdOowMkzai296SecPq5+7vHTqDDJQb5EwVqOQI9topD9ZyQry6bWRcRnxRk5jjcO55eqSYma9GTa9DNWHta3oTI3ERaBg7IKS2uOc6gok3FiPa8+0xeJmLuidjmlR0+g02g/+CiDkXVD70F6tamwJTmyfJYtkTSF/A4RHkewOvoh+LhZ1rcdvF/XYYhXR/Fhh/DnuavU23uJ2C/9Dsc7/RpDfMxpUYPr0hapte7G/DsR1mBtu2Bptq3WJpuMuXg3wyCiRSpT9439GKrfFNzyOuBCWbn5mGhvX+v6IOTpUHgYVyM62Ee9k4F83I/X3QbAS+4WJbm16Wkvjl1lysLPoEIs3FKjbW6NIW/nth0ZOaXm11YcRpahzInliKBwH4E/vTYDHshEfFg/q/WZjF2deynJtc4rCE+L46xxdRSCfTqrz4uH91twGyLHQrFD542Ji6MRkBmHp+N2mONPjk7/90TkTJuJJ+7tImc4tx2JnNRqj2p1B6Iz4fyxQ/jc7sB0v+DUvnjERc3Dx2fEb13pAx8Pw/e/qM8TEVFbJ+/H7q0fgajV+7A67DZRKHsGaUa1LfpFAxK8boSfHL1dYUR2fJhIIqZjY8YyDFYGKZK+Fu+digTDCRgSJpgH0JKMSxA0OLFu0/Z61Hu/uw1BdLaloCkSZr8bawuJIllx83kI0at/wAAfvblAruuF0BWbkblsqigIJyOyX2fow1fgEwxEoByFWxSSR8c8rQxOJ0q2yNh0EDeMew6xAbKeXhR6M7bDYCyDIfHZ2u4AmZH4baIBF41ZeMXynZVlPyK+m/WFBLoy5G2j5kLv8iv4RG4U0+qo8iHJau3kORQkT6zt0iH2n087ec/snSjJioO3XxTkcIXKvbSV9+jg7j8JC6fKCz62RIIsb0NV8BmSQ+5RY1jG4SjEZH2BrJhR6u/AMs/+iNq6IX/B4jEn8HKQvCd1XzybPwYfrBgPT6VU2RX+Tz6HqYcjEfDk2/jFR4dNNZ8lv9uIOsvVeYZilWE/UuZYxjXvj6nLPkS2ZXm6Yfj34pEofnms+TfybD4e+WAxQtWa5obXpbWyxIQcqO9Nczzo5yJLaQkka92nY1n0VLW23fq1clA/cTySF2xkLEAklyuWYGp+FPzcRiM2EwiOjcEcD3lsOIIb/O8G6sXQm8j89+/UwdlkTXU/9IzZge9qXidb6QyBt3LPdpt93a+fSITbwzNUHA9zV2OOchwSPKZiWeZmrAjtBRHMCFEHq1Niuaf4Xt/tQIy3emzMFuvqHYfsHqFYkTQa+eKz3EbOE2l3IGLlnRHkcW5/B/F90p1aTlb5dWJ9FiM7M1HpHqQImIOkXYl4xlcm14I8zq7KRG7KHPOxVPCYmojM7No4q0+OLzID63KXwv+TcOjFb9JFrMMBv79i3cIH4aGTv1tntyORc1yqZRtBjZAFF0n2UaeGycH4JA3tPrqGWH6rjD+62hiLpGVXLT4rv0Ba5i8IDh1oUyMr77G9Em9jCmbXuSUcXSk8ZtG1hjHfclr19UgiIiIismI6hrSZ/8Dp/j52mlFfB7cb/TDSr6s6TURErQUTdyIiIqK24uwJFBX9F2uS1pnHQagh+wl/iF0mL9zrzuIfEVFrwyM3ERERUVvh6o+odevxvE8+FtQMtDUA4Qnv4ku3EXjE14OFPyKiVoh93Fsp9nGnq4n9lUgrGIukZYxPssWYoGsNY77l8KIrERERERERkYYxcSciIiIiIiLSMCbuRERERERERBrGxJ2IiIiIiIhIw5i4ExEREREREWkYE3ciIiIiIiIiDWPiTkRERERERKRhTNypvvIsxDycjAKTOt3iTiEr5hkkF5xTp4lsmUQY/gUPJ+eJvy6Tyx7nREREREQtg4n7NeMcCpInwsXFpfahn4usctusRSRMudn4PHQYvGR0mIwwpMZgpOU9I2OQnFWASvOLa5iMBqQlhEOvvG4AwhMyUFDpICMq/wwZn/tjhFdHMXEBRsMaxIzUq+sVgpjkLDvvNaGyIAMJ4QOU1+nDVyLHeEF9zsLZZQmVBdhhWV99OJbnGJ1IEJ1cfp1tpsfImDUw1FtXB5x9b7PWXwucjcMy5GZ8j9ARvc0HKae3aTkKdixHuF6+TsTh8r0w2t0wzYtz+b6Wi0NnltUIud5bVqmfpUeIMxc6nIodZ7cjERFdTiZjDlJjQpTzhHI+Sc2xfzxuRrnAVJCMEBc/xGSdUudoySlkp/1PnI0aJ8ugW9LkuXC4/e/i9DneAae2bQuc04kawcT9WlH5Gbau2aNOmHlMGQU/d9sQsE6YTsOQshFH+j+PXdXVqK4qxf5xxxEXFIaZacdqD1qVOUic9BL294lFgXxdxX/wwOHZCJiZjpJ6RzbrhEkc5Azr8fYRHzy/qxTV1edRun8cjscF2bxXvC5vDWb8dgO6xu5VXmcIP4WYSUuQVXNQdHZZQuURJM94Gmu7RivrW2WYjJMxTyEuq6T2O9Xj7PLlNkvDsaEvYrdcdulGjDsej7Fx79vZFracfG+z1l8jnI3DOhd3nN2m5chLnoXfru2K2IIqEa8fIvzkEkyK22GnkNOMOJcx0GJx6MyyGiLeX5CGmCBfjE07g/vmZaOiuhQZEX0bPqg7FTtN2Y5ERHTZVBqQ8rYRQ+dtrz2fxEYiLt363CQ0q1xwGp9uTUMmDFiT8ZlTCfKVZCr5CO/knlWnGlCehbi4dfjo1ZcQn31enWnN2XO8A05t20s9pxM5h4n7NeECSjI3o/C5T1AlD1rqo3RpINzVV9SwSphMBftRPOIPCPf1MAeKzgP+M2OxMPgHJL+5C4XKEescCjYkILp9KCLH94WrnOXaH9MW/xWjt7+Ev9ieXKwTJlMhdhUPQVS4PzyUD2gPD/9IvLhwAozJ7yCjUG1Kb/oOmctexfG50ZjWV66xeF3gDMzzfw+TX95jPtk4uyxlW7yBuONT8OK0/sr66jyC8MK8e5AyeSWy69X8qpxcvqnkMIrvfQKh3uYtq/MYisjwscD2XOQ7aoGgcu69zVx/TXA2DuvWhju7TU0lO7EsrgJzX3wcfV3FG3WeCHwhCv4psXg52+YKfJPjXGjJOHRmWQ6pBYSAl3B8SiYKUmfjsUBv82+vQc7FTpO2IxERXSbimJ1zCvc+Mxbe8lisnE8eR/iUDti+/2ur2uJmlgvKD2BzYTD+FeUL45o07CzRUIIpkuWUuS9ha5U63RD3QCxOWoaX5k2DhzrLmtPneLuc3LaXdE4ncp4Sw9TGVR7Ef15dgzfDHsaTCeuRVeDoEFI3YdJ5h+ARb1njaUXXDb0H6eExqDd6yOgxHcWe9Xtqp1U6j7swfMAPNicXwbomVeeNRx7xtgnC9ujR2wseHl7o3aO9MsdUuAtvJgODenezem1X+IUEA2t2IlceOJ1cFkxFyHgzTS7Man11cPcbhSnIREZumTrPhpPL13nej0fu7aL8bVaOrw58CZ+o8fC3rlU2HUNa5ADoI9NqamGdem9z118LnI7Dus3kndum51CY8Q6SYbWvJfd7EDJFhEmd2oRmxLnQknHo1LIcqczFG88uwLdRSVgZYS5I1CcKG2l/hF7/R6RZCmNOxU5TtiMREV0+7eEZGIJ7laRdVVmEAzm3Imri4NoL3s0qF5xDwaYNqJo4CZFPT0ewMQ1vZhTZVLQISnesdUgID0FM1tcoSJurNjcX02l5teW7ygJkKU3Vn0By3tfImhsCF+vzj426zf9ls/Ll2GEpEyg13L9H5OojMMYHobN8Piar2eceZ8/xzT9vipddyjmdqAmsjgbUNsmrhauRmG0Ufx/B6ujfIchnOMKTj9jp2yMSpp2dEPWYbeJhxXQKRw92wJSQe8wnjcpS5B+Wy7ahHhSNdQ5YMmHKQbuocfB2+AEXcPxoIVDTfFokEns+FIfHPvDpaSdFMTaUrNouSx5c92F9JjDAR28n4Wlqc7H6y7dm7vf/Z8wtm451Uf4OEiz7HL23Zdf/SmpCHJZ/hp3tJuIx2xOt4HCbqheQMMALPa0LOaq6cdiMOG/ROLyUZaktXPKHY0zvQryh9qVzGTkXaQ4vhJg5FTtN2o5ERHRlyLFT0pAwIwFl815DlG/txexmlQtkt7W9QxEZIBJNr2F4XOSXmev32dQ+i/NNykz4jX8C0atLcfzAIVQMnY/d1WfwZVJPrAmboDY1P4WsBZMQFPYHxGeXYu/2Y7hzxmzE+pSg6Lidpu6mY0iPm46U7gtQIVveVexH1LfLEPzcJvNgsa79EfHWRiQFe8Bjzi6ccdRC9FLUO8fb59y2vZRzOlHTOCy3UlvRHp6hr6G0ugoV+buxOWkOAmTiFPn7+n17ZMIEf7tJqIU8iKX1/DP+JA72CqUmTjazclCgr5MAyIQJGOXXVZ22QyYOaXq89qcRdQ+m1rXmCh1ce3phgDpll6NlQW9zVVRw1cNngL1GVg1wuHzzAGzt9H4Ii05G5ie78UmhzWlT1wuhSYdRmhQKzzor4sR7W2r9ryhn49B8cQejbE+mzmwXESZ1ropLrujp00f9W9WcOLdoyThs7rJkC5cHB6DP7SMRlXoYVaV7kHjbewgLEMl7Te2Gur1LX0Oop/VnOBc7Tm1HIiK6/Ex5SA7pDb1fmEig9+CTjP0orNf1rinlAnGezXkf2cOHmAdn1fXGiMdHiMz9dSTV6Q7VEd4R7+DMrlh4oAN6DP4NfD3k+cQdfaf9Ba9FQG1q3g2BS/cgP2mCeK47ho8Zhls9H8Ti3e9ittUFhlo/43RxB/gP7mNOhl37YLC/HjhciOJGuhS2FPvn+Es7bzbrnE7URHXikNoycQDxDkBoxFLsKs1EbIBt3x5HCZMVeZU0MR8Rf3vYKtnsCv+JTyDAmIIFf9+lDl4lrwxvR0ZOad0EoNGE6QJK0t9CTsQsjK9z0GyOllyWPQ0tX57sNqC6+gzydyVhDlJskqqGXMp7W4PG4tDRxZ2W2i7NjfPmauE4VFq4AAMeeBjj1f56Oo/hmPniLMdNHYmIqPXS9UVERimqK/KxK2kKEB/mYPBfJ5kKsCkRVq3OxPn1sWcwx6MJrfZ0t6D/8H4i2f8Qe2rGEHKS8n32YmlgV1QWZGNTwp8xOd6gPnkFtOg5nujKYsheg8wDa0yDh/XVTeVAfraB2vBy5K3ZgornX7S5EikSMd8ZWLf/RdyWEgx9O3mrrlR8cugIcrL1dZoaK/2pHCZMcsCtd/GfiilICO3lRGCK1xcXQuQwdjR1WYKjJv92Obt8d3gHRmDJmwubkVQ18b1NWn9tsBeHpoKtSKxq6OJOU7dpJYrzi9S/hWbHuSMtGYcNLcvMdPwoDtrrmeKwqaMTnIodm+1IRERXlqs3AiP+ijeTbAfddcDusV2cZz7djjXbFiCocztY+pi7dA5CvHjplRqkztzHfTS8F+VCNzIKqXN81Wcut6ae4x1w6rzZ+DmdqKmcymmorVGb71g1Y1eaDd0d4CBhuoCStFex7tYwTFFGy7QlRzqdgdRSOUp4KXYvnYBeZZ8jP2JubTMkpbnwzQhxkDCZSt7D4nVd8cQU28G2OsJrxEMiSSvE0eN2TiYewfWW6XhZlgTnNA4ePSUOqbZ8G+3vJDW0fHvMn9lJnWoa2/e2xPprh20cyn5iObjbie9Qb5uqTf2MB4/iuJ3E1XLLuebHeUvGYdOXZaHr0RuDGugRUb+Jey2nYsfJ7UhERFeDev5Qp6SmlQvKkLMhH1Pyf1bu6lL7qDI3iW9qJUO95uFOUG4hPEnp4y7vihLq64l26lOXV2Nl2fqc27bNP6cTNRVLYNckeRXQiNufDjL3b2owYboAY1YyNnSZhvmBnjUBYzJm4ZW0AjsHsnIUpMVj9rb7sHZhbTOkhhImuawVG9zw3PwH1VtoyZklyHplizJQifnAeQDr9xy1+jw58vh/643W3tiyzAneYJuaSdl8eifW+DyBif4NH1wbXb49ypXZwXhcHSW9SWzfe4nrry02cdjIxZ066m1T9cRp22xP3sVgTQ91BN5Li/OWjMOmLKsO98GYGCX2/5rt+NS6L6CyPaxbuNjhVOw4sx2JiOjqUGtxgx8y351HakK5QGnVBnuDv+rgHjAVC2XLLdvzi13mVlhNv5gr1isnHYnZXWr7uF8RTS3Lqpzcts0+pxM1ESOprVNu5ZGGLQajejARB6+cf2FRtj9eGq8233WYMMkkfD4mBT2LqKCeaGdpUiUe7fRvwLX/bVYBJPu1v4/kmAkI2OKJpetiEagMYiI5SpjECaggDbGTJiMqKgj6drXLd2l3H5a6+qgDp3hj4uIZuBC3DCl5sveVXK9ELMgJxrwnBqkHfieXJRIT74mzsezC61iUIkc0l+9Lx6IFn2HavIl1b7tShzPLFwfzrLnQ68ORsKPAPFp6ZR7SFr2B4wv/gonWJ8p6t4Nz9r3NXf+rzIk4tH9xx/ltqvMOxeJlZxG3aD3yZKFDeV0icqbNxBPydnKXGuctGYdOLcueLvB95i9YhpWYvVgdU0Js25ykVGwebdXCRWzfere1cTJ2Gt2ORER0BZxCVoyf1a3S1GP20jIsXPGY1d15nCwXyHuji+O6w1ZtSpI6AsheVnt+qWHAmtRt5nOCkgSvxII1v7YadNXZ7lRqSzuUIudAkXiXLDuax0RSVBxGlqFMvEy9M5HS+us0Ps06JM6SzeVsWbb5583mn9OJmqbmZ09tV1XRFjzrp1cOVvrwV7C3MhDz/lZbE2g/YZIHsLkICFuCbHVOHTVXe80nFheXDvB9JQ/uIa+iIHUG/GuSdsFBwmQqScfMgDDEK7cIszXCqjZV7Uf/XgDyn+0rPqsvnt7fDwlWFwecX5bg6o+oda8jMP/PcHNpB7en9+OuhFVYaHUV1pazy9fpffAgViM62EcsW4+RCz5Gu4kr8FZE483qnX5vM9ZfCxqOQ8e14c5vU5HURq3Ce4Ff4Fm3dnBxm4n9d/0F6xaaP+PS4lxqyThsfFkOKft/HaZVJZgvDLSbhs1dZ+DjVbZ3KLDDqdhpeDsSEdGV0B56n4HA6igE+3QW54nRWLCnPSamvIII26bejRzbTQXJCHEbgMjVmYgP6g6XkOS6rQSVkev7wCdyo5gwInuJHLNoIpILLC2vfPH7B8SqjO1pLu+lumNu9mJzP3HlvfcgSBlgbiMifUYgJst6dPq6dN6PYUXSaORHD4HbyHnIRCBi5Xg3RgMy9neAv68sK3aF/5PPYerhSAQ8+TZ+6dfPcWsv5fN7onPQErHmBpvv15RzvANOnTcv4ZxO1AQu1bJzi0bIq1/SwtfTlf/Jsbjp45X/NbT76Bpi+a0y/uhqYyySljE+yVbrignZ6i0OfYMyMWXXh1gaaHOLVCIn8DjYclh/QkRERERERKRhTNyJiIiIiMjGRVScln22z+PU6Z9Qp9s7EV1xTNyJiIiIiMiKHMNoGHqGrYQRR5AcNhSjk/OYvBNdRUzciYiIiIjISjcELs1V+iWbH6XIiOjLxIHoKuLvj4iIiIiIiEjDmLgTERERERERaRgTdyIiIiIiIiINY+JOREREREREpGFM3ImIiIiIiIg0jIk7ERERERERkYYxcSciIiIiIiLSMCbuRERERERERBrGxJ2IiIiIiIhIw5i4ExEREREREWkYE3ciIiIiIiIiDWPiTkRERERERKRhLtWC+vdV5+Liov5FREREREREbYGGUs5WizXuRERERERERBqmyRr3ha+nK/+TY3HTxyv/8+oVXQ2W3yrjj642xiJpGeOTbDEm6FrDmG85rHEnIiIiIiIi0jAm7kREREREREQaxsSdiIiIiIiISMOYuBMRERERERFpGBN3IiIiIiIiIg1j4k5ERERERESkYUzciYiIiIiIiDSMiTsRERERERGRhjFxJyIiIiIiItIwJu5EREREREREGsbEnYiIiIiIiEjDmLgTERERERERaRgTdyIiIiIiIiINY+JOREREREREpGFM3ImIiIiIiIg0jIk7ERERERERkYYxcSciIiIiIiLSMCbuRERERERERBrGxJ2IiIiIiIhIw5i4ExEREREREWkYE3ciIiIiIiIiDWPiTkRERERERKRhTNyJiIiIiIiINIyJOxEREREREZGGMXEnIiIiIiIi0jAm7kREREREREQaxsSdiIiIiIiISMOYuBMRERERERFpGBN3IiIiIiIiIg1j4k5ERERERESkYUzciYiIiIiIiDSMiTsRERERERGRhjFxJyIiIiIiItIwJu5EREREREREGsbEnYiIiIiIiEjDmLgTERERERERaRgTdyIiIiIiIiINawOJezmK0v8Jw/e/mCerS2B4NbF2moiIiKitqsxBwkg/RKYdg0md5ZTKAmSlrULMyCeQXHBOnUnXpObGEBFdUa0/cT93DF8dcMON7u3M0+fLcOrkzbXTuIiKb7ORsTwCcdPHI275anz67Y+oVp8lIqJrl6kkDZH6iQ0nLkqhVg8XfSSS88rVmU1VCUPCSLi4uNR/eCXAcFF92WVh89nhaTCqz5AWmFCeNRd665iQj5BkFChZ1DkUJE+s+5x46GOy0NxoBE4ha8EkBIX9AfHZl6Oi4xSy0/53Cet3rbONCT/EZJ1Sn3PAlIfkEHGcsrynJn4uN+7ry0ZeXEuOwUjLPtWHIyHNAGOd/Sp+yzF+tftdeegRkpzHizBtUKtP3KvLT8DYvQfcO5i/ipz+fvBAeHaU0yZc+HYPDpXdiZGzkrFw5Vt4ZuCPyPznRnx5+rKWkoiISPPOoTDjHSQbNyIuaZ/Dgqep4gzK1L+bzxW+s3ejumI/lgV4qPMmICn/Z1QXzobvdeqsy0J8dtQ/kRRs+VzSFh3cAxejtPpn5CdNENNqXGREwFsp2nSEd8QGVFd9ad6HwUnIr6pG6dJAuMunXf0xe3cukkJ7NaFQ1w2BS/eon9fyTCUf4Z3cs+oUNZ0lJk5i1xxfMW1A/NKtDSTiItHPXo24TCPgEYtdZ6qs4scJzYohM+7ry0VeXHsSC/KH4M0KsT+rq1FlmIyyV59GXLp1ywj5W861OT6UIiOib+tP8qieVr5PRWL+40m08+2Hm1xqp3FzV7SXk9VlKD7dG/6DPM3TLjei57BADEI+vjvBgwwR0TWtfB+S4jYqfxrX7ERuuf1Ssc7jQSzeXYrq0iRE9FVSpeZz9UCf2zqpE13Rxe2yZuy1dDegSw/L5xJdRpVHkDL3JWytUqfpEvkgas4keGS+jqRsB7Xupu+wc0MJHpzUX51xhXBfXz7lnyFjzXn4h/wG3q7mdE3ncT+mTemD7fu/RqUyh641rTJxr/5+J1Jks/fpoViwYj3y187APJvp+PTDOO/SDX3u6W1O2hUisf/+GxTf/AD693ZV5xER0bXHhPLcj3HQR9ZmCcYULN1UYFWLYXbRkACvmuaHXghP+07MtdP03GREzvJw6F0GtHw/UbFsQ1oCwvXmJpAjY9bAYLygPimZUFmQjU0J8vPVdRoZg1SDseH1MKYh3PJ68fBKMIBt0VqbCzAa3kdyzMP1msaajDlIjQkx71/ZxHZHQQOF/XIUpM01N8kVr12e00js1MS7jMc0FJRkYXmq+HyRyCXP+D0iVx+BMT4IncXylCb91v3p875G1lyxXvo/Iq3EHMd11tUlBDGpOVbNgcV3zFlpjv+Rc5FWIN6/fH1t7bOjdVGfbv3ccPfEpxAVUOqg1l38/j/dgm3+T2Jyzw7qPCvy+JFq09y6TizYiyERD1nrkRDuJ+YdQolhjdh3shn+AIQv32veN472tfJ+uUzLe+R+sz4eWR2vQpKRV1K77/XhK5FjdWyrGxfy+eXYUWBpG+X8cszrkya+zwDzsuz9HupsJ3vHWXvkOmTULlfGbnIWCiotO8mJ7eiI6x0YMvo84hckiphXv3PlZ9i6visWPulnbm3TAFNBMkKUdardL9bzartSXMI60hXXKhN3l5tHYdrr6Vi4ciUe7fcbPDp/IxbaTMeMH4A6h6/qH1FycCu2bvkZIyN+C0+1aT0REV2DTAXYlFiF2UufRrAyw4jM9ftQaFNIuc43Cgd2xaJuI3PZ7H2j2oRVOofSQ9+jy/BB8MGRFq4NOQ1D4lPwC8vGgPd+RHVFOsbkxMBv0koY1MKhqSQdMwMmYVXXWBSLc13usjFAdjymjV2EdDUxsssjFG/lJ4nvH4zYXcUomO2LK1T/Ty1C9oOeD1+/sYiMP6DOU1XmIHHSJKR0X4AKSxPbxQFwUwrttv2lT2Lv1p04PXQ+dlcdxebRBxA1b3u930KtcyhIicPKztEoqC7F7iVDULwyER/KWlfX/oh4a6PSZNdjzi6cEZ9duvQe5Nb0py/F3u3HcOeM2Yj1KUHR8bMiX9qBuBfeh1vkRlRXn0fp/nE4Hjse01LMSaSpYC2eWumK2IIqVO+ej6HFa7Hgw5+UNWlwXdoSt8H4/XOh9mvdTd8hc1UFnnjsLlhGd6p1ASXpizA2pQcSlObW4vgQ9QOig+OwQRnXw14MyXl/R0DQ7xC9uhQX9m7HzqpRWLL7KIo3P4AdUSuwvVC81+6+lt03RJKctQwvbLgBke8Vo7qqFPvHHUes30ykyM8sz8aCgJGYEL0axgs5eH+nCcFLMlBVvBmjdyzCvO1Fyn6H6RjS46bXxLDsZhT17TIEP7fJnHA6uxzxb6VhJSbNPozBfzeIbfAz8hf+LLZBFN4wnFZeIQ6iyIr7Kza4PYn35O+ldCPGHY+H37S1DXZPqDSswNiADegau1cstwoVX07C8bggBMxMR4nJye3oiK4Xxi9MRCxSEOYzHOEJK5HwRiFGprziVMsvnXcEtottEWF18qo/7xLXka641p292g5EJ6fb3YNe3a83T6uUGvoZT+Kf/0rBwS+/xFffnBCHFSIiujaJAtenmdgbKpIJ/0cRY0nA7TZF1aFT566o38i8Izp3dzP/WZiDY+4+8PYbjSnBvhg95A6R2rcMU0Ea5kZvA+4IwMiBXURh+S6MHOMjEvO3sSFH9ryvxKf/eRXJRsuFB1fo+/Q0v9n4uUiMGjjbicJqdkoOfHclY2GgZysvELQlGxHp8ytzrZj1o10/RMo+zDXM/aCLlYsv1kRhPCcdidmDMWXcPUos6jyC8MK8afBQ+j/nYGlgN/NLFd0xfFwo/D3aixfegv7D+4nfwofY47DAXik+sxjXdXEz/y50ngh8YTYeqp81qqz704vPGjMMt3rK7ifvYrZvRxRu34yq8D8h1FsmI+3h4f84wqfokRm3GtnlF1FZXIi869zg1klGqHg+cAbmPXSDXLDQ1HVprdrDM3iqnVp3eSyTte1hCHC39ws24afT3wP+A3Gn0tzaHXcOvgceKEJ+sby8aC+G6s5rP3w8pvh7iLli2/cfjAHYg/V7joolO2AqwvbE8wh/cby5ibfOA/6R4ZjioY4l4h6IpcVqf+z2/hg35dfwUF52F4YPEKFXcwH1Z5wu7gD/wX3Mx1PXPhjsrwcOF6JYXrR0djmVuXhj9ib4z5uBQBnj4tjtNXomEqf+gpNnzG2MTIUZSKyaiBdD+6q/l6GIDB/bSPeEAmyYuxLtF0ZjmpJI6+DadwpeXRsLJC/GK9lll7YdBaWb1pa1mONxBKuj/4jEwz+iKdekdG5dxK+vLvP2sWTul7iv6Yqz9ytvNeoORKdO62+Bm9LfvZa5hj4Nf5m/AI+KyPz4X/HYdvAkR5YnIromlSFnwxcYPqK3OAl2hV9IsFqjbsCajM/Upp5NcKInevXqKM6ofRGR0bwBnuw7h8I9HyJT/vl1NPyulwmcG/yis8WMUhw8ekoUqDrBZ+Q4BIg5Hj27wJLONKoyD2mxs/C2XyyTds1RB6eTtYzWD8vgU40SCURPL1HotiRnVoyFONrQxRynuKKnT2ckhz2MJxPWI0s243UPwKzwZgyGZTqKPeu3Ij6ou4hty0WK7giKN6jrelH5Lnckh+G+JxOwKUs2b+6GwFmPqwOvteC6aJ3roPq17kptewnGhPRx8H3NAxsqNeGyu8KmRDw3ecllvauEqXAf1m9bgKDO7Wr3aecgxIsPNR48iuPOZoHK8XQvlgZ2VZvE/xmTZVw0kan0CHZke8KnZ+3lVJ3HcMxKzVAvYJmPs9vU5v7mdW6HzkFyO1mOs/Up3zOzCwb17ma17UUi7DcKUzyaeS6xJbsjzMrAkP87ifzNsfBZ/UcMmbQEWY024ae2qlUe1yx93OfNfw35mfOwQOnfXnd6qezjrr7eTIf2Nw+A7yNP4dF+FTB8fAg/MHMnIrrmyFGQN7SbiMe8RbItC1oBU7FQTYiM8W9gU0O3hruiLqKi7KT5zzuWIfcX60TOMmqwSNJ8Z2F3dRUKYrogI/ZpvLAl3/weR77djBfGBiIsfiO2b8m26o9JbYXOKwQxsTdhTeo25Mn9azIid6cBxoChGKivHfmneUQyOG0F9icOxo7o3yHIp6+5b3lz4qiyFPmH9Ziz66RVbFseGxAhfqM678lI2f8aHtwRjQlBPnBT+rlbUqIWXBfNaw/PUaFKUmiudTfXtm/xCkOwZwP71NJ323sRDuh+g9hU264/LUmsU3EhDltGtrfdp00Z6V4w93EfDe9FudCNjEJqTfckZ6nro07ZJ1ttFNU096+7zo5GZ29gua56+AzwaNpFCntMx5A2cxrWD38S4z27wTt0Id77MgVT8+dj8st7Lv2iALVKrTJxN9egr0ZEsB/un7na3L/dZrpeH3cLl5vRy7evOkFERNcW8y3g3lxiVbtSpwmyFpoGnkPBmvV17+3+dQ4OFTm4oKAMzvUkvH1mYu+QuVj8iI/6hCP3InzpQkwVpXfj6lg8+0auKLpSm6LzRMBzMYju9wWWeLcTMX4fFlRNRu66GfBVR6i+JLL586xUFJfmYvOyB5EfH6b261Wfd5aS5JxGzoGiBmJQNp+fgdTiUuRuXiYSlyUICxDJu2X8hpZal9bAfRgiF04AMtOwNfeQUtv+yO8HmZuS26WOkSH7uBe8hdmhftBf1m4EamsP42c48NUlppZW4zQUpM5GqK+nnT78jbG0PmnouC5bbfSBMecQvnL6go9luY5r5D0G9UaPS/ipmQp34c1kWNXoi8+0NMVv4C4ol/q5pG2td9dWV+DH7zqh242/qp0uvQN39nJ8+DL7GeXfl8Gr5hZyRER0zZC3gEt7SLkPtnXNihzQyDxgj1HtW3v1Sv2mkg+wNPt66K/rhDsHD1VrxxwVPM0F8yFRq2G8IxzTxznRTP+2PujnPxl/XzsfAeL7Zkf/rXaQJmobZNIzLRsDpy9Baqm55nD30inwVfr4XqpTyE7NUBJjnYcvQme/hbxdIpnYnov8ptZ063pjxOODRQxGYkZChlVNuQmVhk1IKziL8uz12CKTdJGg+4bORmreLszB/7A/XyaGLbgurUJHeD/2DOZ4bENizAvY3Fhte/kBbEjcBo+aPu6Xn85rGB4PPoDosTNtRm4Xx6rU9xsY7M2aZZyGLrV93JtJ16M3BnmI43rkTMSm5dVZn0+zDqFc9nkf8RCCs6MwdsYKq1HrhUoDUtPq321EMn9P6z75KqUVyWBETRzc6MjvjbO9MGC5YOBIJwzw0V/S9iJta72Ju+1AdHIa3eFuPVr8ucPIiJ2JTTs+xanzMuzP4tTBrfjoTDDG+HqAeTsR0bXDZNyL5c/Nw/GIB+s119R5BmJ61BjzhDEFCxalq0mECWfPlImzh61zOHOywvzn2TKcOWuvaGdHpRFF31qWVoyiUut6RpGsFGQgce5L2N5N9leXzfifxmsR8t7M8oLCMqTkyUKlfN3H5v68puM4tEMdDVpZj3KUFhWbp1GBk2fUWnrTTzh9XP3c46dRYZKDfImCtRyBHttEIfvPSFaWTa2LiM+KM3IcbxzOL1WTEjXpybTpZ6w8rG/xZG4iLMtGZRWW1hznUFEm48R6Xn2mLxIxd0XtckqPnkCn0X7wUQYj64beg/RqU2FLcmT5LFsiaQr5HSKUwbcego+bZX3bwft1HYZ4dRQfdgh/nrtKvb2XiP3S73C8068xxMecFjW4Lm2RWutuzL8TYQ3WtguWZttqbbLJmIt3MwwiWqQydd/Yj6H6TcEtrwMulJWbj4n29rWuD0KeDoWHcTWig33UOxnIx/143W0AvORuUZJbm5724thVpiz8DCrEwi012ubWGPJ2btuRkVNqfm3FYWQZypxYjggK9xH402sz4IFMxIf1s1qfydjVuZeSXOu8gvC0OM4aV0ch2Kez+rx4eL8FtyFyLBQ7dN6YuDgaAZlxeDpuhzn+5Oj0f09EzrSZeOLeLnKGc9vRDnN3lwFWx31B3jd/0Rr0fO1pZTBC8+3dxG86+Qgq5ffGw3jaerwD93sQMsVX7P+PkSt/P7LbxHsfI19+eGYkfHrORZY6AGRz1pGuvFZ7VKs7EJ0J548dwue2A9O5uKNbX+Dgu3/Fy7NCEbd8E47phiJsaiC683ZwRETXDHk/dm/9CESt3ofVYbeJQtkzSDOqbdEvGpDgdSP85OjtCiOy48NEEjEdGzOWYbAySJH0tXjvVCQYTsCQMME8gJZkXIKgwYl1m7bXo9773W0IorMtBU2RMPvdWFtIFMmKm89DiF79Q22tia4XQldsRuayqaIgnIzIfp2hD1+BTzAQgXIUblFIHh0jCnHytUYDMjYdxA3jnkNsgKynF4XejO0wGMtgSHy2tjuAKLD9NtGAi8YsvGL5zsqyHxHfzfpCAl0Z8pZMc6F3+RV8IjeKaXVU+Zr7LJ9DQfLE2i4dssDdTt6beSdKsuLg7RcFOVyhci9t5T06uPtPwsKp8oKPLZEgy1s8FXyG5JB71BiWcTgKMVlfICtmlPo7sMyzP6K2bshfsHjMCbwcJO/33BfP5o/BByvGw1MpWnWF/5PPYerhSAQ8+TZ+8dFhU81nye82os5ydZ6hWGXYj5Q5clxrqT+mLvsQ2Zbl6Ybh34tHovjlsebfyLP5eOSDxQhVa5obXpfWyhITcqC+N83xoJdJlgwIWes+Hcuip6q17davlYP6ieORvGAjYwEiuVyxBFPzo+DnNhqxmUBwbAzmeMhjwxHc4H83UC+G3kTmv3+nDs4ma6r7oWfMDnxX8zrZSmcIvJV7g9vs6379RCLcHp6h4niYuxpzlOOQ4DEVyzI3Y0VoL4hgRog6WF1N8vjdDsR4q8fGbLGu3nHI7hGKFUmjkS8+y23kPJF2ByJW3hlBHuf2dxDfJ92p5WSVXyfWZzGyMxOV7kGKgDlI2pWIZ3xlci3I4+yqTOSmzDEfSwWPqYnIzK6Ns/p0cPWdgXW5S+H/STj04jfpItbhgN9fsW7hg/DQyd+ts9vRDnmHhIUpyF3SDWvEcd98IWEZyia/qWxHJbzdfPDQVGB15AB4z9iLga/+zWZ9xf6JnIs5eBNBel+EJ34mtuVw+LQfjDlJm7ErexZ6bprU/HWkK86lWrYR1AgZlJLso04Nk4PxSRrafXQNsfxWGX90tTEWScuuWnxWfoG0zF8QHDrQpkZW3mN7Jd7GFMyuc0s4ulJ4zKJrDWO+5bDamYiIiKitUEaj/gdO9/ex04z6Orjd6IeRfl3VaSIiai2YuBMRERG1FWdPoKjov1iTtM48DkIN2U/4Q+wyeeFedxb/iIhaGx65iYiIiNoKV39ErVuP533ysaBmoK0BCE94F1+6jcAjvh4s/BERtULs495KsY87XU3sr0RawVgkLWN8ki3GBF1rGPMthxddiYiIiIiIiDSMiTsRERERERGRhjFxJyIiIiIiItIwJu5EREREREREGsbEnYiIiIiIiEjDmLgTERERERERaRgTdyIiIiIiIiINY+JO9ZVnIebhZBSY1GmnmcRb/4KHk/PEX0SX4lJiiXFIRERERG0LE/drjckIw5ZViBmph4uLHiH1khuR9ORm4/PQYfCqiY5zKEieKF7vUvvQz0VWuW1aVIbcjO8ROqK3ElgmYw5SY0LU9+gxMiYZWQXl5pfWUY6CHcsRrpevG4Dw5XthtFl0Sy7LEZPRgC1pctsMR0zWKXWureYvH5UF2JEQDr2y/cKxPMdoJ7E0iZdlICF8gPJd9eErkWO8oD7XhjQah9axZCf+ah4TkVxwTn2PRTPj0In9o504tBDxYliOkXa3gz0XYDSsUbe7WLeRMUg12IvDS4hzIiK6gkS5Lft9ZNcrk9mhnHs3IVmcx/QxWeJI3zDlfJQcI84x8lzgzHnGyXOHU+UhIrLFxP2aIRPCNMQE+WJs2hncNy8bFdWlyIjoaxMEdZMeReVn2Lpmjzph5jFlFPzcbcKn/DNkfO6PEV4dxXsMSHm7EP2ffw/V1dWoKt2IcceXIyhgLtJKrBPRcuQlz8Jv13ZFbEEVqqs+RPjJJZgUt6P2YN+Sy3KkPAtxcevw0asvIT77vDrT1iUsv/IIkmc8jbVdo1Egv4NhMk7GPIW4rBKrk5XYR3lrMOO3G9A1dq/4rudhCD+FmElLkNVmkncn49A6lkxHsWd93fiz8Ij4HULka6w1Jw6d2T+aiUMrlbl4Y/YyZKuTDZNJ/nq8few+zNtdKtarFPvHHUfs2EVIb6n1JyKiK8v0HXa+c8iqLOHIKWTFLcKGj1YhMj5TneeISMDT5iJIPw1pZYMxL/+MOO9tQIS3zfm2DifPHU6Vh4jIHibu1wQ1IQx4CcenZKIgdTYeC/SGq/psHdZJj+ICSjI3o/C5T1AlDrAyYZGP0qWBcFdfYWZdU38OBbtOYUTUJPh6tFee1XkMx8wXZyHYmIY3M4pqDs6mkp1YFleBuS8+jr6uIhx1ngh8IQr+KbF4OVvWNrbkshrgHojFScvw0rxp8FBn2Wr+8uU2fANxx6fgxWn9le2u8wjCC/PuQcrklbVXycXJN3PZqzg+NxrT+sqt2x4egTMwz/89TH55jzgltnbOxmHdVh+mwnyceTpLJPi18ScvahRvjsW0J34DzzpHsebEoTP7RztxWOs0DG8k4/BtPup0I0wlyCm+B8+E9jVvc50H/CPDMQX/w/782ui6pPUnIqIrSCTLKX/DH7f+pE43pBsCF7+GpS/FYE6DJxhzAh7wxxOY8uVepM5+HIHedUt89jh37nCyPEREdtUp8lIbJWvlnl2Ab6OSsDLCfKC0z04z+cqD+M+ra/Bm2MN4MmG9g2bBknVNfUd4PxICb5vo0vXojUEeegzq3U0NvHMozHgHyfBC7x7mZEjhfg9CpgBrMj4Tp4+WXNalcHb54qSU9kfo9X+srYU1FSHjzTSIlUWPmu+hg7vfKJE0ZSIjt0yZYyrchTeT5css30nqCr+QYPEBO5Hb2k9oTsehdSyZcNZtKJ6yJJsWcpsmX4dRfl3VGRbNiEOn9o9W4tBC1p6/g819nkfsA93VedbsxKHuVgQ+MtBqO4plfHUIOT5PYKK/ZTteqfUnIqJGyabtqZam6uZm5Qk7ClCpPGlOsAMjk2E0LkFQ53YOujE2hTy3JOHZyBOIeu8fiFAqEeozlaQhUj8AkWnHxDskJ88dTpaHiMg+m2IotT3nULAhAdH5wzGmdyHeUPtOu4yci7R6SbhIenZ2QtRj3mpgyCujq5GYbRR/H8Hq6N8hyGc4wpOPqCcNK+WfYWe7iXisgWZUpuNHcRDBCLEkW5Ym0AO80FNenbVhbCBZbcllOeVS1rVwH9Znirf66O0kqwb1hCZOens+FKetPvDpaSelNbb2E1oT4rBOLOng6nFzve0mt2na3QF2u2s0NQ6d2z/2XfE4VJlK0jF71c2YMd6qS0tTyMJgWiJmzC3HvHUz4GtZ1yu0/kRE1BhRBktfhLEpPZBQUYXq6h+RG/UDooPjsEHpa+6OvhErkZ00AfCIxa4z4jWlixFoe15sClMBNsxdhvypAej9zb/VvupyPJc0FFQ2cOx38txxKedbImLi3vapB1OPBwegz+0jEZV6GFWle5B423sIs+2bK5Me+FslQ+3hGfoaSqurUJG/G5uT5iBAJvCRv8fMmquskqypzwFG3WPTfN6aTEz3oudrTyPA5qTiUefKq+SKnj591L/tacllNU3jy1e3WelrCPW0uuoM61pZlasePgNs2qt52FytlolrTy8MUKdaLafj0NlYysHdIbavuZQ4dHL/1HGV4tB0DOkrizDxpYdtuglYcxSH4u0FyQhpp4dfWDRWZ+5DxidF9S7EXe7fERERNcaEn05/D/gPxJ1KMuyOOwffAw8UIb+4XvVJizAn1jfhwQF9cPvwPyG19DxK97+I29aEIWBmOkrUgp/OMxRJpYeRFNqrznnTuXNHc863RCTV+d1QG1RZivzDwIAHHsZ4Xw9lh9vvm9tQ0iOSR+8AhEYsxa7STMQG/IDkN3ehsCZzlzX14q31mi3XMpV8gMScMfjb+LoH+eZoyWXRFeJ0HDYeS8pFgLSba2u5a1wLcShrYP6DY2H/D4FqX/um0nlHIEO5GLcLSXOA+LAJNhfiiIjo6usI74gN5jGFKguQtSkRz01eAtkG8vIwobK4EIfRDw+M+606nkt7ePhH4sWFE2BMfgcZhc7cvYSILhfmPW2c0pTXzlFe5zUMjwcDmev3mRNwUwE2JZ5tOGESzIOITIPH4UIUq82mTAVbkVhlXVNvo/II1vznFzyfML6BGkJrlSjOL1L/ttGSy2oRl7B8JZlt7BRsOZG2bs7GYaOxJDhqJt/icdjQ/rlKcWgq2Y6VxwLxlG8XdU5zyYtxgYhYsgJJwbYX4uy53L8jIiKqx9LH3XsRDuh+g9jUWCcGLm2uCzh+tNDOhYGO8BrxEIKxB+v3HG3iRV4nzx1OlYeIyKkiJ7Ve5sGz1Ak7LM2aHPYZrkdtul3Tj8lRs2WV6RjSFn+IW5941DzKqDVdb4x4fASMB4/iuJ0zQb1bzrXksprqEpZvTk5P4+DRU3ZOeL6Yomw79cRoLMTR49a35lJ5WPWjboWci8NGYkkhX3MUoZHDbF7T/Dh0bv9YuWpxeArZryzAkqghcLMMVOTyK/hEbhTPbUSkz6+aPjCRur41LvfviIiInHQahsSn4Cf7uBe8hdmhftC3U5+6LNqjR2+vBi4M2GnibuHkuaPJ51siqoMlsLbOfTAmRg1G5prt+NR6YBHl6qZePUg6kzBZyBpgI25/Osg88rzDZsuCqQRZK7ajy3N/smrWewHGrFSkKQOrqMlq5ofYY938St6Sbk0PRE0cXLs+LbmsZrmE5SsnNLEPLK0bFLJrwk6ssRrR23xCO2BzRVuOkv5f+ESNh39rTpicicOGYsmifB+S0sT2tL13+6XEoZP7R3FV47AbApfmWt0STz5+Rr4cmAgTkJT/czMGJpK1ISUIftxyJ4nL/TsiIiKnlB/AhsRt8Kjp43656eDuPx5RAQewZutn4uxgobb8a7ACwclzR1POt0RUTyvOBMg5XeD7zF+wDCsxe/EuGOWB0mRETlIqNo+eiz8FdBPTDpIe2URrSxq2GIxqIikSlJx/YVG2P15S+/U6rKmvzENabASCop5FkL4DzLWD8tEB+qVV6K8mXjrvUCxedhZxi9YjTyZ08n2LEpEzbSaeuFdtDtySy7oEzi3fzm24xAnNe+JsLLvwOhalyBH5xUmwIB2LFnyGafMm4l7LCVnnjYmLZ+BC3DKk5MlxVctRkJaIBTnBmPfEINgZa74VaTwOG2/1IU/uNrcrVF1aHDq5fzQSh86xE4flWYjRD0B4QoY6OrA5vpYe/wNWTLTcSUIr609EdI1TB2wz5hzCV+JYbDLm4t0Mg9qUvQyfZh0SR3G1llxprXcOlZ9+DMOl3PnD1Q/PJMwAoudhcVaJUvYzGT9BUuonGG01EGv928E5e+5w8nxLRHbxF3ItcPVH1Lp1mFaVAH07kWi0m4bNXWfg41WhSv/chhKmqqIteNZPj3YiQdGHv4K9lYGY97cH4aG81EFNvWxKPHMCwuIz1RnWPKxq9ySR0EWtwnuBX+BZt3ZwcZuJ/Xf9BesWqp/RkstqiCkPySE90TlIDvxiQHxQd7iEJKOgzvnvEpav7IPXEZj/Z7i5tIPb0/txV8IqLAz0tPoR6uDqOwPr3gtA/rN9RULYF0/v74eEdbHNHohMUxqMQ2dafcjWB5Z7tFtrgThsbP9oKg6bSXczfB4EVkc/BB+5XiMXYU+7MKS8FW7T5P8S1p+IiFqGvJi/Ygmm5kfBz200YsXpJzg2BnM8SpGTcQQ3+A8Q5zxZSz4JC6d+iciAZ7HqFy/c6/Di9zkUJE+ES+cgxIvs3xgfhM4uE5GstBazUMshuZNRteA+pezXbtJWdP3TOqyyGUG+PifPHU6Vh4jIHpdq2d5SI2TtlbTw9XTlf3Isbvp45X8N7T66hlh+q4w/utoYi6RljE+yxZigaw1jvuXw4hYRERERERGRhjFxJyIiIiIiItIwJu5EREREREREGsbEnYiIiIiIiEjDmLgTERERERERaRgTdyIiIiIiIiINY+JOREREREREpGFM3ImIiIiIiIg0jIk7ERERERERkYYxcSciIiIiIiLSMCbuRERERERERBrGxJ2IiIiIiIhIw5i4ExEREREREWkYE3ciIiIiIiIiDWPiTkRERERERKRhLtWC+vdV5+Liov5FREREREREbYGGUs5WizXuRERERERERBqmyRr3ha+nK/+TfS8++0jNtuLVK7oaGH+kFYxF0jLGJ9liTNC1hjHfcljjTkRERERERKRhTNyJiIiIiIiINIyJOxEREREREZGGMXEnIiIiIiIi0jAm7kREREREREQaxsSdiIiIiIiISMOYuBMRERERERFpGBN3IiIiIiIiIg1j4k5ERERERESkYUzciYiIiIiIiDSMiTsRERERERGRhjFxJyIiIiIiItIwJu5EREREREREGsbEnYiIiIiIiEjDmLgTERERERERaRgTdyIiIiIiIiINY+JOREREREREpGFM3ImIiIiIiIg0jIk7ERERERERkYYxcSciIiIiIiLSMCbuRERERERERBrGxJ2IiIiIiIhIw5i4ExEREREREWkYE3ciIiIiIiIiDWPiTkRERERERKRhTNyJiIiIiIiINIyJOxEREREREZGGMXEnIiIiIiIi0jAm7kREREREREQaxsSdiIiIiIiISMOYuBMRERERERFpGBN3IiIiIiIiIg1j4k5ERERERESkYUzciYiIiIiIiDSMiTsRERERERGRhjFxJyIiIiIiItIwJu5EREREREREGsbEnYiIiIiIiEjD2kDiXo6i9H/C8P0v5snqEhheTaydJiIiImqrKnOQMNIPkWnHYFJnOaWyAFlpqxAz8gkkF5xTZ9I1qbkxRNcOkxGGLTxeXG2tP3E/dwxfHXDDje7tzNPny3Dq5M2103WYcOHbrUiaHs/EnoiIYCpJQ6R+YsMFEaVQq4eLPhLJeeXqzKaqhCFhJFxcXOo/vBJguKi+7LKw+ezwNBjVZ0gLTCjPmgu9dUzIR0gyCpQs6hwKkifWfU489DFZaG40AqeQtWASgsL+gPjsy1EeOoXstP9dwvpd62xjwg8xWafU5xww5SE5RBynLO+piZ/Ljfv6cjIZDdiiXGAb3ngM4AKMhveRHBNiEwONHWMaI45BKTPhN/5yHS/IWa0+ca8uPwFj9x5w72D+KnL6+8ED4dnRzlc7/zVyNqfjG3WSiIiuZedQmPEOko0bEZe0z2HB01RxBmXq383nCt/Zu1FdsR/LAjzUeROQlP8zqgtnw/c6ddZlIT476p9ICrZ8LmmLDu6Bi1Fa/TPykyaIaTUuMiLgrRRlOsI7YgOqq74078PgJORXVaN0aSDc5dOu/pi9OxdJob2aUKjrhsCle9TPa3mmko/wTu5ZdYqazhITJ7Frjq+YNiB+6dYGkiyRmGWvRlymEfCIxa4zVVbx44RmxZAZ9/VlVJ6FuLh1+OjVl0TCfF6d6UBlHtJixkI/diPK7otFfoV1DDR2jGmMPAatvmzHC3JeU3+fGmPChR9Pop1vP9zkUjuNm7uivfK8tZ9Q8tFOHO+qV6eJiOiaVr4PSXEblT+Na3Yit9x+qVjn8SAW7y5FdWkSIvoqqVLzuXqgz22d1Imu6OJ2WTP2Wrob0KWH5XOJLqPKI0iZ+xK2VqnTdIl8EDVnEjwyX0dStoMaV9N32LmhBA9O6q/OuEK4ry8v90AsTlqGl+ZNQ4OXXcV+SJ4xAX88PglfFryF2Y8FwNu1pVO89ujR26vh9aDLrlUm7tXf70TK9PGImx6KBSvWI3/tDMyzmY5PP4zaa1OyifzH+KL7ODxw5yUWuoiIqA0woTz3Yxz0kbVZgjEFSzcViLl1XTQkwKumaaEXwtO+E3PtND03GZGzPBx6lwEt309U9i1MS0C4Xn6eHiNj1sBgvKA+KZlQWZCNTQny89V1GhmDVIOx4fUwpiHc8nrx8Eow4LK22KfLwNI09mGEJOfV2d8mYw5SLU1m9eFI2FEgIteRchSkzcVI9bXLcxqJnZp4l/GYhoKSLCxPFZ+vJBC/R+TqIzDGB6GzWJ7SpN+6P33e18iaK9ZL/0eklZjjuM66uoQgJjVH/KaUpwTxHXNWmuN/5FykFYj3L19fW/vsaF3Up1s/N9w98SlEBZQ6qHUXv/9Pt2Cb/5OY3LODOs+KPH6kxpj3rd1YsBdDIh6y1iMh3E/MO4QSwxqx72Qz/AEIX77XvG8c7Wvl/XKZlvfI/WZ9PLI6XoUkI6+kdt/rw1cix+rYVjcu5PPLsaPA0jbK+eWY1ydNfJ8B5mXZ+z3U2U72jrP2yHXIqF2ujN3kLBRUWnaSE9vxkp2G4Y0XEPltBN5bOQV9m5SwW3fDsXTHsJ6nr3dcoaurVSbuLjePwrTX07Fw5Uo82u83eHT+Riy0mY4ZPwCWw1f16f3Yvrczhgy8GUrFPBERXdtMBdiUWIXZS59GsDLDiMz1+1BoU0K5zjcKB3bF2tQyyGbvG9UmrNI5lB76Hl2GD4IPjmD7/q8bSJCaShTKEp+CX1g2Brz3I6or0jEmJwZ+k1bCoBYOTSXpmBkwCau6xqK4+kfkLhsDZMdj2thFSFcTI7s8QvFWfpL4/sGI3VWMgtm+uEL1/9QiZL/V+fD1G4vI+APqPFVlDhInTUJK9wWoqK5GlWEyyhYHwK1OAd3iJPZu3YnTQ+djd9VRbB59AFHzttf7LdSS/V3jsLJzNAqqS7F7yRAUr0zEh7LW1bU/It7aqDTp95izC2fEZ5cuvQe5Nf3pS7F3+zHcOWM2Yn1KUHT8rMiXdiDuhffhFrkR1dXnUbp/HI7Hjse0FHPCYCpYi6dWuiK2oArVu+djaPFaLPjwJ2VNGlyXtsRtMH7/XKj9WnfTd8hcVYEnHrsL9Ud3uoCS9EUYm9IDCbLptDw+RP2A6OA4bFDG9bAXQ3Le3xEQ9DtEry7Fhb3bsbNqFJbsPorizQ9gR9QKbC8U77W7r2X3DZEkZy3DCxtuQOR7xaiuKsX+cccR6zcTKfIzy7OxIGAkJkSvhvFCDt7faULwkgxUFW/G6B2LMG97kTlRNB1Detz0mhiW3Yyivl2G4Oc2mS9eOLsc8W+lYSUmzT6MwX83iG3wM/IX/iy2QRTeMJxWXiEOosiK+ys2uD2J9+TvpXQjxh2Ph9+0tQ12T6g0rMDYgA3oGrtXLLcKFV9OwvG4IATMTEeJycnteIlMBWmYG30MU8fcgm/eeFK9eBuCmLQ8J85Dsgn8WrE+M6zOcfbmkVa07qbytgPRyel296BX9+vN01L1SXz53xMY8Nv74M6snYiIZIHr00zsDRXJhP+jiLEk4HabourQqXNX1G9k3hGdu7uZ/yzMwTF3H3j7jcaUYF+MHnKHSO1bhrlQtg24IwAjB3YRheW7MHKMj0jM38aGHNnzvhKf/udVJBstFx5coe/T0/xm4+ciMWogcReF1eyUHPjuSsbCQM9WXiBoSzYi0udXovAtC+BWj3b9ECn7MNcw91stVi6+WBMJQ046ErMHY8q4e5RY1HkE4QXZ3Fbp/5yDpYHdzC9VdMfwcaHw92gvXngL+g/vJ34LH2KPw6SiUnxmMa7r4mb+Xeg8EfjCbDxkb0xghXV/evFZY4bhVk/Z/eRdzPbtiMLtm1EV/ieEessWke3h4f84wqfokRm3GtnlF1FZXIi869zg1klGqHg+cAbmPXSDXLDQ1HVprdrDM3iqnVp3eSyTte1hCHC39ws24afT3wP+A3GnUhPrjjsH3yMSsiLkF8u0zl4M1Z3Xfvh4TPH3EHPFtu8/GAOwB+v3HBVLdsBUhO2J5xH+4nhzc22dB/wjwzHFQx1LxD0QS4vV8Rra+2PclF/DQ3nZXRg+QIRezQXUn3G6uAP8B/cxH09d+2Cwvx44XIhiedHS2eVU5uKN2ZvgP28GAmWMi2O31+iZSJz6C06eMbcxMhVmILFqIl4M7av+XoYiMnxsI90TCrBh7kq0XxiNaUoXKh1c+07Bq2tjgeTFeCW77NK2o1POoXDPh8j0EMvr44PhUakolRdKEntgTdgEzHSq9dd1cOti2xrZso6kNfZ+5a2G7UB0yrT+FrjVJOgXUX7oI5y+90H06cx6BCIiksqQs+ELDB/RW5wEu8IvJFitWTBgTcZnDgepc+hET/Tq1VGcUfsiIqN5AzzZpxbK5J9fR8PvepnAucEvOlvMKMXBo6dEoawTfEaOQ4CY49GzCyzpTKPkQEaxs/C2XyyTds1RB46StYzWD8vgdI0SCURPL1HotiRnVoyFONrQxRynuKKnT2ckhz2MJxPWI0s2XXYPwKzwvk2PI9NR7Fm/FfFB3UVsWy5SdEdQvEFd14vKd7kjOQz3PZmATVmyeXM3BM56XB1UqwXXRetcB9WvdVdq20swJqSPg+9rHthQqQmX3RU2JeK5yUsu610lTIX7sH7bAgR1ble7TzsHIV58qPHgURx3NlNVjqd7sTSwq9ok/s+YLOOiiUylR7Aj2xM+PWsvp+o8hmNWaoZ6Act8nN2mNvc3r3M7dA6S28lynK1P+Z6ZXTCodzerba+Du98oTPFo5rmkyeSFqyJgwAMYN95XuXChXCiZKY7rwT8g+c1dDbScodaoVR7XLH3c581/DfmZ87BA6d9ed3pp+mGcO30A+8vugd9tThdliIiojZOjIG9oNxGPeYtkWxa0AqaKQo45ITLGv4FNShNSLbiIirKT5j/vWIbcX6wTuVJkRMjkRCRpvrOwu7oKBTFdkBH7NF7Ykm9+jyPfbsYLYwMRFr8R27dkW/XHpLZC5xWCmNibsCZ1G/Lk/jUZkbvTAGPAUAzU1x++t2lEMjhtBfYnDsaO6N8hyKevuW95c+KoshT5h/WYs+ukVWxbHhsQIX6jOu/JSNn/Gh7cEY0JQT5wU/q5W1KiFlwXzWsPz1GhSlJornU317Zv8QpDsGcD+9TSd9t7EQ7ofoPYVNuuPy1JrFNxIQ5bRra33adOj2JuZu7jPhrei3KhGxmF1JruSc5S10edss+c/Fqa+9ddZ8tx1lYDy3XVw2eAR9MuUjSX6RSOHixVJ6zoemPE4yMaaTlDrVGrTNzNfdxXIyLYD/fPXG3u324zHTO+F0qz1+O/m6LxNzWxj5s+AS+v3SeWsA/vzp+AuNi1KDrHAgsR0bXDfAu4N5dY1a7UaYLcEs0XL9U5FKxZX/fe7l/n4FCRgwKYMjjXk/D2mYm9Q+Zi8SM+6hOO3IvwpQsxVZTejatj8ewbuaLoSm2KzhMBz8Ugut8XWOLdTsT4fVhQNRm562bAtyVGm5a1erNSUVyai83LHkR+fJjar1d93llKknMaOQeKGohB2Xx+BlKLS5G7eRmm5i9BWIBI3i3jN7TUurQG7sMQuXCCSMjSsDX3kFLb/sjvB5mbktuljpEh+7jL0cZD/aC/rN0I1NYexs9w4KtLrG+2GqehIHU2Qn097fThb4yl9UlDx3XZaqMPjDmH8JXTF3wsy3VcI+8xqDd6XO4sS9cNvQc1cLcsDy/07mHnoo6j+aR5rTJxV1RX4MfvOqHbjb+qnS69A3f2shy+3NFn/D/UpN7y2IjnJw8Tzw0zD2i3ZDL62LvfOxERtU3yFnBpDyn3wbauWZEDGkUo1VBGtW/t1Sv1m0o+wNLs66G/rhPuHDxUrR1zVPA0F8yHRK2G8Y5wTB/nRDP92/qgn/9k/H3tfASI75sd/bfaQZqobZBJz7RsDJy+BKml5prD3UunwFfp43upTiE7NUNJjHUevgid/RbydsUC23OR39SabqVmcLCIwUjMSMiwqik3odKwCWkFZ1GevR5bZJIuEnTf0NlIzduFOfgf9ufLxLAF16VV6Ajvx57BHI9tSIx5AZsbq20vP4ANidvgUdPH/fLTeQ3D48EHED12ps3I7eJYlfp+A4O9WbOM09Clto97M+l69MYgD3Fcj5yJ2DoDtp3Gp1mHUC77vI94CMHZURg7Y4XVqPVCpQGpafXvNiKZv6d1n3yV0opkMKImDhaZyOXWFf4Tn0CAvJDzqfUxXG1FMGUU/OyNfTDACz2vUDxQy2q9e812IDo5je5w78BAJCKi+kzGvVj+3Dwcj3iwXnNNnWcgpkeNMU8YU7BgUbqaRJhw9kwZzpqfsXIOZ05WmP88W4YzZ51MEiqNKPrWsrRiFJVa1zOKZKUgA4lzX8L2brK/umzG/zRei5D3ZpYXFJYhJU8WKuXrPjb35zUdx6Ed6mjQynqUo7So2DyNCpw8o9bSm37C6ePq5x4/jQqTHORLFKzlCPTYJgrZf0aysmxqXUR8VpyR43jjcH6pmpSoSU+mTT9j5WF9Gyq1f6yI7rIKS2uOc6gok3FiPa8+0xeJmLuidjmlR0+g02g/+CiDkZlrAc1NhS3JkeWzbImkKeR3iPA4gtXRD8HHzbK+7eD9ug5DvDqKDzuEP89dpd7eS8R+6Xc43unXGOJjTosaXJe2SK11N+bfibAGa9sFS7NttTbZZMzFuxkGES1Smbpv7MdQ/abgltcBF8rKzcdEe/ta1wchT4fCw7ga0cE+6p0M5ON+vO42AF5ytyjJrU1Pe3HsKlMWfgYVYuGWGm1zawx5O7ftyMhRm4VXHEaWocyJ5YigcB+BP70mR0jPRHxYP6v1mYxdnXspybXOKwhPi+OscXUUgn06q8+Lh/dbcBsix0KxQ+eNiYujRdIch6fjdpjjT45O//dE5EybiSfu7SJnOLcdm012lXpSHMeB6NkrkKX8RsS2ylmP1M2/xmt/GgF3Ux6SQ/TQh6cir/Ks+H1fj4ing8z7QSHOM0q/fLGtd36qfA+T0YD39uQrMZEZ2Q89ldv8leOrA5+JOV9i75ET4lvQ1dBqj2p1B6Iz4fyxQ/i8zsB0REREZvJ+7N76EYhavQ+rw24ThbJnkGZU26JfNCDB60b4ydHbFUZkx4eJJGI6NmYsw+D/397dQEdV3nkc/yXparclwXJslxnYSj00gRa0ShqPym5Dgon4hidU7IIQSo5rqVo0FdJAULe8HSAbBcUjSzOiKArCFGprTSBj2mI9sIlvUCVj1sUtYWiLLsbUY3EZ9t6ZO8NkMpPckEBuwvdzTiAzufPMnTv/+zz3/9znPjc0SZHpv4zXzlRl45/UWHlLeAItU2C58i+vaj+0vQPr3u/pV2hefeRA00iYs7906iDRSFbSs67VvKc+0Ngsd/iAPPUiFa3eptpVM40DYY9KRg82DsBW61VdqjxzFm7jIHlS2R2hyemMI1vVbH1DX7zpbpXnmufpjQOxml+rMfChGqvmnLocoLZE11U16v8CPq2JfOZQ2ZONzxbbkYCzw7xt1AK5U/5eWSXPG4+tWeULPdbZSeu+ypFLOozvLyvNvGf2LrX4KpSZXSpzusLQvbRDrzEOxHOmaclMs8MnnpEgm7eh8r9lHMxfYsWwGYcTVeZ7W76yidZ+EHku8YzaqVfcr2XX/0kP55v3pB6lOU3X68XVN2tY6KhyiHK+f7dm7itR7vef0WdZqdoafS/zs41vV27qsCKtb9yjDfMj85qP0cxVL6k+Ul7qVfrZsgk69PCN4X1kTpMmv7hMRdaZ5s7Xpb+KxIQ5Ud+6cDy4F8gXGglknnX/oVbNm2mdbY9d1pzUz6iPzA4bMxZkJJerl2tmU6my0yepvFYqKC/TfDNJq9mvL+Z8U+oQQ+tU+7PvWZOzRRK3nfpjdDlzlM4Vygwlc3Hf9ejRRiJ8noYVGfVhw1OaH6qHDK6ZWlW7TauLLpIRzCq0JqsLxfJw43P9cafKMq26sd5Y18wK1Q8t0urqSWoy3it9wiIj7c5TuXlnBLOe23O+8Xm22yrH1/o5Y32Wqb62KnR5UEjufFXXVekH48zk2mDWs+tr1bBhfrguNbhmVqm2/lScdWQmzXdqU8MK5bxaLLexT6YY6/Ba9r9p05Jr5Eo191u72zGJUNI93CqjMTyJY7ReiLhA40rXq2HWJ1rsPt/YB0Zo2rYM/eh3Vda6D9aYa6+Rnpql0Zn36uVLHwh9D+12j4xslTw6S1peIPfwYlXtT9eE8Vk6z9xO215W/aIxaojWDfvlmXKlJnF/9z6RctIcI+gQ5oGLyRzWjuQWzpkc3VYO+vpwDiH+4BTEIpysz+Kz7W15az9TQdGlcWdkjyvgW6tnNEP3tbslHM4W6iyca4j53tOv+yMBAAAQI/i+vHP/XcfGZCUYRv05pX8pWxOyh1iPAQD9BYk7AADAQPHJn/Tee7/RxupN4XkQoszrhF9SXXCkLks0YRUAwNGouQEAAAaKQTkq3bRZ92Q1aXF0oq2xKq78ud5JH6/J41wc/AFAP8Q17v0Q17ijrxF/cApiEU5GfCIeMYFzDTHfe+h0BQAAAADAwUjcAQAAAABwMBJ3AAAAAAAcjMQdAAAAAAAHI3EHAAAAAMDBSNwBAAAAAHAwEncAAAAAAByMxB0dtfpUdoNH/qD1uNcdla/sB/L4P7UeA/GCRhjerxs8B4zfzpAzHucAAABA7yBxPwcE/R4VpqQopcOPW4UdEiMjYWqo1x+KrtLISHQEA2rcsVWeskK5y3xqtZ6O1/F9slXmO2r9NUbrW6r5Q47Gj/y88eC4Ao0bVTbBbb2mUGUen/xt8dlUUG3+GlUWjw0t5y5eq72B49bfIuyWZWjza2dlsdzmcu5iPbQ3YDNBNN/jRXk9ZZrgXiBfa1evOqbGyhuUUmgzQTS39ZNG2aH1d2tC2UY1dvichtNe/77TvTj8UA01f1bR+BHRSioYaNQO73rj+706cVxZ7MVhXJy32+7Gz4QyeXx+tYUXjtGbcWinrCTs7JPmMt5KFbvDn8ld/JB2+pPtvfFa5d/5kPXasSp+6BUFEgVYP4xDABhYjPas/peq7/J4xGCrzu5B20TbAZxRJO4D3qdq3v2Saq1H7biKdEfhxXFBEJ8wHZWvYqm2/Ha9SlYmLMVyTK//wtv+fVwFKsweYj2IiE2YjMahcbOe2Z+le+oO6+TJv+nwnpt0pCJfuXO3qyVaixvLHdioO6/boiHlr4SWayw+qrJpy+WLNiZ2yzK07Zfnzjv09JB58p88qRONt+kvZberwtfSRcNhngVepYotL+qRkpWqt55NzlynJ3TfvF9Zj7tiJPkbvHr/yoV62Vyvw8/rpiMrdWPFL3tp/ftSN+OwXeeO+diniopN+u0jD2hl/d/CzyVkNw5j49zc7s9r/5h7VGdsz5MnDmvPTUdUkT9Fc73vx2zT3oxDO2UlY2efND5T1Q91356LtdB/wij/I/m+s1/FuQvkbemq/FYd8Nyr654eonLztSdeUvFflmtaxc72B2D9Mg4BYIAJ/lG7nnuz63rXVp3dk7aJtgM400jcB7rg/2j/R9PV9LF58G4kJdbPiUPbdMesIk0cdp61oCU+YdKFylv2qFY8UKb5LuupBIItPq1vnq1DJ069x8nDy5SXER9iMQlTsFl1h65QaXGOXKHFzpMrp0QLl9yigOc51TRbQ+mNRql21SM6smCeZo3KCC+Xd6cW5byg2x7eHT7baLcsHVdL7eOqODJDC2eN0SDjmVRXvn6y6BJtuG1tFz3WqcrIW6jqFQ9q0fxx1nOdaGvQ42ve0FdzO9lwMYIt+3TosukqyjQ/o7leV6qk+Ebp1w1qip6t7cn696FuxWGCUR8ZeVpWvUoPLJqlzram7TiMifOgf48Ojf9XFY9zhSvEVJdy5pZrScEH8qyrU3Nkk/ZmHNopK6mu98mg36sF8/5OM0quU+Ygc0UyNGrW/Xp00m901/1xHUFxgi27tKriYy1YeKtGma9NHaa8n5QqZ0O5Hq6PjFzop3EIAAOKkSxv+Knu+sVfrcfJ2Kyze9A20XYAZ17o0BID2CcX6Mrbb7QO3iM+VXNNrQZPvMQ4nI+VIGGy5Zhef9ajdeum6Nvfr9TWhEOMLbEdA6mZmjw5My4Iz9PQESPlco3UiKHhZC7YXKd1HulbIy6MWXaIsgsLpI271GBW9DbLUvA91azzmoVpaHRhIyHPnqgZqlVNw4fWcz11TI3rfbp4Sam+E9c3EhJ8X96SsXKXeKNJVOqwf9Lkyy4IPwhp1buvvaOs0puVE0k8z9r697JuxWHHYfL22I3D9nGemlmoyZmRjipL6oUa8S23XDHbuTfj0FZZp80a3RAb96bUf9CYq0crENMRFGzxqsQ9ViXRkQXmd/KcPIp7bcYlKpxhrFrNW1YHRT+NQwDoT+Iv43IXq3JnpG0zknbPvcor8SgQWK78wWnG35NcwmezzrbbNtF2AH3j1H6JgWnQV+RqlywZgge12/uVxMOHd31Bpd+NTzw6Z57lfKwqPBw88NQ83ZKfpcziJ3UgwTW9rQ17lVZ6kzKTvsFxHTnYLM2YqOxQsmolIbpYWcPNvtk4gc4q+viyjDVo/r0210pjs9yhnt72Gk81Lj1yXC3e5Vp/0b/o5mHnW891j3k9t7fyx1rw4Q+1qTQnuq5nZ/3PgO7EYetb2pU2Vd+NT6a7YD8ObcR58KgOvnG+ZhRGOhV6Mw57UpYdbTrU9J71eyyrA6Gz8s3vZPNuI8BGanj892UIWAdu/TYOAaDfMI4lti/VjRuGqjI0Wu1/1VD6geYVVGhLaHLfDI2avVb11bdIrnLVfWQsk3Cko91jhx60TbQdwFmR9LgVA5dZcXq/mRtNZqPMhEk5HZ/vQuqwIlUfPqmTHzepbtt/aH6uy0icZikv/tryUMIkTezQYRAjlMy59eiPxrc/Cxt/9tAI3UHDR2qs9SihZGXJHdebbBjkVtZYe0PauxJs+bXWvjFRD9x8UfIdLPUiFVXv0+HqIg1rt9Cn8numKs2drSnzPKp99WW92hzfjJ3Z9T9bEsdhuHNHHc7Cd812HNqI89C6Df+xfpR7ofWMpTfj8HTKsiV8diR5gn7qoCy8zfapuqh9rMaONAgbpOFZF1u/RwyMOAQAZwrqr8f+LOVcqq+HkuEMff3yS+TSe2o6lHRcYyds1tk22ibaDqBvtNtvcC4we1T36pvRM4kRp58wRQ3KVF7R7VpR95+qKy+Iu7bc0GXCZPYuP6G9s+/VzfHX3ndbb5bVDcH3tX1tQFPm51vXOHfX55U5e4vMycSa6qo1Xxs0xdaEYv1Nsji00bnTlU7j0Eacm99hVZNm//SGuE6V09EXcZiqjJybVZp7WCsXr41OKBQMNOjnNY0KdDgoAwA4T/h44PCKPGW0+eXbWqW7b1uugPVXAOceEvdzTejsX4LhyUG/tlZ90rOEKSI0IYk5cVZsr/Cn8m/dohNJEyZzJtOf69mPZ6gyrgc3MWP5Q83aZz1qr7tlGdoOq2lfT5tDM0l7Vu9P+Z7GJRgq1j0ZysybreXrlqgg4NW6mveMT9WJXln/syhJHAb9v1DVie6P+kgoURx2GeetOrBxhz6+Z6GKbCXavRmHnZXVTYNyVLrpeVV9davy3eeHbm+34dU39fbefXLFXDpiX7Lh93H6WxwCgJNFrnHPXKrXUv9Z5U+WdzpBa7fZqrN70jbRdgC9qReOjtGfBJv3aG/RNOXGHbgnHT5/ukLDnrJOXSeVrMPAEmx5Qcs2DdH0GeFZRk/5vEaOv9ZIXpt18EiCs84JbvWVvCwj4EdepVsLjumNg0cTJMLjYq5pPg2tu7XmrnKVZn9J4ft3Gz9po1VSazRGtSXKSkvp9D74iYTX9wvWozO8/mdR4jhMdha+B+LisPM4P64W7yPa9I9TNCM0m26s3ozD7pd1OlJdV+veJ/eFZ9Z/ebmmXtSmvU1FCS4diZE6QuNvHa/AGwd1JEFPUSTpHyhxCADOZd7W83Zlm9e4+5/QfUXZcqdZf+ome3V2D9om2g7grCBxP6ccVX31q8rpMFv3GUiY2g6r+WtTVGjdVq6zhCkY8Gn1lnTd/eA1p4aXB1vkW7NDfqNmD1f0r2nz7oMxFb058/hv2s+4buiqrHDjcrlqN//+1G2+jFJbG3ZpY9Z0Tc3pQcKUkacV5jXWkduQmT8n3lF1gUsqqFbTiZPhIW/W4raEeqEv162R7+xMrv9ZkyQOu+jcOS3t4rCzOD+ugM+jLRfM0oN5w6LrZcbTGq8/FHe9GYfdKavngmrzb9fi++p05dPlXQzZtw7cal/S7rjLXGo2DlXp1MvD225AxCEAOFjra9pS9Su5ote494DNOvv02ybaDuBs6M2jQzidWYG2u0e7pUcJk5HwNL4o745GBaxKOBh4RQ8tfU0TH4hcI5z8uvo2v1fl025TaWm+3GnWWerQmepva8WgrPBt6VIzNXXZnTpesUobDpjnq1vl91Zp8d4CLZr+Letsps2yjMYlc+p9WnX8MS3dsF9toddt19LFb2nWoqm6rMdD3G3qcDs4o+HyLZA79lYvbQfkXfq4jiy5X1OjM6w7ZP17Ikkc9mzUh404TBrnZjw9qGn5c1SaP1xpkbgxftLcj2vQmK9anSa9GIe2yuo58+4EOzzlujF3h4auWK8lMZ0Spo639DFXrUjLVn2iiqWbwzPyh+KwSntnzdX06O0KB0AcAoCTWRO2Bfa+qXeNujg6T0nojx/qdd+bRssRuVuIeZb8U7W9/js1JrydqM0622bbRNsB9A32kHOG2aOZ+B7tnSdM4VnOUwbna6XRWgRW5mtwylR5QrcisZz4b+2YYw7hMpITI/GseuUzXb+oVHku68xesuuZW7Zrbu4UraxPdF3T+FNnmY1/B427U5teyFXTnFFGEjRKd+wZrcpN5dH3sF+WIXT972PKa/qx0lPSlH7HHn2jsmNSk0jQ71FhypeVv7LR2BjmfVOHq9BzINpw9USqO0vX6CnNK8gy1sutCYt/p7Spq/XE7Lih1j1Y/76XLA67GPURPCBP4XANzjcn5mnUyvwvK6XQEx5FEdFFHCaOc3N4/ALlTlmueuuZdgqujelg6M047Lqs5LraJ61OILPjYdwavZsxSev8T+jeHJfN+LhA40rX64W8tzUnPU0p6XO15xv3a9OSmNEDpn4dhwDgcGYSvXq5ZjaVKjt9ksprjSap3Jy35bD21uzXF3PGGu2lORnpNC2Z+Y5Kcudo/WcjdVmyzm9bdXZP2ibaDuBMSzlpjud1CPOslGnJY9tD/yOxhXMmR7eVg74+nEOIPzgFsQgnIz4Rj5jAuYaY7z10bgEAAAAA4GAk7gAAAAAAOBiJOwAAAAAADkbiDgAAAACAg5G4AwAAAADgYCTuAAAAAAA4GIk7AAAAAAAORuIOAAAAAICDkbgDAAAAAOBgJO4AAAAAADgYiTsAAAAAAA5G4g4AAAAAgIORuAMAAAAA4GAk7gAAAAAAOBiJOwAAAAAADpZy0mD93udSUlKs3wAAAAAAA4GDUs5+izPuAAAAAAA4mCPPuNMj0zW2FfoS8QenIBbhZMQn4hETONcQ873HUYk7AAAAAABoj6HyAAAAAAA4GIk7AAAAAAAORuIOAAAAAICDkbgDAAAAAOBgJO4AAAAAADgYiTsAAAAAAA5G4g4AAAAAgIORuAMAAAAA4GAk7gAAAAAAOBiJOwAAAAAADkbiDgAAAACAg5G4AwAAAADgYCTuAAAAAAA4GIk7AAAAAAAORuIOAAAAAICDkbgDAAAAAOBgJO4AAAAAADgYiTsAAAAAAA5G4g4AAAAAgIORuAMAAAAA4GAk7gAAAAAAOBiJOwAAAAAADkbiDgAAAACAg5G4AwAAAADgYCTuAAAAAAA4GIk7AAAAAAAORuIOAAAAAICDkbgDAAAAAOBgJO4AAAAAADgYiTsAAAAAAA5G4g4AAAAAgIORuAMAAAAA4GAk7gAAAAAAOJb0/6BjsP7N7WJ0AAAAAElFTkSuQmCC)"
   ]
  },
  {
   "cell_type": "code",
   "execution_count": null,
   "id": "ab649eb6",
   "metadata": {
    "colab": {
     "base_uri": "https://localhost:8080/"
    },
    "id": "ab649eb6",
    "outputId": "a3f95a09-2407-4dfe-9941-e7802dba6193"
   },
   "outputs": [
    {
     "name": "stdout",
     "output_type": "stream",
     "text": [
      "[Timestamp('2020-04-18 00:00:00'), Timestamp('2020-05-29 23:30:00'), Timestamp('2020-06-05 10:00:00'), Timestamp('2020-07-15 14:30:00')] \n",
      " 59\n"
     ]
    }
   ],
   "source": [
    "def to_datetime(xs):\n",
    "  result = []\n",
    "  format =  \"%Y-%m-%d %H:%M:%S\"\n",
    "  for x in xs:\n",
    "    result.append(pd.to_datetime(x, format = format))\n",
    "  return result\n",
    "\n",
    "\n",
    "failure_start_time = to_datetime([\"2020-04-18 00:00:00\", \"2020-05-29 23:30:00\", \"2020-06-05 10:00:00\", \"2020-07-15 14:30:00\"] )\n",
    "failure_end_time   = to_datetime([\"2020-04-18 23:59:00\", \"2020-05-30 06:00:00\", \"2020-06-07 14:30:00\", \"2020-07-15 19:00:00\"] )\n",
    "\n",
    "print(failure_start_time,\"\\n\", failure_end_time[0].minute)"
   ]
  },
  {
   "cell_type": "code",
   "execution_count": null,
   "id": "KqHsjSKPyFsT",
   "metadata": {
    "id": "KqHsjSKPyFsT"
   },
   "outputs": [],
   "source": [
    "def in_between(x, start, end):\n",
    "\n",
    "  start_con = x >= start\n",
    "  end_con = x<= end\n",
    "\n",
    "  inbetween_con = start_con and end_con\n",
    "  if inbetween_con:\n",
    "    return 1\n",
    "  else:\n",
    "    return 0"
   ]
  },
  {
   "cell_type": "code",
   "execution_count": null,
   "id": "oig21csoXP3w",
   "metadata": {
    "colab": {
     "base_uri": "https://localhost:8080/"
    },
    "id": "oig21csoXP3w",
    "outputId": "ddaeae7d-d645-488d-e33d-c13da88cc78e"
   },
   "outputs": [
    {
     "name": "stdout",
     "output_type": "stream",
     "text": [
      " Found 29954 samples representing failure state\n"
     ]
    }
   ],
   "source": [
    "failure_indx = []\n",
    "import numpy as np\n",
    "for i, (start_time, end_time) in enumerate(zip(failure_start_time, failure_end_time)):\n",
    "  mask = labeled_data['timestamp'].apply(in_between, start = start_time, end = end_time)\n",
    "  indx = labeled_data.index[mask == True].tolist()\n",
    "  failure_indx += indx\n",
    "\n",
    "\n",
    "print(f\" Found {len(failure_indx)} samples representing failure state\")"
   ]
  },
  {
   "cell_type": "code",
   "execution_count": null,
   "id": "b27kdTKUCR_S",
   "metadata": {
    "colab": {
     "base_uri": "https://localhost:8080/"
    },
    "id": "b27kdTKUCR_S",
    "outputId": "f13398b5-d843-4be6-a993-969dc4204fc4"
   },
   "outputs": [
    {
     "name": "stderr",
     "output_type": "stream",
     "text": [
      "<ipython-input-16-502c3a3e2569>:2: SettingWithCopyWarning: \n",
      "A value is trying to be set on a copy of a slice from a DataFrame\n",
      "\n",
      "See the caveats in the documentation: https://pandas.pydata.org/pandas-docs/stable/user_guide/indexing.html#returning-a-view-versus-a-copy\n",
      "  labeled_data['status'].iloc[failure_indx] = 1\n"
     ]
    }
   ],
   "source": [
    "#Set the sample with the timestamp falled between the failure time to 1\n",
    "labeled_data['status'].iloc[failure_indx] = 1"
   ]
  },
  {
   "cell_type": "code",
   "execution_count": null,
   "id": "IoSJk9IZmtJR",
   "metadata": {
    "colab": {
     "base_uri": "https://localhost:8080/"
    },
    "id": "IoSJk9IZmtJR",
    "outputId": "0fac4f34-f073-475b-f722-5a093dff0a51"
   },
   "outputs": [
    {
     "name": "stdout",
     "output_type": "stream",
     "text": [
      "We have 29954 positve samples\n"
     ]
    }
   ],
   "source": [
    "#Check the number of possitive samples\n",
    "print(f\"We have {labeled_data['status'][labeled_data['status']==1].count()} positve samples\" )"
   ]
  },
  {
   "cell_type": "code",
   "execution_count": null,
   "id": "TROhLWInqqGr",
   "metadata": {
    "colab": {
     "base_uri": "https://localhost:8080/"
    },
    "id": "TROhLWInqqGr",
    "outputId": "69ab8657-212c-401b-ae32-5722b74dee5d"
   },
   "outputs": [
    {
     "name": "stdout",
     "output_type": "stream",
     "text": [
      "Example of Failure state \n",
      "                  timestamp    TP2    TP3     H1  DV_pressure  Reservoirs  \\\n",
      "562564 2020-04-18 00:00:01 -0.018  8.248  8.238       -0.024       8.248   \n",
      "562565 2020-04-18 00:00:13 -0.018  8.248  8.238       -0.024       8.248   \n",
      "562566 2020-04-18 00:00:24 -0.018  8.248  8.238       -0.024       8.248   \n",
      "562567 2020-04-18 00:00:36 -0.018  8.248  8.238       -0.024       8.248   \n",
      "562568 2020-04-18 00:00:49 -0.018  8.248  8.238       -0.024       8.248   \n",
      "\n",
      "        Oil_temperature  Motor_current  COMP  DV_eletric  Towers  MPG  LPS  \\\n",
      "562564            49.45           0.04   1.0         0.0     1.0  1.0  0.0   \n",
      "562565            49.45           0.04   1.0         0.0     1.0  1.0  0.0   \n",
      "562566            49.45           0.04   1.0         0.0     1.0  1.0  0.0   \n",
      "562567            49.45           0.04   0.0         0.0     0.0  0.0  0.0   \n",
      "562568            49.45           0.04   1.0         0.0     1.0  1.0  0.0   \n",
      "\n",
      "        Pressure_switch  Oil_level  Caudal_impulses  status  \n",
      "562564              1.0        1.0              1.0       1  \n",
      "562565              1.0        1.0              1.0       1  \n",
      "562566              1.0        1.0              1.0       1  \n",
      "562567              0.0        0.0              0.0       1  \n",
      "562568              1.0        1.0              1.0       1  \n"
     ]
    }
   ],
   "source": [
    "print(f\"Example of Failure state \\n {labeled_data[labeled_data['status']==1].head()}\")"
   ]
  },
  {
   "cell_type": "markdown",
   "id": "A8iLUYDTpjfI",
   "metadata": {
    "id": "A8iLUYDTpjfI"
   },
   "source": [
    "### 5) Subsample the dataset"
   ]
  },
  {
   "cell_type": "code",
   "execution_count": null,
   "id": "sEyrVfNUsy98",
   "metadata": {
    "colab": {
     "base_uri": "https://localhost:8080/"
    },
    "id": "sEyrVfNUsy98",
    "outputId": "b92e948b-2d88-4c4b-b223-f35a89479d8d"
   },
   "outputs": [
    {
     "name": "stdout",
     "output_type": "stream",
     "text": [
      "<class 'pandas.core.frame.DataFrame'>\n",
      "Int64Index: 29954 entries, 562564 to 1172714\n",
      "Data columns (total 17 columns):\n",
      " #   Column           Non-Null Count  Dtype         \n",
      "---  ------           --------------  -----         \n",
      " 0   timestamp        29954 non-null  datetime64[ns]\n",
      " 1   TP2              29954 non-null  float64       \n",
      " 2   TP3              29954 non-null  float64       \n",
      " 3   H1               29954 non-null  float64       \n",
      " 4   DV_pressure      29954 non-null  float64       \n",
      " 5   Reservoirs       29954 non-null  float64       \n",
      " 6   Oil_temperature  29954 non-null  float64       \n",
      " 7   Motor_current    29954 non-null  float64       \n",
      " 8   COMP             29954 non-null  float64       \n",
      " 9   DV_eletric       29954 non-null  float64       \n",
      " 10  Towers           29954 non-null  float64       \n",
      " 11  MPG              29954 non-null  float64       \n",
      " 12  LPS              29954 non-null  float64       \n",
      " 13  Pressure_switch  29954 non-null  float64       \n",
      " 14  Oil_level        29954 non-null  float64       \n",
      " 15  Caudal_impulses  29954 non-null  float64       \n",
      " 16  status           29954 non-null  int64         \n",
      "dtypes: datetime64[ns](1), float64(15), int64(1)\n",
      "memory usage: 4.1 MB\n",
      "Positive dataset\n",
      " None\n",
      "\n",
      "<class 'pandas.core.frame.DataFrame'>\n",
      "Int64Index: 1486994 entries, 0 to 1516947\n",
      "Data columns (total 17 columns):\n",
      " #   Column           Non-Null Count    Dtype         \n",
      "---  ------           --------------    -----         \n",
      " 0   timestamp        1486994 non-null  datetime64[ns]\n",
      " 1   TP2              1486994 non-null  float64       \n",
      " 2   TP3              1486994 non-null  float64       \n",
      " 3   H1               1486994 non-null  float64       \n",
      " 4   DV_pressure      1486994 non-null  float64       \n",
      " 5   Reservoirs       1486994 non-null  float64       \n",
      " 6   Oil_temperature  1486994 non-null  float64       \n",
      " 7   Motor_current    1486994 non-null  float64       \n",
      " 8   COMP             1486994 non-null  float64       \n",
      " 9   DV_eletric       1486994 non-null  float64       \n",
      " 10  Towers           1486994 non-null  float64       \n",
      " 11  MPG              1486994 non-null  float64       \n",
      " 12  LPS              1486994 non-null  float64       \n",
      " 13  Pressure_switch  1486994 non-null  float64       \n",
      " 14  Oil_level        1486994 non-null  float64       \n",
      " 15  Caudal_impulses  1486994 non-null  float64       \n",
      " 16  status           1486994 non-null  int64         \n",
      "dtypes: datetime64[ns](1), float64(15), int64(1)\n",
      "memory usage: 204.2 MB\n",
      "Negative dataset\n",
      " None\n",
      "\n"
     ]
    }
   ],
   "source": [
    "#Seperate Positive samples and Negative sample\n",
    "pos_data = labeled_data[labeled_data['status'] == 1]\n",
    "neg_data = labeled_data[labeled_data['status'] == 0]\n",
    "\n",
    "#Print out the info of 2 dataset\n",
    "print(f\"Positive dataset\\n {pos_data.info()}\\n\")\n",
    "print(f\"Negative dataset\\n {neg_data.info()}\\n\")"
   ]
  },
  {
   "cell_type": "markdown",
   "id": "U9kT3KI0tbCz",
   "metadata": {
    "id": "U9kT3KI0tbCz"
   },
   "source": [
    "As we can see, we have around 30K postive samples and 1500K negative sample. This indicates highly imbalanced dataset. Thus, we have to subsample the negative class to balance the training data. To achive this, we will randomly sample 30K negative sample from the set of 1500K sample."
   ]
  },
  {
   "cell_type": "code",
   "execution_count": null,
   "id": "6_vdKBfat9fH",
   "metadata": {
    "colab": {
     "base_uri": "https://localhost:8080/"
    },
    "id": "6_vdKBfat9fH",
    "outputId": "b5b61cdf-5878-48dc-c767-a884f24dbce4"
   },
   "outputs": [
    {
     "name": "stdout",
     "output_type": "stream",
     "text": [
      "<class 'pandas.core.frame.DataFrame'>\n",
      "Int64Index: 29954 entries, 1306134 to 1276653\n",
      "Data columns (total 17 columns):\n",
      " #   Column           Non-Null Count  Dtype         \n",
      "---  ------           --------------  -----         \n",
      " 0   timestamp        29954 non-null  datetime64[ns]\n",
      " 1   TP2              29954 non-null  float64       \n",
      " 2   TP3              29954 non-null  float64       \n",
      " 3   H1               29954 non-null  float64       \n",
      " 4   DV_pressure      29954 non-null  float64       \n",
      " 5   Reservoirs       29954 non-null  float64       \n",
      " 6   Oil_temperature  29954 non-null  float64       \n",
      " 7   Motor_current    29954 non-null  float64       \n",
      " 8   COMP             29954 non-null  float64       \n",
      " 9   DV_eletric       29954 non-null  float64       \n",
      " 10  Towers           29954 non-null  float64       \n",
      " 11  MPG              29954 non-null  float64       \n",
      " 12  LPS              29954 non-null  float64       \n",
      " 13  Pressure_switch  29954 non-null  float64       \n",
      " 14  Oil_level        29954 non-null  float64       \n",
      " 15  Caudal_impulses  29954 non-null  float64       \n",
      " 16  status           29954 non-null  int64         \n",
      "dtypes: datetime64[ns](1), float64(15), int64(1)\n",
      "memory usage: 4.1 MB\n",
      "Negative dataset after subsampling None\n"
     ]
    }
   ],
   "source": [
    "n_positives = int(pos_data['status'].count())\n",
    "sub_neg_data = neg_data.sample(n_positives, random_state = 42)\n",
    "print(f\"Negative dataset after subsampling {sub_neg_data.info()}\")"
   ]
  },
  {
   "cell_type": "markdown",
   "id": "yQq9o7quu_ei",
   "metadata": {
    "id": "yQq9o7quu_ei"
   },
   "source": [
    "Now, we merge the postive set and negative set into one"
   ]
  },
  {
   "cell_type": "code",
   "execution_count": null,
   "id": "_Nmrpj12vIDK",
   "metadata": {
    "colab": {
     "base_uri": "https://localhost:8080/"
    },
    "id": "_Nmrpj12vIDK",
    "outputId": "b6e0ec55-adc9-4a2b-e6f8-0a62297361d9"
   },
   "outputs": [
    {
     "name": "stdout",
     "output_type": "stream",
     "text": [
      "Merged dataset\n",
      "\n",
      "<class 'pandas.core.frame.DataFrame'>\n",
      "Int64Index: 59908 entries, 562564 to 1276653\n",
      "Data columns (total 17 columns):\n",
      " #   Column           Non-Null Count  Dtype         \n",
      "---  ------           --------------  -----         \n",
      " 0   timestamp        59908 non-null  datetime64[ns]\n",
      " 1   TP2              59908 non-null  float64       \n",
      " 2   TP3              59908 non-null  float64       \n",
      " 3   H1               59908 non-null  float64       \n",
      " 4   DV_pressure      59908 non-null  float64       \n",
      " 5   Reservoirs       59908 non-null  float64       \n",
      " 6   Oil_temperature  59908 non-null  float64       \n",
      " 7   Motor_current    59908 non-null  float64       \n",
      " 8   COMP             59908 non-null  float64       \n",
      " 9   DV_eletric       59908 non-null  float64       \n",
      " 10  Towers           59908 non-null  float64       \n",
      " 11  MPG              59908 non-null  float64       \n",
      " 12  LPS              59908 non-null  float64       \n",
      " 13  Pressure_switch  59908 non-null  float64       \n",
      " 14  Oil_level        59908 non-null  float64       \n",
      " 15  Caudal_impulses  59908 non-null  float64       \n",
      " 16  status           59908 non-null  int64         \n",
      "dtypes: datetime64[ns](1), float64(15), int64(1)\n",
      "memory usage: 8.2 MB\n"
     ]
    }
   ],
   "source": [
    "merged_data = pd.concat([pos_data, sub_neg_data], axis = 0)\n",
    "print(f\"Merged dataset\\n\")\n",
    "merged_data.info()"
   ]
  },
  {
   "cell_type": "markdown",
   "id": "18c5a153-7fb2-4b7d-86d9-a41322313752",
   "metadata": {
    "id": "18c5a153-7fb2-4b7d-86d9-a41322313752"
   },
   "source": [
    "### 6) Find and drop ouliers"
   ]
  },
  {
   "cell_type": "code",
   "execution_count": null,
   "id": "7a6abdcd",
   "metadata": {
    "colab": {
     "base_uri": "https://localhost:8080/"
    },
    "id": "7a6abdcd",
    "outputId": "9c9de07f-dfdf-4983-f929-a454d9d21260"
   },
   "outputs": [
    {
     "name": "stdout",
     "output_type": "stream",
     "text": [
      "\n",
      "Dropping outliers ...\n",
      "\n",
      "Found 424 oulier(s) for feature TP3\n",
      "Droping 424 from column TP3\n",
      "59484 samples left\n",
      "\n",
      "Found 5 oulier(s) for feature DV_pressure\n",
      "Droping 5 from column DV_pressure\n",
      "59479 samples left\n",
      "\n",
      "Found 3 oulier(s) for feature Reservoirs\n",
      "Droping 3 from column Reservoirs\n",
      "59476 samples left\n",
      "\n",
      "Found 29 oulier(s) for feature Oil_temperature\n",
      "Droping 29 from column Oil_temperature\n",
      "59447 samples left\n",
      "\n",
      "Found 395 oulier(s) for feature LPS\n",
      "Skipping .. data has Q1 equals to Q3\n",
      "59447 rows left\n",
      "\n",
      "Found 402 oulier(s) for feature Pressure_switch\n",
      "Skipping .. data has Q1 equals to Q3\n",
      "59447 rows left\n",
      "\n",
      "Found 2897 oulier(s) for feature Oil_level\n",
      "Skipping .. data has Q1 equals to Q3\n",
      "59447 rows left\n",
      "\n",
      "Found 1948 oulier(s) for feature Caudal_impulses\n",
      "Skipping .. data has Q1 equals to Q3\n",
      "59447 rows left\n",
      "\n",
      "Found 2 oulier(s) for feature Oil_temperature\n",
      "Droping 2 from column Oil_temperature\n",
      "59445 samples left\n",
      "\n",
      "Found 395 oulier(s) for feature LPS\n",
      "Skipping .. data has Q1 equals to Q3\n",
      "59445 rows left\n",
      "\n",
      "Found 402 oulier(s) for feature Pressure_switch\n",
      "Skipping .. data has Q1 equals to Q3\n",
      "59445 rows left\n",
      "\n",
      "Found 2897 oulier(s) for feature Oil_level\n",
      "Skipping .. data has Q1 equals to Q3\n",
      "59445 rows left\n",
      "\n",
      "Found 1947 oulier(s) for feature Caudal_impulses\n",
      "Skipping .. data has Q1 equals to Q3\n",
      "59445 rows left\n",
      "\n",
      "Found 395 oulier(s) for feature LPS\n",
      "Skipping .. data has Q1 equals to Q3\n",
      "59445 rows left\n",
      "\n",
      "Found 402 oulier(s) for feature Pressure_switch\n",
      "Skipping .. data has Q1 equals to Q3\n",
      "59445 rows left\n",
      "\n",
      "Found 2897 oulier(s) for feature Oil_level\n",
      "Skipping .. data has Q1 equals to Q3\n",
      "59445 rows left\n",
      "\n",
      "Found 1947 oulier(s) for feature Caudal_impulses\n",
      "Skipping .. data has Q1 equals to Q3\n",
      "59445 rows left\n",
      "\n",
      "Found 395 oulier(s) for feature LPS\n",
      "Skipping .. data has Q1 equals to Q3\n",
      "59445 rows left\n",
      "\n",
      "Found 402 oulier(s) for feature Pressure_switch\n",
      "Skipping .. data has Q1 equals to Q3\n",
      "59445 rows left\n",
      "\n",
      "Found 2897 oulier(s) for feature Oil_level\n",
      "Skipping .. data has Q1 equals to Q3\n",
      "59445 rows left\n",
      "\n",
      "Found 1947 oulier(s) for feature Caudal_impulses\n",
      "Skipping .. data has Q1 equals to Q3\n",
      "59445 rows left\n",
      "\n",
      "Found 395 oulier(s) for feature LPS\n",
      "Skipping .. data has Q1 equals to Q3\n",
      "59445 rows left\n",
      "\n",
      "Found 402 oulier(s) for feature Pressure_switch\n",
      "Skipping .. data has Q1 equals to Q3\n",
      "59445 rows left\n",
      "\n",
      "Found 2897 oulier(s) for feature Oil_level\n",
      "Skipping .. data has Q1 equals to Q3\n",
      "59445 rows left\n",
      "\n",
      "Found 1947 oulier(s) for feature Caudal_impulses\n",
      "Skipping .. data has Q1 equals to Q3\n",
      "59445 rows left\n",
      "\n",
      "\n",
      "Dropping Completed ...\n",
      "\n",
      "Found 395 oulier(s) for feature LPS\n",
      "Found 402 oulier(s) for feature Pressure_switch\n",
      "Found 2897 oulier(s) for feature Oil_level\n",
      "Found 1947 oulier(s) for feature Caudal_impulses\n"
     ]
    }
   ],
   "source": [
    "def investigate_outliers(data, c):\n",
    "    q1 = data[c].quantile(0.25)\n",
    "    q3 = data[c].quantile(0.75)\n",
    "    iqr = q3 - q1\n",
    "    ll = q1 - 1.5*iqr\n",
    "    ul = q3 + 1.5*iqr\n",
    "\n",
    "    num_outliers = data[data[c] < ll][c].count()  + data[data[c] > ul][c].count()\n",
    "    if num_outliers>0:\n",
    "        print(f\"Found {num_outliers} oulier(s) for feature {c}\")\n",
    "    return {'col': c, 'n_outliers': num_outliers, 'll': ll, 'ul': ul, 'q1': q1, 'q3':q3}\n",
    "\n",
    "print(\"\\nDropping outliers ...\\n\")\n",
    "clean_data = merged_data.copy()\n",
    "for i in range(5):\n",
    "  for c in clean_data.columns:\n",
    "      if c not in [\"Unnamed: 0\",\"timestamp\"]:\n",
    "          cue = investigate_outliers(clean_data, c)\n",
    "          if cue[\"n_outliers\"] > 0 and (cue[\"q1\"]!= cue[\"q3\"]):\n",
    "              print(f\"Droping {cue['n_outliers']} from column {c}\")\n",
    "              clean_data = clean_data[clean_data[c]> cue[\"ll\"]]\n",
    "              clean_data = clean_data[clean_data[c]< cue[\"ul\"]]\n",
    "              print(f\"{clean_data.shape[0]} samples left\\n\")\n",
    "          elif (cue[\"q1\"]== cue[\"q3\"]):\n",
    "              print(\"Skipping .. data has Q1 equals to Q3\")\n",
    "              print(f\"{clean_data.shape[0]} rows left\\n\")\n",
    "\n",
    "\n",
    "print(\"\\nDropping Completed ...\\n\")\n",
    "#Recheck data\n",
    "for c in clean_data.columns:\n",
    "    if c not in [\"Unnamed: 0\",\"timestamp\",\"COMP\", 'status']:\n",
    "        cue = investigate_outliers(clean_data, c)"
   ]
  },
  {
   "cell_type": "code",
   "execution_count": null,
   "id": "vq_Xju3HwQU-",
   "metadata": {
    "id": "vq_Xju3HwQU-"
   },
   "outputs": [],
   "source": [
    "#Investigate the columns with the binary values\n",
    "binary_cols = ['LPS', 'Pressure_switch', 'Oil_level', 'Caudal_impulses']\n",
    "#Ensure the the binary data is binary\n",
    "clean_data[binary_cols] = clean_data[binary_cols].apply(np.round)"
   ]
  },
  {
   "cell_type": "markdown",
   "id": "2Q6CWVJHSCiR",
   "metadata": {
    "id": "2Q6CWVJHSCiR"
   },
   "source": [
    "### 7) Summary"
   ]
  },
  {
   "cell_type": "markdown",
   "id": "SVt4hpW5SJi-",
   "metadata": {
    "id": "SVt4hpW5SJi-"
   },
   "source": [
    "In summary, prior to undergoing preprocessing, the dataset:\n",
    "\n",
    "- has unnecessary collumn\n",
    "- has columns with wrong format\n",
    "- is unlabeled\n",
    "- is highly imbalanced\n",
    "- has outliers\n",
    "\n",
    "Thus, throughout the preprocessing and data cleaning phase, we performed the following tasks:\n",
    "\n",
    "- remove unnecessary column\n",
    "- format the timestamp column\n",
    "- add column for target variable\n",
    "- subsample to balance the dataset\n",
    "- find and drop all outliers\n",
    "\n",
    "According to its documentation, the following preprocessing steps have been conducted before publishing the data, so we do not apply it in our work:\n",
    "\n",
    "- Data segmentation\n",
    "- Normalization\n",
    "- Feature Extraction"
   ]
  },
  {
   "cell_type": "markdown",
   "id": "AcoWfkxg3US9",
   "metadata": {
    "id": "AcoWfkxg3US9"
   },
   "source": [
    "## III. Exploratory Data Analysis"
   ]
  },
  {
   "cell_type": "markdown",
   "id": "fiQbhtDt6bAB",
   "metadata": {
    "id": "fiQbhtDt6bAB"
   },
   "source": [
    "### 1) Correlation"
   ]
  },
  {
   "cell_type": "markdown",
   "id": "OA6ITWCb7A8y",
   "metadata": {
    "id": "OA6ITWCb7A8y"
   },
   "source": [
    "Describing the correlation between the features, the values closer to 1 or -1 represent a stronger relation."
   ]
  },
  {
   "cell_type": "code",
   "execution_count": null,
   "id": "i9T0eAlo6-zg",
   "metadata": {
    "colab": {
     "base_uri": "https://localhost:8080/",
     "height": 606
    },
    "id": "i9T0eAlo6-zg",
    "outputId": "aa9b7264-a06b-4617-88fb-1ac0a52b42e0"
   },
   "outputs": [
    {
     "name": "stderr",
     "output_type": "stream",
     "text": [
      "<ipython-input-24-ef7828e8fbfe>:1: FutureWarning: The default value of numeric_only in DataFrame.corr is deprecated. In a future version, it will default to False. Select only valid columns or specify the value of numeric_only to silence this warning.\n",
      "  clean_data.corr().round(2)\n"
     ]
    },
    {
     "data": {
      "text/html": [
       "\n",
       "  <div id=\"df-6b6afb64-30cb-4b81-b587-ec8c5182e9f6\" class=\"colab-df-container\">\n",
       "    <div>\n",
       "<style scoped>\n",
       "    .dataframe tbody tr th:only-of-type {\n",
       "        vertical-align: middle;\n",
       "    }\n",
       "\n",
       "    .dataframe tbody tr th {\n",
       "        vertical-align: top;\n",
       "    }\n",
       "\n",
       "    .dataframe thead th {\n",
       "        text-align: right;\n",
       "    }\n",
       "</style>\n",
       "<table border=\"1\" class=\"dataframe\">\n",
       "  <thead>\n",
       "    <tr style=\"text-align: right;\">\n",
       "      <th></th>\n",
       "      <th>TP2</th>\n",
       "      <th>TP3</th>\n",
       "      <th>H1</th>\n",
       "      <th>DV_pressure</th>\n",
       "      <th>Reservoirs</th>\n",
       "      <th>Oil_temperature</th>\n",
       "      <th>Motor_current</th>\n",
       "      <th>COMP</th>\n",
       "      <th>DV_eletric</th>\n",
       "      <th>Towers</th>\n",
       "      <th>MPG</th>\n",
       "      <th>LPS</th>\n",
       "      <th>Pressure_switch</th>\n",
       "      <th>Oil_level</th>\n",
       "      <th>Caudal_impulses</th>\n",
       "      <th>status</th>\n",
       "    </tr>\n",
       "  </thead>\n",
       "  <tbody>\n",
       "    <tr>\n",
       "      <th>TP2</th>\n",
       "      <td>1.00</td>\n",
       "      <td>-0.42</td>\n",
       "      <td>-0.98</td>\n",
       "      <td>0.81</td>\n",
       "      <td>-0.42</td>\n",
       "      <td>0.74</td>\n",
       "      <td>0.87</td>\n",
       "      <td>-0.98</td>\n",
       "      <td>0.98</td>\n",
       "      <td>-0.52</td>\n",
       "      <td>-0.97</td>\n",
       "      <td>0.06</td>\n",
       "      <td>0.00</td>\n",
       "      <td>0.19</td>\n",
       "      <td>0.14</td>\n",
       "      <td>0.83</td>\n",
       "    </tr>\n",
       "    <tr>\n",
       "      <th>TP3</th>\n",
       "      <td>-0.42</td>\n",
       "      <td>1.00</td>\n",
       "      <td>0.54</td>\n",
       "      <td>-0.55</td>\n",
       "      <td>1.00</td>\n",
       "      <td>-0.28</td>\n",
       "      <td>-0.17</td>\n",
       "      <td>0.49</td>\n",
       "      <td>-0.48</td>\n",
       "      <td>0.27</td>\n",
       "      <td>0.48</td>\n",
       "      <td>-0.18</td>\n",
       "      <td>0.01</td>\n",
       "      <td>-0.14</td>\n",
       "      <td>-0.13</td>\n",
       "      <td>-0.55</td>\n",
       "    </tr>\n",
       "    <tr>\n",
       "      <th>H1</th>\n",
       "      <td>-0.98</td>\n",
       "      <td>0.54</td>\n",
       "      <td>1.00</td>\n",
       "      <td>-0.83</td>\n",
       "      <td>0.54</td>\n",
       "      <td>-0.73</td>\n",
       "      <td>-0.84</td>\n",
       "      <td>0.99</td>\n",
       "      <td>-0.99</td>\n",
       "      <td>0.54</td>\n",
       "      <td>0.99</td>\n",
       "      <td>-0.07</td>\n",
       "      <td>0.01</td>\n",
       "      <td>-0.20</td>\n",
       "      <td>-0.15</td>\n",
       "      <td>-0.86</td>\n",
       "    </tr>\n",
       "    <tr>\n",
       "      <th>DV_pressure</th>\n",
       "      <td>0.81</td>\n",
       "      <td>-0.55</td>\n",
       "      <td>-0.83</td>\n",
       "      <td>1.00</td>\n",
       "      <td>-0.55</td>\n",
       "      <td>0.73</td>\n",
       "      <td>0.72</td>\n",
       "      <td>-0.83</td>\n",
       "      <td>0.83</td>\n",
       "      <td>-0.45</td>\n",
       "      <td>-0.83</td>\n",
       "      <td>-0.05</td>\n",
       "      <td>0.02</td>\n",
       "      <td>0.21</td>\n",
       "      <td>0.17</td>\n",
       "      <td>0.92</td>\n",
       "    </tr>\n",
       "    <tr>\n",
       "      <th>Reservoirs</th>\n",
       "      <td>-0.42</td>\n",
       "      <td>1.00</td>\n",
       "      <td>0.54</td>\n",
       "      <td>-0.55</td>\n",
       "      <td>1.00</td>\n",
       "      <td>-0.28</td>\n",
       "      <td>-0.17</td>\n",
       "      <td>0.49</td>\n",
       "      <td>-0.48</td>\n",
       "      <td>0.27</td>\n",
       "      <td>0.48</td>\n",
       "      <td>-0.18</td>\n",
       "      <td>0.01</td>\n",
       "      <td>-0.14</td>\n",
       "      <td>-0.13</td>\n",
       "      <td>-0.55</td>\n",
       "    </tr>\n",
       "    <tr>\n",
       "      <th>Oil_temperature</th>\n",
       "      <td>0.74</td>\n",
       "      <td>-0.28</td>\n",
       "      <td>-0.73</td>\n",
       "      <td>0.73</td>\n",
       "      <td>-0.28</td>\n",
       "      <td>1.00</td>\n",
       "      <td>0.79</td>\n",
       "      <td>-0.75</td>\n",
       "      <td>0.76</td>\n",
       "      <td>-0.41</td>\n",
       "      <td>-0.75</td>\n",
       "      <td>0.10</td>\n",
       "      <td>0.02</td>\n",
       "      <td>0.10</td>\n",
       "      <td>0.11</td>\n",
       "      <td>0.81</td>\n",
       "    </tr>\n",
       "    <tr>\n",
       "      <th>Motor_current</th>\n",
       "      <td>0.87</td>\n",
       "      <td>-0.17</td>\n",
       "      <td>-0.84</td>\n",
       "      <td>0.72</td>\n",
       "      <td>-0.17</td>\n",
       "      <td>0.79</td>\n",
       "      <td>1.00</td>\n",
       "      <td>-0.87</td>\n",
       "      <td>0.87</td>\n",
       "      <td>-0.47</td>\n",
       "      <td>-0.87</td>\n",
       "      <td>0.06</td>\n",
       "      <td>0.00</td>\n",
       "      <td>0.14</td>\n",
       "      <td>0.10</td>\n",
       "      <td>0.74</td>\n",
       "    </tr>\n",
       "    <tr>\n",
       "      <th>COMP</th>\n",
       "      <td>-0.98</td>\n",
       "      <td>0.49</td>\n",
       "      <td>0.99</td>\n",
       "      <td>-0.83</td>\n",
       "      <td>0.49</td>\n",
       "      <td>-0.75</td>\n",
       "      <td>-0.87</td>\n",
       "      <td>1.00</td>\n",
       "      <td>-0.99</td>\n",
       "      <td>0.55</td>\n",
       "      <td>1.00</td>\n",
       "      <td>-0.07</td>\n",
       "      <td>0.07</td>\n",
       "      <td>-0.17</td>\n",
       "      <td>-0.12</td>\n",
       "      <td>-0.86</td>\n",
       "    </tr>\n",
       "    <tr>\n",
       "      <th>DV_eletric</th>\n",
       "      <td>0.98</td>\n",
       "      <td>-0.48</td>\n",
       "      <td>-0.99</td>\n",
       "      <td>0.83</td>\n",
       "      <td>-0.48</td>\n",
       "      <td>0.76</td>\n",
       "      <td>0.87</td>\n",
       "      <td>-0.99</td>\n",
       "      <td>1.00</td>\n",
       "      <td>-0.53</td>\n",
       "      <td>-0.99</td>\n",
       "      <td>0.07</td>\n",
       "      <td>0.03</td>\n",
       "      <td>0.19</td>\n",
       "      <td>0.14</td>\n",
       "      <td>0.86</td>\n",
       "    </tr>\n",
       "    <tr>\n",
       "      <th>Towers</th>\n",
       "      <td>-0.52</td>\n",
       "      <td>0.27</td>\n",
       "      <td>0.54</td>\n",
       "      <td>-0.45</td>\n",
       "      <td>0.27</td>\n",
       "      <td>-0.41</td>\n",
       "      <td>-0.47</td>\n",
       "      <td>0.55</td>\n",
       "      <td>-0.53</td>\n",
       "      <td>1.00</td>\n",
       "      <td>0.55</td>\n",
       "      <td>-0.04</td>\n",
       "      <td>0.09</td>\n",
       "      <td>-0.07</td>\n",
       "      <td>-0.04</td>\n",
       "      <td>-0.47</td>\n",
       "    </tr>\n",
       "    <tr>\n",
       "      <th>MPG</th>\n",
       "      <td>-0.97</td>\n",
       "      <td>0.48</td>\n",
       "      <td>0.99</td>\n",
       "      <td>-0.83</td>\n",
       "      <td>0.48</td>\n",
       "      <td>-0.75</td>\n",
       "      <td>-0.87</td>\n",
       "      <td>1.00</td>\n",
       "      <td>-0.99</td>\n",
       "      <td>0.55</td>\n",
       "      <td>1.00</td>\n",
       "      <td>-0.07</td>\n",
       "      <td>0.06</td>\n",
       "      <td>-0.15</td>\n",
       "      <td>-0.10</td>\n",
       "      <td>-0.85</td>\n",
       "    </tr>\n",
       "    <tr>\n",
       "      <th>LPS</th>\n",
       "      <td>0.06</td>\n",
       "      <td>-0.18</td>\n",
       "      <td>-0.07</td>\n",
       "      <td>-0.05</td>\n",
       "      <td>-0.18</td>\n",
       "      <td>0.10</td>\n",
       "      <td>0.06</td>\n",
       "      <td>-0.07</td>\n",
       "      <td>0.07</td>\n",
       "      <td>-0.04</td>\n",
       "      <td>-0.07</td>\n",
       "      <td>1.00</td>\n",
       "      <td>0.01</td>\n",
       "      <td>0.02</td>\n",
       "      <td>0.02</td>\n",
       "      <td>0.08</td>\n",
       "    </tr>\n",
       "    <tr>\n",
       "      <th>Pressure_switch</th>\n",
       "      <td>0.00</td>\n",
       "      <td>0.01</td>\n",
       "      <td>0.01</td>\n",
       "      <td>0.02</td>\n",
       "      <td>0.01</td>\n",
       "      <td>0.02</td>\n",
       "      <td>0.00</td>\n",
       "      <td>0.07</td>\n",
       "      <td>0.03</td>\n",
       "      <td>0.09</td>\n",
       "      <td>0.06</td>\n",
       "      <td>0.01</td>\n",
       "      <td>1.00</td>\n",
       "      <td>0.20</td>\n",
       "      <td>0.26</td>\n",
       "      <td>0.02</td>\n",
       "    </tr>\n",
       "    <tr>\n",
       "      <th>Oil_level</th>\n",
       "      <td>0.19</td>\n",
       "      <td>-0.14</td>\n",
       "      <td>-0.20</td>\n",
       "      <td>0.21</td>\n",
       "      <td>-0.14</td>\n",
       "      <td>0.10</td>\n",
       "      <td>0.14</td>\n",
       "      <td>-0.17</td>\n",
       "      <td>0.19</td>\n",
       "      <td>-0.07</td>\n",
       "      <td>-0.15</td>\n",
       "      <td>0.02</td>\n",
       "      <td>0.20</td>\n",
       "      <td>1.00</td>\n",
       "      <td>0.12</td>\n",
       "      <td>0.22</td>\n",
       "    </tr>\n",
       "    <tr>\n",
       "      <th>Caudal_impulses</th>\n",
       "      <td>0.14</td>\n",
       "      <td>-0.13</td>\n",
       "      <td>-0.15</td>\n",
       "      <td>0.17</td>\n",
       "      <td>-0.13</td>\n",
       "      <td>0.11</td>\n",
       "      <td>0.10</td>\n",
       "      <td>-0.12</td>\n",
       "      <td>0.14</td>\n",
       "      <td>-0.04</td>\n",
       "      <td>-0.10</td>\n",
       "      <td>0.02</td>\n",
       "      <td>0.26</td>\n",
       "      <td>0.12</td>\n",
       "      <td>1.00</td>\n",
       "      <td>0.18</td>\n",
       "    </tr>\n",
       "    <tr>\n",
       "      <th>status</th>\n",
       "      <td>0.83</td>\n",
       "      <td>-0.55</td>\n",
       "      <td>-0.86</td>\n",
       "      <td>0.92</td>\n",
       "      <td>-0.55</td>\n",
       "      <td>0.81</td>\n",
       "      <td>0.74</td>\n",
       "      <td>-0.86</td>\n",
       "      <td>0.86</td>\n",
       "      <td>-0.47</td>\n",
       "      <td>-0.85</td>\n",
       "      <td>0.08</td>\n",
       "      <td>0.02</td>\n",
       "      <td>0.22</td>\n",
       "      <td>0.18</td>\n",
       "      <td>1.00</td>\n",
       "    </tr>\n",
       "  </tbody>\n",
       "</table>\n",
       "</div>\n",
       "    <div class=\"colab-df-buttons\">\n",
       "\n",
       "  <div class=\"colab-df-container\">\n",
       "    <button class=\"colab-df-convert\" onclick=\"convertToInteractive('df-6b6afb64-30cb-4b81-b587-ec8c5182e9f6')\"\n",
       "            title=\"Convert this dataframe to an interactive table.\"\n",
       "            style=\"display:none;\">\n",
       "\n",
       "  <svg xmlns=\"http://www.w3.org/2000/svg\" height=\"24px\" viewBox=\"0 -960 960 960\">\n",
       "    <path d=\"M120-120v-720h720v720H120Zm60-500h600v-160H180v160Zm220 220h160v-160H400v160Zm0 220h160v-160H400v160ZM180-400h160v-160H180v160Zm440 0h160v-160H620v160ZM180-180h160v-160H180v160Zm440 0h160v-160H620v160Z\"/>\n",
       "  </svg>\n",
       "    </button>\n",
       "\n",
       "  <style>\n",
       "    .colab-df-container {\n",
       "      display:flex;\n",
       "      gap: 12px;\n",
       "    }\n",
       "\n",
       "    .colab-df-convert {\n",
       "      background-color: #E8F0FE;\n",
       "      border: none;\n",
       "      border-radius: 50%;\n",
       "      cursor: pointer;\n",
       "      display: none;\n",
       "      fill: #1967D2;\n",
       "      height: 32px;\n",
       "      padding: 0 0 0 0;\n",
       "      width: 32px;\n",
       "    }\n",
       "\n",
       "    .colab-df-convert:hover {\n",
       "      background-color: #E2EBFA;\n",
       "      box-shadow: 0px 1px 2px rgba(60, 64, 67, 0.3), 0px 1px 3px 1px rgba(60, 64, 67, 0.15);\n",
       "      fill: #174EA6;\n",
       "    }\n",
       "\n",
       "    .colab-df-buttons div {\n",
       "      margin-bottom: 4px;\n",
       "    }\n",
       "\n",
       "    [theme=dark] .colab-df-convert {\n",
       "      background-color: #3B4455;\n",
       "      fill: #D2E3FC;\n",
       "    }\n",
       "\n",
       "    [theme=dark] .colab-df-convert:hover {\n",
       "      background-color: #434B5C;\n",
       "      box-shadow: 0px 1px 3px 1px rgba(0, 0, 0, 0.15);\n",
       "      filter: drop-shadow(0px 1px 2px rgba(0, 0, 0, 0.3));\n",
       "      fill: #FFFFFF;\n",
       "    }\n",
       "  </style>\n",
       "\n",
       "    <script>\n",
       "      const buttonEl =\n",
       "        document.querySelector('#df-6b6afb64-30cb-4b81-b587-ec8c5182e9f6 button.colab-df-convert');\n",
       "      buttonEl.style.display =\n",
       "        google.colab.kernel.accessAllowed ? 'block' : 'none';\n",
       "\n",
       "      async function convertToInteractive(key) {\n",
       "        const element = document.querySelector('#df-6b6afb64-30cb-4b81-b587-ec8c5182e9f6');\n",
       "        const dataTable =\n",
       "          await google.colab.kernel.invokeFunction('convertToInteractive',\n",
       "                                                    [key], {});\n",
       "        if (!dataTable) return;\n",
       "\n",
       "        const docLinkHtml = 'Like what you see? Visit the ' +\n",
       "          '<a target=\"_blank\" href=https://colab.research.google.com/notebooks/data_table.ipynb>data table notebook</a>'\n",
       "          + ' to learn more about interactive tables.';\n",
       "        element.innerHTML = '';\n",
       "        dataTable['output_type'] = 'display_data';\n",
       "        await google.colab.output.renderOutput(dataTable, element);\n",
       "        const docLink = document.createElement('div');\n",
       "        docLink.innerHTML = docLinkHtml;\n",
       "        element.appendChild(docLink);\n",
       "      }\n",
       "    </script>\n",
       "  </div>\n",
       "\n",
       "\n",
       "<div id=\"df-487f37b3-89a6-4573-8b73-6c29c6bd602a\">\n",
       "  <button class=\"colab-df-quickchart\" onclick=\"quickchart('df-487f37b3-89a6-4573-8b73-6c29c6bd602a')\"\n",
       "            title=\"Suggest charts.\"\n",
       "            style=\"display:none;\">\n",
       "\n",
       "<svg xmlns=\"http://www.w3.org/2000/svg\" height=\"24px\"viewBox=\"0 0 24 24\"\n",
       "     width=\"24px\">\n",
       "    <g>\n",
       "        <path d=\"M19 3H5c-1.1 0-2 .9-2 2v14c0 1.1.9 2 2 2h14c1.1 0 2-.9 2-2V5c0-1.1-.9-2-2-2zM9 17H7v-7h2v7zm4 0h-2V7h2v10zm4 0h-2v-4h2v4z\"/>\n",
       "    </g>\n",
       "</svg>\n",
       "  </button>\n",
       "\n",
       "<style>\n",
       "  .colab-df-quickchart {\n",
       "      --bg-color: #E8F0FE;\n",
       "      --fill-color: #1967D2;\n",
       "      --hover-bg-color: #E2EBFA;\n",
       "      --hover-fill-color: #174EA6;\n",
       "      --disabled-fill-color: #AAA;\n",
       "      --disabled-bg-color: #DDD;\n",
       "  }\n",
       "\n",
       "  [theme=dark] .colab-df-quickchart {\n",
       "      --bg-color: #3B4455;\n",
       "      --fill-color: #D2E3FC;\n",
       "      --hover-bg-color: #434B5C;\n",
       "      --hover-fill-color: #FFFFFF;\n",
       "      --disabled-bg-color: #3B4455;\n",
       "      --disabled-fill-color: #666;\n",
       "  }\n",
       "\n",
       "  .colab-df-quickchart {\n",
       "    background-color: var(--bg-color);\n",
       "    border: none;\n",
       "    border-radius: 50%;\n",
       "    cursor: pointer;\n",
       "    display: none;\n",
       "    fill: var(--fill-color);\n",
       "    height: 32px;\n",
       "    padding: 0;\n",
       "    width: 32px;\n",
       "  }\n",
       "\n",
       "  .colab-df-quickchart:hover {\n",
       "    background-color: var(--hover-bg-color);\n",
       "    box-shadow: 0 1px 2px rgba(60, 64, 67, 0.3), 0 1px 3px 1px rgba(60, 64, 67, 0.15);\n",
       "    fill: var(--button-hover-fill-color);\n",
       "  }\n",
       "\n",
       "  .colab-df-quickchart-complete:disabled,\n",
       "  .colab-df-quickchart-complete:disabled:hover {\n",
       "    background-color: var(--disabled-bg-color);\n",
       "    fill: var(--disabled-fill-color);\n",
       "    box-shadow: none;\n",
       "  }\n",
       "\n",
       "  .colab-df-spinner {\n",
       "    border: 2px solid var(--fill-color);\n",
       "    border-color: transparent;\n",
       "    border-bottom-color: var(--fill-color);\n",
       "    animation:\n",
       "      spin 1s steps(1) infinite;\n",
       "  }\n",
       "\n",
       "  @keyframes spin {\n",
       "    0% {\n",
       "      border-color: transparent;\n",
       "      border-bottom-color: var(--fill-color);\n",
       "      border-left-color: var(--fill-color);\n",
       "    }\n",
       "    20% {\n",
       "      border-color: transparent;\n",
       "      border-left-color: var(--fill-color);\n",
       "      border-top-color: var(--fill-color);\n",
       "    }\n",
       "    30% {\n",
       "      border-color: transparent;\n",
       "      border-left-color: var(--fill-color);\n",
       "      border-top-color: var(--fill-color);\n",
       "      border-right-color: var(--fill-color);\n",
       "    }\n",
       "    40% {\n",
       "      border-color: transparent;\n",
       "      border-right-color: var(--fill-color);\n",
       "      border-top-color: var(--fill-color);\n",
       "    }\n",
       "    60% {\n",
       "      border-color: transparent;\n",
       "      border-right-color: var(--fill-color);\n",
       "    }\n",
       "    80% {\n",
       "      border-color: transparent;\n",
       "      border-right-color: var(--fill-color);\n",
       "      border-bottom-color: var(--fill-color);\n",
       "    }\n",
       "    90% {\n",
       "      border-color: transparent;\n",
       "      border-bottom-color: var(--fill-color);\n",
       "    }\n",
       "  }\n",
       "</style>\n",
       "\n",
       "  <script>\n",
       "    async function quickchart(key) {\n",
       "      const quickchartButtonEl =\n",
       "        document.querySelector('#' + key + ' button');\n",
       "      quickchartButtonEl.disabled = true;  // To prevent multiple clicks.\n",
       "      quickchartButtonEl.classList.add('colab-df-spinner');\n",
       "      try {\n",
       "        const charts = await google.colab.kernel.invokeFunction(\n",
       "            'suggestCharts', [key], {});\n",
       "      } catch (error) {\n",
       "        console.error('Error during call to suggestCharts:', error);\n",
       "      }\n",
       "      quickchartButtonEl.classList.remove('colab-df-spinner');\n",
       "      quickchartButtonEl.classList.add('colab-df-quickchart-complete');\n",
       "    }\n",
       "    (() => {\n",
       "      let quickchartButtonEl =\n",
       "        document.querySelector('#df-487f37b3-89a6-4573-8b73-6c29c6bd602a button');\n",
       "      quickchartButtonEl.style.display =\n",
       "        google.colab.kernel.accessAllowed ? 'block' : 'none';\n",
       "    })();\n",
       "  </script>\n",
       "</div>\n",
       "    </div>\n",
       "  </div>\n"
      ],
      "text/plain": [
       "                  TP2   TP3    H1  DV_pressure  Reservoirs  Oil_temperature  \\\n",
       "TP2              1.00 -0.42 -0.98         0.81       -0.42             0.74   \n",
       "TP3             -0.42  1.00  0.54        -0.55        1.00            -0.28   \n",
       "H1              -0.98  0.54  1.00        -0.83        0.54            -0.73   \n",
       "DV_pressure      0.81 -0.55 -0.83         1.00       -0.55             0.73   \n",
       "Reservoirs      -0.42  1.00  0.54        -0.55        1.00            -0.28   \n",
       "Oil_temperature  0.74 -0.28 -0.73         0.73       -0.28             1.00   \n",
       "Motor_current    0.87 -0.17 -0.84         0.72       -0.17             0.79   \n",
       "COMP            -0.98  0.49  0.99        -0.83        0.49            -0.75   \n",
       "DV_eletric       0.98 -0.48 -0.99         0.83       -0.48             0.76   \n",
       "Towers          -0.52  0.27  0.54        -0.45        0.27            -0.41   \n",
       "MPG             -0.97  0.48  0.99        -0.83        0.48            -0.75   \n",
       "LPS              0.06 -0.18 -0.07        -0.05       -0.18             0.10   \n",
       "Pressure_switch  0.00  0.01  0.01         0.02        0.01             0.02   \n",
       "Oil_level        0.19 -0.14 -0.20         0.21       -0.14             0.10   \n",
       "Caudal_impulses  0.14 -0.13 -0.15         0.17       -0.13             0.11   \n",
       "status           0.83 -0.55 -0.86         0.92       -0.55             0.81   \n",
       "\n",
       "                 Motor_current  COMP  DV_eletric  Towers   MPG   LPS  \\\n",
       "TP2                       0.87 -0.98        0.98   -0.52 -0.97  0.06   \n",
       "TP3                      -0.17  0.49       -0.48    0.27  0.48 -0.18   \n",
       "H1                       -0.84  0.99       -0.99    0.54  0.99 -0.07   \n",
       "DV_pressure               0.72 -0.83        0.83   -0.45 -0.83 -0.05   \n",
       "Reservoirs               -0.17  0.49       -0.48    0.27  0.48 -0.18   \n",
       "Oil_temperature           0.79 -0.75        0.76   -0.41 -0.75  0.10   \n",
       "Motor_current             1.00 -0.87        0.87   -0.47 -0.87  0.06   \n",
       "COMP                     -0.87  1.00       -0.99    0.55  1.00 -0.07   \n",
       "DV_eletric                0.87 -0.99        1.00   -0.53 -0.99  0.07   \n",
       "Towers                   -0.47  0.55       -0.53    1.00  0.55 -0.04   \n",
       "MPG                      -0.87  1.00       -0.99    0.55  1.00 -0.07   \n",
       "LPS                       0.06 -0.07        0.07   -0.04 -0.07  1.00   \n",
       "Pressure_switch           0.00  0.07        0.03    0.09  0.06  0.01   \n",
       "Oil_level                 0.14 -0.17        0.19   -0.07 -0.15  0.02   \n",
       "Caudal_impulses           0.10 -0.12        0.14   -0.04 -0.10  0.02   \n",
       "status                    0.74 -0.86        0.86   -0.47 -0.85  0.08   \n",
       "\n",
       "                 Pressure_switch  Oil_level  Caudal_impulses  status  \n",
       "TP2                         0.00       0.19             0.14    0.83  \n",
       "TP3                         0.01      -0.14            -0.13   -0.55  \n",
       "H1                          0.01      -0.20            -0.15   -0.86  \n",
       "DV_pressure                 0.02       0.21             0.17    0.92  \n",
       "Reservoirs                  0.01      -0.14            -0.13   -0.55  \n",
       "Oil_temperature             0.02       0.10             0.11    0.81  \n",
       "Motor_current               0.00       0.14             0.10    0.74  \n",
       "COMP                        0.07      -0.17            -0.12   -0.86  \n",
       "DV_eletric                  0.03       0.19             0.14    0.86  \n",
       "Towers                      0.09      -0.07            -0.04   -0.47  \n",
       "MPG                         0.06      -0.15            -0.10   -0.85  \n",
       "LPS                         0.01       0.02             0.02    0.08  \n",
       "Pressure_switch             1.00       0.20             0.26    0.02  \n",
       "Oil_level                   0.20       1.00             0.12    0.22  \n",
       "Caudal_impulses             0.26       0.12             1.00    0.18  \n",
       "status                      0.02       0.22             0.18    1.00  "
      ]
     },
     "execution_count": 24,
     "metadata": {},
     "output_type": "execute_result"
    }
   ],
   "source": [
    "clean_data.corr().round(2)"
   ]
  },
  {
   "cell_type": "markdown",
   "id": "4AC8dXfm7IhS",
   "metadata": {
    "id": "4AC8dXfm7IhS"
   },
   "source": [
    "We can see that our target variable \"status\" has high correlation with TP2, H1, DV_pressure, Oil_temparature, Motor_current, COMP, DV_electric and MPG.  "
   ]
  },
  {
   "cell_type": "markdown",
   "id": "2qVh_sbv6fm0",
   "metadata": {
    "id": "2qVh_sbv6fm0"
   },
   "source": [
    "### 2) Visualize Correlation"
   ]
  },
  {
   "cell_type": "markdown",
   "id": "f2PO54CY7nwo",
   "metadata": {
    "id": "f2PO54CY7nwo"
   },
   "source": [
    "Below shows a Heat map,which can be used to analyse trends, from the below heat map you can see the trends in correlation of data."
   ]
  },
  {
   "cell_type": "code",
   "execution_count": null,
   "id": "aQrZeZUl7rBm",
   "metadata": {
    "colab": {
     "base_uri": "https://localhost:8080/",
     "height": 610
    },
    "id": "aQrZeZUl7rBm",
    "outputId": "65c08aac-44e7-414c-aebc-5db06f84b7f6"
   },
   "outputs": [
    {
     "name": "stderr",
     "output_type": "stream",
     "text": [
      "<ipython-input-25-c75868ede4c3>:1: FutureWarning: The default value of numeric_only in DataFrame.corr is deprecated. In a future version, it will default to False. Select only valid columns or specify the value of numeric_only to silence this warning.\n",
      "  sns.heatmap(clean_data.corr().round(2),annot=False )\n"
     ]
    },
    {
     "data": {
      "text/plain": [
       "<Axes: >"
      ]
     },
     "execution_count": 25,
     "metadata": {},
     "output_type": "execute_result"
    },
    {
     "data": {
      "image/png": "[encoded data removed]",
      "text/plain": [
       "<Figure size 640x480 with 2 Axes>"
      ]
     },
     "metadata": {},
     "output_type": "display_data"
    }
   ],
   "source": [
    "sns.heatmap(clean_data.corr().round(2),annot=False )"
   ]
  },
  {
   "cell_type": "code",
   "execution_count": null,
   "id": "hO6oX3xs8crF",
   "metadata": {
    "colab": {
     "base_uri": "https://localhost:8080/",
     "height": 82
    },
    "id": "hO6oX3xs8crF",
    "outputId": "890a7941-e6f0-4623-8d7f-61c8ab593db7"
   },
   "outputs": [
    {
     "data": {
      "text/plain": [
       "<seaborn.axisgrid.PairGrid at 0x78d368e0d4e0>"
      ]
     },
     "execution_count": 26,
     "metadata": {},
     "output_type": "execute_result"
    },
    {
     "data": {
      "image/png": "[encoded data removed]",
      "text/plain": [
       "<Figure size 4000x250 with 17 Axes>"
      ]
     },
     "metadata": {},
     "output_type": "display_data"
    }
   ],
   "source": [
    "sns.pairplot(clean_data,  y_vars = ['status'] , plot_kws=  {'alpha' : 0.1})"
   ]
  },
  {
   "cell_type": "markdown",
   "id": "cErKSGZP6maY",
   "metadata": {
    "id": "cErKSGZP6maY"
   },
   "source": [
    "### 3) Visualize Outliers"
   ]
  },
  {
   "cell_type": "markdown",
   "id": "9-5BlC1J-hyP",
   "metadata": {
    "id": "9-5BlC1J-hyP"
   },
   "source": [
    "Drawing box plot to find outliers, I plot it on scale data so it is easier to visualize different features' range.\n",
    "As we can see our preprocessing function work perfectly that leaves no outliers\n"
   ]
  },
  {
   "cell_type": "code",
   "execution_count": null,
   "id": "FCw3IusE3Zpa",
   "metadata": {
    "colab": {
     "base_uri": "https://localhost:8080/",
     "height": 352
    },
    "id": "FCw3IusE3Zpa",
    "outputId": "a0c5bb13-cb1b-4515-bcee-4e95500fc6da"
   },
   "outputs": [
    {
     "data": {
      "text/plain": [
       "<Axes: >"
      ]
     },
     "execution_count": 27,
     "metadata": {},
     "output_type": "execute_result"
    },
    {
     "data": {
      "image/png": "[encoded data removed]",
      "text/plain": [
       "<Figure size 2000x827 with 1 Axes>"
      ]
     },
     "metadata": {},
     "output_type": "display_data"
    }
   ],
   "source": [
    "sns.set(rc={'figure.figsize':(20,8.27)})\n",
    "\n",
    "sns.boxplot(clean_data, autorange = True)\n"
   ]
  },
  {
   "cell_type": "markdown",
   "id": "US_ydWO44oUk",
   "metadata": {
    "id": "US_ydWO44oUk"
   },
   "source": [
    "## IV. Save Data"
   ]
  },
  {
   "cell_type": "code",
   "execution_count": null,
   "id": "4iOA69g54tYc",
   "metadata": {
    "id": "4iOA69g54tYc"
   },
   "outputs": [],
   "source": [
    "clean_data.to_csv('Group_14_Clean_Data.csv')\n",
    "np.savez(\"Group_14_Clean_Data.npz\", clean_data.to_numpy())"
   ]
  }
 ],
 "metadata": {
  "colab": {
   "collapsed_sections": [
    "tlgQsE5x3fEE",
    "3eb2efc4-bd6e-4501-a39b-6f7ef141c8a1",
    "5bca1be5-5d0e-4317-a375-dedbe9168c00",
    "A8iLUYDTpjfI",
    "18c5a153-7fb2-4b7d-86d9-a41322313752"
   ],
   "provenance": []
  },
  "kernelspec": {
   "display_name": "Python 3",
   "language": "python",
   "name": "python3"
  },
  "language_info": {
   "codemirror_mode": {
    "name": "ipython",
    "version": 3
   },
   "file_extension": ".py",
   "mimetype": "text/x-python",
   "name": "python",
   "nbconvert_exporter": "python",
   "pygments_lexer": "ipython3",
   "version": "3.8.8"
  }
 },
 "nbformat": 4,
 "nbformat_minor": 5
}
